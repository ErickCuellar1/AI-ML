{
  "cells": [
    {
      "cell_type": "markdown",
      "source": [
        "# **Maestría en Inteligencia Artificial Aplicada**\n",
        "\n",
        "## **Curso: Inteligencia Artificial y Aprendizaje Automático**\n",
        "\n",
        "**Tecnológico de Monterrey**\n",
        "\n",
        "Prof Luis Eduardo Falcón Morales\n",
        "\n",
        "Actividad de Semana 3 - Septiembre 2025\n",
        "\n",
        "**Rotación de Personal - IBM**"
      ],
      "metadata": {
        "id": "hWEMLj5wrcMV"
      },
      "id": "hWEMLj5wrcMV"
    },
    {
      "cell_type": "markdown",
      "source": [
        "#### **Nombre y matrícula:**"
      ],
      "metadata": {
        "id": "6PudVOn2rv9-"
      },
      "id": "6PudVOn2rv9-"
    },
    {
      "cell_type": "markdown",
      "source": [
        "#### **La siguiente actividad se basa en los datos del archivo \"WA_Fn-UseC_-HR-Employee-Attrition.csv\" que se encuentra en la siguiente liga de Kaggle, llamada \"IBM HR Analytics Employee Attrition & Performance\".**\n",
        "\n",
        "**El archivo consiste de 1470 registros:**\n",
        "\n",
        "https://www.kaggle.com/datasets/pavansubhasht/ibm-hr-analytics-attrition-dataset\n"
      ],
      "metadata": {
        "id": "zHrHylCFqr7R"
      },
      "id": "zHrHylCFqr7R"
    },
    {
      "cell_type": "code",
      "execution_count": null,
      "id": "72533da4",
      "metadata": {
        "id": "72533da4"
      },
      "outputs": [],
      "source": [
        "# Importa aquí todas las librerías que consideres necesarias:\n",
        "\n",
        "\n",
        "None\n",
        "\n"
      ]
    },
    {
      "cell_type": "markdown",
      "id": "ac09ecaf",
      "metadata": {
        "id": "ac09ecaf"
      },
      "source": [
        "# **Ejercicio 1:**"
      ]
    },
    {
      "cell_type": "markdown",
      "source": [
        "#### **Incluye una breve introducción sobre lo que se entiende por el problema de rotación de personal en las organizaciones (employee attrition problem).**"
      ],
      "metadata": {
        "id": "T_-hoJgWpWbt"
      },
      "id": "T_-hoJgWpWbt"
    },
    {
      "cell_type": "markdown",
      "source": [
        "++++++++ Inicia la sección de agregar texto: ++++++++++++\n",
        "\n",
        "\n",
        "None\n",
        "\n",
        "\n",
        "++++++++ Termina la sección de agregar texto. +++++++++++"
      ],
      "metadata": {
        "id": "LfSb-scypfrX"
      },
      "id": "LfSb-scypfrX"
    },
    {
      "cell_type": "markdown",
      "source": [
        "#### **Descarga el archivo de datos de la página de Kaggle y lo cargamos como un DataFrame de Pandas. Utilizaremos el método “describe” con el argumento include= “all”.**"
      ],
      "metadata": {
        "id": "Yybnk8vKqEfS"
      },
      "id": "Yybnk8vKqEfS"
    },
    {
      "cell_type": "code",
      "execution_count": null,
      "id": "0b4db5cd",
      "metadata": {
        "id": "0b4db5cd"
      },
      "outputs": [],
      "source": [
        "path = \"WA_Fn-UseC_-HR-Employee-Attrition.csv\"\n",
        "data = pd.read_csv(path)\n",
        "\n",
        "df = pd.DataFrame(data)\n",
        "\n",
        "print(\"Tamaño del DataFrame:\", df.shape)\n",
        "df.describe(include = 'all').T\n"
      ]
    },
    {
      "cell_type": "markdown",
      "source": [
        "# **Ejercicio 2:**"
      ],
      "metadata": {
        "id": "4KnDCDS5vh05"
      },
      "id": "4KnDCDS5vh05"
    },
    {
      "cell_type": "markdown",
      "source": [
        "#### **Indica cuál es la diferencia entre utilizar o no el argumento include=”all” del método \"describe\" de Pandas.**"
      ],
      "metadata": {
        "id": "H3LIfPWNvhw0"
      },
      "id": "H3LIfPWNvhw0"
    },
    {
      "cell_type": "markdown",
      "source": [
        "++++++++ Inicia la sección de agregar texto: ++++++++++++\n",
        "\n",
        "\n",
        "None\n",
        "\n",
        "\n",
        "++++++++ Termina la sección de agregar texto. +++++++++++"
      ],
      "metadata": {
        "id": "hf0DL3YcwVAC"
      },
      "id": "hf0DL3YcwVAC"
    },
    {
      "cell_type": "markdown",
      "source": [
        "# **Ejercicio 3:**"
      ],
      "metadata": {
        "id": "-kGON2vOw9_8"
      },
      "id": "-kGON2vOw9_8"
    },
    {
      "cell_type": "markdown",
      "source": [
        "#### **Con base a la información desplegada por la instrucción anterior, se ha decidido cancelar los siguientes factores de nuestro problema: Over18, EmployeeCount, StandardHours, EmployeeNumber. Explica cuál es la justificación que nos permite cancelar cada uno de estos factores:**\n",
        "\n",
        "++++++++ Inicia la sección de agregar texto: ++++++++++++\n",
        "\n",
        "**a)   Over18**:\n",
        "\n",
        "**b)\tEmployeeCount**:\n",
        "\n",
        "**c)\tStandardHours**:\n",
        "\n",
        "**d)\tEmployeeNumber**:\n",
        "\n",
        "++++++++ Termina la sección de agregar texto. +++++++++++\n",
        "\n",
        "\n"
      ],
      "metadata": {
        "id": "Rb0lc1OrxAuY"
      },
      "id": "Rb0lc1OrxAuY"
    },
    {
      "cell_type": "markdown",
      "source": [
        "Una vez eliminadas las variables anteriores y de acuerdo a la documentación del problema, tenemos la siguiente información.\n",
        "\n",
        "En las variables categóricas el entero dentro de los paréntesis indica el total de niveles de dicha variable."
      ],
      "metadata": {
        "id": "CuWlcwmrIDMD"
      },
      "id": "CuWlcwmrIDMD"
    },
    {
      "cell_type": "code",
      "execution_count": null,
      "id": "9b32cb04",
      "metadata": {
        "id": "9b32cb04"
      },
      "outputs": [],
      "source": [
        "# Se eliminan los factores indicados:\n",
        "\n",
        "df = df.drop(['Over18','EmployeeCount','StandardHours','EmployeeNumber'],axis=1)\n",
        "\n",
        "print(\"Tamaño del nuevo DataFrame:\", df.shape)"
      ]
    },
    {
      "cell_type": "markdown",
      "source": [
        "**i. variables numéricas (14):**\n",
        "\n",
        "NumCompaniesWorked,\n",
        "\n",
        "TrainingTimesLastYear,\n",
        "\n",
        "Age,\n",
        "\n",
        "DailyRate,\n",
        "\n",
        "DistanceFromHome,\n",
        "\n",
        "HourlyRate,\n",
        "\n",
        "MonthlyIncome,\n",
        "\n",
        "MonthlyRate,\n",
        "\n",
        "PercentSalaryHike,\n",
        "\n",
        "TotalWorkingYears,\n",
        "\n",
        "YearsAtCompany,\n",
        "\n",
        "YearsInCurrentRole,\n",
        "\n",
        "YearsSinceLastPromotion,\n",
        "\n",
        "YearsWithCurrManager\n",
        "\n",
        "**ii. Variables ordinales (9):**\n",
        "\n",
        "Education (5),\n",
        "\n",
        "EnvironmentSatisfaction (4),\n",
        "\n",
        "JobInvolvement (4),\n",
        "\n",
        "JobLevel (5),\n",
        "\n",
        "JobSatisfaction (4),\n",
        "\n",
        "PerformanceRating (2),\n",
        "\n",
        "RelationshipSatisfaction (4),\n",
        "\n",
        "StockOptionLevel (4),\n",
        "\n",
        "WorkLifeBalance (4)\n",
        "\n",
        "**iii. Variables binarias (3):**\n",
        "\n",
        "Attrition (variable de salida),\n",
        "\n",
        "Gender,\n",
        "\n",
        "OverTime\n",
        "\n",
        "**iv. Variables nominales (5):**\n",
        "\n",
        "BusinessTravel (3),\n",
        "\n",
        "Department (3),\n",
        "\n",
        "EducationField (6),\n",
        "\n",
        "JobRole (9),\n",
        "\n",
        "MaritalStatus (3)"
      ],
      "metadata": {
        "id": "qTCsh7GmH943"
      },
      "id": "qTCsh7GmH943"
    },
    {
      "cell_type": "markdown",
      "source": [
        "# **Ejercicio 4:**"
      ],
      "metadata": {
        "id": "BFJsH9kx0vFa"
      },
      "id": "BFJsH9kx0vFa"
    },
    {
      "cell_type": "markdown",
      "source": [
        "#### **Realiza una partición de los datos en Entrenamiento, Validación y Prueba, con el porcentaje de cada uno que consideres más adecuado y tomando en cuenta los siguientes puntos:**\n",
        "\n",
        "* **Llama a dichos conjuntos Xtrain, Xval, Xtest, ytrain, yval, ytest, para los datos de entrada y de salida, respectivamente.**\n",
        "\n",
        "* **Realiza dicha partición conservando la estratificación de las clases de la variable de salida “Attrition”.**\n",
        "\n",
        "* **Utilizar la semilla \"random_state=17\" en cada función de partición para permitir la repetibilidad de tu modelo.**\n",
        "\n",
        "* **Finalmente despliega la dimensión de cada uno de estos tres conjuntos, así como el porcentaje de datos que hay en cada uno de ellos.**\n",
        "\n"
      ],
      "metadata": {
        "id": "UWcvTjY63Uru"
      },
      "id": "UWcvTjY63Uru"
    },
    {
      "cell_type": "code",
      "source": [
        "\n",
        "\n",
        "print(\"Dimensiones y Porcentajes de la partición Train, Val, Test generada:\")\n",
        "print(\"-\"*70)\n",
        "\n",
        "# ++++++++++++++ Inicia sección de agregar código +++++++++++++++++++++\n",
        "\n",
        "\n",
        "None\n",
        "\n",
        "\n",
        "\n",
        "# ++++++++++++++ Termina sección de agregar código +++++++++++++++++++++\n"
      ],
      "metadata": {
        "id": "4pYkwIiF1aU9"
      },
      "id": "4pYkwIiF1aU9",
      "execution_count": null,
      "outputs": []
    },
    {
      "cell_type": "markdown",
      "id": "89133c57",
      "metadata": {
        "id": "89133c57"
      },
      "source": [
        "# **Ejercicio 5:**\n"
      ]
    },
    {
      "cell_type": "markdown",
      "source": [
        "**a) Aplica la transformación LabelEncoder() de Sklearn a la variable“Attrition”, tomando en cuenta los siguientes puntos:**\n",
        "\n",
        "* **Las nuevas variables deberán llamarse ahora: ytrainT, yvalT, ytestT.**\n",
        "\n",
        "* **Al aplicar la transformación LabelEncoder, deberás evitar el filtrado de información (data-leakage).**\n"
      ],
      "metadata": {
        "id": "IE3vDeVW6Laq"
      },
      "id": "IE3vDeVW6Laq"
    },
    {
      "cell_type": "code",
      "source": [
        "# a)\n",
        "# ++++++++++ Inicia sección para agregar tu código ++++++++++++++++++++++++\n",
        "\n",
        "\n",
        "None\n",
        "\n",
        "\n",
        "\n",
        "# +++++++++++++++++ Termina sección para agregar tu código ++++++++++++++++++++++++\n",
        "\n",
        "\n",
        "print('Porcentaje de datos en cada clase del conjunto de entrenamiento :\\n', ytrainT['Attrition'].value_counts() / ytrainT.shape[0])"
      ],
      "metadata": {
        "id": "D6FkTLVBd2N0"
      },
      "id": "D6FkTLVBd2N0",
      "execution_count": null,
      "outputs": []
    },
    {
      "cell_type": "markdown",
      "source": [
        "\n",
        "#### **Además, responde las siguientes preguntas:**\n",
        "\n",
        "**b) Con base a la documentación de Sklearn, ¿a qué tipo de variables se debe aplicar la transformación LabelEncoder()?**\n",
        "\n",
        "**c) Encuentra la proporción de datos de cada clase de la variable \"ytrainT\" y con base a dicha información indica si podemos considerar que tenemos un problema de datos desbalanceados.**\n",
        "\n",
        "**d) ¿Cuál es el umbral del modelo base a superar para evitar modelos subentrenados?**\n",
        "\n",
        "**e) Con base al contexto del problema, ¿qué significan los valores 0 (NO) y 1 (YES) de la varaible de salida Attrition?**\n",
        "\n",
        "\n",
        "++++++++ Inicia la sección de agregar texto: ++++++++++++\n",
        "\n",
        "\n",
        "b) None\n",
        "\n",
        "c) None\n",
        "\n",
        "d) None\n",
        "\n",
        "e) None\n",
        "\n",
        "++++++++ Termina la sección de agregar texto. +++++++++++"
      ],
      "metadata": {
        "id": "JBnYgfCPjVFJ"
      },
      "id": "JBnYgfCPjVFJ"
    },
    {
      "cell_type": "markdown",
      "source": [
        "# **Ejercicio 6:**\n"
      ],
      "metadata": {
        "id": "3iE95_bh8XF4"
      },
      "id": "3iE95_bh8XF4"
    },
    {
      "cell_type": "markdown",
      "source": [
        "#### **Incluye a continuación un análisis gáfico y descriptivo que consideres adecuado. Con base a estos gráficos deberás tomar la decisión de qué transformaciones aplicar a cada variable en el siguiente ejercicio**"
      ],
      "metadata": {
        "id": "tj6jEsdS4-1-"
      },
      "id": "tj6jEsdS4-1-"
    },
    {
      "cell_type": "code",
      "execution_count": null,
      "id": "fa966050",
      "metadata": {
        "id": "fa966050"
      },
      "outputs": [],
      "source": [
        "# ++++++++++ Inicia sección para agregar tu código ++++++++++++++++++++++++\n",
        "# Incluye en esta sección todas las celdas que consideres necesarias.\n",
        "\n",
        "\n",
        "None\n",
        "\n",
        "\n",
        "# ++++++++++ Termina sección para agregar tu código ++++++++++++++++++++++++\n",
        "\n"
      ]
    },
    {
      "cell_type": "markdown",
      "source": [
        "# **Ejercicio 7:**"
      ],
      "metadata": {
        "id": "7UnNwVptCnmk"
      },
      "id": "7UnNwVptCnmk"
    },
    {
      "cell_type": "markdown",
      "source": [
        "#### **Utiliza las clases Pipeline y ColumnTransformer de Sklearn para definir las transformaciones que deberás aplicar a cada variable y de acuerdo a su tipo.**\n",
        "\n"
      ],
      "metadata": {
        "id": "cZJ86ke_DyLC"
      },
      "id": "cZJ86ke_DyLC"
    },
    {
      "cell_type": "code",
      "source": [
        "# ++++++++++ Inicia sección para agregar tu código ++++++++++++++++++++++++\n",
        "\n",
        "\n",
        "# NUMÉRICAS:\n",
        "numericas_pipeline = Pipeline( None )\n",
        "numericas_pipeline_nombres = None\n",
        "\n",
        "# ORDINALES:\n",
        "catOrd_pipeline = Pipeline( None )\n",
        "catOrd_pipeline_nombres = None\n",
        "\n",
        "# BINARIAS:\n",
        "catBin_pipeline = Pipeline( None )\n",
        "catBin_pipeline_nombres = None\n",
        "\n",
        "# NOMINALES:\n",
        "catNom_pipeline = Pipeline( None )\n",
        "catNom_pipeline_nombres = None\n",
        "\n",
        "\n",
        "\n",
        "columnasTransformer = ColumnTransformer( None )\n",
        "\n",
        "\n",
        "\n",
        "# ++++++++++ Termina sección para agregar tu código ++++++++++++++++++++++++"
      ],
      "metadata": {
        "id": "5Kvk3CDsFqPE"
      },
      "id": "5Kvk3CDsFqPE",
      "execution_count": null,
      "outputs": []
    },
    {
      "cell_type": "markdown",
      "source": [
        "# **Ejercicio 8:**"
      ],
      "metadata": {
        "id": "2WjnvhIrEy8x"
      },
      "id": "2WjnvhIrEy8x"
    },
    {
      "cell_type": "markdown",
      "source": [
        "* #### **Reagrupamos los conjuntos de entrenamiento y validación en un solo DataFrame. A estos nuevos DataFrame los llamaremos Xtv y ytv.**\n",
        "\n",
        "* #### **¿Cuál es la justificación de agrupar en este paso los conjuntos de entrenamiento y validación?**\n",
        "\n",
        "++++++++ Inicia la sección de agregar texto: ++++++++++++\n",
        "\n",
        "\n",
        "None\n",
        "\n",
        "\n",
        "++++++++ Termina la sección de agregar texto. +++++++++++"
      ],
      "metadata": {
        "id": "syQpDzothl5Y"
      },
      "id": "syQpDzothl5Y"
    },
    {
      "cell_type": "code",
      "source": [
        "Xtv = pd.concat([Xtrain, Xval], axis=0)\n",
        "ytv = pd.concat([ytrain, yval], axis=0)\n",
        "\n",
        "print(\"Dimensión del conjunto Train+Val:\")\n",
        "print(Xtv.shape)\n",
        "print(ytv.shape)"
      ],
      "metadata": {
        "id": "PYHj38QVE_Hv"
      },
      "id": "PYHj38QVE_Hv",
      "execution_count": null,
      "outputs": []
    },
    {
      "cell_type": "markdown",
      "source": [
        "# **Ejercicio 9:**"
      ],
      "metadata": {
        "id": "FYSK42MxFaHk"
      },
      "id": "FYSK42MxFaHk"
    },
    {
      "cell_type": "markdown",
      "source": [
        "#### **Busca los mejores hiperparámetros para cada modelo.**\n"
      ],
      "metadata": {
        "id": "GLNcR6ZHFbyt"
      },
      "id": "GLNcR6ZHFbyt"
    },
    {
      "cell_type": "code",
      "source": [
        "# ++++++++++ Inicia sección para agregar tu código ++++++++++++++++++++++++\n",
        "\n",
        "\n",
        "def mis_modelos():\n",
        "  modelos, nombres = list(), list()\n",
        "\n",
        "  # LR - Regresión Logística sin regularización:\n",
        "  modelos.append(LogisticRegression(penalty=None,  # Este valor de \"penalty\" no se debe de cambiar, ya que define el modelo sin regularización.\n",
        "                                    None,     # Incluye aquí todos los hiperparámetros y valores que consideres adecuados.\n",
        "                                    random_state=1))\n",
        "  nombres.append('LR')\n",
        "\n",
        "\n",
        "  # Lasso - Regresión Logística con regularización L1:\n",
        "  modelos.append(LogisticRegression(penalty='l1',\n",
        "                                    None,     # Incluye aquí todos los hiperparámetros y valores que consideres adecuados.\n",
        "                                    random_state=1))\n",
        "  nombres.append('LASSO')\n",
        "\n",
        "\n",
        "  # Ridge - Regresión Logística con regularización L2:\n",
        "  modelos.append(LogisticRegression(penalty='l2',\n",
        "                                    None,     # Incluye aquí todos los hiperparámetros y valores que consideres adecuados.\n",
        "                                    random_state=1))\n",
        "  nombres.append('RIDGE')\n",
        "\n",
        "\n",
        "  # Elastic_Net - - Regresión Logística con regularización L1 y L2:\n",
        "  modelos.append(LogisticRegression(penalty='elasticnet',\n",
        "                                    None,     # Incluye aquí todos los hiperparámetros y valores que consideres adecuados.\n",
        "                                    random_state=1))\n",
        "  nombres.append('EN')\n",
        "\n",
        "\n",
        "\n",
        "  # kNN - k-Vecinos más cercanos:\n",
        "  modelos.append(KNeighborsClassifier(None,    # Incluye aquí todos los hiperparámetros y valores que consideres adecuados\n",
        "                                      ))\n",
        "  nombres.append('kNN')\n",
        "\n",
        "\n",
        "  return modelos, nombres\n",
        "\n",
        "\n",
        "\n",
        "\n",
        "# ++++++++++ Termina sección para agregar tu código ++++++++++++++++++++++++\n",
        "\n",
        "\n",
        "\n",
        "# Pasamos al entrenamiento de los modelos:\n",
        "\n",
        "modelos, nombres = mis_modelos()  # accesando los modelos.\n",
        "resultados = list()    # para guardar los resultados en esta lista.\n",
        "\n",
        "# Iterando y entrenando sobre cada modelo:\n",
        "for i in range(len(modelos)):\n",
        "\n",
        "  pipeline = Pipeline(steps=[('ct',columnasTransformer),('m',modelos[i])])   # Transformaciones y modelo en un Pipeline.\n",
        "\n",
        "  cv1 = RepeatedStratifiedKFold(n_splits=5, n_repeats=3, random_state=7)     # Aplicando una de las variantes de Validación Cruzada.\n",
        "\n",
        "  scores = cross_val_score(pipeline, Xtv, np.ravel(ytv), scoring='accuracy', cv=cv1)   # entrenando y generando los resultados.\n",
        "\n",
        "  resultados.append(scores)    # guardando los resultados en la lista.\n",
        "  print('>> %s %.3f (%.3f)' % (nombres[i], np.nanmean(scores), np.nanstd(scores)))  # desplegando los promedios de cada modelo.\n",
        "\n",
        "\n",
        "plt.boxplot(resultados, tick_labels=nombres, showmeans=True)   # gráficos de caja para una comparación visual de los resultados.\n",
        "plt.show()"
      ],
      "metadata": {
        "id": "BzSCDRquFm5z"
      },
      "id": "BzSCDRquFm5z",
      "execution_count": null,
      "outputs": []
    },
    {
      "cell_type": "markdown",
      "source": [
        "\n",
        "# **Ejercicio 10:**"
      ],
      "metadata": {
        "id": "hZsec1sDGxly"
      },
      "id": "hZsec1sDGxly"
    },
    {
      "cell_type": "markdown",
      "source": [
        "* #### **Utilizando el mejor modelo encontrado en el paso anterior y los datos Xtv, ytv, realiza ahora una búsqueda de malla para tratar de mejorar el desempeño de dicho modelo.**\n",
        "\n",
        "* #### **Verifica además que el modelo no esté subentrenado o sobreentrenado.**\n",
        "\n",
        "* #### **Llama \"grid_result\" al mejor modelo ajustado.**\n",
        "\n",
        "\n",
        "* **NOTA: Para esta actividad diremos que el modelo no está sobreentrenado si la diferencia entre Train y Validation es menor al 3%.**\n"
      ],
      "metadata": {
        "id": "lCepDvlqIhlr"
      },
      "id": "lCepDvlqIhlr"
    },
    {
      "cell_type": "code",
      "source": [
        "# +++++++++ Inicia sección para incluir tu código ++++++++++++++++++++++++\n",
        "\n",
        "\n",
        "mejor_modelo = None\n",
        "\n",
        "None   # Incluye aquí todas las líneas de código que consideres adecuadas.\n",
        "\n",
        "grid_result = None\n",
        "\n",
        "\n",
        "\n",
        "\n",
        "# +++++++++ Termina sección para incluir tu código ++++++++++++++++++++++++\n",
        "\n",
        "\n",
        "\n",
        "print(\"Mejor modelo: %f usando %s\" % (grid_result.best_score_, grid_result.best_params_))\n",
        "print('Promedios Train mean(std): %.4f(%.4f)' % (np.nanmean(grid_result.cv_results_['mean_train_score']),\n",
        "                                                 np.nanmean(grid_result.cv_results_['std_train_score'])))\n",
        "print('Promedios Val mean(std): %.4f(%.4f)' % (grid_result.cv_results_['mean_test_score'].mean(),\n",
        "                                               grid_result.cv_results_['std_test_score'].mean()))\n"
      ],
      "metadata": {
        "id": "-J1NiHo6Duhr"
      },
      "id": "-J1NiHo6Duhr",
      "execution_count": null,
      "outputs": []
    },
    {
      "cell_type": "markdown",
      "source": [
        "# **Ejercicio 11:**"
      ],
      "metadata": {
        "id": "O21vnmQ2NGfV"
      },
      "id": "O21vnmQ2NGfV"
    },
    {
      "cell_type": "markdown",
      "source": [
        "#### **Finalmente, usando el conjunto de prueba (Test), responder los siguientes incisos:**\n",
        "\n",
        "#### **a) Obtener el desempeño final del mejor modelo con el reporte de métricas classification_report() de Sklearn.**\n",
        "\n",
        "#### **b) Obtener la matriz de confusión del mejor modelo.**\n",
        "\n",
        "#### **c) Interpreta los valores FP, FN obtenidos en  la matriz de confusión y de acuerdo al contexto del problema.**\n",
        "\n",
        "#### **d) Incluye tus conclusiones de este mejor modelo y los pasos futuros a seguir.**"
      ],
      "metadata": {
        "id": "49YltpUDNBFh"
      },
      "id": "49YltpUDNBFh"
    },
    {
      "cell_type": "code",
      "source": [
        "# a) Reporte del desempeño con classification_report():\n",
        "\n",
        "# +++++++++ Inicia sección para incluir tu código ++++++++++++++++++++++++\n",
        "\n",
        "\n",
        "None\n",
        "\n",
        "\n",
        "\n",
        "print(classification_report(None, None, target_names=['No','Yes']))\n",
        "\n",
        "# +++++++++ Termina sección para incluir tu código ++++++++++++++++++++++++"
      ],
      "metadata": {
        "id": "M7souODuiiOc"
      },
      "id": "M7souODuiiOc",
      "execution_count": null,
      "outputs": []
    },
    {
      "cell_type": "code",
      "source": [
        "# b) Matriz de confusión:\n",
        "\n",
        "# +++++++++ Inicia sección para incluir tu código ++++++++++++++++++++++++\n",
        "\n",
        "None\n",
        "\n",
        "\n",
        "# +++++++++ Termina sección para incluir tu código ++++++++++++++++++++++++\n",
        "\n",
        "plt.show()\n"
      ],
      "metadata": {
        "id": "f4saUgimLkxX"
      },
      "id": "f4saUgimLkxX",
      "execution_count": null,
      "outputs": []
    },
    {
      "cell_type": "markdown",
      "source": [
        "*  c)\n",
        "#### +++++++++ Inicia sección para incluir tus comentarios ++++++++++++++++++++++++\n",
        "\n",
        "None\n",
        "\n",
        "#### +++++++++ Termina sección para incluir tus comentarios ++++++++++++++++++++++++"
      ],
      "metadata": {
        "id": "ZKDunl8ACVul"
      },
      "id": "ZKDunl8ACVul"
    },
    {
      "cell_type": "markdown",
      "source": [
        "* d)\n",
        "\n",
        "#### +++++++++ Inicia sección para incluir tus comentarios ++++++++++++++++++++++++\n",
        "\n",
        "None\n",
        "\n",
        "#### +++++++++ Termina sección para incluir tus comentarios ++++++++++++++++++++++++"
      ],
      "metadata": {
        "id": "zRXOWULXCVH1"
      },
      "id": "zRXOWULXCVH1"
    },
    {
      "cell_type": "markdown",
      "source": [
        "# **Ejercicio 12**"
      ],
      "metadata": {
        "id": "EmT2jehoOJP-"
      },
      "id": "EmT2jehoOJP-"
    },
    {
      "cell_type": "markdown",
      "source": [
        "#### **Incluye tus conclusiones finales de la actividad.**"
      ],
      "metadata": {
        "id": "aUFofqzHOVAl"
      },
      "id": "aUFofqzHOVAl"
    },
    {
      "cell_type": "markdown",
      "source": [
        "#### +++++++++ Inicia sección para incluir tus conclusiones ++++++++++++++++++++++++\n",
        "\n",
        "None\n",
        "\n",
        "#### +++++++++ Termina sección para incluir tus conclusiones ++++++++++++++++++++++++"
      ],
      "metadata": {
        "id": "Quiag20AOYH0"
      },
      "id": "Quiag20AOYH0"
    },
    {
      "cell_type": "markdown",
      "id": "5fd5aadb",
      "metadata": {
        "id": "5fd5aadb"
      },
      "source": [
        "# >> **Fin de la Actividad de la Semana 3** <<"
      ]
    }
  ],
  "metadata": {
    "kernelspec": {
      "display_name": "Python 3 (ipykernel)",
      "language": "python",
      "name": "python3"
    },
    "language_info": {
      "codemirror_mode": {
        "name": "ipython",
        "version": 3
      },
      "file_extension": ".py",
      "mimetype": "text/x-python",
      "name": "python",
      "nbconvert_exporter": "python",
      "pygments_lexer": "ipython3",
      "version": "3.9.13"
    },
    "colab": {
      "provenance": [],
      "collapsed_sections": [
        "zHrHylCFqr7R",
        "ac09ecaf",
        "4KnDCDS5vh05",
        "-kGON2vOw9_8",
        "BFJsH9kx0vFa",
        "89133c57",
        "3iE95_bh8XF4",
        "7UnNwVptCnmk",
        "2WjnvhIrEy8x",
        "FYSK42MxFaHk",
        "hZsec1sDGxly",
        "O21vnmQ2NGfV",
        "49YltpUDNBFh",
        "EmT2jehoOJP-"
      ]
    }
  },
  "nbformat": 4,
  "nbformat_minor": 5
}