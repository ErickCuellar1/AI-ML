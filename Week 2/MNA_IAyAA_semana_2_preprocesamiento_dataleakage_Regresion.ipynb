{
  "nbformat": 4,
  "nbformat_minor": 0,
  "metadata": {
    "colab": {
      "provenance": []
    },
    "kernelspec": {
      "name": "python3",
      "display_name": "Python 3"
    },
    "language_info": {
      "name": "python"
    }
  },
  "cells": [
    {
      "cell_type": "markdown",
      "source": [
        "# **Inteligencia Artificial y Aprendizaje Automático**\n",
        "## **Maestría en Inteligencia Artificial Aplicada**\n",
        "### **profesor: Dr Luis Eduardo Falcón Morales**\n",
        "### **Tecnológico de Monterrey**\n",
        "\n",
        "### **Semana 2**\n",
        "\n",
        "## **Tema: Procesamiento y transformación de datos en un problema de Regresión.**"
      ],
      "metadata": {
        "id": "hj0aXNFtIZir"
      }
    },
    {
      "cell_type": "markdown",
      "source": [
        "# **0) Introducción**"
      ],
      "metadata": {
        "id": "03W_ZgrS4Cd6"
      }
    },
    {
      "cell_type": "markdown",
      "source": [
        "\n",
        "##### La manera de preparar y analizar los datos en un problema de aprendizaje automático es muy diversa y depende tanto del problema mismo, como de la naturaleza de los datos. Y aunque no existen reglas generales para resolver un problema, existen diversas metodologías (CRSIP_DM) para abordar un problema, siendo la preparación de los datos una de las primeras instancias que se deben empezar a abordar de manera edecuada. A lo largo del curso iremos viendo diversos casos y ejemplos para la preparación de los datos, es decir, para el preprocesamiento de los datos, los cuales te permitirán ir agarrando experiencia, para que en el corto plazo puedas estar decidiendo por tí mismo la forma de abordar un problema de aprendizaje automático.\n",
        "\n",
        "##### En particular, en el ejercicio de este cuaderno de Jupyter mostraremos algunas de las primeras técnicas de preprocesamiento de los datos que hay que empezar a tomar en cuenta. Iniciaremos con un modelo de cregresión, para un problema de aprendizaje supervisado usando un modelo de regresión lineal.\n",
        "\n",
        "##### Por el momento iniciaremos aplicando algunas técnicas de preprocesamiento de datos muy generales, y al ir avanzando y cuando así se requiera, iremos adentrándonos en mayor detalle.\n",
        "\n",
        "##### Cuando así lo requieras, podrás regresar y analizar los ejemplos con mayor detalle. Igualmente recuerda siempre revisar la documentación correspondiente de cada función o modelo utilizado.\n",
        "\n",
        "##### Recordemos que la Inteligencia Artificial en general y el Aprendizaje Automático en particular, son muy poderosas porque están soportadas por mucha Matemática, Estadística y Álgebra Lineal, entre otras áreas.\n",
        "\n",
        "##### **Todo lo referente a los conceptos previos de Matemáticas lo podrás encontrar en Canvas en la sección llamada \"Anexo: Temas de Matemáticas\".**\n",
        "\n",
        "##### **Cuando se requiera hacer uso de temas de Matemáticas, los estaremos mencionando y repasando brevemente dentro del curso, pero para profundizar más en el tema deberás revisar la bibliografía correspondiente.**\n",
        "\n",
        "##### **En particular, en este ejercicio y en la actividad de esta semana, trabajaremos con el modelo de regresión logística. Puedes repasar su teoría y conceptos en la sección de Anexo que te acabamos de mencionar.**\n",
        "\n",
        "\n",
        "\n"
      ],
      "metadata": {
        "id": "cLxpg3NbMT5p"
      }
    },
    {
      "cell_type": "markdown",
      "source": [
        "## **Objetivos de la presente actividad:**\n",
        "\n",
        "*   ### **Conocer y aplicar el concepto de partición en los conjuntos de entrenamiento (train), validación (val) y prueba (test).**\n",
        "\n",
        "*   ### **Conocer algunas métricas de desempeño en un problema de regresión lineal múltiple.**\n",
        "\n",
        "*   ### **Conocer el llamado problema de filtrado de información o filtrado de datos (data leakage) y aplicar las técnicas de prepocesamiento, entrenamiento y evaluación del modelo de manera que se evite dicho problema.**\n",
        "\n",
        "*   ### **Aplicar el modelo de regresión lineal múltiple con técnicas de regularización para enfrentar el problema del sobreentrenamiento (overfitting) y el subentrenamiento (underfitting).**\n",
        "\n",
        "*   ### **Seleccionar los mejores factores del mejor modelo de predicción obtenido.**"
      ],
      "metadata": {
        "id": "FyHBOyr25cAd"
      }
    },
    {
      "cell_type": "markdown",
      "source": [
        "# **1) Cargando y preparando los datos.**"
      ],
      "metadata": {
        "id": "elKkIfY1WM-2"
      }
    },
    {
      "cell_type": "markdown",
      "source": [
        "##### Para este ejemplo usaremos los datos llamados \"tips\", que encontramos dentro de las bases de datos que tiene la librería Seaborn para cargarlos de manera predeterminada.\n",
        "\n",
        "##### **Los datos fueron recabados por el mesero de un restaurante durante varios meses, sobre el monto de propina que le dieron de acuerdo a varias variables que consideró, entre ellas el monto de la comida, el día de la semana, la cantidad de personas.**\n",
        "\n",
        "##### Puedes encontrar información correspondiente a los datos \"tips\" en las siguientes ligas:\n",
        "\n",
        "\n",
        "https://www.kaggle.com/datasets/jsphyg/tipping\n",
        "\n",
        "https://github.com/mwaskom/seaborn-data?tab=readme-ov-file"
      ],
      "metadata": {
        "id": "RhtDbB5QWQAb"
      }
    },
    {
      "cell_type": "code",
      "source": [
        "import numpy as np      # biblioteca de Python para funciones y manipulación de matrices y vectores.\n",
        "import pandas as pd     # biblioteca de Python para una mejor manipulación de los datos en forma tabular.\n",
        "import matplotlib       # biblioteca de Python para la visualización gráfica de datos.\n",
        "import matplotlib.pyplot as plt   # Módulo de matplotlib generar gráficos de manera similar a MATLAB.\n",
        "import seaborn as sns   # biblioteca de Python con una mayor variedad en el despliegue de gráficos, sobre todo estadísticos.\n",
        "\n",
        "import sklearn    # biblioteca gratuita para aprendizaje automático y de código abierto.\n",
        "from sklearn.model_selection import train_test_split  # Método para particionar los datos.\n",
        "from sklearn.preprocessing import StandardScaler      # Método para escalar los datos numéricos con (x-mean)/std.\n",
        "from sklearn.preprocessing import OneHotEncoder       # Técnica de codificación llamada \"One Hot Encoding\".\n",
        "from sklearn.linear_model import LinearRegression, Lasso, Ridge, ElasticNet   # Modelos de regresión lineal que usaremos en los ejemplos.\n",
        "from sklearn.metrics import mean_squared_error        # Importamos la función del error cuadrático medio (MSE)"
      ],
      "metadata": {
        "id": "GHDPtn1g80LP"
      },
      "execution_count": 48,
      "outputs": []
    },
    {
      "cell_type": "code",
      "source": [
        "# Veamos las versiones de las bibliotecas utilizadas:\n",
        "\n",
        "tmp = !python -V\n",
        "print(tmp[0])\n",
        "print('Numpy', np.__version__)\n",
        "print('Pandas', pd.__version__)\n",
        "print('Matplotlib', matplotlib.__version__)\n",
        "print('Seaborn', sns.__version__)\n",
        "print('Scikit-Learn', sklearn.__version__)"
      ],
      "metadata": {
        "colab": {
          "base_uri": "https://localhost:8080/"
        },
        "id": "HZD8_c2S9l9y",
        "outputId": "a5a748f1-d5c5-41a9-e82b-e3f2205cd54c"
      },
      "execution_count": 49,
      "outputs": [
        {
          "output_type": "stream",
          "name": "stdout",
          "text": [
            "Python 3.10.12\n",
            "Numpy 1.26.4\n",
            "Pandas 2.1.4\n",
            "Matplotlib 3.7.1\n",
            "Seaborn 0.13.1\n",
            "Scikit-Learn 1.3.2\n"
          ]
        }
      ]
    },
    {
      "cell_type": "code",
      "source": [
        "tips = sns.load_dataset(\"tips\")   # cargamos los datos en un DataFrame de Pandas\n",
        "\n",
        "print(tips.shape)   # dimensión del conjunto de datos\n",
        "tips.head(3)        # visualizamos los primeros registros"
      ],
      "metadata": {
        "colab": {
          "base_uri": "https://localhost:8080/",
          "height": 160
        },
        "id": "mSGsN6pubeIC",
        "outputId": "2b1c7b2b-9718-4d42-9696-7ee61bdfc41c"
      },
      "execution_count": 50,
      "outputs": [
        {
          "output_type": "stream",
          "name": "stdout",
          "text": [
            "(244, 7)\n"
          ]
        },
        {
          "output_type": "execute_result",
          "data": {
            "text/plain": [
              "   total_bill   tip     sex smoker  day    time  size\n",
              "0       16.99  1.01  Female     No  Sun  Dinner     2\n",
              "1       10.34  1.66    Male     No  Sun  Dinner     3\n",
              "2       21.01  3.50    Male     No  Sun  Dinner     3"
            ],
            "text/html": [
              "\n",
              "  <div id=\"df-76cddee3-ccc9-47cf-894a-6b94c1fb5eef\" class=\"colab-df-container\">\n",
              "    <div>\n",
              "<style scoped>\n",
              "    .dataframe tbody tr th:only-of-type {\n",
              "        vertical-align: middle;\n",
              "    }\n",
              "\n",
              "    .dataframe tbody tr th {\n",
              "        vertical-align: top;\n",
              "    }\n",
              "\n",
              "    .dataframe thead th {\n",
              "        text-align: right;\n",
              "    }\n",
              "</style>\n",
              "<table border=\"1\" class=\"dataframe\">\n",
              "  <thead>\n",
              "    <tr style=\"text-align: right;\">\n",
              "      <th></th>\n",
              "      <th>total_bill</th>\n",
              "      <th>tip</th>\n",
              "      <th>sex</th>\n",
              "      <th>smoker</th>\n",
              "      <th>day</th>\n",
              "      <th>time</th>\n",
              "      <th>size</th>\n",
              "    </tr>\n",
              "  </thead>\n",
              "  <tbody>\n",
              "    <tr>\n",
              "      <th>0</th>\n",
              "      <td>16.99</td>\n",
              "      <td>1.01</td>\n",
              "      <td>Female</td>\n",
              "      <td>No</td>\n",
              "      <td>Sun</td>\n",
              "      <td>Dinner</td>\n",
              "      <td>2</td>\n",
              "    </tr>\n",
              "    <tr>\n",
              "      <th>1</th>\n",
              "      <td>10.34</td>\n",
              "      <td>1.66</td>\n",
              "      <td>Male</td>\n",
              "      <td>No</td>\n",
              "      <td>Sun</td>\n",
              "      <td>Dinner</td>\n",
              "      <td>3</td>\n",
              "    </tr>\n",
              "    <tr>\n",
              "      <th>2</th>\n",
              "      <td>21.01</td>\n",
              "      <td>3.50</td>\n",
              "      <td>Male</td>\n",
              "      <td>No</td>\n",
              "      <td>Sun</td>\n",
              "      <td>Dinner</td>\n",
              "      <td>3</td>\n",
              "    </tr>\n",
              "  </tbody>\n",
              "</table>\n",
              "</div>\n",
              "    <div class=\"colab-df-buttons\">\n",
              "\n",
              "  <div class=\"colab-df-container\">\n",
              "    <button class=\"colab-df-convert\" onclick=\"convertToInteractive('df-76cddee3-ccc9-47cf-894a-6b94c1fb5eef')\"\n",
              "            title=\"Convert this dataframe to an interactive table.\"\n",
              "            style=\"display:none;\">\n",
              "\n",
              "  <svg xmlns=\"http://www.w3.org/2000/svg\" height=\"24px\" viewBox=\"0 -960 960 960\">\n",
              "    <path d=\"M120-120v-720h720v720H120Zm60-500h600v-160H180v160Zm220 220h160v-160H400v160Zm0 220h160v-160H400v160ZM180-400h160v-160H180v160Zm440 0h160v-160H620v160ZM180-180h160v-160H180v160Zm440 0h160v-160H620v160Z\"/>\n",
              "  </svg>\n",
              "    </button>\n",
              "\n",
              "  <style>\n",
              "    .colab-df-container {\n",
              "      display:flex;\n",
              "      gap: 12px;\n",
              "    }\n",
              "\n",
              "    .colab-df-convert {\n",
              "      background-color: #E8F0FE;\n",
              "      border: none;\n",
              "      border-radius: 50%;\n",
              "      cursor: pointer;\n",
              "      display: none;\n",
              "      fill: #1967D2;\n",
              "      height: 32px;\n",
              "      padding: 0 0 0 0;\n",
              "      width: 32px;\n",
              "    }\n",
              "\n",
              "    .colab-df-convert:hover {\n",
              "      background-color: #E2EBFA;\n",
              "      box-shadow: 0px 1px 2px rgba(60, 64, 67, 0.3), 0px 1px 3px 1px rgba(60, 64, 67, 0.15);\n",
              "      fill: #174EA6;\n",
              "    }\n",
              "\n",
              "    .colab-df-buttons div {\n",
              "      margin-bottom: 4px;\n",
              "    }\n",
              "\n",
              "    [theme=dark] .colab-df-convert {\n",
              "      background-color: #3B4455;\n",
              "      fill: #D2E3FC;\n",
              "    }\n",
              "\n",
              "    [theme=dark] .colab-df-convert:hover {\n",
              "      background-color: #434B5C;\n",
              "      box-shadow: 0px 1px 3px 1px rgba(0, 0, 0, 0.15);\n",
              "      filter: drop-shadow(0px 1px 2px rgba(0, 0, 0, 0.3));\n",
              "      fill: #FFFFFF;\n",
              "    }\n",
              "  </style>\n",
              "\n",
              "    <script>\n",
              "      const buttonEl =\n",
              "        document.querySelector('#df-76cddee3-ccc9-47cf-894a-6b94c1fb5eef button.colab-df-convert');\n",
              "      buttonEl.style.display =\n",
              "        google.colab.kernel.accessAllowed ? 'block' : 'none';\n",
              "\n",
              "      async function convertToInteractive(key) {\n",
              "        const element = document.querySelector('#df-76cddee3-ccc9-47cf-894a-6b94c1fb5eef');\n",
              "        const dataTable =\n",
              "          await google.colab.kernel.invokeFunction('convertToInteractive',\n",
              "                                                    [key], {});\n",
              "        if (!dataTable) return;\n",
              "\n",
              "        const docLinkHtml = 'Like what you see? Visit the ' +\n",
              "          '<a target=\"_blank\" href=https://colab.research.google.com/notebooks/data_table.ipynb>data table notebook</a>'\n",
              "          + ' to learn more about interactive tables.';\n",
              "        element.innerHTML = '';\n",
              "        dataTable['output_type'] = 'display_data';\n",
              "        await google.colab.output.renderOutput(dataTable, element);\n",
              "        const docLink = document.createElement('div');\n",
              "        docLink.innerHTML = docLinkHtml;\n",
              "        element.appendChild(docLink);\n",
              "      }\n",
              "    </script>\n",
              "  </div>\n",
              "\n",
              "\n",
              "<div id=\"df-d7f18209-0253-419f-9edd-baa46fabdb69\">\n",
              "  <button class=\"colab-df-quickchart\" onclick=\"quickchart('df-d7f18209-0253-419f-9edd-baa46fabdb69')\"\n",
              "            title=\"Suggest charts\"\n",
              "            style=\"display:none;\">\n",
              "\n",
              "<svg xmlns=\"http://www.w3.org/2000/svg\" height=\"24px\"viewBox=\"0 0 24 24\"\n",
              "     width=\"24px\">\n",
              "    <g>\n",
              "        <path d=\"M19 3H5c-1.1 0-2 .9-2 2v14c0 1.1.9 2 2 2h14c1.1 0 2-.9 2-2V5c0-1.1-.9-2-2-2zM9 17H7v-7h2v7zm4 0h-2V7h2v10zm4 0h-2v-4h2v4z\"/>\n",
              "    </g>\n",
              "</svg>\n",
              "  </button>\n",
              "\n",
              "<style>\n",
              "  .colab-df-quickchart {\n",
              "      --bg-color: #E8F0FE;\n",
              "      --fill-color: #1967D2;\n",
              "      --hover-bg-color: #E2EBFA;\n",
              "      --hover-fill-color: #174EA6;\n",
              "      --disabled-fill-color: #AAA;\n",
              "      --disabled-bg-color: #DDD;\n",
              "  }\n",
              "\n",
              "  [theme=dark] .colab-df-quickchart {\n",
              "      --bg-color: #3B4455;\n",
              "      --fill-color: #D2E3FC;\n",
              "      --hover-bg-color: #434B5C;\n",
              "      --hover-fill-color: #FFFFFF;\n",
              "      --disabled-bg-color: #3B4455;\n",
              "      --disabled-fill-color: #666;\n",
              "  }\n",
              "\n",
              "  .colab-df-quickchart {\n",
              "    background-color: var(--bg-color);\n",
              "    border: none;\n",
              "    border-radius: 50%;\n",
              "    cursor: pointer;\n",
              "    display: none;\n",
              "    fill: var(--fill-color);\n",
              "    height: 32px;\n",
              "    padding: 0;\n",
              "    width: 32px;\n",
              "  }\n",
              "\n",
              "  .colab-df-quickchart:hover {\n",
              "    background-color: var(--hover-bg-color);\n",
              "    box-shadow: 0 1px 2px rgba(60, 64, 67, 0.3), 0 1px 3px 1px rgba(60, 64, 67, 0.15);\n",
              "    fill: var(--button-hover-fill-color);\n",
              "  }\n",
              "\n",
              "  .colab-df-quickchart-complete:disabled,\n",
              "  .colab-df-quickchart-complete:disabled:hover {\n",
              "    background-color: var(--disabled-bg-color);\n",
              "    fill: var(--disabled-fill-color);\n",
              "    box-shadow: none;\n",
              "  }\n",
              "\n",
              "  .colab-df-spinner {\n",
              "    border: 2px solid var(--fill-color);\n",
              "    border-color: transparent;\n",
              "    border-bottom-color: var(--fill-color);\n",
              "    animation:\n",
              "      spin 1s steps(1) infinite;\n",
              "  }\n",
              "\n",
              "  @keyframes spin {\n",
              "    0% {\n",
              "      border-color: transparent;\n",
              "      border-bottom-color: var(--fill-color);\n",
              "      border-left-color: var(--fill-color);\n",
              "    }\n",
              "    20% {\n",
              "      border-color: transparent;\n",
              "      border-left-color: var(--fill-color);\n",
              "      border-top-color: var(--fill-color);\n",
              "    }\n",
              "    30% {\n",
              "      border-color: transparent;\n",
              "      border-left-color: var(--fill-color);\n",
              "      border-top-color: var(--fill-color);\n",
              "      border-right-color: var(--fill-color);\n",
              "    }\n",
              "    40% {\n",
              "      border-color: transparent;\n",
              "      border-right-color: var(--fill-color);\n",
              "      border-top-color: var(--fill-color);\n",
              "    }\n",
              "    60% {\n",
              "      border-color: transparent;\n",
              "      border-right-color: var(--fill-color);\n",
              "    }\n",
              "    80% {\n",
              "      border-color: transparent;\n",
              "      border-right-color: var(--fill-color);\n",
              "      border-bottom-color: var(--fill-color);\n",
              "    }\n",
              "    90% {\n",
              "      border-color: transparent;\n",
              "      border-bottom-color: var(--fill-color);\n",
              "    }\n",
              "  }\n",
              "</style>\n",
              "\n",
              "  <script>\n",
              "    async function quickchart(key) {\n",
              "      const quickchartButtonEl =\n",
              "        document.querySelector('#' + key + ' button');\n",
              "      quickchartButtonEl.disabled = true;  // To prevent multiple clicks.\n",
              "      quickchartButtonEl.classList.add('colab-df-spinner');\n",
              "      try {\n",
              "        const charts = await google.colab.kernel.invokeFunction(\n",
              "            'suggestCharts', [key], {});\n",
              "      } catch (error) {\n",
              "        console.error('Error during call to suggestCharts:', error);\n",
              "      }\n",
              "      quickchartButtonEl.classList.remove('colab-df-spinner');\n",
              "      quickchartButtonEl.classList.add('colab-df-quickchart-complete');\n",
              "    }\n",
              "    (() => {\n",
              "      let quickchartButtonEl =\n",
              "        document.querySelector('#df-d7f18209-0253-419f-9edd-baa46fabdb69 button');\n",
              "      quickchartButtonEl.style.display =\n",
              "        google.colab.kernel.accessAllowed ? 'block' : 'none';\n",
              "    })();\n",
              "  </script>\n",
              "</div>\n",
              "\n",
              "    </div>\n",
              "  </div>\n"
            ],
            "application/vnd.google.colaboratory.intrinsic+json": {
              "type": "dataframe",
              "variable_name": "tips",
              "summary": "{\n  \"name\": \"tips\",\n  \"rows\": 244,\n  \"fields\": [\n    {\n      \"column\": \"total_bill\",\n      \"properties\": {\n        \"dtype\": \"number\",\n        \"std\": 8.902411954856856,\n        \"min\": 3.07,\n        \"max\": 50.81,\n        \"num_unique_values\": 229,\n        \"samples\": [\n          22.12,\n          20.23,\n          14.78\n        ],\n        \"semantic_type\": \"\",\n        \"description\": \"\"\n      }\n    },\n    {\n      \"column\": \"tip\",\n      \"properties\": {\n        \"dtype\": \"number\",\n        \"std\": 1.3836381890011822,\n        \"min\": 1.0,\n        \"max\": 10.0,\n        \"num_unique_values\": 123,\n        \"samples\": [\n          3.35,\n          1.5,\n          6.73\n        ],\n        \"semantic_type\": \"\",\n        \"description\": \"\"\n      }\n    },\n    {\n      \"column\": \"sex\",\n      \"properties\": {\n        \"dtype\": \"category\",\n        \"num_unique_values\": 2,\n        \"samples\": [\n          \"Male\",\n          \"Female\"\n        ],\n        \"semantic_type\": \"\",\n        \"description\": \"\"\n      }\n    },\n    {\n      \"column\": \"smoker\",\n      \"properties\": {\n        \"dtype\": \"category\",\n        \"num_unique_values\": 2,\n        \"samples\": [\n          \"Yes\",\n          \"No\"\n        ],\n        \"semantic_type\": \"\",\n        \"description\": \"\"\n      }\n    },\n    {\n      \"column\": \"day\",\n      \"properties\": {\n        \"dtype\": \"category\",\n        \"num_unique_values\": 4,\n        \"samples\": [\n          \"Sat\",\n          \"Fri\"\n        ],\n        \"semantic_type\": \"\",\n        \"description\": \"\"\n      }\n    },\n    {\n      \"column\": \"time\",\n      \"properties\": {\n        \"dtype\": \"category\",\n        \"num_unique_values\": 2,\n        \"samples\": [\n          \"Lunch\",\n          \"Dinner\"\n        ],\n        \"semantic_type\": \"\",\n        \"description\": \"\"\n      }\n    },\n    {\n      \"column\": \"size\",\n      \"properties\": {\n        \"dtype\": \"number\",\n        \"std\": 0,\n        \"min\": 1,\n        \"max\": 6,\n        \"num_unique_values\": 6,\n        \"samples\": [\n          2,\n          3\n        ],\n        \"semantic_type\": \"\",\n        \"description\": \"\"\n      }\n    }\n  ]\n}"
            }
          },
          "metadata": {},
          "execution_count": 50
        }
      ]
    },
    {
      "cell_type": "markdown",
      "source": [
        "*   ##### De la salida anterior y la documentación de los datos de \"tips\", encontramos que tenemos 244 registros y 7 variables.\n",
        "\n",
        "*   ##### La variable a predecir es \"tip\", el monto de la propina que se le dió al mesero, y la denotaremos como \"y\". El resto de las variables serán nuestras variables de entrada y las denotaremos por \"X\": el total de la cuenta (total_bill); sexo de la persona que pagó la cuenta (sex); sección de fumadores (smoker); día de la semana (day); tiempo o comida del día (time) y tamaño o cantidad de personas que comieron (size).**\n",
        "\n",
        "*   ##### Las unidades monetarias son en dólares.\n",
        "\n",
        "*   Observa que de manera general la variable de salida se denota con una letra minúscula, en este caso \"y\", para indicar que representa a una sola variable o columna de los datos. Y para las variables de entrada es usual emplear una letra mayúscula, en este caso \"X\", para indicar que es una matriz (o \"data frame\") formada por varias columnas o variables.\n",
        "\n",
        "*   ##### **Así, estamos en lo que se llama un problema de regresión, en el cual, para cada registro y con base a la información de sus 6 variables de entrada X, deseamos predecir el número real o flotante de la variable de salida \"y\".**"
      ],
      "metadata": {
        "id": "EYAMfHz0ckK0"
      }
    },
    {
      "cell_type": "code",
      "source": [
        "X = tips[['total_bill','sex','smoker','day','time','size']]    # nuestras variables de entrada.\n",
        "y = tips[['tip']]                                              # nuestra variable de salida."
      ],
      "metadata": {
        "id": "23jEEAiXhZbu"
      },
      "execution_count": 51,
      "outputs": []
    },
    {
      "cell_type": "markdown",
      "source": [
        "# **2) Conjuntos de Entrenamiento, Validación y Prueba.**"
      ],
      "metadata": {
        "id": "HFBMoVcZigdV"
      }
    },
    {
      "cell_type": "markdown",
      "source": [
        "Recuerda que en cualquier problema de aprendizaje automático, AA (machine learning), lo recomendable es trabajar con una triple partición del universo de datos, con los llamdos conjuntos de Entrenamiento, Validación y Prueba.\n",
        "\n",
        "Debes de tener presente que no debemos usar todo el universo de datos inicial para construir y entrenar un modelo de aprendizaje automático, para después volver a utilizar dicho universo de datos para verificar qué tan bien realiza las predicciones. Utilizar los mismos datos que ya hemos usado para entrenar un modelo, para ahora evaluarlo con el mismo conjunto, no sería de gran valor, ya que son datos que el modelo ha analizado durante el entrenamiento y por lo tanto ya los conoce. Es decir, querer hacer predicciones con el mismo conjunto de entrenamiento para evaluar un modelo, no representaría en realidad un gran reto y nos llevaría a obtener resultados alejados de la realidad y demasiado optimistas.\n",
        "\n",
        "Usar todo el universo de datos para entrenar y validar nuestro modelo nos lleva en general al llamado problema del \"sobreentrenamiento\", también llamado \"sobreajuste\" (\"overfitting\" en inglés). En otras palabras, el modelo podría simplemente estarse memorizando los datos que ha estado usando, por lo que al momento de querer hacer predicciones con nuevos datos, obtendríamos predicciones alejadas de la realidad.\n",
        "\n",
        "Es por esto que siempre debemos realizar un partición del universo inicial en tres conjuntos: el conjunto de entrenamiento (train), el de validación (val) y el de prueba (test). Utilizaremos el conjunto de Entrenamiento (Training en inglés) para obtener los pesos del modelo en una primera iteración y en el llamado proceso o etapa de entrenamiento. La arquitectura del modelo, junto con los pesos obtenidos en la etapa de entrenamiento nos definen el modelo que podemos usar para realizar predicciones. Sin embargo, ahora debemos verificar si los pesos obtenidos del modelo son los más adecuados para hacer predicciones con datos nuevos. Pero como ya comentamos, no sería retador usar el mismo conjunto de entrenamiento para querer representar a \"datos nuevos\", puesto que estos ya los analizó durante el entrenamiento. Es aquí donde se requiere el conjunto llamado de Validación (Validation en inglés) y que nos ayudará a simular los datos nuevos que nunca ha visto nuestro modelo. Así, con el conjunto de validación hacemos las predicciones y validamos qué tan bien lleva a cabo las predicciones con alguna métrica definida. Hay que recordar que en el caso de aprendizaje supervisado conocemos los valores reales de salida, por lo que se puede hacer la evaluación del modelo midiendo la diferencia entre las predicciones y los valores reales. Seguramente las predicciones con los pesos del modelo obtenido en esta primera iteración serán bastante diferentes de los valores reales, por lo que repetiremos los pasos anteriores en un proceso iterativo cuyo objetivo será minimizar dicho error. Así, procediendo de esta manera iterativa se estarán obteniendo nuevos pesos para el modelo, que reduzcan el error hasta un valor que se considere adecuado para los objetivos del problema. Supongamos que finalmente se obtiene el valor del error mínimo deseado con la configuración de ciertos pesos que definen nuestro mejor modelo que llamaremos modelo final. Ahora, como el conjunto de validación lo hemos estado utilizando en cada etapa iterativa para hacer los ajustes de los pesos y para medir el error de predicción, podemos inferir que dicho modelo también ha estado observando y aprendiendiendo el comportamiento de estos, por lo que de nuevo, no sería muy significativo volver a utilizar este mismo conjunto para obtener una evaluación final. Es por ello que ahora utilizaremos el conjunto de prueba (train) para obtener el desempeño del modelo final con datos que no ha visto hasta este momento. Como estos datos llamados de prueba no han sido vistos ni analizados durante la etapa de entrenamiento por el modelo, podemos decir que son viables para representar datos nuevos y poder evaluar mejor cómo se va a estar comportando el modelo al ponerlo en producción y evaluando datos reales que vayan surgiendo. En resumen, como estos datos llamados de prueba no se usaron durante la etapa de entrenamiento, ni durante la de validación, los podemos utilizar para hacer una última evaluación del error y por lo tanto del mejor desempeño del modelo final.\n",
        "\n",
        "Ver la imagen a continuación:"
      ],
      "metadata": {
        "id": "pWWtZeb8LhE_"
      }
    },
    {
      "cell_type": "markdown",
      "source": [
        "![image.png](data:image/png;base64,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)"
      ],
      "metadata": {
        "id": "UjuDu_5RdaU3"
      }
    },
    {
      "cell_type": "markdown",
      "source": [
        "####**En resumen, durante toda la etapa de preprocesamiento y entrenamiento del modelo el análisis y extracción de información deberá ser solo a partir del conjunto de Entrenamiento (Train) y con dicha información transformar los datos de validación y prueba.**\n",
        "\n",
        "**Por ejemplo, supongamos que durante el análisis con el conjunto de entrenamiento en la etapa de preprocesamiento se decide escalar las variables numéricas de entrada mediante la transformación $\\frac{x-min}{max - min}$, donde $min$ y $max$ son los datos mínimo y máximo del conjunto de entrenamiento, entonces con estos mismos valores deberás llevar a cabo el escalamiento en los conjuntos de validación y prueba. De no hacerlo así se está filtrando información a los datos que están simulando los de la vida real de los cuales no conocemos nada de antemano. Este es el llamado problema de filtrado de información (data leakage en inglés) durante el proceso de entrenamiento.**"
      ],
      "metadata": {
        "id": "s1OEsQkwd9SO"
      }
    },
    {
      "cell_type": "markdown",
      "source": [
        "##### **Procedamos entonces a la partición del universo original de datos en los conjuntos de entrenamiento (train), validación (val) y prueba (test), para enfrentar con ellos el llamadao filtrado de información (data-leakage).**"
      ],
      "metadata": {
        "id": "zVbvvK2Yi1ZR"
      }
    },
    {
      "cell_type": "code",
      "source": [
        "# Particionamos los datos en Entrenamiento (Train), Validación (Val) y Prueba (Test).\n",
        "# Para este ejercicio tomemos la partición de 50% (Train), 25% (Val) y 25% (Test):\n",
        "\n",
        "X_train, Xvt, y_train, yvt = train_test_split(X,      # Variables de entrada.\n",
        "                                              y,      # variable de salida.\n",
        "                                              train_size=0.7,  # Puedes indicar el tamaño o proporción del conjunto \"train\" o del \"test\".\n",
        "                                              random_state=1  # Asignamos una semilla para garantizar la repetibilidad de los resultados.\n",
        "                                              )\n",
        "X_val, X_test, y_val, y_test = train_test_split(Xvt, yvt, test_size=0.5,  random_state=3)\n",
        "\n",
        "print(\"Tamaño de los datos de entrenamiento:\", X_train.shape)\n",
        "print(\"Tamaño de los datos de validación:\", X_val.shape)\n",
        "print(\"Tamaño de los datos de prueba:\", X_test.shape)"
      ],
      "metadata": {
        "colab": {
          "base_uri": "https://localhost:8080/"
        },
        "id": "QkMC2ofdigFL",
        "outputId": "170d8bd0-28a9-4f40-9d6c-5703c44b8e83"
      },
      "execution_count": 52,
      "outputs": [
        {
          "output_type": "stream",
          "name": "stdout",
          "text": [
            "Tamaño de los datos de entrenamiento: (170, 6)\n",
            "Tamaño de los datos de validación: (37, 6)\n",
            "Tamaño de los datos de prueba: (37, 6)\n"
          ]
        }
      ]
    },
    {
      "cell_type": "markdown",
      "source": [
        "##### Obtengamos alguna información y descripción general de los datos. **Recuerda obtener la información solamente de los datos de entrenamiento, para evitar el llamado problema de filtrado de información.**"
      ],
      "metadata": {
        "id": "hZ8rf8ovk0gg"
      }
    },
    {
      "cell_type": "code",
      "source": [
        "X_train.info()   # Observamos que no hay datos perdidios en las variables de entrada del conjunto de entrenamiento\n",
        "                 # y donde 2 variables son numéricas (1 de valor real y otra de valor entero) y 4 categóricas."
      ],
      "metadata": {
        "colab": {
          "base_uri": "https://localhost:8080/"
        },
        "id": "t3Lq-VaSigBe",
        "outputId": "7336ee00-13ad-4fd4-df4d-48ce9d470826"
      },
      "execution_count": 53,
      "outputs": [
        {
          "output_type": "stream",
          "name": "stdout",
          "text": [
            "<class 'pandas.core.frame.DataFrame'>\n",
            "Index: 170 entries, 59 to 37\n",
            "Data columns (total 6 columns):\n",
            " #   Column      Non-Null Count  Dtype   \n",
            "---  ------      --------------  -----   \n",
            " 0   total_bill  170 non-null    float64 \n",
            " 1   sex         170 non-null    category\n",
            " 2   smoker      170 non-null    category\n",
            " 3   day         170 non-null    category\n",
            " 4   time        170 non-null    category\n",
            " 5   size        170 non-null    int64   \n",
            "dtypes: category(4), float64(1), int64(1)\n",
            "memory usage: 5.2 KB\n"
          ]
        }
      ]
    },
    {
      "cell_type": "code",
      "source": [
        "y_train.info()     # Tampoco tenemos datos perdidos en la variable de salida de entrenamiento y son de valor entero las etiquetas."
      ],
      "metadata": {
        "colab": {
          "base_uri": "https://localhost:8080/"
        },
        "id": "mjm8eCKRif9f",
        "outputId": "cdb2c5c6-e9ef-48a4-827f-eb25af51cc05"
      },
      "execution_count": 54,
      "outputs": [
        {
          "output_type": "stream",
          "name": "stdout",
          "text": [
            "<class 'pandas.core.frame.DataFrame'>\n",
            "Index: 170 entries, 59 to 37\n",
            "Data columns (total 1 columns):\n",
            " #   Column  Non-Null Count  Dtype  \n",
            "---  ------  --------------  -----  \n",
            " 0   tip     170 non-null    float64\n",
            "dtypes: float64(1)\n",
            "memory usage: 2.7 KB\n"
          ]
        }
      ]
    },
    {
      "cell_type": "markdown",
      "source": [
        "# **3) Tipos de Variables.**"
      ],
      "metadata": {
        "id": "Qoj5e9RJoyFu"
      }
    },
    {
      "cell_type": "markdown",
      "source": [
        "### **Variables numéricas de entrada**"
      ],
      "metadata": {
        "id": "vKy4ggk02lMU"
      }
    },
    {
      "cell_type": "code",
      "source": [
        "X_train.describe().T    # Obtengamos un resumen numérico de las variables numéricas de entrada con los datos de entrenamiento."
      ],
      "metadata": {
        "colab": {
          "base_uri": "https://localhost:8080/",
          "height": 112
        },
        "id": "uncH7S03qO-T",
        "outputId": "8c3bf140-a6ed-4755-87bd-86378af80833"
      },
      "execution_count": 55,
      "outputs": [
        {
          "output_type": "execute_result",
          "data": {
            "text/plain": [
              "            count       mean       std   min      25%   50%     75%    max\n",
              "total_bill  170.0  19.498588  8.798824  5.75  13.3825  17.3  23.535  48.33\n",
              "size        170.0   2.570588  0.990048  1.00   2.0000   2.0   3.000   6.00"
            ],
            "text/html": [
              "\n",
              "  <div id=\"df-f3e58f39-8c48-4f73-98e6-99034366ac56\" class=\"colab-df-container\">\n",
              "    <div>\n",
              "<style scoped>\n",
              "    .dataframe tbody tr th:only-of-type {\n",
              "        vertical-align: middle;\n",
              "    }\n",
              "\n",
              "    .dataframe tbody tr th {\n",
              "        vertical-align: top;\n",
              "    }\n",
              "\n",
              "    .dataframe thead th {\n",
              "        text-align: right;\n",
              "    }\n",
              "</style>\n",
              "<table border=\"1\" class=\"dataframe\">\n",
              "  <thead>\n",
              "    <tr style=\"text-align: right;\">\n",
              "      <th></th>\n",
              "      <th>count</th>\n",
              "      <th>mean</th>\n",
              "      <th>std</th>\n",
              "      <th>min</th>\n",
              "      <th>25%</th>\n",
              "      <th>50%</th>\n",
              "      <th>75%</th>\n",
              "      <th>max</th>\n",
              "    </tr>\n",
              "  </thead>\n",
              "  <tbody>\n",
              "    <tr>\n",
              "      <th>total_bill</th>\n",
              "      <td>170.0</td>\n",
              "      <td>19.498588</td>\n",
              "      <td>8.798824</td>\n",
              "      <td>5.75</td>\n",
              "      <td>13.3825</td>\n",
              "      <td>17.3</td>\n",
              "      <td>23.535</td>\n",
              "      <td>48.33</td>\n",
              "    </tr>\n",
              "    <tr>\n",
              "      <th>size</th>\n",
              "      <td>170.0</td>\n",
              "      <td>2.570588</td>\n",
              "      <td>0.990048</td>\n",
              "      <td>1.00</td>\n",
              "      <td>2.0000</td>\n",
              "      <td>2.0</td>\n",
              "      <td>3.000</td>\n",
              "      <td>6.00</td>\n",
              "    </tr>\n",
              "  </tbody>\n",
              "</table>\n",
              "</div>\n",
              "    <div class=\"colab-df-buttons\">\n",
              "\n",
              "  <div class=\"colab-df-container\">\n",
              "    <button class=\"colab-df-convert\" onclick=\"convertToInteractive('df-f3e58f39-8c48-4f73-98e6-99034366ac56')\"\n",
              "            title=\"Convert this dataframe to an interactive table.\"\n",
              "            style=\"display:none;\">\n",
              "\n",
              "  <svg xmlns=\"http://www.w3.org/2000/svg\" height=\"24px\" viewBox=\"0 -960 960 960\">\n",
              "    <path d=\"M120-120v-720h720v720H120Zm60-500h600v-160H180v160Zm220 220h160v-160H400v160Zm0 220h160v-160H400v160ZM180-400h160v-160H180v160Zm440 0h160v-160H620v160ZM180-180h160v-160H180v160Zm440 0h160v-160H620v160Z\"/>\n",
              "  </svg>\n",
              "    </button>\n",
              "\n",
              "  <style>\n",
              "    .colab-df-container {\n",
              "      display:flex;\n",
              "      gap: 12px;\n",
              "    }\n",
              "\n",
              "    .colab-df-convert {\n",
              "      background-color: #E8F0FE;\n",
              "      border: none;\n",
              "      border-radius: 50%;\n",
              "      cursor: pointer;\n",
              "      display: none;\n",
              "      fill: #1967D2;\n",
              "      height: 32px;\n",
              "      padding: 0 0 0 0;\n",
              "      width: 32px;\n",
              "    }\n",
              "\n",
              "    .colab-df-convert:hover {\n",
              "      background-color: #E2EBFA;\n",
              "      box-shadow: 0px 1px 2px rgba(60, 64, 67, 0.3), 0px 1px 3px 1px rgba(60, 64, 67, 0.15);\n",
              "      fill: #174EA6;\n",
              "    }\n",
              "\n",
              "    .colab-df-buttons div {\n",
              "      margin-bottom: 4px;\n",
              "    }\n",
              "\n",
              "    [theme=dark] .colab-df-convert {\n",
              "      background-color: #3B4455;\n",
              "      fill: #D2E3FC;\n",
              "    }\n",
              "\n",
              "    [theme=dark] .colab-df-convert:hover {\n",
              "      background-color: #434B5C;\n",
              "      box-shadow: 0px 1px 3px 1px rgba(0, 0, 0, 0.15);\n",
              "      filter: drop-shadow(0px 1px 2px rgba(0, 0, 0, 0.3));\n",
              "      fill: #FFFFFF;\n",
              "    }\n",
              "  </style>\n",
              "\n",
              "    <script>\n",
              "      const buttonEl =\n",
              "        document.querySelector('#df-f3e58f39-8c48-4f73-98e6-99034366ac56 button.colab-df-convert');\n",
              "      buttonEl.style.display =\n",
              "        google.colab.kernel.accessAllowed ? 'block' : 'none';\n",
              "\n",
              "      async function convertToInteractive(key) {\n",
              "        const element = document.querySelector('#df-f3e58f39-8c48-4f73-98e6-99034366ac56');\n",
              "        const dataTable =\n",
              "          await google.colab.kernel.invokeFunction('convertToInteractive',\n",
              "                                                    [key], {});\n",
              "        if (!dataTable) return;\n",
              "\n",
              "        const docLinkHtml = 'Like what you see? Visit the ' +\n",
              "          '<a target=\"_blank\" href=https://colab.research.google.com/notebooks/data_table.ipynb>data table notebook</a>'\n",
              "          + ' to learn more about interactive tables.';\n",
              "        element.innerHTML = '';\n",
              "        dataTable['output_type'] = 'display_data';\n",
              "        await google.colab.output.renderOutput(dataTable, element);\n",
              "        const docLink = document.createElement('div');\n",
              "        docLink.innerHTML = docLinkHtml;\n",
              "        element.appendChild(docLink);\n",
              "      }\n",
              "    </script>\n",
              "  </div>\n",
              "\n",
              "\n",
              "<div id=\"df-4466725d-31f3-427b-815f-99f8c168f712\">\n",
              "  <button class=\"colab-df-quickchart\" onclick=\"quickchart('df-4466725d-31f3-427b-815f-99f8c168f712')\"\n",
              "            title=\"Suggest charts\"\n",
              "            style=\"display:none;\">\n",
              "\n",
              "<svg xmlns=\"http://www.w3.org/2000/svg\" height=\"24px\"viewBox=\"0 0 24 24\"\n",
              "     width=\"24px\">\n",
              "    <g>\n",
              "        <path d=\"M19 3H5c-1.1 0-2 .9-2 2v14c0 1.1.9 2 2 2h14c1.1 0 2-.9 2-2V5c0-1.1-.9-2-2-2zM9 17H7v-7h2v7zm4 0h-2V7h2v10zm4 0h-2v-4h2v4z\"/>\n",
              "    </g>\n",
              "</svg>\n",
              "  </button>\n",
              "\n",
              "<style>\n",
              "  .colab-df-quickchart {\n",
              "      --bg-color: #E8F0FE;\n",
              "      --fill-color: #1967D2;\n",
              "      --hover-bg-color: #E2EBFA;\n",
              "      --hover-fill-color: #174EA6;\n",
              "      --disabled-fill-color: #AAA;\n",
              "      --disabled-bg-color: #DDD;\n",
              "  }\n",
              "\n",
              "  [theme=dark] .colab-df-quickchart {\n",
              "      --bg-color: #3B4455;\n",
              "      --fill-color: #D2E3FC;\n",
              "      --hover-bg-color: #434B5C;\n",
              "      --hover-fill-color: #FFFFFF;\n",
              "      --disabled-bg-color: #3B4455;\n",
              "      --disabled-fill-color: #666;\n",
              "  }\n",
              "\n",
              "  .colab-df-quickchart {\n",
              "    background-color: var(--bg-color);\n",
              "    border: none;\n",
              "    border-radius: 50%;\n",
              "    cursor: pointer;\n",
              "    display: none;\n",
              "    fill: var(--fill-color);\n",
              "    height: 32px;\n",
              "    padding: 0;\n",
              "    width: 32px;\n",
              "  }\n",
              "\n",
              "  .colab-df-quickchart:hover {\n",
              "    background-color: var(--hover-bg-color);\n",
              "    box-shadow: 0 1px 2px rgba(60, 64, 67, 0.3), 0 1px 3px 1px rgba(60, 64, 67, 0.15);\n",
              "    fill: var(--button-hover-fill-color);\n",
              "  }\n",
              "\n",
              "  .colab-df-quickchart-complete:disabled,\n",
              "  .colab-df-quickchart-complete:disabled:hover {\n",
              "    background-color: var(--disabled-bg-color);\n",
              "    fill: var(--disabled-fill-color);\n",
              "    box-shadow: none;\n",
              "  }\n",
              "\n",
              "  .colab-df-spinner {\n",
              "    border: 2px solid var(--fill-color);\n",
              "    border-color: transparent;\n",
              "    border-bottom-color: var(--fill-color);\n",
              "    animation:\n",
              "      spin 1s steps(1) infinite;\n",
              "  }\n",
              "\n",
              "  @keyframes spin {\n",
              "    0% {\n",
              "      border-color: transparent;\n",
              "      border-bottom-color: var(--fill-color);\n",
              "      border-left-color: var(--fill-color);\n",
              "    }\n",
              "    20% {\n",
              "      border-color: transparent;\n",
              "      border-left-color: var(--fill-color);\n",
              "      border-top-color: var(--fill-color);\n",
              "    }\n",
              "    30% {\n",
              "      border-color: transparent;\n",
              "      border-left-color: var(--fill-color);\n",
              "      border-top-color: var(--fill-color);\n",
              "      border-right-color: var(--fill-color);\n",
              "    }\n",
              "    40% {\n",
              "      border-color: transparent;\n",
              "      border-right-color: var(--fill-color);\n",
              "      border-top-color: var(--fill-color);\n",
              "    }\n",
              "    60% {\n",
              "      border-color: transparent;\n",
              "      border-right-color: var(--fill-color);\n",
              "    }\n",
              "    80% {\n",
              "      border-color: transparent;\n",
              "      border-right-color: var(--fill-color);\n",
              "      border-bottom-color: var(--fill-color);\n",
              "    }\n",
              "    90% {\n",
              "      border-color: transparent;\n",
              "      border-bottom-color: var(--fill-color);\n",
              "    }\n",
              "  }\n",
              "</style>\n",
              "\n",
              "  <script>\n",
              "    async function quickchart(key) {\n",
              "      const quickchartButtonEl =\n",
              "        document.querySelector('#' + key + ' button');\n",
              "      quickchartButtonEl.disabled = true;  // To prevent multiple clicks.\n",
              "      quickchartButtonEl.classList.add('colab-df-spinner');\n",
              "      try {\n",
              "        const charts = await google.colab.kernel.invokeFunction(\n",
              "            'suggestCharts', [key], {});\n",
              "      } catch (error) {\n",
              "        console.error('Error during call to suggestCharts:', error);\n",
              "      }\n",
              "      quickchartButtonEl.classList.remove('colab-df-spinner');\n",
              "      quickchartButtonEl.classList.add('colab-df-quickchart-complete');\n",
              "    }\n",
              "    (() => {\n",
              "      let quickchartButtonEl =\n",
              "        document.querySelector('#df-4466725d-31f3-427b-815f-99f8c168f712 button');\n",
              "      quickchartButtonEl.style.display =\n",
              "        google.colab.kernel.accessAllowed ? 'block' : 'none';\n",
              "    })();\n",
              "  </script>\n",
              "</div>\n",
              "\n",
              "    </div>\n",
              "  </div>\n"
            ],
            "application/vnd.google.colaboratory.intrinsic+json": {
              "type": "dataframe",
              "summary": "{\n  \"name\": \"X_train\",\n  \"rows\": 2,\n  \"fields\": [\n    {\n      \"column\": \"count\",\n      \"properties\": {\n        \"dtype\": \"number\",\n        \"std\": 0.0,\n        \"min\": 170.0,\n        \"max\": 170.0,\n        \"num_unique_values\": 1,\n        \"samples\": [\n          170.0\n        ],\n        \"semantic_type\": \"\",\n        \"description\": \"\"\n      }\n    },\n    {\n      \"column\": \"mean\",\n      \"properties\": {\n        \"dtype\": \"number\",\n        \"std\": 11.969903591925876,\n        \"min\": 2.570588235294118,\n        \"max\": 19.498588235294118,\n        \"num_unique_values\": 2,\n        \"samples\": [\n          2.570588235294118\n        ],\n        \"semantic_type\": \"\",\n        \"description\": \"\"\n      }\n    },\n    {\n      \"column\": \"std\",\n      \"properties\": {\n        \"dtype\": \"number\",\n        \"std\": 5.521638250340805,\n        \"min\": 0.9900479373262528,\n        \"max\": 8.798823637476266,\n        \"num_unique_values\": 2,\n        \"samples\": [\n          0.9900479373262528\n        ],\n        \"semantic_type\": \"\",\n        \"description\": \"\"\n      }\n    },\n    {\n      \"column\": \"min\",\n      \"properties\": {\n        \"dtype\": \"number\",\n        \"std\": 3.3587572106361008,\n        \"min\": 1.0,\n        \"max\": 5.75,\n        \"num_unique_values\": 2,\n        \"samples\": [\n          1.0\n        ],\n        \"semantic_type\": \"\",\n        \"description\": \"\"\n      }\n    },\n    {\n      \"column\": \"25%\",\n      \"properties\": {\n        \"dtype\": \"number\",\n        \"std\": 8.048642936855877,\n        \"min\": 2.0,\n        \"max\": 13.3825,\n        \"num_unique_values\": 2,\n        \"samples\": [\n          2.0\n        ],\n        \"semantic_type\": \"\",\n        \"description\": \"\"\n      }\n    },\n    {\n      \"column\": \"50%\",\n      \"properties\": {\n        \"dtype\": \"number\",\n        \"std\": 10.818733752154175,\n        \"min\": 2.0,\n        \"max\": 17.299999999999997,\n        \"num_unique_values\": 2,\n        \"samples\": [\n          2.0\n        ],\n        \"semantic_type\": \"\",\n        \"description\": \"\"\n      }\n    },\n    {\n      \"column\": \"75%\",\n      \"properties\": {\n        \"dtype\": \"number\",\n        \"std\": 14.520437751665753,\n        \"min\": 3.0,\n        \"max\": 23.535,\n        \"num_unique_values\": 2,\n        \"samples\": [\n          3.0\n        ],\n        \"semantic_type\": \"\",\n        \"description\": \"\"\n      }\n    },\n    {\n      \"column\": \"max\",\n      \"properties\": {\n        \"dtype\": \"number\",\n        \"std\": 29.931830047626555,\n        \"min\": 6.0,\n        \"max\": 48.33,\n        \"num_unique_values\": 2,\n        \"samples\": [\n          6.0\n        ],\n        \"semantic_type\": \"\",\n        \"description\": \"\"\n      }\n    }\n  ]\n}"
            }
          },
          "metadata": {},
          "execution_count": 55
        }
      ]
    },
    {
      "cell_type": "code",
      "source": [
        "X_train.hist(figsize=(7,2.5));   # y también obtengamos una visualización de estas dos variables numéricas de entrada."
      ],
      "metadata": {
        "colab": {
          "base_uri": "https://localhost:8080/",
          "height": 280
        },
        "id": "Ej-SZIS4rCBA",
        "outputId": "4d119a48-fe34-4573-9dfe-801849470495"
      },
      "execution_count": 56,
      "outputs": [
        {
          "output_type": "display_data",
          "data": {
            "text/plain": [
              "<Figure size 700x250 with 2 Axes>"
            ],
            "image/png": "[encoded data removed]"
          },
          "metadata": {}
        }
      ]
    },
    {
      "cell_type": "markdown",
      "source": [
        "##### **Observamos que la variablidad de las variables numéricas de entrada difieren en un orden de magnitud, por lo que sería recomendable escalarlos.**\n",
        "\n",
        "##### Existe diversas maneras de transformar los datos, en particular, en esta ocasión vamos a trasnformarlos para que ambas variables numéricas estén aproximadamente en un mismo rango de variabilidad .\n",
        "\n",
        "##### **Para ello, aplicaremos la transformación estándar (x-mean)/std, donde \"x\" es el valor a transformar, \"mean\" el valor de la media de los datos de entrenamiento y \"std\" la desviación estándar de los datos de entrenamiento. A esta transformación también se le suele llamar proceso de normalización. Observa que sin importar que transformemos los datos de entrenamiento, los de validación o los de pureba, siempre debemos usar el valor de la media y de la desviación estándar del conjunto de entrenamiento, esto nos ayudará a eviar el problema del filtrado de información (data-leakage).**\n",
        "\n",
        "##### **Haremos uso de la librería de scikit-learn para aplicar esta transformación. Observa la manera de aplicarlo para evitar el filtrado de información.**\n",
        "\n",
        "##### Puedes consultar la documentación de esta transformación en la siguiente liga:\n",
        "\n",
        "\n",
        "Ver documentación: https://scikit-learn.org/stable/modules/generated/sklearn.preprocessing.StandardScaler.html"
      ],
      "metadata": {
        "id": "PdIoKTJ9q2F8"
      }
    },
    {
      "cell_type": "markdown",
      "source": [
        "### **PREGUNTA:**\n",
        "\n",
        "**Antes de continuar responde a la siguiente pregunta: ¿por qué es importante que las variables de entrada estén aproximadamaente en un mismo rango de variabilidad?**"
      ],
      "metadata": {
        "id": "YFYXrO-J4hYJ"
      }
    },
    {
      "cell_type": "code",
      "source": [
        "# Antes de continuar con la transformación de los datos de entrada, hagamos una copia de los datos\n",
        "# para fines de este ejercicio y poder monitorear cada caso de manera independiente:\n",
        "\n",
        "X_train_t1 = X_train.copy()\n",
        "X_val_t1 = X_val.copy()\n",
        "X_test_t1 = X_test.copy()"
      ],
      "metadata": {
        "id": "76st0xgFw2bf"
      },
      "execution_count": 57,
      "outputs": []
    },
    {
      "cell_type": "code",
      "source": [
        "scaler = StandardScaler()  # Instanciamos la función de escalamiento.\n",
        "scaler.fit(X_train[['total_bill','size']])  # Hacemos primero \"el ajuste\" con los datos de entrenamiento para evitar el filtrado de información.\n",
        "\n",
        "# Podemos usar los mismos nombres, pero por el momento los cambiamos para darle un mejor seguimiento al ejercicio.\n",
        "# Ahora usemos esta transformación ajustada con los datos de entrenamiento para después aplicarla a los conjuntos Train, Val y Test,\n",
        "# lo cual evita el problema del filtrado de información.\n",
        "\n",
        "X_train_t1[['total_bill','size']] = scaler.transform(X_train[['total_bill','size']])  # Transformamos los datos de entrenamiento.\n",
        "X_val_t1[['total_bill','size']] = scaler.transform(X_val[['total_bill','size']])      # Transformamos los datos de validación.\n",
        "X_test_t1[['total_bill','size']] = scaler.transform(X_test[['total_bill','size']])    # Transformamos los datos de prueba.\n"
      ],
      "metadata": {
        "id": "aGQVutSkqO7D"
      },
      "execution_count": 58,
      "outputs": []
    },
    {
      "cell_type": "code",
      "source": [
        "# En particular los siguientes valores son de ajuste realizado con\n",
        "# los datos de entrenamiento para cada variable numérica de entrada,\n",
        "# a saber, \"total_bill\" y \"size\", respectivamente:\n",
        "\n",
        "print('Medias:', scaler.mean_)\n",
        "print('Desviaciones estándar:', scaler.scale_)"
      ],
      "metadata": {
        "colab": {
          "base_uri": "https://localhost:8080/"
        },
        "id": "RdlERKwNif6F",
        "outputId": "946c2d1e-7083-4508-ae59-4a5fffc89a61"
      },
      "execution_count": 59,
      "outputs": [
        {
          "output_type": "stream",
          "name": "stdout",
          "text": [
            "Medias: [19.49858824  2.57058824]\n",
            "Desviaciones estándar: [8.77290657 0.98713174]\n"
          ]
        }
      ]
    },
    {
      "cell_type": "markdown",
      "source": [
        "### **Variables categóricas de entrada**"
      ],
      "metadata": {
        "id": "ZRgDNI7e2q3-"
      }
    },
    {
      "cell_type": "markdown",
      "source": [
        "Realicemos ahora un primer análisis de los datos categóricos de entrada, usando nuevamente, solo los datos de entrenamiento.\n",
        "\n",
        "Despleguemos la proporción de cada nivel. Recuerda que en general algunos analistas consideran que lo adecuado es que cada nivel tenga al menos un $5\\%$ de información. De no ser así, se deberían ir agrupando los niveles más pequeños hasta completar el procentaje establecido.\n",
        "\n",
        "Este porcentaje no es universal, de hecho algunos analistas consideran que debiera ser el $10\\%$ y otros dicen que debiera ser el $3\\%$. Mientras no se diga lo contrario, nosotros consideraremos el valor del $5\\%$.\n"
      ],
      "metadata": {
        "id": "wg21i6gb5XEc"
      }
    },
    {
      "cell_type": "code",
      "source": [
        "X_train_t1.describe(include='category').T"
      ],
      "metadata": {
        "colab": {
          "base_uri": "https://localhost:8080/",
          "height": 174
        },
        "id": "_eHYa4hBrHwQ",
        "outputId": "b84bb669-e89e-42fe-9d49-dfd51f899e94"
      },
      "execution_count": 60,
      "outputs": [
        {
          "output_type": "execute_result",
          "data": {
            "text/plain": [
              "       count unique     top freq\n",
              "sex      170      2    Male  110\n",
              "smoker   170      2      No  112\n",
              "day      170      4     Sat   57\n",
              "time     170      2  Dinner  118"
            ],
            "text/html": [
              "\n",
              "  <div id=\"df-52ff2b3a-3755-4735-88a8-2c7e8981ed8d\" class=\"colab-df-container\">\n",
              "    <div>\n",
              "<style scoped>\n",
              "    .dataframe tbody tr th:only-of-type {\n",
              "        vertical-align: middle;\n",
              "    }\n",
              "\n",
              "    .dataframe tbody tr th {\n",
              "        vertical-align: top;\n",
              "    }\n",
              "\n",
              "    .dataframe thead th {\n",
              "        text-align: right;\n",
              "    }\n",
              "</style>\n",
              "<table border=\"1\" class=\"dataframe\">\n",
              "  <thead>\n",
              "    <tr style=\"text-align: right;\">\n",
              "      <th></th>\n",
              "      <th>count</th>\n",
              "      <th>unique</th>\n",
              "      <th>top</th>\n",
              "      <th>freq</th>\n",
              "    </tr>\n",
              "  </thead>\n",
              "  <tbody>\n",
              "    <tr>\n",
              "      <th>sex</th>\n",
              "      <td>170</td>\n",
              "      <td>2</td>\n",
              "      <td>Male</td>\n",
              "      <td>110</td>\n",
              "    </tr>\n",
              "    <tr>\n",
              "      <th>smoker</th>\n",
              "      <td>170</td>\n",
              "      <td>2</td>\n",
              "      <td>No</td>\n",
              "      <td>112</td>\n",
              "    </tr>\n",
              "    <tr>\n",
              "      <th>day</th>\n",
              "      <td>170</td>\n",
              "      <td>4</td>\n",
              "      <td>Sat</td>\n",
              "      <td>57</td>\n",
              "    </tr>\n",
              "    <tr>\n",
              "      <th>time</th>\n",
              "      <td>170</td>\n",
              "      <td>2</td>\n",
              "      <td>Dinner</td>\n",
              "      <td>118</td>\n",
              "    </tr>\n",
              "  </tbody>\n",
              "</table>\n",
              "</div>\n",
              "    <div class=\"colab-df-buttons\">\n",
              "\n",
              "  <div class=\"colab-df-container\">\n",
              "    <button class=\"colab-df-convert\" onclick=\"convertToInteractive('df-52ff2b3a-3755-4735-88a8-2c7e8981ed8d')\"\n",
              "            title=\"Convert this dataframe to an interactive table.\"\n",
              "            style=\"display:none;\">\n",
              "\n",
              "  <svg xmlns=\"http://www.w3.org/2000/svg\" height=\"24px\" viewBox=\"0 -960 960 960\">\n",
              "    <path d=\"M120-120v-720h720v720H120Zm60-500h600v-160H180v160Zm220 220h160v-160H400v160Zm0 220h160v-160H400v160ZM180-400h160v-160H180v160Zm440 0h160v-160H620v160ZM180-180h160v-160H180v160Zm440 0h160v-160H620v160Z\"/>\n",
              "  </svg>\n",
              "    </button>\n",
              "\n",
              "  <style>\n",
              "    .colab-df-container {\n",
              "      display:flex;\n",
              "      gap: 12px;\n",
              "    }\n",
              "\n",
              "    .colab-df-convert {\n",
              "      background-color: #E8F0FE;\n",
              "      border: none;\n",
              "      border-radius: 50%;\n",
              "      cursor: pointer;\n",
              "      display: none;\n",
              "      fill: #1967D2;\n",
              "      height: 32px;\n",
              "      padding: 0 0 0 0;\n",
              "      width: 32px;\n",
              "    }\n",
              "\n",
              "    .colab-df-convert:hover {\n",
              "      background-color: #E2EBFA;\n",
              "      box-shadow: 0px 1px 2px rgba(60, 64, 67, 0.3), 0px 1px 3px 1px rgba(60, 64, 67, 0.15);\n",
              "      fill: #174EA6;\n",
              "    }\n",
              "\n",
              "    .colab-df-buttons div {\n",
              "      margin-bottom: 4px;\n",
              "    }\n",
              "\n",
              "    [theme=dark] .colab-df-convert {\n",
              "      background-color: #3B4455;\n",
              "      fill: #D2E3FC;\n",
              "    }\n",
              "\n",
              "    [theme=dark] .colab-df-convert:hover {\n",
              "      background-color: #434B5C;\n",
              "      box-shadow: 0px 1px 3px 1px rgba(0, 0, 0, 0.15);\n",
              "      filter: drop-shadow(0px 1px 2px rgba(0, 0, 0, 0.3));\n",
              "      fill: #FFFFFF;\n",
              "    }\n",
              "  </style>\n",
              "\n",
              "    <script>\n",
              "      const buttonEl =\n",
              "        document.querySelector('#df-52ff2b3a-3755-4735-88a8-2c7e8981ed8d button.colab-df-convert');\n",
              "      buttonEl.style.display =\n",
              "        google.colab.kernel.accessAllowed ? 'block' : 'none';\n",
              "\n",
              "      async function convertToInteractive(key) {\n",
              "        const element = document.querySelector('#df-52ff2b3a-3755-4735-88a8-2c7e8981ed8d');\n",
              "        const dataTable =\n",
              "          await google.colab.kernel.invokeFunction('convertToInteractive',\n",
              "                                                    [key], {});\n",
              "        if (!dataTable) return;\n",
              "\n",
              "        const docLinkHtml = 'Like what you see? Visit the ' +\n",
              "          '<a target=\"_blank\" href=https://colab.research.google.com/notebooks/data_table.ipynb>data table notebook</a>'\n",
              "          + ' to learn more about interactive tables.';\n",
              "        element.innerHTML = '';\n",
              "        dataTable['output_type'] = 'display_data';\n",
              "        await google.colab.output.renderOutput(dataTable, element);\n",
              "        const docLink = document.createElement('div');\n",
              "        docLink.innerHTML = docLinkHtml;\n",
              "        element.appendChild(docLink);\n",
              "      }\n",
              "    </script>\n",
              "  </div>\n",
              "\n",
              "\n",
              "<div id=\"df-71a00e6b-0e94-4123-b83a-b252b858339e\">\n",
              "  <button class=\"colab-df-quickchart\" onclick=\"quickchart('df-71a00e6b-0e94-4123-b83a-b252b858339e')\"\n",
              "            title=\"Suggest charts\"\n",
              "            style=\"display:none;\">\n",
              "\n",
              "<svg xmlns=\"http://www.w3.org/2000/svg\" height=\"24px\"viewBox=\"0 0 24 24\"\n",
              "     width=\"24px\">\n",
              "    <g>\n",
              "        <path d=\"M19 3H5c-1.1 0-2 .9-2 2v14c0 1.1.9 2 2 2h14c1.1 0 2-.9 2-2V5c0-1.1-.9-2-2-2zM9 17H7v-7h2v7zm4 0h-2V7h2v10zm4 0h-2v-4h2v4z\"/>\n",
              "    </g>\n",
              "</svg>\n",
              "  </button>\n",
              "\n",
              "<style>\n",
              "  .colab-df-quickchart {\n",
              "      --bg-color: #E8F0FE;\n",
              "      --fill-color: #1967D2;\n",
              "      --hover-bg-color: #E2EBFA;\n",
              "      --hover-fill-color: #174EA6;\n",
              "      --disabled-fill-color: #AAA;\n",
              "      --disabled-bg-color: #DDD;\n",
              "  }\n",
              "\n",
              "  [theme=dark] .colab-df-quickchart {\n",
              "      --bg-color: #3B4455;\n",
              "      --fill-color: #D2E3FC;\n",
              "      --hover-bg-color: #434B5C;\n",
              "      --hover-fill-color: #FFFFFF;\n",
              "      --disabled-bg-color: #3B4455;\n",
              "      --disabled-fill-color: #666;\n",
              "  }\n",
              "\n",
              "  .colab-df-quickchart {\n",
              "    background-color: var(--bg-color);\n",
              "    border: none;\n",
              "    border-radius: 50%;\n",
              "    cursor: pointer;\n",
              "    display: none;\n",
              "    fill: var(--fill-color);\n",
              "    height: 32px;\n",
              "    padding: 0;\n",
              "    width: 32px;\n",
              "  }\n",
              "\n",
              "  .colab-df-quickchart:hover {\n",
              "    background-color: var(--hover-bg-color);\n",
              "    box-shadow: 0 1px 2px rgba(60, 64, 67, 0.3), 0 1px 3px 1px rgba(60, 64, 67, 0.15);\n",
              "    fill: var(--button-hover-fill-color);\n",
              "  }\n",
              "\n",
              "  .colab-df-quickchart-complete:disabled,\n",
              "  .colab-df-quickchart-complete:disabled:hover {\n",
              "    background-color: var(--disabled-bg-color);\n",
              "    fill: var(--disabled-fill-color);\n",
              "    box-shadow: none;\n",
              "  }\n",
              "\n",
              "  .colab-df-spinner {\n",
              "    border: 2px solid var(--fill-color);\n",
              "    border-color: transparent;\n",
              "    border-bottom-color: var(--fill-color);\n",
              "    animation:\n",
              "      spin 1s steps(1) infinite;\n",
              "  }\n",
              "\n",
              "  @keyframes spin {\n",
              "    0% {\n",
              "      border-color: transparent;\n",
              "      border-bottom-color: var(--fill-color);\n",
              "      border-left-color: var(--fill-color);\n",
              "    }\n",
              "    20% {\n",
              "      border-color: transparent;\n",
              "      border-left-color: var(--fill-color);\n",
              "      border-top-color: var(--fill-color);\n",
              "    }\n",
              "    30% {\n",
              "      border-color: transparent;\n",
              "      border-left-color: var(--fill-color);\n",
              "      border-top-color: var(--fill-color);\n",
              "      border-right-color: var(--fill-color);\n",
              "    }\n",
              "    40% {\n",
              "      border-color: transparent;\n",
              "      border-right-color: var(--fill-color);\n",
              "      border-top-color: var(--fill-color);\n",
              "    }\n",
              "    60% {\n",
              "      border-color: transparent;\n",
              "      border-right-color: var(--fill-color);\n",
              "    }\n",
              "    80% {\n",
              "      border-color: transparent;\n",
              "      border-right-color: var(--fill-color);\n",
              "      border-bottom-color: var(--fill-color);\n",
              "    }\n",
              "    90% {\n",
              "      border-color: transparent;\n",
              "      border-bottom-color: var(--fill-color);\n",
              "    }\n",
              "  }\n",
              "</style>\n",
              "\n",
              "  <script>\n",
              "    async function quickchart(key) {\n",
              "      const quickchartButtonEl =\n",
              "        document.querySelector('#' + key + ' button');\n",
              "      quickchartButtonEl.disabled = true;  // To prevent multiple clicks.\n",
              "      quickchartButtonEl.classList.add('colab-df-spinner');\n",
              "      try {\n",
              "        const charts = await google.colab.kernel.invokeFunction(\n",
              "            'suggestCharts', [key], {});\n",
              "      } catch (error) {\n",
              "        console.error('Error during call to suggestCharts:', error);\n",
              "      }\n",
              "      quickchartButtonEl.classList.remove('colab-df-spinner');\n",
              "      quickchartButtonEl.classList.add('colab-df-quickchart-complete');\n",
              "    }\n",
              "    (() => {\n",
              "      let quickchartButtonEl =\n",
              "        document.querySelector('#df-71a00e6b-0e94-4123-b83a-b252b858339e button');\n",
              "      quickchartButtonEl.style.display =\n",
              "        google.colab.kernel.accessAllowed ? 'block' : 'none';\n",
              "    })();\n",
              "  </script>\n",
              "</div>\n",
              "\n",
              "    </div>\n",
              "  </div>\n"
            ],
            "application/vnd.google.colaboratory.intrinsic+json": {
              "type": "dataframe",
              "summary": "{\n  \"name\": \"X_train_t1\",\n  \"rows\": 4,\n  \"fields\": [\n    {\n      \"column\": \"count\",\n      \"properties\": {\n        \"dtype\": \"date\",\n        \"min\": \"170\",\n        \"max\": \"170\",\n        \"num_unique_values\": 1,\n        \"samples\": [\n          \"170\"\n        ],\n        \"semantic_type\": \"\",\n        \"description\": \"\"\n      }\n    },\n    {\n      \"column\": \"unique\",\n      \"properties\": {\n        \"dtype\": \"date\",\n        \"min\": 2,\n        \"max\": 4,\n        \"num_unique_values\": 2,\n        \"samples\": [\n          4\n        ],\n        \"semantic_type\": \"\",\n        \"description\": \"\"\n      }\n    },\n    {\n      \"column\": \"top\",\n      \"properties\": {\n        \"dtype\": \"string\",\n        \"num_unique_values\": 4,\n        \"samples\": [\n          \"No\"\n        ],\n        \"semantic_type\": \"\",\n        \"description\": \"\"\n      }\n    },\n    {\n      \"column\": \"freq\",\n      \"properties\": {\n        \"dtype\": \"date\",\n        \"min\": \"57\",\n        \"max\": \"118\",\n        \"num_unique_values\": 4,\n        \"samples\": [\n          \"112\"\n        ],\n        \"semantic_type\": \"\",\n        \"description\": \"\"\n      }\n    }\n  ]\n}"
            }
          },
          "metadata": {},
          "execution_count": 60
        }
      ]
    },
    {
      "cell_type": "markdown",
      "source": [
        "La tabla anterior nos indica que tenemos 3 variables binarias y una catagórica con 4 niveles.\n",
        "\n",
        "\n",
        "Y a continuación la información mostrada nos indica que nos necesario hacer algún tipo de ajuste en los niveles de las variables categóricas, con base al criterio del $5\\%$ mencionado previamente."
      ],
      "metadata": {
        "id": "ENtKbCzE8Pf8"
      }
    },
    {
      "cell_type": "code",
      "source": [
        "X_train_t1['sex'].value_counts() / X_train_t1.shape[0]"
      ],
      "metadata": {
        "colab": {
          "base_uri": "https://localhost:8080/",
          "height": 178
        },
        "id": "rsj8ZnmmrHtK",
        "outputId": "7ec60965-ea13-46a4-a181-a0c2bb2f8a30"
      },
      "execution_count": 61,
      "outputs": [
        {
          "output_type": "execute_result",
          "data": {
            "text/plain": [
              "sex\n",
              "Male      0.647059\n",
              "Female    0.352941\n",
              "Name: count, dtype: float64"
            ],
            "text/html": [
              "<div>\n",
              "<style scoped>\n",
              "    .dataframe tbody tr th:only-of-type {\n",
              "        vertical-align: middle;\n",
              "    }\n",
              "\n",
              "    .dataframe tbody tr th {\n",
              "        vertical-align: top;\n",
              "    }\n",
              "\n",
              "    .dataframe thead th {\n",
              "        text-align: right;\n",
              "    }\n",
              "</style>\n",
              "<table border=\"1\" class=\"dataframe\">\n",
              "  <thead>\n",
              "    <tr style=\"text-align: right;\">\n",
              "      <th></th>\n",
              "      <th>count</th>\n",
              "    </tr>\n",
              "    <tr>\n",
              "      <th>sex</th>\n",
              "      <th></th>\n",
              "    </tr>\n",
              "  </thead>\n",
              "  <tbody>\n",
              "    <tr>\n",
              "      <th>Male</th>\n",
              "      <td>0.647059</td>\n",
              "    </tr>\n",
              "    <tr>\n",
              "      <th>Female</th>\n",
              "      <td>0.352941</td>\n",
              "    </tr>\n",
              "  </tbody>\n",
              "</table>\n",
              "</div><br><label><b>dtype:</b> float64</label>"
            ]
          },
          "metadata": {},
          "execution_count": 61
        }
      ]
    },
    {
      "cell_type": "code",
      "source": [
        "X_train_t1['smoker'].value_counts() / X_train_t1.shape[0]"
      ],
      "metadata": {
        "colab": {
          "base_uri": "https://localhost:8080/",
          "height": 178
        },
        "id": "54VAXFgkrHpt",
        "outputId": "75a78e87-519b-4029-9aa3-6d189b9ef1fc"
      },
      "execution_count": 62,
      "outputs": [
        {
          "output_type": "execute_result",
          "data": {
            "text/plain": [
              "smoker\n",
              "No     0.658824\n",
              "Yes    0.341176\n",
              "Name: count, dtype: float64"
            ],
            "text/html": [
              "<div>\n",
              "<style scoped>\n",
              "    .dataframe tbody tr th:only-of-type {\n",
              "        vertical-align: middle;\n",
              "    }\n",
              "\n",
              "    .dataframe tbody tr th {\n",
              "        vertical-align: top;\n",
              "    }\n",
              "\n",
              "    .dataframe thead th {\n",
              "        text-align: right;\n",
              "    }\n",
              "</style>\n",
              "<table border=\"1\" class=\"dataframe\">\n",
              "  <thead>\n",
              "    <tr style=\"text-align: right;\">\n",
              "      <th></th>\n",
              "      <th>count</th>\n",
              "    </tr>\n",
              "    <tr>\n",
              "      <th>smoker</th>\n",
              "      <th></th>\n",
              "    </tr>\n",
              "  </thead>\n",
              "  <tbody>\n",
              "    <tr>\n",
              "      <th>No</th>\n",
              "      <td>0.658824</td>\n",
              "    </tr>\n",
              "    <tr>\n",
              "      <th>Yes</th>\n",
              "      <td>0.341176</td>\n",
              "    </tr>\n",
              "  </tbody>\n",
              "</table>\n",
              "</div><br><label><b>dtype:</b> float64</label>"
            ]
          },
          "metadata": {},
          "execution_count": 62
        }
      ]
    },
    {
      "cell_type": "code",
      "source": [
        "X_train_t1['day'].value_counts() / X_train_t1.shape[0]"
      ],
      "metadata": {
        "colab": {
          "base_uri": "https://localhost:8080/",
          "height": 241
        },
        "id": "7q_7CbOeqxnw",
        "outputId": "ce068918-48ef-4cd4-b01c-ba408e748f99"
      },
      "execution_count": 63,
      "outputs": [
        {
          "output_type": "execute_result",
          "data": {
            "text/plain": [
              "day\n",
              "Sat     0.335294\n",
              "Sun     0.317647\n",
              "Thur    0.288235\n",
              "Fri     0.058824\n",
              "Name: count, dtype: float64"
            ],
            "text/html": [
              "<div>\n",
              "<style scoped>\n",
              "    .dataframe tbody tr th:only-of-type {\n",
              "        vertical-align: middle;\n",
              "    }\n",
              "\n",
              "    .dataframe tbody tr th {\n",
              "        vertical-align: top;\n",
              "    }\n",
              "\n",
              "    .dataframe thead th {\n",
              "        text-align: right;\n",
              "    }\n",
              "</style>\n",
              "<table border=\"1\" class=\"dataframe\">\n",
              "  <thead>\n",
              "    <tr style=\"text-align: right;\">\n",
              "      <th></th>\n",
              "      <th>count</th>\n",
              "    </tr>\n",
              "    <tr>\n",
              "      <th>day</th>\n",
              "      <th></th>\n",
              "    </tr>\n",
              "  </thead>\n",
              "  <tbody>\n",
              "    <tr>\n",
              "      <th>Sat</th>\n",
              "      <td>0.335294</td>\n",
              "    </tr>\n",
              "    <tr>\n",
              "      <th>Sun</th>\n",
              "      <td>0.317647</td>\n",
              "    </tr>\n",
              "    <tr>\n",
              "      <th>Thur</th>\n",
              "      <td>0.288235</td>\n",
              "    </tr>\n",
              "    <tr>\n",
              "      <th>Fri</th>\n",
              "      <td>0.058824</td>\n",
              "    </tr>\n",
              "  </tbody>\n",
              "</table>\n",
              "</div><br><label><b>dtype:</b> float64</label>"
            ]
          },
          "metadata": {},
          "execution_count": 63
        }
      ]
    },
    {
      "cell_type": "code",
      "source": [
        "X_train_t1['time'].value_counts() / X_train_t1.shape[0]"
      ],
      "metadata": {
        "colab": {
          "base_uri": "https://localhost:8080/",
          "height": 178
        },
        "id": "HJRBRJIJifzF",
        "outputId": "fc855baa-d98e-4028-c032-e631e51523f4"
      },
      "execution_count": 64,
      "outputs": [
        {
          "output_type": "execute_result",
          "data": {
            "text/plain": [
              "time\n",
              "Dinner    0.694118\n",
              "Lunch     0.305882\n",
              "Name: count, dtype: float64"
            ],
            "text/html": [
              "<div>\n",
              "<style scoped>\n",
              "    .dataframe tbody tr th:only-of-type {\n",
              "        vertical-align: middle;\n",
              "    }\n",
              "\n",
              "    .dataframe tbody tr th {\n",
              "        vertical-align: top;\n",
              "    }\n",
              "\n",
              "    .dataframe thead th {\n",
              "        text-align: right;\n",
              "    }\n",
              "</style>\n",
              "<table border=\"1\" class=\"dataframe\">\n",
              "  <thead>\n",
              "    <tr style=\"text-align: right;\">\n",
              "      <th></th>\n",
              "      <th>count</th>\n",
              "    </tr>\n",
              "    <tr>\n",
              "      <th>time</th>\n",
              "      <th></th>\n",
              "    </tr>\n",
              "  </thead>\n",
              "  <tbody>\n",
              "    <tr>\n",
              "      <th>Dinner</th>\n",
              "      <td>0.694118</td>\n",
              "    </tr>\n",
              "    <tr>\n",
              "      <th>Lunch</th>\n",
              "      <td>0.305882</td>\n",
              "    </tr>\n",
              "  </tbody>\n",
              "</table>\n",
              "</div><br><label><b>dtype:</b> float64</label>"
            ]
          },
          "metadata": {},
          "execution_count": 64
        }
      ]
    },
    {
      "cell_type": "markdown",
      "source": [
        "### **Variables categóricas y codificación One-Hot-Encoding o Variables dummies**"
      ],
      "metadata": {
        "id": "jpXazhLzj0jr"
      }
    },
    {
      "cell_type": "markdown",
      "source": [
        "Como hemos comentado, existen diversas técnicas para transformar las variables categóricas a valores numéricos que puedan entender los modelos a utilizar.\n",
        "\n",
        "En particular para todas las 4 variables categóricas de entrada aplicaremos el proceso de codificación llamado one-hot-encoding o variables dummies y que la biblioteca Pandas tiene la función get_dummies() que nos ayudará a transformar dichas variables.\n",
        "\n",
        "Puedes consultar la información respectiva en la siguiente liga:\n",
        "\n",
        "https://pandas.pydata.org/pandas-docs/stable/reference/api/pandas.get_dummies.html\n",
        "\n",
        "Scikit-learn también tiene una clase para la transformación One-Hot-Encoding, pero por el momento utilicemos get_dummies() de Pandas."
      ],
      "metadata": {
        "id": "5ITjGclNkFLz"
      }
    },
    {
      "cell_type": "code",
      "source": [
        "# Nuevamente para fines del ejercicio hacemos una copia de los datos antes\n",
        "# de llevar a cabo las transformaciones de las variables categóricas:\n",
        "X_train_t2 = X_train_t1.copy()\n",
        "X_val_t2 = X_val_t1.copy()\n",
        "X_test_t2 = X_test_t1.copy()\n",
        "\n",
        "\n",
        "# Una vez decidido las variables a transformar mediante el análisis de los datos\n",
        "# de entrenamiento, procedemos con One-Hot-Encoding usando en esta ocasión la\n",
        "# función get_dummies() de Pandas:\n",
        "X_train_t2 = pd.get_dummies(data=X_train_t1, columns=['sex','smoker','day','time'], drop_first=True)\n",
        "X_val_t2 = pd.get_dummies(data=X_val_t1, columns=['sex','smoker','day','time'], drop_first=True)\n",
        "X_test_t2 = pd.get_dummies(data=X_test_t1, columns=['sex','smoker','day','time'], drop_first=True)\n",
        "\n",
        "X_train_t2.head(3)   # desplegamos los primeros registros de los datos transformados al momento"
      ],
      "metadata": {
        "colab": {
          "base_uri": "https://localhost:8080/",
          "height": 143
        },
        "id": "iReRdgsYFjuC",
        "outputId": "6ba60ce6-f7eb-47d7-e178-dfb8c47bfcc8"
      },
      "execution_count": 65,
      "outputs": [
        {
          "output_type": "execute_result",
          "data": {
            "text/plain": [
              "     total_bill      size  sex_Female  smoker_No  day_Fri  day_Sat  day_Sun  \\\n",
              "59     3.279576  1.448046       False       True    False     True    False   \n",
              "102    2.827046  0.435010        True      False    False     True    False   \n",
              "147   -0.869562 -0.578026        True       True    False    False    False   \n",
              "\n",
              "     time_Dinner  \n",
              "59          True  \n",
              "102         True  \n",
              "147        False  "
            ],
            "text/html": [
              "\n",
              "  <div id=\"df-ceb20ba2-b21c-41fc-88ca-44aaa9cadb7f\" class=\"colab-df-container\">\n",
              "    <div>\n",
              "<style scoped>\n",
              "    .dataframe tbody tr th:only-of-type {\n",
              "        vertical-align: middle;\n",
              "    }\n",
              "\n",
              "    .dataframe tbody tr th {\n",
              "        vertical-align: top;\n",
              "    }\n",
              "\n",
              "    .dataframe thead th {\n",
              "        text-align: right;\n",
              "    }\n",
              "</style>\n",
              "<table border=\"1\" class=\"dataframe\">\n",
              "  <thead>\n",
              "    <tr style=\"text-align: right;\">\n",
              "      <th></th>\n",
              "      <th>total_bill</th>\n",
              "      <th>size</th>\n",
              "      <th>sex_Female</th>\n",
              "      <th>smoker_No</th>\n",
              "      <th>day_Fri</th>\n",
              "      <th>day_Sat</th>\n",
              "      <th>day_Sun</th>\n",
              "      <th>time_Dinner</th>\n",
              "    </tr>\n",
              "  </thead>\n",
              "  <tbody>\n",
              "    <tr>\n",
              "      <th>59</th>\n",
              "      <td>3.279576</td>\n",
              "      <td>1.448046</td>\n",
              "      <td>False</td>\n",
              "      <td>True</td>\n",
              "      <td>False</td>\n",
              "      <td>True</td>\n",
              "      <td>False</td>\n",
              "      <td>True</td>\n",
              "    </tr>\n",
              "    <tr>\n",
              "      <th>102</th>\n",
              "      <td>2.827046</td>\n",
              "      <td>0.435010</td>\n",
              "      <td>True</td>\n",
              "      <td>False</td>\n",
              "      <td>False</td>\n",
              "      <td>True</td>\n",
              "      <td>False</td>\n",
              "      <td>True</td>\n",
              "    </tr>\n",
              "    <tr>\n",
              "      <th>147</th>\n",
              "      <td>-0.869562</td>\n",
              "      <td>-0.578026</td>\n",
              "      <td>True</td>\n",
              "      <td>True</td>\n",
              "      <td>False</td>\n",
              "      <td>False</td>\n",
              "      <td>False</td>\n",
              "      <td>False</td>\n",
              "    </tr>\n",
              "  </tbody>\n",
              "</table>\n",
              "</div>\n",
              "    <div class=\"colab-df-buttons\">\n",
              "\n",
              "  <div class=\"colab-df-container\">\n",
              "    <button class=\"colab-df-convert\" onclick=\"convertToInteractive('df-ceb20ba2-b21c-41fc-88ca-44aaa9cadb7f')\"\n",
              "            title=\"Convert this dataframe to an interactive table.\"\n",
              "            style=\"display:none;\">\n",
              "\n",
              "  <svg xmlns=\"http://www.w3.org/2000/svg\" height=\"24px\" viewBox=\"0 -960 960 960\">\n",
              "    <path d=\"M120-120v-720h720v720H120Zm60-500h600v-160H180v160Zm220 220h160v-160H400v160Zm0 220h160v-160H400v160ZM180-400h160v-160H180v160Zm440 0h160v-160H620v160ZM180-180h160v-160H180v160Zm440 0h160v-160H620v160Z\"/>\n",
              "  </svg>\n",
              "    </button>\n",
              "\n",
              "  <style>\n",
              "    .colab-df-container {\n",
              "      display:flex;\n",
              "      gap: 12px;\n",
              "    }\n",
              "\n",
              "    .colab-df-convert {\n",
              "      background-color: #E8F0FE;\n",
              "      border: none;\n",
              "      border-radius: 50%;\n",
              "      cursor: pointer;\n",
              "      display: none;\n",
              "      fill: #1967D2;\n",
              "      height: 32px;\n",
              "      padding: 0 0 0 0;\n",
              "      width: 32px;\n",
              "    }\n",
              "\n",
              "    .colab-df-convert:hover {\n",
              "      background-color: #E2EBFA;\n",
              "      box-shadow: 0px 1px 2px rgba(60, 64, 67, 0.3), 0px 1px 3px 1px rgba(60, 64, 67, 0.15);\n",
              "      fill: #174EA6;\n",
              "    }\n",
              "\n",
              "    .colab-df-buttons div {\n",
              "      margin-bottom: 4px;\n",
              "    }\n",
              "\n",
              "    [theme=dark] .colab-df-convert {\n",
              "      background-color: #3B4455;\n",
              "      fill: #D2E3FC;\n",
              "    }\n",
              "\n",
              "    [theme=dark] .colab-df-convert:hover {\n",
              "      background-color: #434B5C;\n",
              "      box-shadow: 0px 1px 3px 1px rgba(0, 0, 0, 0.15);\n",
              "      filter: drop-shadow(0px 1px 2px rgba(0, 0, 0, 0.3));\n",
              "      fill: #FFFFFF;\n",
              "    }\n",
              "  </style>\n",
              "\n",
              "    <script>\n",
              "      const buttonEl =\n",
              "        document.querySelector('#df-ceb20ba2-b21c-41fc-88ca-44aaa9cadb7f button.colab-df-convert');\n",
              "      buttonEl.style.display =\n",
              "        google.colab.kernel.accessAllowed ? 'block' : 'none';\n",
              "\n",
              "      async function convertToInteractive(key) {\n",
              "        const element = document.querySelector('#df-ceb20ba2-b21c-41fc-88ca-44aaa9cadb7f');\n",
              "        const dataTable =\n",
              "          await google.colab.kernel.invokeFunction('convertToInteractive',\n",
              "                                                    [key], {});\n",
              "        if (!dataTable) return;\n",
              "\n",
              "        const docLinkHtml = 'Like what you see? Visit the ' +\n",
              "          '<a target=\"_blank\" href=https://colab.research.google.com/notebooks/data_table.ipynb>data table notebook</a>'\n",
              "          + ' to learn more about interactive tables.';\n",
              "        element.innerHTML = '';\n",
              "        dataTable['output_type'] = 'display_data';\n",
              "        await google.colab.output.renderOutput(dataTable, element);\n",
              "        const docLink = document.createElement('div');\n",
              "        docLink.innerHTML = docLinkHtml;\n",
              "        element.appendChild(docLink);\n",
              "      }\n",
              "    </script>\n",
              "  </div>\n",
              "\n",
              "\n",
              "<div id=\"df-c9f033bb-284f-4b07-a125-e7add47dd541\">\n",
              "  <button class=\"colab-df-quickchart\" onclick=\"quickchart('df-c9f033bb-284f-4b07-a125-e7add47dd541')\"\n",
              "            title=\"Suggest charts\"\n",
              "            style=\"display:none;\">\n",
              "\n",
              "<svg xmlns=\"http://www.w3.org/2000/svg\" height=\"24px\"viewBox=\"0 0 24 24\"\n",
              "     width=\"24px\">\n",
              "    <g>\n",
              "        <path d=\"M19 3H5c-1.1 0-2 .9-2 2v14c0 1.1.9 2 2 2h14c1.1 0 2-.9 2-2V5c0-1.1-.9-2-2-2zM9 17H7v-7h2v7zm4 0h-2V7h2v10zm4 0h-2v-4h2v4z\"/>\n",
              "    </g>\n",
              "</svg>\n",
              "  </button>\n",
              "\n",
              "<style>\n",
              "  .colab-df-quickchart {\n",
              "      --bg-color: #E8F0FE;\n",
              "      --fill-color: #1967D2;\n",
              "      --hover-bg-color: #E2EBFA;\n",
              "      --hover-fill-color: #174EA6;\n",
              "      --disabled-fill-color: #AAA;\n",
              "      --disabled-bg-color: #DDD;\n",
              "  }\n",
              "\n",
              "  [theme=dark] .colab-df-quickchart {\n",
              "      --bg-color: #3B4455;\n",
              "      --fill-color: #D2E3FC;\n",
              "      --hover-bg-color: #434B5C;\n",
              "      --hover-fill-color: #FFFFFF;\n",
              "      --disabled-bg-color: #3B4455;\n",
              "      --disabled-fill-color: #666;\n",
              "  }\n",
              "\n",
              "  .colab-df-quickchart {\n",
              "    background-color: var(--bg-color);\n",
              "    border: none;\n",
              "    border-radius: 50%;\n",
              "    cursor: pointer;\n",
              "    display: none;\n",
              "    fill: var(--fill-color);\n",
              "    height: 32px;\n",
              "    padding: 0;\n",
              "    width: 32px;\n",
              "  }\n",
              "\n",
              "  .colab-df-quickchart:hover {\n",
              "    background-color: var(--hover-bg-color);\n",
              "    box-shadow: 0 1px 2px rgba(60, 64, 67, 0.3), 0 1px 3px 1px rgba(60, 64, 67, 0.15);\n",
              "    fill: var(--button-hover-fill-color);\n",
              "  }\n",
              "\n",
              "  .colab-df-quickchart-complete:disabled,\n",
              "  .colab-df-quickchart-complete:disabled:hover {\n",
              "    background-color: var(--disabled-bg-color);\n",
              "    fill: var(--disabled-fill-color);\n",
              "    box-shadow: none;\n",
              "  }\n",
              "\n",
              "  .colab-df-spinner {\n",
              "    border: 2px solid var(--fill-color);\n",
              "    border-color: transparent;\n",
              "    border-bottom-color: var(--fill-color);\n",
              "    animation:\n",
              "      spin 1s steps(1) infinite;\n",
              "  }\n",
              "\n",
              "  @keyframes spin {\n",
              "    0% {\n",
              "      border-color: transparent;\n",
              "      border-bottom-color: var(--fill-color);\n",
              "      border-left-color: var(--fill-color);\n",
              "    }\n",
              "    20% {\n",
              "      border-color: transparent;\n",
              "      border-left-color: var(--fill-color);\n",
              "      border-top-color: var(--fill-color);\n",
              "    }\n",
              "    30% {\n",
              "      border-color: transparent;\n",
              "      border-left-color: var(--fill-color);\n",
              "      border-top-color: var(--fill-color);\n",
              "      border-right-color: var(--fill-color);\n",
              "    }\n",
              "    40% {\n",
              "      border-color: transparent;\n",
              "      border-right-color: var(--fill-color);\n",
              "      border-top-color: var(--fill-color);\n",
              "    }\n",
              "    60% {\n",
              "      border-color: transparent;\n",
              "      border-right-color: var(--fill-color);\n",
              "    }\n",
              "    80% {\n",
              "      border-color: transparent;\n",
              "      border-right-color: var(--fill-color);\n",
              "      border-bottom-color: var(--fill-color);\n",
              "    }\n",
              "    90% {\n",
              "      border-color: transparent;\n",
              "      border-bottom-color: var(--fill-color);\n",
              "    }\n",
              "  }\n",
              "</style>\n",
              "\n",
              "  <script>\n",
              "    async function quickchart(key) {\n",
              "      const quickchartButtonEl =\n",
              "        document.querySelector('#' + key + ' button');\n",
              "      quickchartButtonEl.disabled = true;  // To prevent multiple clicks.\n",
              "      quickchartButtonEl.classList.add('colab-df-spinner');\n",
              "      try {\n",
              "        const charts = await google.colab.kernel.invokeFunction(\n",
              "            'suggestCharts', [key], {});\n",
              "      } catch (error) {\n",
              "        console.error('Error during call to suggestCharts:', error);\n",
              "      }\n",
              "      quickchartButtonEl.classList.remove('colab-df-spinner');\n",
              "      quickchartButtonEl.classList.add('colab-df-quickchart-complete');\n",
              "    }\n",
              "    (() => {\n",
              "      let quickchartButtonEl =\n",
              "        document.querySelector('#df-c9f033bb-284f-4b07-a125-e7add47dd541 button');\n",
              "      quickchartButtonEl.style.display =\n",
              "        google.colab.kernel.accessAllowed ? 'block' : 'none';\n",
              "    })();\n",
              "  </script>\n",
              "</div>\n",
              "\n",
              "    </div>\n",
              "  </div>\n"
            ],
            "application/vnd.google.colaboratory.intrinsic+json": {
              "type": "dataframe",
              "variable_name": "X_train_t2",
              "summary": "{\n  \"name\": \"X_train_t2\",\n  \"rows\": 170,\n  \"fields\": [\n    {\n      \"column\": \"total_bill\",\n      \"properties\": {\n        \"dtype\": \"number\",\n        \"std\": 1.0029542161850227,\n        \"min\": -1.567164555776361,\n        \"max\": 3.2864150003888777,\n        \"num_unique_values\": 160,\n        \"samples\": [\n          -0.21755483419354213,\n          -0.7703932758892069,\n          -0.722518606711438\n        ],\n        \"semantic_type\": \"\",\n        \"description\": \"\"\n      }\n    },\n    {\n      \"column\": \"size\",\n      \"properties\": {\n        \"dtype\": \"number\",\n        \"std\": 1.002954216185023,\n        \"min\": -1.5910624456558426,\n        \"max\": 3.474117624784105,\n        \"num_unique_values\": 6,\n        \"samples\": [\n          1.448045596608126,\n          0.4350095825201365,\n          3.474117624784105\n        ],\n        \"semantic_type\": \"\",\n        \"description\": \"\"\n      }\n    },\n    {\n      \"column\": \"sex_Female\",\n      \"properties\": {\n        \"dtype\": \"boolean\",\n        \"num_unique_values\": 2,\n        \"samples\": [\n          true,\n          false\n        ],\n        \"semantic_type\": \"\",\n        \"description\": \"\"\n      }\n    },\n    {\n      \"column\": \"smoker_No\",\n      \"properties\": {\n        \"dtype\": \"boolean\",\n        \"num_unique_values\": 2,\n        \"samples\": [\n          false,\n          true\n        ],\n        \"semantic_type\": \"\",\n        \"description\": \"\"\n      }\n    },\n    {\n      \"column\": \"day_Fri\",\n      \"properties\": {\n        \"dtype\": \"boolean\",\n        \"num_unique_values\": 2,\n        \"samples\": [\n          true,\n          false\n        ],\n        \"semantic_type\": \"\",\n        \"description\": \"\"\n      }\n    },\n    {\n      \"column\": \"day_Sat\",\n      \"properties\": {\n        \"dtype\": \"boolean\",\n        \"num_unique_values\": 2,\n        \"samples\": [\n          false,\n          true\n        ],\n        \"semantic_type\": \"\",\n        \"description\": \"\"\n      }\n    },\n    {\n      \"column\": \"day_Sun\",\n      \"properties\": {\n        \"dtype\": \"boolean\",\n        \"num_unique_values\": 2,\n        \"samples\": [\n          true,\n          false\n        ],\n        \"semantic_type\": \"\",\n        \"description\": \"\"\n      }\n    },\n    {\n      \"column\": \"time_Dinner\",\n      \"properties\": {\n        \"dtype\": \"boolean\",\n        \"num_unique_values\": 2,\n        \"samples\": [\n          false,\n          true\n        ],\n        \"semantic_type\": \"\",\n        \"description\": \"\"\n      }\n    }\n  ]\n}"
            }
          },
          "metadata": {},
          "execution_count": 65
        }
      ]
    },
    {
      "cell_type": "code",
      "source": [
        "print('Dimensión de los datos originales:',X_train_t1.shape)\n",
        "print('Dimensión después de transformadas las variables:',X_train_t2.shape)"
      ],
      "metadata": {
        "colab": {
          "base_uri": "https://localhost:8080/"
        },
        "id": "wEyDiEWLqPBA",
        "outputId": "5630decb-e160-45d0-9161-21f7b66d03b6"
      },
      "execution_count": 66,
      "outputs": [
        {
          "output_type": "stream",
          "name": "stdout",
          "text": [
            "Dimensión de los datos originales: (170, 6)\n",
            "Dimensión después de transformadas las variables: (170, 8)\n"
          ]
        }
      ]
    },
    {
      "cell_type": "markdown",
      "source": [
        "En particular en este ejemplo y después de las transformaciones realizadas, se generaron dos nuevos factores o columnas a partir de la variable categórica de entrada \"day\" con el método de One-Hot-Encoding.\n",
        "\n",
        "Así, a partir de estas 8 variables de entrada, queremos generar un modelo de regresión lineal múltiple, que nos ayude a predecir la variable de salida, a saber, la propina dada al mesero."
      ],
      "metadata": {
        "id": "49NsZc0Lqj_Y"
      }
    },
    {
      "cell_type": "markdown",
      "source": [
        "### **Variable de salida**"
      ],
      "metadata": {
        "id": "FR8WAB1BUer7"
      }
    },
    {
      "cell_type": "markdown",
      "source": [
        "Recordemos que ya vimos al inicio que la variable de salida \"tips\", representa el monto de la porpina en unidades monetarias que recibió el mesero para cada servicio registrado.\n",
        "\n",
        "Para visualizar mejor el comportamiento de esta variable del conjunto de entrenamiento, podemos generar el siguiente gráfico conjunto del diagrama de caja y el histograma mediante Seaborn:"
      ],
      "metadata": {
        "id": "kPQ6kMjTYmgv"
      }
    },
    {
      "cell_type": "code",
      "source": [
        "sns.set(rc={'figure.figsize':(6,4)})   # Ajustamos el tamaño de la figura con (ANCHO,ALTO).\n",
        "\n",
        "# Creamos una figura formada por dos objetos \"matplotlib.Axes\": (ax_box and ax_hist):\n",
        "f, (ax_box, ax_hist) = plt.subplots(2, sharex=True, gridspec_kw={\"height_ratios\": (.25, .75)})\n",
        "\n",
        "# ASignamos el gráfico a correspondiente a cada \"ax\":\n",
        "sns.boxplot(y_train['tip'], orient=\"h\", ax=ax_box)\n",
        "sns.histplot(data=y_train, x=\"tip\", ax=ax_hist)\n",
        "\n",
        "ax_box.set(xlabel='')  # quitemos el nombre del eje horizontal del boxplot\n",
        "ax_hist.set(xlabel='tip_($)')\n",
        "plt.show()   # desplegamos las dos gráficas."
      ],
      "metadata": {
        "colab": {
          "base_uri": "https://localhost:8080/",
          "height": 397
        },
        "id": "GmBYsF5fVmSF",
        "outputId": "7a44535a-d633-4ecf-bc11-7f8078ae5ba0"
      },
      "execution_count": 67,
      "outputs": [
        {
          "output_type": "display_data",
          "data": {
            "text/plain": [
              "<Figure size 600x400 with 2 Axes>"
            ],
            "image/png": "[encoded data removed]"
          },
          "metadata": {}
        }
      ]
    },
    {
      "cell_type": "markdown",
      "source": [
        "Obsvamos que tenemos un comportamiento acampanado pero con sesgo positivo (o hacia la derecha), con algunos valores extremos (outliers).\n",
        "\n",
        "En particular resalta el valor extremo (outlier) cerca de los 10 dólares.\n",
        "\n",
        "Como una simple información complementaria vemos qué característica tienen los registros de propinas que generaron estos valores extremos."
      ],
      "metadata": {
        "id": "5VO7x7VPZVwW"
      }
    },
    {
      "cell_type": "code",
      "source": [
        "idxs = y_train.index[y_train['tip'] > 6]    # de acuerdo a los gráficos de arriba, tomemos 6 como umbral.\n",
        "\n",
        "X_train.loc[idxs].join(y_train.loc[idxs])"
      ],
      "metadata": {
        "colab": {
          "base_uri": "https://localhost:8080/",
          "height": 206
        },
        "id": "VzENd6vSWKUI",
        "outputId": "63c65ad0-879e-41aa-ba98-17fb1fe31bd6"
      },
      "execution_count": 68,
      "outputs": [
        {
          "output_type": "execute_result",
          "data": {
            "text/plain": [
              "     total_bill     sex smoker   day    time  size   tip\n",
              "59        48.27    Male     No   Sat  Dinner     4  6.73\n",
              "214       28.17  Female    Yes   Sat  Dinner     3  6.50\n",
              "23        39.42    Male     No   Sat  Dinner     4  7.58\n",
              "141       34.30    Male     No  Thur   Lunch     6  6.70\n",
              "212       48.33    Male     No   Sat  Dinner     4  9.00"
            ],
            "text/html": [
              "\n",
              "  <div id=\"df-50f2aaf3-6aa7-4342-a698-ff4de8c50592\" class=\"colab-df-container\">\n",
              "    <div>\n",
              "<style scoped>\n",
              "    .dataframe tbody tr th:only-of-type {\n",
              "        vertical-align: middle;\n",
              "    }\n",
              "\n",
              "    .dataframe tbody tr th {\n",
              "        vertical-align: top;\n",
              "    }\n",
              "\n",
              "    .dataframe thead th {\n",
              "        text-align: right;\n",
              "    }\n",
              "</style>\n",
              "<table border=\"1\" class=\"dataframe\">\n",
              "  <thead>\n",
              "    <tr style=\"text-align: right;\">\n",
              "      <th></th>\n",
              "      <th>total_bill</th>\n",
              "      <th>sex</th>\n",
              "      <th>smoker</th>\n",
              "      <th>day</th>\n",
              "      <th>time</th>\n",
              "      <th>size</th>\n",
              "      <th>tip</th>\n",
              "    </tr>\n",
              "  </thead>\n",
              "  <tbody>\n",
              "    <tr>\n",
              "      <th>59</th>\n",
              "      <td>48.27</td>\n",
              "      <td>Male</td>\n",
              "      <td>No</td>\n",
              "      <td>Sat</td>\n",
              "      <td>Dinner</td>\n",
              "      <td>4</td>\n",
              "      <td>6.73</td>\n",
              "    </tr>\n",
              "    <tr>\n",
              "      <th>214</th>\n",
              "      <td>28.17</td>\n",
              "      <td>Female</td>\n",
              "      <td>Yes</td>\n",
              "      <td>Sat</td>\n",
              "      <td>Dinner</td>\n",
              "      <td>3</td>\n",
              "      <td>6.50</td>\n",
              "    </tr>\n",
              "    <tr>\n",
              "      <th>23</th>\n",
              "      <td>39.42</td>\n",
              "      <td>Male</td>\n",
              "      <td>No</td>\n",
              "      <td>Sat</td>\n",
              "      <td>Dinner</td>\n",
              "      <td>4</td>\n",
              "      <td>7.58</td>\n",
              "    </tr>\n",
              "    <tr>\n",
              "      <th>141</th>\n",
              "      <td>34.30</td>\n",
              "      <td>Male</td>\n",
              "      <td>No</td>\n",
              "      <td>Thur</td>\n",
              "      <td>Lunch</td>\n",
              "      <td>6</td>\n",
              "      <td>6.70</td>\n",
              "    </tr>\n",
              "    <tr>\n",
              "      <th>212</th>\n",
              "      <td>48.33</td>\n",
              "      <td>Male</td>\n",
              "      <td>No</td>\n",
              "      <td>Sat</td>\n",
              "      <td>Dinner</td>\n",
              "      <td>4</td>\n",
              "      <td>9.00</td>\n",
              "    </tr>\n",
              "  </tbody>\n",
              "</table>\n",
              "</div>\n",
              "    <div class=\"colab-df-buttons\">\n",
              "\n",
              "  <div class=\"colab-df-container\">\n",
              "    <button class=\"colab-df-convert\" onclick=\"convertToInteractive('df-50f2aaf3-6aa7-4342-a698-ff4de8c50592')\"\n",
              "            title=\"Convert this dataframe to an interactive table.\"\n",
              "            style=\"display:none;\">\n",
              "\n",
              "  <svg xmlns=\"http://www.w3.org/2000/svg\" height=\"24px\" viewBox=\"0 -960 960 960\">\n",
              "    <path d=\"M120-120v-720h720v720H120Zm60-500h600v-160H180v160Zm220 220h160v-160H400v160Zm0 220h160v-160H400v160ZM180-400h160v-160H180v160Zm440 0h160v-160H620v160ZM180-180h160v-160H180v160Zm440 0h160v-160H620v160Z\"/>\n",
              "  </svg>\n",
              "    </button>\n",
              "\n",
              "  <style>\n",
              "    .colab-df-container {\n",
              "      display:flex;\n",
              "      gap: 12px;\n",
              "    }\n",
              "\n",
              "    .colab-df-convert {\n",
              "      background-color: #E8F0FE;\n",
              "      border: none;\n",
              "      border-radius: 50%;\n",
              "      cursor: pointer;\n",
              "      display: none;\n",
              "      fill: #1967D2;\n",
              "      height: 32px;\n",
              "      padding: 0 0 0 0;\n",
              "      width: 32px;\n",
              "    }\n",
              "\n",
              "    .colab-df-convert:hover {\n",
              "      background-color: #E2EBFA;\n",
              "      box-shadow: 0px 1px 2px rgba(60, 64, 67, 0.3), 0px 1px 3px 1px rgba(60, 64, 67, 0.15);\n",
              "      fill: #174EA6;\n",
              "    }\n",
              "\n",
              "    .colab-df-buttons div {\n",
              "      margin-bottom: 4px;\n",
              "    }\n",
              "\n",
              "    [theme=dark] .colab-df-convert {\n",
              "      background-color: #3B4455;\n",
              "      fill: #D2E3FC;\n",
              "    }\n",
              "\n",
              "    [theme=dark] .colab-df-convert:hover {\n",
              "      background-color: #434B5C;\n",
              "      box-shadow: 0px 1px 3px 1px rgba(0, 0, 0, 0.15);\n",
              "      filter: drop-shadow(0px 1px 2px rgba(0, 0, 0, 0.3));\n",
              "      fill: #FFFFFF;\n",
              "    }\n",
              "  </style>\n",
              "\n",
              "    <script>\n",
              "      const buttonEl =\n",
              "        document.querySelector('#df-50f2aaf3-6aa7-4342-a698-ff4de8c50592 button.colab-df-convert');\n",
              "      buttonEl.style.display =\n",
              "        google.colab.kernel.accessAllowed ? 'block' : 'none';\n",
              "\n",
              "      async function convertToInteractive(key) {\n",
              "        const element = document.querySelector('#df-50f2aaf3-6aa7-4342-a698-ff4de8c50592');\n",
              "        const dataTable =\n",
              "          await google.colab.kernel.invokeFunction('convertToInteractive',\n",
              "                                                    [key], {});\n",
              "        if (!dataTable) return;\n",
              "\n",
              "        const docLinkHtml = 'Like what you see? Visit the ' +\n",
              "          '<a target=\"_blank\" href=https://colab.research.google.com/notebooks/data_table.ipynb>data table notebook</a>'\n",
              "          + ' to learn more about interactive tables.';\n",
              "        element.innerHTML = '';\n",
              "        dataTable['output_type'] = 'display_data';\n",
              "        await google.colab.output.renderOutput(dataTable, element);\n",
              "        const docLink = document.createElement('div');\n",
              "        docLink.innerHTML = docLinkHtml;\n",
              "        element.appendChild(docLink);\n",
              "      }\n",
              "    </script>\n",
              "  </div>\n",
              "\n",
              "\n",
              "<div id=\"df-3aa75965-52b9-4228-81b8-c861626aebe0\">\n",
              "  <button class=\"colab-df-quickchart\" onclick=\"quickchart('df-3aa75965-52b9-4228-81b8-c861626aebe0')\"\n",
              "            title=\"Suggest charts\"\n",
              "            style=\"display:none;\">\n",
              "\n",
              "<svg xmlns=\"http://www.w3.org/2000/svg\" height=\"24px\"viewBox=\"0 0 24 24\"\n",
              "     width=\"24px\">\n",
              "    <g>\n",
              "        <path d=\"M19 3H5c-1.1 0-2 .9-2 2v14c0 1.1.9 2 2 2h14c1.1 0 2-.9 2-2V5c0-1.1-.9-2-2-2zM9 17H7v-7h2v7zm4 0h-2V7h2v10zm4 0h-2v-4h2v4z\"/>\n",
              "    </g>\n",
              "</svg>\n",
              "  </button>\n",
              "\n",
              "<style>\n",
              "  .colab-df-quickchart {\n",
              "      --bg-color: #E8F0FE;\n",
              "      --fill-color: #1967D2;\n",
              "      --hover-bg-color: #E2EBFA;\n",
              "      --hover-fill-color: #174EA6;\n",
              "      --disabled-fill-color: #AAA;\n",
              "      --disabled-bg-color: #DDD;\n",
              "  }\n",
              "\n",
              "  [theme=dark] .colab-df-quickchart {\n",
              "      --bg-color: #3B4455;\n",
              "      --fill-color: #D2E3FC;\n",
              "      --hover-bg-color: #434B5C;\n",
              "      --hover-fill-color: #FFFFFF;\n",
              "      --disabled-bg-color: #3B4455;\n",
              "      --disabled-fill-color: #666;\n",
              "  }\n",
              "\n",
              "  .colab-df-quickchart {\n",
              "    background-color: var(--bg-color);\n",
              "    border: none;\n",
              "    border-radius: 50%;\n",
              "    cursor: pointer;\n",
              "    display: none;\n",
              "    fill: var(--fill-color);\n",
              "    height: 32px;\n",
              "    padding: 0;\n",
              "    width: 32px;\n",
              "  }\n",
              "\n",
              "  .colab-df-quickchart:hover {\n",
              "    background-color: var(--hover-bg-color);\n",
              "    box-shadow: 0 1px 2px rgba(60, 64, 67, 0.3), 0 1px 3px 1px rgba(60, 64, 67, 0.15);\n",
              "    fill: var(--button-hover-fill-color);\n",
              "  }\n",
              "\n",
              "  .colab-df-quickchart-complete:disabled,\n",
              "  .colab-df-quickchart-complete:disabled:hover {\n",
              "    background-color: var(--disabled-bg-color);\n",
              "    fill: var(--disabled-fill-color);\n",
              "    box-shadow: none;\n",
              "  }\n",
              "\n",
              "  .colab-df-spinner {\n",
              "    border: 2px solid var(--fill-color);\n",
              "    border-color: transparent;\n",
              "    border-bottom-color: var(--fill-color);\n",
              "    animation:\n",
              "      spin 1s steps(1) infinite;\n",
              "  }\n",
              "\n",
              "  @keyframes spin {\n",
              "    0% {\n",
              "      border-color: transparent;\n",
              "      border-bottom-color: var(--fill-color);\n",
              "      border-left-color: var(--fill-color);\n",
              "    }\n",
              "    20% {\n",
              "      border-color: transparent;\n",
              "      border-left-color: var(--fill-color);\n",
              "      border-top-color: var(--fill-color);\n",
              "    }\n",
              "    30% {\n",
              "      border-color: transparent;\n",
              "      border-left-color: var(--fill-color);\n",
              "      border-top-color: var(--fill-color);\n",
              "      border-right-color: var(--fill-color);\n",
              "    }\n",
              "    40% {\n",
              "      border-color: transparent;\n",
              "      border-right-color: var(--fill-color);\n",
              "      border-top-color: var(--fill-color);\n",
              "    }\n",
              "    60% {\n",
              "      border-color: transparent;\n",
              "      border-right-color: var(--fill-color);\n",
              "    }\n",
              "    80% {\n",
              "      border-color: transparent;\n",
              "      border-right-color: var(--fill-color);\n",
              "      border-bottom-color: var(--fill-color);\n",
              "    }\n",
              "    90% {\n",
              "      border-color: transparent;\n",
              "      border-bottom-color: var(--fill-color);\n",
              "    }\n",
              "  }\n",
              "</style>\n",
              "\n",
              "  <script>\n",
              "    async function quickchart(key) {\n",
              "      const quickchartButtonEl =\n",
              "        document.querySelector('#' + key + ' button');\n",
              "      quickchartButtonEl.disabled = true;  // To prevent multiple clicks.\n",
              "      quickchartButtonEl.classList.add('colab-df-spinner');\n",
              "      try {\n",
              "        const charts = await google.colab.kernel.invokeFunction(\n",
              "            'suggestCharts', [key], {});\n",
              "      } catch (error) {\n",
              "        console.error('Error during call to suggestCharts:', error);\n",
              "      }\n",
              "      quickchartButtonEl.classList.remove('colab-df-spinner');\n",
              "      quickchartButtonEl.classList.add('colab-df-quickchart-complete');\n",
              "    }\n",
              "    (() => {\n",
              "      let quickchartButtonEl =\n",
              "        document.querySelector('#df-3aa75965-52b9-4228-81b8-c861626aebe0 button');\n",
              "      quickchartButtonEl.style.display =\n",
              "        google.colab.kernel.accessAllowed ? 'block' : 'none';\n",
              "    })();\n",
              "  </script>\n",
              "</div>\n",
              "\n",
              "    </div>\n",
              "  </div>\n"
            ],
            "application/vnd.google.colaboratory.intrinsic+json": {
              "type": "dataframe",
              "summary": "{\n  \"name\": \"X_train\",\n  \"rows\": 5,\n  \"fields\": [\n    {\n      \"column\": \"total_bill\",\n      \"properties\": {\n        \"dtype\": \"number\",\n        \"std\": 8.804843553408544,\n        \"min\": 28.17,\n        \"max\": 48.33,\n        \"num_unique_values\": 5,\n        \"samples\": [\n          28.17,\n          48.33,\n          39.42\n        ],\n        \"semantic_type\": \"\",\n        \"description\": \"\"\n      }\n    },\n    {\n      \"column\": \"sex\",\n      \"properties\": {\n        \"dtype\": \"category\",\n        \"num_unique_values\": 2,\n        \"samples\": [\n          \"Female\",\n          \"Male\"\n        ],\n        \"semantic_type\": \"\",\n        \"description\": \"\"\n      }\n    },\n    {\n      \"column\": \"smoker\",\n      \"properties\": {\n        \"dtype\": \"category\",\n        \"num_unique_values\": 2,\n        \"samples\": [\n          \"Yes\",\n          \"No\"\n        ],\n        \"semantic_type\": \"\",\n        \"description\": \"\"\n      }\n    },\n    {\n      \"column\": \"day\",\n      \"properties\": {\n        \"dtype\": \"category\",\n        \"num_unique_values\": 2,\n        \"samples\": [\n          \"Thur\",\n          \"Sat\"\n        ],\n        \"semantic_type\": \"\",\n        \"description\": \"\"\n      }\n    },\n    {\n      \"column\": \"time\",\n      \"properties\": {\n        \"dtype\": \"category\",\n        \"num_unique_values\": 2,\n        \"samples\": [\n          \"Lunch\",\n          \"Dinner\"\n        ],\n        \"semantic_type\": \"\",\n        \"description\": \"\"\n      }\n    },\n    {\n      \"column\": \"size\",\n      \"properties\": {\n        \"dtype\": \"number\",\n        \"std\": 1,\n        \"min\": 3,\n        \"max\": 6,\n        \"num_unique_values\": 3,\n        \"samples\": [\n          4,\n          3\n        ],\n        \"semantic_type\": \"\",\n        \"description\": \"\"\n      }\n    },\n    {\n      \"column\": \"tip\",\n      \"properties\": {\n        \"dtype\": \"number\",\n        \"std\": 1.0360115829468317,\n        \"min\": 6.5,\n        \"max\": 9.0,\n        \"num_unique_values\": 5,\n        \"samples\": [\n          6.5,\n          9.0\n        ],\n        \"semantic_type\": \"\",\n        \"description\": \"\"\n      }\n    }\n  ]\n}"
            }
          },
          "metadata": {},
          "execution_count": 68
        }
      ]
    },
    {
      "cell_type": "markdown",
      "source": [
        "### **PREGUNTA:**\n",
        "\n",
        "**¿Qué observas de relevante en los registros de estos valores extremos?**"
      ],
      "metadata": {
        "id": "iWaZL5FncwiD"
      }
    },
    {
      "cell_type": "markdown",
      "source": [
        "Por el momento y como vamos a utilizar el modelo de regresión logística, apliquemos una transformación para ajustar un poco el sesgo de la variable de salida de los datos de etrenamiento y_train y que represnetan las cantidades en dólares de las propinas recibidas por el mesero que realizó el registro de los datos.\n",
        "\n",
        "Sabemos que existen diferentes tipos de transformaciones, en particular observamos a continuación que la función logaritmo de Numpy corrije de una manera aceptable el sesgo que observábamos en los datos originales."
      ],
      "metadata": {
        "id": "4Ve0sNKld0yN"
      }
    },
    {
      "cell_type": "markdown",
      "source": [
        "De la documentación de la función Logaritmo de Numpy, encontramos que la función es la de logaritmo natural, aunque para fines de la transformación, es irrelevante por el momento.\n",
        "\n",
        "Puedes consultar la documentación de esta función en la siguiente liga:\n",
        "\n",
        "https://numpy.org/doc/stable/reference/generated/numpy.log.html"
      ],
      "metadata": {
        "id": "TdaL6Ts2gY3L"
      }
    },
    {
      "cell_type": "code",
      "source": [
        "# Grafiquemos los datos de entrenamiento de la variable de salida antes y después\n",
        "# de la transformación para observar el ajuste realizado:\n",
        "\n",
        "fig, axes = plt.subplots(1, 2, figsize=(8,2.5))\n",
        "\n",
        "plt.subplot(1, 2, 1)\n",
        "plt.hist(y_train)\n",
        "plt.title('Datos originales (y_train)')\n",
        "plt.xlabel('tip_($)')\n",
        "plt.ylabel('Frecuencia')\n",
        "\n",
        "plt.subplot(1, 2, 2)\n",
        "plt.hist(np.log(y_train))\n",
        "plt.title('Datos transformados (y_train)')\n",
        "plt.xlabel('Logaritmo[tip_($)]')\n",
        "\n",
        "plt.show()"
      ],
      "metadata": {
        "colab": {
          "base_uri": "https://localhost:8080/",
          "height": 303
        },
        "id": "qNrLF-S7WKQz",
        "outputId": "31dd7307-cf95-407a-de7b-a43d8aa72312"
      },
      "execution_count": 69,
      "outputs": [
        {
          "output_type": "display_data",
          "data": {
            "text/plain": [
              "<Figure size 800x250 with 2 Axes>"
            ],
            "image/png": "[encoded data removed]"
          },
          "metadata": {}
        }
      ]
    },
    {
      "cell_type": "markdown",
      "source": [
        "Por el momento nos quedamos con esta trnasformación, como una primer aporximación de nuestro ejercicio.\n",
        "\n",
        "Apliquemos entonces dicha transformación obtenida con los datos de entrenamiento a los tres conjuntos, Train, Val y Test.\n",
        "\n",
        "Y nuevamente, para fines de la actividad, renombramos los resultados en una nueva variable como se indica a continuación:"
      ],
      "metadata": {
        "id": "aJYX8zL_j1RK"
      }
    },
    {
      "cell_type": "code",
      "source": [
        "# Transformamos la variable de salida:\n",
        "y_train_t1 = np.log(y_train)\n",
        "y_val_t1 = np.log(y_val)\n",
        "y_test_t1 = np.log(y_test)"
      ],
      "metadata": {
        "id": "E6BDqln1UluK"
      },
      "execution_count": 70,
      "outputs": []
    },
    {
      "cell_type": "markdown",
      "source": [
        "### **PREGUNTAS:**\n",
        "\n",
        "*   **¿Por qué en las variables de entrada \"$X$\" de este problema solo nos ocupamos del rango de variabilidad de las variables y no consideramos el ajuste del sesgo?**\n",
        "\n",
        "*   **¿Por qué en la distribución de los datos de salida \"$y$\" de este problema sí nos preocupamos por el sesgo y la forma acampanada de los mismos y no consideramos el rango de variabilidad?**\n",
        "\n",
        "*   **Observa que en el presente ejercicio y para evitar el filtrado de información, las decisiones durante el preprocesamiento de las variables se han tomado utilizando solo el conjunto de entrenamiento y posteriormente aplicadas directamente a los conjuntos de validación y de prueba. En el presente ejercicio pudimos llevar a cabo todo el proceso con los datos de validación y prueba sin ningún inconveniente, pero ¿cómo crees que puede afectar negativamente esta de manera de proceder, en general? Será importante identificarlas para poder hacer las correcciones pertinentes cuando aparezcan en problemas futuros.**"
      ],
      "metadata": {
        "id": "K6wirWsBk50G"
      }
    },
    {
      "cell_type": "markdown",
      "source": [
        "# **4) Modelo de Regresión Lineal y sus modelos con Regularización.**"
      ],
      "metadata": {
        "id": "KwN4HJ96mQK6"
      }
    },
    {
      "cell_type": "markdown",
      "source": [
        "### **Modelo de regresión lineal múltiple y modelos con regularización Lasso (o L1), Ridge (o L2) y Elastic-Net (o L1 y L2)**\n",
        "\n",
        "Puedes consultar la documentación de cada uno en la siguiente liga:\n",
        "\n",
        "https://scikit-learn.org/stable/modules/generated/sklearn.linear_model.LinearRegression.html\n",
        "\n",
        "https://scikit-learn.org/stable/modules/generated/sklearn.linear_model.Lasso.html\n",
        "\n",
        "https://scikit-learn.org/stable/modules/generated/sklearn.linear_model.Ridge.html\n",
        "\n"
      ],
      "metadata": {
        "id": "1UBH2mneTo33"
      }
    },
    {
      "cell_type": "markdown",
      "source": [
        "### **Sobreentrenamiento (overfitting):**"
      ],
      "metadata": {
        "id": "2Bg8ZtEGv1MH"
      }
    },
    {
      "cell_type": "markdown",
      "source": [
        "##### **Recordemos que en un modelo de regresión lineal, el coeficiente de determinación $R^2$ nos indica la proporción de la variabilidad lineal de la variable de salida a partir de las variables de entrada.**\n",
        "\n",
        "##### **En los ejercicios que estaremos trabajando y mientras no se diga lo contrario, estaremos considerando que un modelo no está sobreentrenado si la diferencia entre el desempeño $R^2$ del conjunto de prueba y el de validación, no es mayor al $3\\%$. Recuerda que este umbral es relativo, pero en general es un buen valor inicial para entrenarte en el ajuste de los hiperparámetros de un modelo.**\n",
        "\n",
        "##### Ahora pasamos finalmente a generar el modelo de regresión lineal múltiple con sus diferentes versiones de regularización: el modelo de regresión lineal múltiple estándar; el modelo de regresión lineal múltiple con regularización L1 o Lasso; el modelo de regresión lineal múltiple con regularización L2 o Ridge; el modelo de regresión lineal múltiple con regularización combinada L1 y L2 o Elastic-Net.\n",
        "\n",
        "##### En primera instancia debemos cuidar el sobreentrenamiento, es decir, que los valores de la métrica que estamos utilizando (en este caso el coeficiente de determinación $R^2$) en los conjuntos de entrenamiento y de validación, no sean \"muy diferentes\". En particular, nosotros estaremos considerando que no son \"muy diferentes\" cuando no difieran más del $3\\%$, de lo contrario consideraremos que el modelo está sobreentrenado."
      ],
      "metadata": {
        "id": "ksYJQBXGW68U"
      }
    },
    {
      "cell_type": "code",
      "source": [
        "# Primero instanciamos cada uno de los modelos de regresión lineal.\n",
        "# Realizamos los ajustes que consideremos necesarios a los hiperparámetros hasta que\n",
        "# obtengamos un desempeño del conjunto de Train y de Val no sobreentrenado.\n",
        "\n",
        "# Para este ejercicio estoy usando los hiperparámetros indicados, pero obviamente\n",
        "# puedes ajustarlo con algunos otros.\n",
        "\n",
        "modeloLR = LinearRegression()\n",
        "modeloL1 = Lasso(alpha=0.0008)  # pueden ir tendiendo a cero de manera independiente los coeficientes: descarta los que tienen menos impacto.\n",
        "modeloL2 = Ridge(alpha=5.)    # En general, los coeficientes pueden ir tendiendo a cero, pero todos en conjunto.\n",
        "modeloL12 = ElasticNet(alpha=0.001, l1_ratio=0.7)\n",
        "\n",
        "# Entrenamos cada modelo por separado con los datos de entrenamiento:\n",
        "modeloLR.fit(X_train_t2, y_train_t1)\n",
        "modeloL1.fit(X_train_t2, y_train_t1)\n",
        "modeloL2.fit(X_train_t2, y_train_t1)\n",
        "modeloL12.fit(X_train_t2, y_train_t1)\n",
        "\n",
        "# Encontramos y comparamos los desempeños con los datos de entrenamiento y validación:\n",
        "for m in [modeloLR, modeloL1, modeloL2, modeloL12]:\n",
        "  print(m)\n",
        "  train_R2 = m.score(X_train_t2, y_train_t1)  # Evaluamos el modelo en los datos de entrenamiento para verificar el sub/sobre/entrenamiento.\n",
        "  val_R2 = m.score(X_val_t2, y_val_t1)     # Y ahora evaluamos en los datos de validación para darnos una idea de cómo generaliza el modelo.\n",
        "\n",
        "  print(\"R2 en el conjunto de entrenamiento: %.4f\" % train_R2)\n",
        "  print(\"R2 en el conjunto de validación: %.4f\" % val_R2)\n",
        "  print()\n"
      ],
      "metadata": {
        "colab": {
          "base_uri": "https://localhost:8080/"
        },
        "id": "9BQXqFHGUlq6",
        "outputId": "9d49b0f0-a462-42e8-ca6c-f3e3295755ab"
      },
      "execution_count": 106,
      "outputs": [
        {
          "output_type": "stream",
          "name": "stdout",
          "text": [
            "LinearRegression()\n",
            "R2 en el conjunto de entrenamiento: 0.4490\n",
            "R2 en el conjunto de validación: 0.3979\n",
            "\n",
            "Lasso(alpha=0.0008)\n",
            "R2 en el conjunto de entrenamiento: 0.4458\n",
            "R2 en el conjunto de validación: 0.4201\n",
            "\n",
            "Ridge(alpha=5.0)\n",
            "R2 en el conjunto de entrenamiento: 0.4451\n",
            "R2 en el conjunto de validación: 0.4211\n",
            "\n",
            "ElasticNet(alpha=0.001, l1_ratio=0.7)\n",
            "R2 en el conjunto de entrenamiento: 0.4458\n",
            "R2 en el conjunto de validación: 0.4207\n",
            "\n"
          ]
        }
      ]
    },
    {
      "cell_type": "markdown",
      "source": [
        "Observamos que el modelo de regresión lineal sin regularización está ligeramente sobreentrenado. En cambio, los tres modelos con regularización generan desempeños bastante aceptables, sin sobreentrenamiento."
      ],
      "metadata": {
        "id": "uwrNgkPXcO47"
      }
    },
    {
      "cell_type": "markdown",
      "source": [
        "### **Importancia de los factores/coeficientes del modelo de regresión lineal.**"
      ],
      "metadata": {
        "id": "OO8oSEgq2NQp"
      }
    },
    {
      "cell_type": "markdown",
      "source": [
        "**Recordemos que en los modelos de regresión lineal, la magnitud de los coeficientes del modelo resultante nos habla de la importancia de ese factor en la explicabilidad de la variable de salida: mientras mayor sea el valor en magnitud del coeficiente, mayor el impacto e importancia de dicho factor en la predicción de la variable de salida. Y mientras más cercano a cero un coeficiente, menor su impacto en el modelo de predicción.**"
      ],
      "metadata": {
        "id": "MdxMF5OXblA_"
      }
    },
    {
      "cell_type": "code",
      "source": [
        "# Despleguemos los coeficientes de cada modelo de regresión lineal para analizar\n",
        "# la importancia de los diferentes coeficientes:\n",
        "\n",
        "for m in [modeloLR, modeloL1, modeloL2, modeloL12]:\n",
        "  print(m)\n",
        "  print(\"Coeficientes:\", m.coef_)\n",
        "  print()"
      ],
      "metadata": {
        "colab": {
          "base_uri": "https://localhost:8080/"
        },
        "id": "DMeThNIXcCn0",
        "outputId": "e4f3e760-e062-4e25-d95d-a946a3a55949"
      },
      "execution_count": 107,
      "outputs": [
        {
          "output_type": "stream",
          "name": "stdout",
          "text": [
            "LinearRegression()\n",
            "Coeficientes: [[ 0.25139196  0.0417657   0.0368374   0.01784205  0.22323821  0.21282666\n",
            "   0.25363641 -0.23352539]]\n",
            "\n",
            "Lasso(alpha=0.0008)\n",
            "Coeficientes: [ 0.24873401  0.04231032  0.03246787  0.01377197  0.05766854  0.\n",
            "  0.039769   -0.02921574]\n",
            "\n",
            "Ridge(alpha=5.0)\n",
            "Coeficientes: [[ 0.23838115  0.04791279  0.03079808  0.0119552   0.04381158 -0.00303982\n",
            "   0.03467909 -0.02400667]]\n",
            "\n",
            "ElasticNet(alpha=0.001, l1_ratio=0.7)\n",
            "Coeficientes: [ 0.24881565  0.04239136  0.03285464  0.01425558  0.05967935  0.\n",
            "  0.04064185 -0.02998232]\n",
            "\n"
          ]
        }
      ]
    },
    {
      "cell_type": "markdown",
      "source": [
        "Aunque en la salida de la celda anterior observamos cuáles coeficientes estarán siendo los más relevantes, a continuación los desplegamos con el nombre de cada factor, para tener una mejor descripción de los mejores factores:"
      ],
      "metadata": {
        "id": "7aZWFhJdn5g9"
      }
    },
    {
      "cell_type": "code",
      "source": [
        "pd.DataFrame(data = modeloL1.coef_.reshape(-1,1),   # El vector de los coeficientes en formato de columna.\n",
        "             index = X_train_t2.columns)            # Las etiquetas/nombres de cada variable de entrada."
      ],
      "metadata": {
        "colab": {
          "base_uri": "https://localhost:8080/",
          "height": 300
        },
        "id": "VfjO22fAn42X",
        "outputId": "0d52bb6f-01e8-4456-e16c-fe8750506ce6"
      },
      "execution_count": 108,
      "outputs": [
        {
          "output_type": "execute_result",
          "data": {
            "text/plain": [
              "                    0\n",
              "total_bill   0.248734\n",
              "size         0.042310\n",
              "sex_Female   0.032468\n",
              "smoker_No    0.013772\n",
              "day_Fri      0.057669\n",
              "day_Sat      0.000000\n",
              "day_Sun      0.039769\n",
              "time_Dinner -0.029216"
            ],
            "text/html": [
              "\n",
              "  <div id=\"df-358255da-ab90-4640-b4b6-f9d65dc5d0c4\" class=\"colab-df-container\">\n",
              "    <div>\n",
              "<style scoped>\n",
              "    .dataframe tbody tr th:only-of-type {\n",
              "        vertical-align: middle;\n",
              "    }\n",
              "\n",
              "    .dataframe tbody tr th {\n",
              "        vertical-align: top;\n",
              "    }\n",
              "\n",
              "    .dataframe thead th {\n",
              "        text-align: right;\n",
              "    }\n",
              "</style>\n",
              "<table border=\"1\" class=\"dataframe\">\n",
              "  <thead>\n",
              "    <tr style=\"text-align: right;\">\n",
              "      <th></th>\n",
              "      <th>0</th>\n",
              "    </tr>\n",
              "  </thead>\n",
              "  <tbody>\n",
              "    <tr>\n",
              "      <th>total_bill</th>\n",
              "      <td>0.248734</td>\n",
              "    </tr>\n",
              "    <tr>\n",
              "      <th>size</th>\n",
              "      <td>0.042310</td>\n",
              "    </tr>\n",
              "    <tr>\n",
              "      <th>sex_Female</th>\n",
              "      <td>0.032468</td>\n",
              "    </tr>\n",
              "    <tr>\n",
              "      <th>smoker_No</th>\n",
              "      <td>0.013772</td>\n",
              "    </tr>\n",
              "    <tr>\n",
              "      <th>day_Fri</th>\n",
              "      <td>0.057669</td>\n",
              "    </tr>\n",
              "    <tr>\n",
              "      <th>day_Sat</th>\n",
              "      <td>0.000000</td>\n",
              "    </tr>\n",
              "    <tr>\n",
              "      <th>day_Sun</th>\n",
              "      <td>0.039769</td>\n",
              "    </tr>\n",
              "    <tr>\n",
              "      <th>time_Dinner</th>\n",
              "      <td>-0.029216</td>\n",
              "    </tr>\n",
              "  </tbody>\n",
              "</table>\n",
              "</div>\n",
              "    <div class=\"colab-df-buttons\">\n",
              "\n",
              "  <div class=\"colab-df-container\">\n",
              "    <button class=\"colab-df-convert\" onclick=\"convertToInteractive('df-358255da-ab90-4640-b4b6-f9d65dc5d0c4')\"\n",
              "            title=\"Convert this dataframe to an interactive table.\"\n",
              "            style=\"display:none;\">\n",
              "\n",
              "  <svg xmlns=\"http://www.w3.org/2000/svg\" height=\"24px\" viewBox=\"0 -960 960 960\">\n",
              "    <path d=\"M120-120v-720h720v720H120Zm60-500h600v-160H180v160Zm220 220h160v-160H400v160Zm0 220h160v-160H400v160ZM180-400h160v-160H180v160Zm440 0h160v-160H620v160ZM180-180h160v-160H180v160Zm440 0h160v-160H620v160Z\"/>\n",
              "  </svg>\n",
              "    </button>\n",
              "\n",
              "  <style>\n",
              "    .colab-df-container {\n",
              "      display:flex;\n",
              "      gap: 12px;\n",
              "    }\n",
              "\n",
              "    .colab-df-convert {\n",
              "      background-color: #E8F0FE;\n",
              "      border: none;\n",
              "      border-radius: 50%;\n",
              "      cursor: pointer;\n",
              "      display: none;\n",
              "      fill: #1967D2;\n",
              "      height: 32px;\n",
              "      padding: 0 0 0 0;\n",
              "      width: 32px;\n",
              "    }\n",
              "\n",
              "    .colab-df-convert:hover {\n",
              "      background-color: #E2EBFA;\n",
              "      box-shadow: 0px 1px 2px rgba(60, 64, 67, 0.3), 0px 1px 3px 1px rgba(60, 64, 67, 0.15);\n",
              "      fill: #174EA6;\n",
              "    }\n",
              "\n",
              "    .colab-df-buttons div {\n",
              "      margin-bottom: 4px;\n",
              "    }\n",
              "\n",
              "    [theme=dark] .colab-df-convert {\n",
              "      background-color: #3B4455;\n",
              "      fill: #D2E3FC;\n",
              "    }\n",
              "\n",
              "    [theme=dark] .colab-df-convert:hover {\n",
              "      background-color: #434B5C;\n",
              "      box-shadow: 0px 1px 3px 1px rgba(0, 0, 0, 0.15);\n",
              "      filter: drop-shadow(0px 1px 2px rgba(0, 0, 0, 0.3));\n",
              "      fill: #FFFFFF;\n",
              "    }\n",
              "  </style>\n",
              "\n",
              "    <script>\n",
              "      const buttonEl =\n",
              "        document.querySelector('#df-358255da-ab90-4640-b4b6-f9d65dc5d0c4 button.colab-df-convert');\n",
              "      buttonEl.style.display =\n",
              "        google.colab.kernel.accessAllowed ? 'block' : 'none';\n",
              "\n",
              "      async function convertToInteractive(key) {\n",
              "        const element = document.querySelector('#df-358255da-ab90-4640-b4b6-f9d65dc5d0c4');\n",
              "        const dataTable =\n",
              "          await google.colab.kernel.invokeFunction('convertToInteractive',\n",
              "                                                    [key], {});\n",
              "        if (!dataTable) return;\n",
              "\n",
              "        const docLinkHtml = 'Like what you see? Visit the ' +\n",
              "          '<a target=\"_blank\" href=https://colab.research.google.com/notebooks/data_table.ipynb>data table notebook</a>'\n",
              "          + ' to learn more about interactive tables.';\n",
              "        element.innerHTML = '';\n",
              "        dataTable['output_type'] = 'display_data';\n",
              "        await google.colab.output.renderOutput(dataTable, element);\n",
              "        const docLink = document.createElement('div');\n",
              "        docLink.innerHTML = docLinkHtml;\n",
              "        element.appendChild(docLink);\n",
              "      }\n",
              "    </script>\n",
              "  </div>\n",
              "\n",
              "\n",
              "<div id=\"df-643ca90f-8667-47b4-8c63-0eb9905dcf80\">\n",
              "  <button class=\"colab-df-quickchart\" onclick=\"quickchart('df-643ca90f-8667-47b4-8c63-0eb9905dcf80')\"\n",
              "            title=\"Suggest charts\"\n",
              "            style=\"display:none;\">\n",
              "\n",
              "<svg xmlns=\"http://www.w3.org/2000/svg\" height=\"24px\"viewBox=\"0 0 24 24\"\n",
              "     width=\"24px\">\n",
              "    <g>\n",
              "        <path d=\"M19 3H5c-1.1 0-2 .9-2 2v14c0 1.1.9 2 2 2h14c1.1 0 2-.9 2-2V5c0-1.1-.9-2-2-2zM9 17H7v-7h2v7zm4 0h-2V7h2v10zm4 0h-2v-4h2v4z\"/>\n",
              "    </g>\n",
              "</svg>\n",
              "  </button>\n",
              "\n",
              "<style>\n",
              "  .colab-df-quickchart {\n",
              "      --bg-color: #E8F0FE;\n",
              "      --fill-color: #1967D2;\n",
              "      --hover-bg-color: #E2EBFA;\n",
              "      --hover-fill-color: #174EA6;\n",
              "      --disabled-fill-color: #AAA;\n",
              "      --disabled-bg-color: #DDD;\n",
              "  }\n",
              "\n",
              "  [theme=dark] .colab-df-quickchart {\n",
              "      --bg-color: #3B4455;\n",
              "      --fill-color: #D2E3FC;\n",
              "      --hover-bg-color: #434B5C;\n",
              "      --hover-fill-color: #FFFFFF;\n",
              "      --disabled-bg-color: #3B4455;\n",
              "      --disabled-fill-color: #666;\n",
              "  }\n",
              "\n",
              "  .colab-df-quickchart {\n",
              "    background-color: var(--bg-color);\n",
              "    border: none;\n",
              "    border-radius: 50%;\n",
              "    cursor: pointer;\n",
              "    display: none;\n",
              "    fill: var(--fill-color);\n",
              "    height: 32px;\n",
              "    padding: 0;\n",
              "    width: 32px;\n",
              "  }\n",
              "\n",
              "  .colab-df-quickchart:hover {\n",
              "    background-color: var(--hover-bg-color);\n",
              "    box-shadow: 0 1px 2px rgba(60, 64, 67, 0.3), 0 1px 3px 1px rgba(60, 64, 67, 0.15);\n",
              "    fill: var(--button-hover-fill-color);\n",
              "  }\n",
              "\n",
              "  .colab-df-quickchart-complete:disabled,\n",
              "  .colab-df-quickchart-complete:disabled:hover {\n",
              "    background-color: var(--disabled-bg-color);\n",
              "    fill: var(--disabled-fill-color);\n",
              "    box-shadow: none;\n",
              "  }\n",
              "\n",
              "  .colab-df-spinner {\n",
              "    border: 2px solid var(--fill-color);\n",
              "    border-color: transparent;\n",
              "    border-bottom-color: var(--fill-color);\n",
              "    animation:\n",
              "      spin 1s steps(1) infinite;\n",
              "  }\n",
              "\n",
              "  @keyframes spin {\n",
              "    0% {\n",
              "      border-color: transparent;\n",
              "      border-bottom-color: var(--fill-color);\n",
              "      border-left-color: var(--fill-color);\n",
              "    }\n",
              "    20% {\n",
              "      border-color: transparent;\n",
              "      border-left-color: var(--fill-color);\n",
              "      border-top-color: var(--fill-color);\n",
              "    }\n",
              "    30% {\n",
              "      border-color: transparent;\n",
              "      border-left-color: var(--fill-color);\n",
              "      border-top-color: var(--fill-color);\n",
              "      border-right-color: var(--fill-color);\n",
              "    }\n",
              "    40% {\n",
              "      border-color: transparent;\n",
              "      border-right-color: var(--fill-color);\n",
              "      border-top-color: var(--fill-color);\n",
              "    }\n",
              "    60% {\n",
              "      border-color: transparent;\n",
              "      border-right-color: var(--fill-color);\n",
              "    }\n",
              "    80% {\n",
              "      border-color: transparent;\n",
              "      border-right-color: var(--fill-color);\n",
              "      border-bottom-color: var(--fill-color);\n",
              "    }\n",
              "    90% {\n",
              "      border-color: transparent;\n",
              "      border-bottom-color: var(--fill-color);\n",
              "    }\n",
              "  }\n",
              "</style>\n",
              "\n",
              "  <script>\n",
              "    async function quickchart(key) {\n",
              "      const quickchartButtonEl =\n",
              "        document.querySelector('#' + key + ' button');\n",
              "      quickchartButtonEl.disabled = true;  // To prevent multiple clicks.\n",
              "      quickchartButtonEl.classList.add('colab-df-spinner');\n",
              "      try {\n",
              "        const charts = await google.colab.kernel.invokeFunction(\n",
              "            'suggestCharts', [key], {});\n",
              "      } catch (error) {\n",
              "        console.error('Error during call to suggestCharts:', error);\n",
              "      }\n",
              "      quickchartButtonEl.classList.remove('colab-df-spinner');\n",
              "      quickchartButtonEl.classList.add('colab-df-quickchart-complete');\n",
              "    }\n",
              "    (() => {\n",
              "      let quickchartButtonEl =\n",
              "        document.querySelector('#df-643ca90f-8667-47b4-8c63-0eb9905dcf80 button');\n",
              "      quickchartButtonEl.style.display =\n",
              "        google.colab.kernel.accessAllowed ? 'block' : 'none';\n",
              "    })();\n",
              "  </script>\n",
              "</div>\n",
              "\n",
              "    </div>\n",
              "  </div>\n"
            ],
            "application/vnd.google.colaboratory.intrinsic+json": {
              "type": "dataframe",
              "summary": "{\n  \"name\": \"             index = X_train_t2\",\n  \"rows\": 8,\n  \"fields\": [\n    {\n      \"column\": 0,\n      \"properties\": {\n        \"dtype\": \"number\",\n        \"std\": 0.08460750283867476,\n        \"min\": -0.02921574032470858,\n        \"max\": 0.24873400762710668,\n        \"num_unique_values\": 8,\n        \"samples\": [\n          0.042310318688759785,\n          0.0,\n          0.24873400762710668\n        ],\n        \"semantic_type\": \"\",\n        \"description\": \"\"\n      }\n    }\n  ]\n}"
            }
          },
          "metadata": {},
          "execution_count": 108
        }
      ]
    },
    {
      "cell_type": "markdown",
      "source": [
        "### **PREGUNTA:**\n",
        "\n",
        "**Realiza algunas modificaciones a alguno de los modelos e identifica cuáles variables de entrada son las de mayor importancia/impacto para predecir la cantidad de propina que recibirá el mesero.**\n"
      ],
      "metadata": {
        "id": "VhZ2cRu4rvZs"
      }
    },
    {
      "cell_type": "markdown",
      "source": [
        "### **Finalmente evaluamos el desempeño del modelo en el conjunto de Prueba y el mejor modelo. Observamos que los tres modelos de regularización tienen desempeños muy parecidos, por lo que seleccionemos el más simple y que toma en cuenta las mejores variables, L1 o Lasso:**"
      ],
      "metadata": {
        "id": "zndx1DkydlG7"
      }
    },
    {
      "cell_type": "code",
      "source": [
        "print(\"R2 en el conjunto de prueba: %.4f\" % modeloL1.score(X_test_t2, y_test_t1))"
      ],
      "metadata": {
        "colab": {
          "base_uri": "https://localhost:8080/"
        },
        "id": "_Kiv6ar587I-",
        "outputId": "2250c149-206b-49a5-8da5-a8553311dc8a"
      },
      "execution_count": 73,
      "outputs": [
        {
          "output_type": "stream",
          "name": "stdout",
          "text": [
            "R2 en el conjunto de prueba: 0.4352\n"
          ]
        }
      ]
    },
    {
      "cell_type": "markdown",
      "source": [
        "**Recuerda que mientras mayor sea la diferencia del desempeño del conjunto de prueba (test), con los conjuntos de entrenamiento y validación, el modelo será menos escalable con datos nuevos. De ser así, deberás buscar algún otro modelo, sobre todo no-lineal (de los que estudiaremos en próximas semanas), que ayude a explicar mejor la variabilidad de la variable de salida.**"
      ],
      "metadata": {
        "id": "gMSr76GHYk_8"
      }
    },
    {
      "cell_type": "markdown",
      "source": [
        "### **Definiendo funciones propias para evitar errores por el filtrado de información.**"
      ],
      "metadata": {
        "id": "Ulo_ywlmYMbE"
      }
    },
    {
      "cell_type": "markdown",
      "source": [
        "En el ejemplo anterior utilizamos el método score() de la clase del modelo de regresión lineal de sklearn para obtener su evaluación. Además, al verificar la documentación, observamos que la métrica utilizada en dicho método es el coeficiente de determinación $R^2$.\n",
        "\n",
        "En la misma documentación podemos encontrar la manera en que se define dicha métrica, a saber:\n",
        "\n",
        "$R^2 = 1 - \\frac{SSE}{Syy}$\n",
        "\n",
        "donde\n",
        "\n",
        "$SSE$ es la suma de los cuadrados de los errores $\\Sigma_{k=1}^{n} (y_k - \\hat{y}_k)^2$,\n",
        "\n",
        "$Syy$ es la suma de cuadrados de la variabilidad total $\\Sigma_{k=1}^{n} (y_k - \\bar{y})^2$,\n",
        "\n",
        "$y_k$ son los datos observados de entrenamiento, validación o prueba,\n",
        "\n",
        "$\\hat{y}_k$ es el valor de predicción obtenido con cada dato del conjunto de validación o prueba,\n",
        "\n",
        "$\\bar{y}$ es el valor promedio de las observaciones del conjunto de entrenamiento.\n",
        "\n",
        "Como comentamos previamente, cuando usamos la librería de scikit-learn con el modelo de regresión lineal, el valor que nos regresa el método \"score\" es el valor de esta métrica $R^2$.\n",
        "\n",
        "A manera de ejemplo de cómo podemos definir nuestras propias funciones, definamos nuestra propia función de coeficiente de determinación y que llamaremos $miR^2$ para diferenciarla de la dada por scikit-learn."
      ],
      "metadata": {
        "id": "xgIdueOEkJsx"
      }
    },
    {
      "cell_type": "code",
      "source": [
        "# Definimos nuestra función del coeficiente de determinación a partir de las fórmulas dadas previamente y donde:\n",
        "#    y_k: valores observados de la variable de salida.\n",
        "#    y_hat : predicciones.\n",
        "#    y_train.mean() : valor promedio de los datos de entrenamiento de la variable de salida.\n",
        "\n",
        "# Suma de cuadrados de los errores:\n",
        "def mi_SSE(y_k, y_hat):\n",
        "  return ((y_k - y_hat)** 2).sum()\n",
        "\n",
        "# Suma de cuadrados de la variabilidad total:\n",
        "def mi_Syy(y_k, y_train):\n",
        "  return ((y_k - y_train.mean()) ** 2).sum()\n",
        "\n",
        "# Coeficiente de determinación:\n",
        "def mi_R2(y_k, y_hat, y_train):\n",
        "  return 1 - mi_SSE(y_k, y_hat) / mi_Syy(y_k, y_train)\n"
      ],
      "metadata": {
        "id": "9iy7qal_WxpI"
      },
      "execution_count": 74,
      "outputs": []
    },
    {
      "cell_type": "markdown",
      "source": [
        "A manera de ejemplo, obtengamos el valor de $miR^2$ para el mejor modelo de regresión lineal Lasso obtenido previamente:"
      ],
      "metadata": {
        "id": "Rmm_X_V2o7PS"
      }
    },
    {
      "cell_type": "code",
      "source": [
        "modeloL1 = Lasso(alpha=0.0008)          # instanciamos el modelo deseado.\n",
        "modeloL1.fit(X_train_t2, y_train_t1)    # entrenamos el modelo con el conjunto de entrenamiento.\n",
        "\n",
        "y_hat_train = modeloL1.predict(X_train_t2)      # obtenemos las predicciones de entrenamiento.\n",
        "y_hat_val = modeloL1.predict(X_val_t2)      # obtenemos las predicciones de validación.\n",
        "y_hat_test = modeloL1.predict(X_test_t2)    # obtenemos las predicciones de prueba.\n",
        "\n",
        "\n",
        "# Con ravel() convertimos el DataFrame de Pandas en un arreglo de NumPy.\n",
        "# Observa que en los casos de validación (val) y prueba (test) estamos usando el conjunto\n",
        "# de entrenamiento (train) para calcular Syy y evitar el posible error que pudiera generar\n",
        "# un filtrado de información al querer utilizar las medias de los los conjuntos de validación o prueba:\n",
        "print(\"R2 en el conjunto de entrenamiento: %.4f\" % mi_R2(y_train_t1.values.ravel(), y_hat_train, y_train_t1.values.ravel()))\n",
        "print(\"R2 en el conjunto de validación: %.4f\" % mi_R2(y_val_t1.values.ravel(), y_hat_val, y_train_t1.values.ravel()))\n",
        "print(\"R2 en el conjunto de prueba: %.4f\" % mi_R2(y_test_t1.values.ravel(), y_hat_test, y_train_t1.values.ravel()))\n"
      ],
      "metadata": {
        "colab": {
          "base_uri": "https://localhost:8080/"
        },
        "id": "d1KQ2kC4Wxlo",
        "outputId": "5ea9057d-9e7a-45fb-9da8-787e46d26f13"
      },
      "execution_count": 75,
      "outputs": [
        {
          "output_type": "stream",
          "name": "stdout",
          "text": [
            "R2 en el conjunto de entrenamiento: 0.4458\n",
            "R2 en el conjunto de validación: 0.4210\n",
            "R2 en el conjunto de prueba: 0.4390\n"
          ]
        }
      ]
    },
    {
      "cell_type": "markdown",
      "source": [
        "### **NOTA sobre el Filtrado de Información:**\n",
        "\n",
        "**Observa que existen pequeñas diferencias entre el valor de $miR^2$ de los conjuntos de validación y de prueba y los de $R^2$ obtenidos con el método score() de Scikit-learn; pero no con el valor del conjunto de entrenamiento. Esto se debe a que en realidad hay una pequeño filtrado de infromación por la manera en que estamos utilizando el método score() de scikit-learn. En particular, al utilizar la media de cada conjunto val y test, en lugar de siempre utilizar la media del conjunto de train. Cuando estudiemos la técnica de Validación Cruzada nos encontraremos nuevamente con estos pequeños filtrados de información, pero también veremos cómo evitarlos o minimizar su impacto.**\n",
        "\n",
        "**Recuerda que las fórmulas por sí mismas no están equivocadas, estas simplemente esperan recibir la información requerida por sus argumentos. La manera a veces demasiado simplista en que aplicamos los métodos es lo que nos lleva a cometer ciertos errores; pero repito, iremos viendo en su momento cómo ir solventando cada uno de ellos.**\n",
        "\n",
        "**En general estos filtrados de información generan errores relativamente pequeños, en este ejemplo ambos menores al $0.5\\%$ en el coeficiente de determinación. Dependiendo del problema, en ocasiones uno debe ponderar, como en este caso, el obtener un valor aproximado pero con menor costo computacional para un resultado preliminar, o bien, obtener el resultado exacto en el modelo final, pero que requiere un mayor costo computacional. En las próximas semanas estudiaremos la clase Pipeline() de Scikit-learn, la cual nos ayudará evitar estos errores de filtración, aunque con un mayor costo computacional, como lo hemos mencionado. Obviamente en los problemas de la vida real no se desean estar cometiendo errores, por pequeños que estos sean, de aquí la importancia de estudiar la clase Pipeline en las próximas semanas.**\n",
        "\n",
        "**Para complementar lo relativo al filtrado de información en algunos procedimientos o transformaciones que aplicamos, te recomiendo leer la siguiente página de la misma librería de Scikit-learn. Este artículo hacen evidente estos errores comunes y la manera en que que se pueden evitar o minimizar su impacto en algunos de ellos, o en dado caso al menos estar conscientes de que los estamos cometiendo:**\n",
        "\n",
        "https://scikit-learn.org/stable/common_pitfalls.html\n",
        "\n",
        "**Así que por el momento si deseas evitar el filtrado de información al obtener las predicciones de los conjuntos de validación y prueba, deberás definir tus propias métricas y obtenerlas como en el presente ejemplo, sin utilizar en estos conjuntos el método score().**"
      ],
      "metadata": {
        "id": "T1be8iH41t8u"
      }
    },
    {
      "cell_type": "markdown",
      "source": [
        "### **Subentrenamiento (underfitting):**"
      ],
      "metadata": {
        "id": "vCRz0iLQwLlV"
      }
    },
    {
      "cell_type": "markdown",
      "source": [
        "**Recuerdemos que en todo problema de aprendizaje supervisado se tienen dos problemas principales a superar, el sobreentrenamiento (overfitting) y el subentrenamiento (underfitting).**\n",
        "\n",
        "Ya ajustamos previamente nuestro modelo de manera que no quedó sobreentrenado. Veamos a continuación que información podemos obtener con los valores de $RMSE$, la métrica dada por la raíz cuadrada del Error Cuadrático Medio, denotado $MSE$ por sus siglas en inglés (Mean Squared Error).\n",
        "\n",
        "Puedes revisar la documentación para recordar la manera en que se calcula dicha métrica:\n",
        "\n",
        "https://scikit-learn.org/stable/modules/generated/sklearn.metrics.mean_squared_error.html\n",
        "\n",
        "NOTA: Si estás usando una versión más reciente de Scikit-learn, la función a utilizar deberá ser **root_mean_squared_error()**. Revisa la documentación en la liga anterior."
      ],
      "metadata": {
        "id": "I6rIKmZ4y3Nj"
      }
    },
    {
      "cell_type": "code",
      "source": [
        "# A manera de ejemplo, obtengamos el valor de RMSE, del mejor modelo de regresión lineal\n",
        "# múltiple obtenido previamente y con cada uno de los conjuntos de la partición:\n",
        "\n",
        "modeloL1 = Lasso(alpha=0.0008)\n",
        "modeloL1.fit(X_train_t2, y_train_t1)\n",
        "\n",
        "y_hat_train = modeloL1.predict(X_train_t2)\n",
        "y_hat_val = modeloL1.predict(X_val_t2)\n",
        "y_hat_test = modeloL1.predict(X_test_t2)\n",
        "\n",
        "# squared=False nos devuelve la raíz del error cuadrático medio, i.e., RMSE:\n",
        "RMSEtrain = mean_squared_error(y_train_t1, y_hat_train, squared=False)\n",
        "RMSEval = mean_squared_error(y_val_t1, y_hat_val, squared=False)\n",
        "RMSEtest = mean_squared_error(y_test_t1, y_hat_test, squared=False)\n",
        "\n",
        "print('Raíz del error cuadrático medio:')\n",
        "print(\"RMSE-train = %.4f\" % RMSEtrain)\n",
        "print(\"RMSE-val = %.4f\" % RMSEval)\n",
        "print(\"RMSE-test = %.4f\" % RMSEtest)\n"
      ],
      "metadata": {
        "id": "u2Kim_9J_562",
        "colab": {
          "base_uri": "https://localhost:8080/"
        },
        "outputId": "8abf2375-ebce-4bdc-ee3f-4c90485d2d57"
      },
      "execution_count": 76,
      "outputs": [
        {
          "output_type": "stream",
          "name": "stdout",
          "text": [
            "Raíz del error cuadrático medio:\n",
            "RMSE-train = 0.3079\n",
            "RMSE-val = 0.3385\n",
            "RMSE-test = 0.3864\n"
          ]
        }
      ]
    },
    {
      "cell_type": "markdown",
      "source": [
        "Observamos que valores de los errores RMSE de los tres conjuntos son \"aproximadamente iguales\" en cada conjunto de entrenamiento, validación y prueba. Mientras más grande sea el valor de Train con respecto a Val y de Test con respecto a Test o Train, tendremos un modelo sobreentrenado. En este caso, aunque los errores van creciendo, \"no es mucha\" la diferencia, por lo que nuevamente pareciera que el sobreentrenamiento no es un problema importante en el modelo obtenido.\n",
        "\n",
        "Recordemos que estos errores están en las mismas unidades de los datos usados durante el entrenamiento, lo cuales en nuestro ejercicio son el logaritmo natural de los datos de salida, es decir, el logaritmo natural de lo montos de las propinas dadas al mesero en cada servicio dado.\n",
        "\n",
        "En caso que desees expresar los errores en las mismas unidades de los datos originales, deberás aplicar la función exponencial a dichos errores, ya que la función exponencial base $e$, es la función inversa de la función logaritmo natural. En particular en este caso podríamos dar una mejor interpretabilidad a la diferencia creciente que tiene los valores de RMSE en los conjuntos de entrenamiento, validación y prueba."
      ],
      "metadata": {
        "id": "98XgVq5-3caa"
      }
    },
    {
      "cell_type": "markdown",
      "source": [
        "Numéricamente podemos obtener una idea más clara de la magnitud del error de RMSE, mediante el **error absoluto** entre los conjuntos de entrenamiento y/o validación y el conjunto de prueba. Podemos además expresar el resultado en unidades de los datos originales, dólares, para darles también un mayor significado.\n",
        "\n",
        "Veremos más adelante que en ocasiones no se calcula explícitamente el valor de RMSE del conjunto de entrenamiento, sino solo el de validación. Poor ello es usual que se mida la diferencia de los RMSE entre los conjuntos Test  y el de Val.\n",
        "\n",
        "NOTA: Más adelante aplicaremos la técnica de Validación Cruzada (Cross-Validation) y dicha técnica usualmente solo regresa información de las predicciones del conjunto de validación y no del conjunto de entrenamiento."
      ],
      "metadata": {
        "id": "mPuC_tgS30pc"
      }
    },
    {
      "cell_type": "code",
      "source": [
        "# Veamos a manera de ejemplo el caso del error absoluto de RMSE con los conjuntos de Validación y de Prueba.\n",
        "# Obtengpamosla primero en unidades del logaritmo natural de las propinas:\n",
        "\n",
        "print('Error absoluto entre los RMSE de los Log[$tips] de Val y Test : %.2f' % np.abs(RMSEtest - RMSEval))"
      ],
      "metadata": {
        "colab": {
          "base_uri": "https://localhost:8080/"
        },
        "id": "PFwMAjXH5utp",
        "outputId": "ec07ef9f-b62b-4ef8-8f6f-7e2feb874de3"
      },
      "execution_count": 77,
      "outputs": [
        {
          "output_type": "stream",
          "name": "stdout",
          "text": [
            "Error absoluto entre los RMSE de los Log[$tips] de Val y Test : 0.05\n"
          ]
        }
      ]
    },
    {
      "cell_type": "code",
      "source": [
        "# Y el error RMSE entre Val y Test pero ahora en las unidades de la variable original,\n",
        "# es decir, en unidades de dólares:\n",
        "\n",
        "print('Error absoluto entre los RMSE de los $tips de Val y Test : $%.2f' % np.abs(np.exp(RMSEtest) - np.exp(RMSEval)))"
      ],
      "metadata": {
        "colab": {
          "base_uri": "https://localhost:8080/"
        },
        "id": "KoZcTsD18l2e",
        "outputId": "5e01bc88-6987-4db3-ac17-2727c2becdaa"
      },
      "execution_count": 78,
      "outputs": [
        {
          "output_type": "stream",
          "name": "stdout",
          "text": [
            "Error absoluto entre los RMSE de los $tips de Val y Test : $0.07\n"
          ]
        }
      ]
    },
    {
      "cell_type": "markdown",
      "source": [
        "Es decir, tenemos una diferencia de 7 centavos de dólar entre el valor de variabilidad RMSE del conjunto de validación y el de prueba. Podemos decir entonces con base a esta información, que la diferencia es mínima y que el modelo generado no está sobreentrenado."
      ],
      "metadata": {
        "id": "b1P51nMl9KeB"
      }
    },
    {
      "cell_type": "markdown",
      "source": [
        "### **PREGUNTA:**\n",
        "\n",
        "**¿Por qué aún siendo los valores de RMSE de los conjuntos de validación y de prueba bastante similares, no podemos todavía obtener información sobre si el modelo está o no subentrenado?**"
      ],
      "metadata": {
        "id": "5XlJgL-0_Uiv"
      }
    },
    {
      "cell_type": "markdown",
      "source": [
        "Sin embargo, para determinar si tenemos un modelo subentrenado, recordemos que el error RMSE representa la variabilidad de los logaritmos naturales de la variable de salida y lo estaremos comparando con el rango intercuartil $IQR_{train}$ de los datos de entrenamiento (para evitar nuevamente el filtrado de información) para darnos una idea de la magnitud de variabilidad de nuestras predicciones.\n",
        "\n",
        "**En un modelo no subentrenado (underfitting) esperaríamos que la variabilidad de los residuos del conjunto de Prueba dada por la raíz cuadrada del error cuadrático medio, $\\pm RMSE_{test}$, esté aproximadamente en el mismo rango o aún menor, que el valor del rango intercuartil $IQR_{train}$ del conjunto de entrenamiento.**\n",
        "\n",
        "Recordemos que el Rango Intercuartil se define como sigue: $IQR = Q_3 - Q_1$ , donde $Q_1$ y $Q_3$ son los valores del primer y tercer cuartil, respectivamente.\n",
        "\n",
        "Calculemos a continuación el rengo intercuartil del conjunto de entrenamiento (trian) y comparémoslo con el valor de la RMSE del conjunto de prueba (test)."
      ],
      "metadata": {
        "id": "Wtm8Fnnc700e"
      }
    },
    {
      "cell_type": "code",
      "source": [
        "# Rango Intercuartil del conjunto de entrenamiento (train):\n",
        "\n",
        "Q3 = np.quantile(y_train_t1['tip'], 0.75)   # tercer cuartil\n",
        "Q1 = np.quantile(y_train_t1['tip'], 0.25)   # primer cuartil\n",
        "\n",
        "print(\"Rango intercuartil: IQR = Q3-Q1 = %.2f-%.2f = %.2f\" % (Q3,Q1,Q3-Q1))"
      ],
      "metadata": {
        "colab": {
          "base_uri": "https://localhost:8080/"
        },
        "id": "nYmsKwrExhtS",
        "outputId": "80beec54-5197-47f7-c0e3-53f663d334da"
      },
      "execution_count": 79,
      "outputs": [
        {
          "output_type": "stream",
          "name": "stdout",
          "text": [
            "Rango intercuartil: IQR = Q3-Q1 = 1.25-0.69 = 0.56\n"
          ]
        }
      ]
    },
    {
      "cell_type": "code",
      "source": [
        "# Valor de la raíz cuadrada del error cuadrático medio RMSE del conjunto de prueba.\n",
        "# Este valor mide la variabilidad de la variable de salida del conjunto de prueba,\n",
        "# con respecto a las predicciones del modelo con los datos de entrada del conjunto de prueba.\n",
        "\n",
        "print(\"RMSE_test = +- %.4f\" % RMSEtest)"
      ],
      "metadata": {
        "colab": {
          "base_uri": "https://localhost:8080/"
        },
        "id": "_JmNpbvvC3QL",
        "outputId": "cbe706d9-8b04-4890-9368-915614f9ff51"
      },
      "execution_count": 82,
      "outputs": [
        {
          "output_type": "stream",
          "name": "stdout",
          "text": [
            "RMSE_test = +- 0.3864\n"
          ]
        }
      ]
    },
    {
      "cell_type": "code",
      "source": [
        "sns.set(rc={'figure.figsize':(5,2)})\n",
        "f, (ax_box, ax_hist) = plt.subplots(2, sharex=True, gridspec_kw={\"height_ratios\": (.25, .75)})\n",
        "sns.boxplot(y_train_t1['tip'], orient=\"h\", ax=ax_box)\n",
        "sns.histplot(data=y_train_t1, x=\"tip\", ax=ax_hist)\n",
        "ax_box.set(xlabel='')\n",
        "ax_hist.set(xlabel='Ln[tip_($)]')\n",
        "plt.show()"
      ],
      "metadata": {
        "colab": {
          "base_uri": "https://localhost:8080/",
          "height": 243
        },
        "id": "Uj12wQnZ9xHu",
        "outputId": "5a329a4e-b9e6-4090-fde7-e13b51b2ee41"
      },
      "execution_count": 81,
      "outputs": [
        {
          "output_type": "display_data",
          "data": {
            "text/plain": [
              "<Figure size 500x200 with 2 Axes>"
            ],
            "image/png": "[encoded data removed]"
          },
          "metadata": {}
        }
      ]
    },
    {
      "cell_type": "markdown",
      "source": [
        "# **5) Conclusiones**"
      ],
      "metadata": {
        "id": "6uHOwOPtk0a7"
      }
    },
    {
      "cell_type": "markdown",
      "source": [
        "Existen todavía muchos ajustes que se pueden seguir proponiendo (en particular se pueden obtener diversos gráficos entre diversos factores que nos ayuden a entender mejor la manera en que se relacionan entre sí) y que ayuden a mejorar el desempeño del modelo, pero por el momento aquí nos detendremos. Finalmente estamos utilizando un modelo de regresión lineal, que busca precisamente relaciones lineales entre las variables de entrada y la variable de salida. Cuando un modelo tiene un desempeño bajo (subentrenado), por lo general es mejor buscar un nuevo modelo con mayor capacidad para modelar o explicar comportamientos no lineales. Estos modelos son los que estaremos estudiando en próximas semanas."
      ],
      "metadata": {
        "id": "8eGwXs-Emgub"
      }
    },
    {
      "cell_type": "markdown",
      "source": [
        "Sobra decir que no hay reglas generales en el área de aprendizaje automático, pero ve considerando en el futuro todas las decisiones que hemos venido mencionado y aplícalas cuando lo consideres adecuado, esto  te irá dando poco a poco mayor valor como analista, potencializando tus habilidades y toma de decisiones e integrándote dentro del concepto de inteligencia aumentada.\n",
        "\n",
        "Por otro lado, en los problemas que estaremos estudiando en las siguientes semanas del curso ya no explicaremos de manera tan detallada algunos de los pasos relacionados a temas de Estadística o Matemáticas. Revisa en Canvas la sección \"Anexo: Temas de Matemáticas\" para reforzar dichos temas.\n"
      ],
      "metadata": {
        "id": "W4eVtPoElHeS"
      }
    },
    {
      "cell_type": "markdown",
      "source": [
        "# **<< Fin del ejemplo: partición, preprocesamiento, sub y sobrentrenamiento, modelo de regresión lineal múltiple>>**"
      ],
      "metadata": {
        "id": "cEUweRynhgN9"
      }
    }
  ]
}