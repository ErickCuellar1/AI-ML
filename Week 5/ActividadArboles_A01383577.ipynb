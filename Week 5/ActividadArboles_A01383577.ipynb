{
  "cells": [
    {
      "cell_type": "markdown",
      "metadata": {
        "id": "view-in-github",
        "colab_type": "text"
      },
      "source": [
        "<a href=\"https://colab.research.google.com/github/ErickCuellar1/AI-ML/blob/main/Week%205/ActividadArboles_A01383577.ipynb\" target=\"_parent\"><img src=\"https://colab.research.google.com/assets/colab-badge.svg\" alt=\"Open In Colab\"/></a>"
      ]
    },
    {
      "cell_type": "markdown",
      "metadata": {
        "id": "vDYSbZQXQGjF"
      },
      "source": [
        "# **Maestría en Inteligencia Artificial Aplicada**\n",
        "\n",
        "## **Curso: Inteligencia Artificial y Aprendizaje Automático**\n",
        "\n",
        "Tecnológico de Monterrey\n",
        "\n",
        "Prof Luis Eduardo Falcón Morales\n",
        "\n",
        "### **Actividad de la semana: Modelos basados en Árboles**"
      ]
    },
    {
      "cell_type": "markdown",
      "metadata": {
        "id": "9k7wepYbUvx5"
      },
      "source": [
        "\n",
        "**Nombre y matrícula:**\n"
      ]
    },
    {
      "cell_type": "markdown",
      "metadata": {
        "id": "aJvdRW_asVWr"
      },
      "source": [
        "# **PARTE - 1 - Bosque Aleatorio (Random Forest) - Clasificación**"
      ]
    },
    {
      "cell_type": "code",
      "execution_count": 28,
      "metadata": {
        "id": "oLDgzdzq5szg"
      },
      "outputs": [],
      "source": [
        "# Importamos lo necesario para la actividad\n",
        "\n",
        "import numpy as np\n",
        "import pandas as pd\n",
        "import matplotlib.pyplot as plt\n",
        "import seaborn as sns\n",
        "from sklearn.datasets import make_classification\n",
        "from sklearn.model_selection import train_test_split, RandomizedSearchCV, learning_curve, cross_val_score, StratifiedKFold\n",
        "from sklearn.model_selection import GridSearchCV, RepeatedStratifiedKFold\n",
        "from sklearn.ensemble import RandomForestClassifier\n",
        "from sklearn.metrics import confusion_matrix, classification_report, roc_curve, auc, precision_recall_curve, average_precision_score\n",
        "from sklearn.metrics import make_scorer, recall_score, accuracy_score, precision_score, f1_score\n",
        "from sklearn.preprocessing import StandardScaler\n",
        "from imblearn.metrics import classification_report_imbalanced\n",
        "from sklearn.dummy import DummyClassifier\n",
        "\n",
        "from imblearn.pipeline import Pipeline\n",
        "from imblearn.over_sampling import SMOTE\n",
        "from imblearn.combine import SMOTEENN\n",
        "\n",
        "np.random.seed(17)"
      ]
    },
    {
      "cell_type": "code",
      "execution_count": 10,
      "metadata": {
        "id": "Gv02e0nI5ylj"
      },
      "outputs": [],
      "source": [
        "# Para esta actividad vamos a generar datos sintéticos para un problema de\n",
        "# clasificación binario utilizando \"make_classification\" de scikitlearn.\n",
        "\n",
        "\n",
        "# Recuerda consultar la documentación para mayor información:\n",
        "# https://scikit-learn.org/stable/modules/generated/sklearn.datasets.make_classification.html\n",
        "\n",
        "\n",
        "# Utilizaremos los siguientes valores de los hiperparámetros de make_classification:\n",
        "# - n_samples: número de muestras o registros a generar.\n",
        "# - n_features: número total de características o variables de entrada X.\n",
        "# - n_informative: número de características informativas o independientes.\n",
        "# - n_redundant: número de características redundantes.\n",
        "# - weights: pesos para las clases [0,1]-->[Clase_Mayoritaria_Negativa(0), clase_minoritaria_positiva(1)].\n",
        "# - class_sep: separación entre clases (mayor valor --> clases más separables y menos complejo).\n",
        "# - flip_y: fracción de ejemplos cuya clase se cambia aleatoriamente (ruido), para hacerlo más complejo.\n",
        "# - random_state: semilla para reproducibilidad.\n",
        "\n",
        "X, y = make_classification(\n",
        "    n_samples=10_000,          # 10,000 registros\n",
        "    n_features=20,             # factores en total\n",
        "    n_informative=15,          # factores informativos o variables de entrada independientes\n",
        "    n_redundant=5,             # factores redundantes (dependientes). Para añadir complejidad usamos valor > 0\n",
        "    weights=[0.88, 0.12],      # Desbalance de clases: Mayoritaria clase 0; minoritaria clase 1\n",
        "    class_sep=1.0,             # Separación entre clases\n",
        "    n_classes=2,               # Dos clases\n",
        "    n_clusters_per_class=1,    # Para agregar complejidad adicional considera valores > 1\n",
        "    flip_y=0.01,              # Añadir algo de ruido. default 0.01\n",
        "    random_state=17,\n",
        ")"
      ]
    },
    {
      "cell_type": "code",
      "execution_count": 11,
      "metadata": {
        "id": "QMhcUInh78C1",
        "outputId": "35ace6bc-d3e7-40a2-be8e-f1d6a0f1d340",
        "colab": {
          "base_uri": "https://localhost:8080/"
        }
      },
      "outputs": [
        {
          "output_type": "stream",
          "name": "stdout",
          "text": [
            "Total de registros generados: 10000\n",
            "Distribución de clases: target\n",
            "0    87.7%\n",
            "1    12.3%\n",
            "Name: proportion, dtype: object\n",
            "Cantidad de factores: 20\n"
          ]
        }
      ],
      "source": [
        "# A continuación transformamos el conjunto de datos para que ya\n",
        "# están escalados alrededor del cero y donde todas las variables\n",
        "# sean numéricas.\n",
        "\n",
        "# Escalamos las características para que estén en el mismo rango:\n",
        "scaler = StandardScaler()\n",
        "X_scaled = scaler.fit_transform(X)\n",
        "\n",
        "# Creamos un DataFrame para su mejor manejo\n",
        "feature_names = [f'feature_{i+1}' for i in range(20)]\n",
        "df = pd.DataFrame(X_scaled, columns=feature_names)\n",
        "df['target'] = y\n",
        "\n",
        "print(f\"Total de registros generados: {len(df)}\")\n",
        "print(f\"Distribución de clases: {df['target'].value_counts(normalize=True).mul(100).round(1).astype(str) + '%'}\")\n",
        "print(f\"Cantidad de factores: {len(feature_names)}\")"
      ]
    },
    {
      "cell_type": "code",
      "execution_count": 12,
      "metadata": {
        "id": "jkmFcmS-7rnP",
        "outputId": "c7080ab8-fcae-4a6f-cf05-b1731f6565f1",
        "colab": {
          "base_uri": "https://localhost:8080/",
          "height": 708
        }
      },
      "outputs": [
        {
          "output_type": "execute_result",
          "data": {
            "text/plain": [
              "              count          mean       std       min       25%       50%  \\\n",
              "feature_1   10000.0 -2.923883e-16  1.000050 -3.319283 -0.684822  0.004073   \n",
              "feature_2   10000.0  7.524648e-16  1.000050 -4.695898 -0.625902  0.032897   \n",
              "feature_3   10000.0 -1.201528e-15  1.000050 -4.145038 -0.678332 -0.011665   \n",
              "feature_4   10000.0 -2.629008e-17  1.000050 -4.334555 -0.687072  0.003736   \n",
              "feature_5   10000.0 -1.122658e-16  1.000050 -3.321957 -0.669080 -0.006064   \n",
              "feature_6   10000.0 -7.574386e-16  1.000050 -3.909673 -0.672018 -0.008130   \n",
              "feature_7   10000.0 -3.566925e-16  1.000050 -4.343465 -0.670030  0.000240   \n",
              "feature_8   10000.0 -2.280842e-16  1.000050 -3.595287 -0.664497  0.001492   \n",
              "feature_9   10000.0  1.224443e-15  1.000050 -4.178195 -0.669604  0.011517   \n",
              "feature_10  10000.0 -1.021050e-15  1.000050 -3.792678 -0.656117  0.012811   \n",
              "feature_11  10000.0  6.714629e-17  1.000050 -3.708944 -0.681193 -0.006515   \n",
              "feature_12  10000.0 -1.590905e-15  1.000050 -3.590769 -0.673371  0.018082   \n",
              "feature_13  10000.0 -1.262634e-15  1.000050 -3.531079 -0.686781 -0.011999   \n",
              "feature_14  10000.0 -2.107825e-15  1.000050 -3.700766 -0.681774 -0.004282   \n",
              "feature_15  10000.0  9.507062e-16  1.000050 -3.983869 -0.681577  0.005401   \n",
              "feature_16  10000.0 -3.481659e-16  1.000050 -3.750420 -0.680181  0.000287   \n",
              "feature_17  10000.0 -6.263434e-16  1.000050 -4.476568 -0.654400  0.005515   \n",
              "feature_18  10000.0  1.996625e-16  1.000050 -3.667382 -0.667150 -0.011120   \n",
              "feature_19  10000.0 -2.050626e-15  1.000050 -3.952765 -0.672314  0.017275   \n",
              "feature_20  10000.0  2.335909e-15  1.000050 -4.122353 -0.666474  0.017883   \n",
              "target      10000.0  1.232000e-01  0.328683  0.000000  0.000000  0.000000   \n",
              "\n",
              "                 75%       max  \n",
              "feature_1   0.677250  3.687062  \n",
              "feature_2   0.677990  3.586427  \n",
              "feature_3   0.652550  4.905356  \n",
              "feature_4   0.685287  3.593032  \n",
              "feature_5   0.664607  3.892569  \n",
              "feature_6   0.664904  4.121387  \n",
              "feature_7   0.675504  4.006125  \n",
              "feature_8   0.678691  4.218665  \n",
              "feature_9   0.674292  3.222102  \n",
              "feature_10  0.683887  3.803196  \n",
              "feature_11  0.671897  3.900616  \n",
              "feature_12  0.674805  3.888525  \n",
              "feature_13  0.675688  3.820194  \n",
              "feature_14  0.676168  3.611966  \n",
              "feature_15  0.676399  3.574353  \n",
              "feature_16  0.677618  3.537105  \n",
              "feature_17  0.670779  5.059527  \n",
              "feature_18  0.673768  3.722115  \n",
              "feature_19  0.671184  3.580861  \n",
              "feature_20  0.668517  4.006657  \n",
              "target      0.000000  1.000000  "
            ],
            "text/html": [
              "\n",
              "  <div id=\"df-66b33550-30be-483a-bac9-7209d314b331\" class=\"colab-df-container\">\n",
              "    <div>\n",
              "<style scoped>\n",
              "    .dataframe tbody tr th:only-of-type {\n",
              "        vertical-align: middle;\n",
              "    }\n",
              "\n",
              "    .dataframe tbody tr th {\n",
              "        vertical-align: top;\n",
              "    }\n",
              "\n",
              "    .dataframe thead th {\n",
              "        text-align: right;\n",
              "    }\n",
              "</style>\n",
              "<table border=\"1\" class=\"dataframe\">\n",
              "  <thead>\n",
              "    <tr style=\"text-align: right;\">\n",
              "      <th></th>\n",
              "      <th>count</th>\n",
              "      <th>mean</th>\n",
              "      <th>std</th>\n",
              "      <th>min</th>\n",
              "      <th>25%</th>\n",
              "      <th>50%</th>\n",
              "      <th>75%</th>\n",
              "      <th>max</th>\n",
              "    </tr>\n",
              "  </thead>\n",
              "  <tbody>\n",
              "    <tr>\n",
              "      <th>feature_1</th>\n",
              "      <td>10000.0</td>\n",
              "      <td>-2.923883e-16</td>\n",
              "      <td>1.000050</td>\n",
              "      <td>-3.319283</td>\n",
              "      <td>-0.684822</td>\n",
              "      <td>0.004073</td>\n",
              "      <td>0.677250</td>\n",
              "      <td>3.687062</td>\n",
              "    </tr>\n",
              "    <tr>\n",
              "      <th>feature_2</th>\n",
              "      <td>10000.0</td>\n",
              "      <td>7.524648e-16</td>\n",
              "      <td>1.000050</td>\n",
              "      <td>-4.695898</td>\n",
              "      <td>-0.625902</td>\n",
              "      <td>0.032897</td>\n",
              "      <td>0.677990</td>\n",
              "      <td>3.586427</td>\n",
              "    </tr>\n",
              "    <tr>\n",
              "      <th>feature_3</th>\n",
              "      <td>10000.0</td>\n",
              "      <td>-1.201528e-15</td>\n",
              "      <td>1.000050</td>\n",
              "      <td>-4.145038</td>\n",
              "      <td>-0.678332</td>\n",
              "      <td>-0.011665</td>\n",
              "      <td>0.652550</td>\n",
              "      <td>4.905356</td>\n",
              "    </tr>\n",
              "    <tr>\n",
              "      <th>feature_4</th>\n",
              "      <td>10000.0</td>\n",
              "      <td>-2.629008e-17</td>\n",
              "      <td>1.000050</td>\n",
              "      <td>-4.334555</td>\n",
              "      <td>-0.687072</td>\n",
              "      <td>0.003736</td>\n",
              "      <td>0.685287</td>\n",
              "      <td>3.593032</td>\n",
              "    </tr>\n",
              "    <tr>\n",
              "      <th>feature_5</th>\n",
              "      <td>10000.0</td>\n",
              "      <td>-1.122658e-16</td>\n",
              "      <td>1.000050</td>\n",
              "      <td>-3.321957</td>\n",
              "      <td>-0.669080</td>\n",
              "      <td>-0.006064</td>\n",
              "      <td>0.664607</td>\n",
              "      <td>3.892569</td>\n",
              "    </tr>\n",
              "    <tr>\n",
              "      <th>feature_6</th>\n",
              "      <td>10000.0</td>\n",
              "      <td>-7.574386e-16</td>\n",
              "      <td>1.000050</td>\n",
              "      <td>-3.909673</td>\n",
              "      <td>-0.672018</td>\n",
              "      <td>-0.008130</td>\n",
              "      <td>0.664904</td>\n",
              "      <td>4.121387</td>\n",
              "    </tr>\n",
              "    <tr>\n",
              "      <th>feature_7</th>\n",
              "      <td>10000.0</td>\n",
              "      <td>-3.566925e-16</td>\n",
              "      <td>1.000050</td>\n",
              "      <td>-4.343465</td>\n",
              "      <td>-0.670030</td>\n",
              "      <td>0.000240</td>\n",
              "      <td>0.675504</td>\n",
              "      <td>4.006125</td>\n",
              "    </tr>\n",
              "    <tr>\n",
              "      <th>feature_8</th>\n",
              "      <td>10000.0</td>\n",
              "      <td>-2.280842e-16</td>\n",
              "      <td>1.000050</td>\n",
              "      <td>-3.595287</td>\n",
              "      <td>-0.664497</td>\n",
              "      <td>0.001492</td>\n",
              "      <td>0.678691</td>\n",
              "      <td>4.218665</td>\n",
              "    </tr>\n",
              "    <tr>\n",
              "      <th>feature_9</th>\n",
              "      <td>10000.0</td>\n",
              "      <td>1.224443e-15</td>\n",
              "      <td>1.000050</td>\n",
              "      <td>-4.178195</td>\n",
              "      <td>-0.669604</td>\n",
              "      <td>0.011517</td>\n",
              "      <td>0.674292</td>\n",
              "      <td>3.222102</td>\n",
              "    </tr>\n",
              "    <tr>\n",
              "      <th>feature_10</th>\n",
              "      <td>10000.0</td>\n",
              "      <td>-1.021050e-15</td>\n",
              "      <td>1.000050</td>\n",
              "      <td>-3.792678</td>\n",
              "      <td>-0.656117</td>\n",
              "      <td>0.012811</td>\n",
              "      <td>0.683887</td>\n",
              "      <td>3.803196</td>\n",
              "    </tr>\n",
              "    <tr>\n",
              "      <th>feature_11</th>\n",
              "      <td>10000.0</td>\n",
              "      <td>6.714629e-17</td>\n",
              "      <td>1.000050</td>\n",
              "      <td>-3.708944</td>\n",
              "      <td>-0.681193</td>\n",
              "      <td>-0.006515</td>\n",
              "      <td>0.671897</td>\n",
              "      <td>3.900616</td>\n",
              "    </tr>\n",
              "    <tr>\n",
              "      <th>feature_12</th>\n",
              "      <td>10000.0</td>\n",
              "      <td>-1.590905e-15</td>\n",
              "      <td>1.000050</td>\n",
              "      <td>-3.590769</td>\n",
              "      <td>-0.673371</td>\n",
              "      <td>0.018082</td>\n",
              "      <td>0.674805</td>\n",
              "      <td>3.888525</td>\n",
              "    </tr>\n",
              "    <tr>\n",
              "      <th>feature_13</th>\n",
              "      <td>10000.0</td>\n",
              "      <td>-1.262634e-15</td>\n",
              "      <td>1.000050</td>\n",
              "      <td>-3.531079</td>\n",
              "      <td>-0.686781</td>\n",
              "      <td>-0.011999</td>\n",
              "      <td>0.675688</td>\n",
              "      <td>3.820194</td>\n",
              "    </tr>\n",
              "    <tr>\n",
              "      <th>feature_14</th>\n",
              "      <td>10000.0</td>\n",
              "      <td>-2.107825e-15</td>\n",
              "      <td>1.000050</td>\n",
              "      <td>-3.700766</td>\n",
              "      <td>-0.681774</td>\n",
              "      <td>-0.004282</td>\n",
              "      <td>0.676168</td>\n",
              "      <td>3.611966</td>\n",
              "    </tr>\n",
              "    <tr>\n",
              "      <th>feature_15</th>\n",
              "      <td>10000.0</td>\n",
              "      <td>9.507062e-16</td>\n",
              "      <td>1.000050</td>\n",
              "      <td>-3.983869</td>\n",
              "      <td>-0.681577</td>\n",
              "      <td>0.005401</td>\n",
              "      <td>0.676399</td>\n",
              "      <td>3.574353</td>\n",
              "    </tr>\n",
              "    <tr>\n",
              "      <th>feature_16</th>\n",
              "      <td>10000.0</td>\n",
              "      <td>-3.481659e-16</td>\n",
              "      <td>1.000050</td>\n",
              "      <td>-3.750420</td>\n",
              "      <td>-0.680181</td>\n",
              "      <td>0.000287</td>\n",
              "      <td>0.677618</td>\n",
              "      <td>3.537105</td>\n",
              "    </tr>\n",
              "    <tr>\n",
              "      <th>feature_17</th>\n",
              "      <td>10000.0</td>\n",
              "      <td>-6.263434e-16</td>\n",
              "      <td>1.000050</td>\n",
              "      <td>-4.476568</td>\n",
              "      <td>-0.654400</td>\n",
              "      <td>0.005515</td>\n",
              "      <td>0.670779</td>\n",
              "      <td>5.059527</td>\n",
              "    </tr>\n",
              "    <tr>\n",
              "      <th>feature_18</th>\n",
              "      <td>10000.0</td>\n",
              "      <td>1.996625e-16</td>\n",
              "      <td>1.000050</td>\n",
              "      <td>-3.667382</td>\n",
              "      <td>-0.667150</td>\n",
              "      <td>-0.011120</td>\n",
              "      <td>0.673768</td>\n",
              "      <td>3.722115</td>\n",
              "    </tr>\n",
              "    <tr>\n",
              "      <th>feature_19</th>\n",
              "      <td>10000.0</td>\n",
              "      <td>-2.050626e-15</td>\n",
              "      <td>1.000050</td>\n",
              "      <td>-3.952765</td>\n",
              "      <td>-0.672314</td>\n",
              "      <td>0.017275</td>\n",
              "      <td>0.671184</td>\n",
              "      <td>3.580861</td>\n",
              "    </tr>\n",
              "    <tr>\n",
              "      <th>feature_20</th>\n",
              "      <td>10000.0</td>\n",
              "      <td>2.335909e-15</td>\n",
              "      <td>1.000050</td>\n",
              "      <td>-4.122353</td>\n",
              "      <td>-0.666474</td>\n",
              "      <td>0.017883</td>\n",
              "      <td>0.668517</td>\n",
              "      <td>4.006657</td>\n",
              "    </tr>\n",
              "    <tr>\n",
              "      <th>target</th>\n",
              "      <td>10000.0</td>\n",
              "      <td>1.232000e-01</td>\n",
              "      <td>0.328683</td>\n",
              "      <td>0.000000</td>\n",
              "      <td>0.000000</td>\n",
              "      <td>0.000000</td>\n",
              "      <td>0.000000</td>\n",
              "      <td>1.000000</td>\n",
              "    </tr>\n",
              "  </tbody>\n",
              "</table>\n",
              "</div>\n",
              "    <div class=\"colab-df-buttons\">\n",
              "\n",
              "  <div class=\"colab-df-container\">\n",
              "    <button class=\"colab-df-convert\" onclick=\"convertToInteractive('df-66b33550-30be-483a-bac9-7209d314b331')\"\n",
              "            title=\"Convert this dataframe to an interactive table.\"\n",
              "            style=\"display:none;\">\n",
              "\n",
              "  <svg xmlns=\"http://www.w3.org/2000/svg\" height=\"24px\" viewBox=\"0 -960 960 960\">\n",
              "    <path d=\"M120-120v-720h720v720H120Zm60-500h600v-160H180v160Zm220 220h160v-160H400v160Zm0 220h160v-160H400v160ZM180-400h160v-160H180v160Zm440 0h160v-160H620v160ZM180-180h160v-160H180v160Zm440 0h160v-160H620v160Z\"/>\n",
              "  </svg>\n",
              "    </button>\n",
              "\n",
              "  <style>\n",
              "    .colab-df-container {\n",
              "      display:flex;\n",
              "      gap: 12px;\n",
              "    }\n",
              "\n",
              "    .colab-df-convert {\n",
              "      background-color: #E8F0FE;\n",
              "      border: none;\n",
              "      border-radius: 50%;\n",
              "      cursor: pointer;\n",
              "      display: none;\n",
              "      fill: #1967D2;\n",
              "      height: 32px;\n",
              "      padding: 0 0 0 0;\n",
              "      width: 32px;\n",
              "    }\n",
              "\n",
              "    .colab-df-convert:hover {\n",
              "      background-color: #E2EBFA;\n",
              "      box-shadow: 0px 1px 2px rgba(60, 64, 67, 0.3), 0px 1px 3px 1px rgba(60, 64, 67, 0.15);\n",
              "      fill: #174EA6;\n",
              "    }\n",
              "\n",
              "    .colab-df-buttons div {\n",
              "      margin-bottom: 4px;\n",
              "    }\n",
              "\n",
              "    [theme=dark] .colab-df-convert {\n",
              "      background-color: #3B4455;\n",
              "      fill: #D2E3FC;\n",
              "    }\n",
              "\n",
              "    [theme=dark] .colab-df-convert:hover {\n",
              "      background-color: #434B5C;\n",
              "      box-shadow: 0px 1px 3px 1px rgba(0, 0, 0, 0.15);\n",
              "      filter: drop-shadow(0px 1px 2px rgba(0, 0, 0, 0.3));\n",
              "      fill: #FFFFFF;\n",
              "    }\n",
              "  </style>\n",
              "\n",
              "    <script>\n",
              "      const buttonEl =\n",
              "        document.querySelector('#df-66b33550-30be-483a-bac9-7209d314b331 button.colab-df-convert');\n",
              "      buttonEl.style.display =\n",
              "        google.colab.kernel.accessAllowed ? 'block' : 'none';\n",
              "\n",
              "      async function convertToInteractive(key) {\n",
              "        const element = document.querySelector('#df-66b33550-30be-483a-bac9-7209d314b331');\n",
              "        const dataTable =\n",
              "          await google.colab.kernel.invokeFunction('convertToInteractive',\n",
              "                                                    [key], {});\n",
              "        if (!dataTable) return;\n",
              "\n",
              "        const docLinkHtml = 'Like what you see? Visit the ' +\n",
              "          '<a target=\"_blank\" href=https://colab.research.google.com/notebooks/data_table.ipynb>data table notebook</a>'\n",
              "          + ' to learn more about interactive tables.';\n",
              "        element.innerHTML = '';\n",
              "        dataTable['output_type'] = 'display_data';\n",
              "        await google.colab.output.renderOutput(dataTable, element);\n",
              "        const docLink = document.createElement('div');\n",
              "        docLink.innerHTML = docLinkHtml;\n",
              "        element.appendChild(docLink);\n",
              "      }\n",
              "    </script>\n",
              "  </div>\n",
              "\n",
              "\n",
              "    <div id=\"df-ab72f84d-7dca-4010-b8ad-5d3cc6767812\">\n",
              "      <button class=\"colab-df-quickchart\" onclick=\"quickchart('df-ab72f84d-7dca-4010-b8ad-5d3cc6767812')\"\n",
              "                title=\"Suggest charts\"\n",
              "                style=\"display:none;\">\n",
              "\n",
              "<svg xmlns=\"http://www.w3.org/2000/svg\" height=\"24px\"viewBox=\"0 0 24 24\"\n",
              "     width=\"24px\">\n",
              "    <g>\n",
              "        <path d=\"M19 3H5c-1.1 0-2 .9-2 2v14c0 1.1.9 2 2 2h14c1.1 0 2-.9 2-2V5c0-1.1-.9-2-2-2zM9 17H7v-7h2v7zm4 0h-2V7h2v10zm4 0h-2v-4h2v4z\"/>\n",
              "    </g>\n",
              "</svg>\n",
              "      </button>\n",
              "\n",
              "<style>\n",
              "  .colab-df-quickchart {\n",
              "      --bg-color: #E8F0FE;\n",
              "      --fill-color: #1967D2;\n",
              "      --hover-bg-color: #E2EBFA;\n",
              "      --hover-fill-color: #174EA6;\n",
              "      --disabled-fill-color: #AAA;\n",
              "      --disabled-bg-color: #DDD;\n",
              "  }\n",
              "\n",
              "  [theme=dark] .colab-df-quickchart {\n",
              "      --bg-color: #3B4455;\n",
              "      --fill-color: #D2E3FC;\n",
              "      --hover-bg-color: #434B5C;\n",
              "      --hover-fill-color: #FFFFFF;\n",
              "      --disabled-bg-color: #3B4455;\n",
              "      --disabled-fill-color: #666;\n",
              "  }\n",
              "\n",
              "  .colab-df-quickchart {\n",
              "    background-color: var(--bg-color);\n",
              "    border: none;\n",
              "    border-radius: 50%;\n",
              "    cursor: pointer;\n",
              "    display: none;\n",
              "    fill: var(--fill-color);\n",
              "    height: 32px;\n",
              "    padding: 0;\n",
              "    width: 32px;\n",
              "  }\n",
              "\n",
              "  .colab-df-quickchart:hover {\n",
              "    background-color: var(--hover-bg-color);\n",
              "    box-shadow: 0 1px 2px rgba(60, 64, 67, 0.3), 0 1px 3px 1px rgba(60, 64, 67, 0.15);\n",
              "    fill: var(--button-hover-fill-color);\n",
              "  }\n",
              "\n",
              "  .colab-df-quickchart-complete:disabled,\n",
              "  .colab-df-quickchart-complete:disabled:hover {\n",
              "    background-color: var(--disabled-bg-color);\n",
              "    fill: var(--disabled-fill-color);\n",
              "    box-shadow: none;\n",
              "  }\n",
              "\n",
              "  .colab-df-spinner {\n",
              "    border: 2px solid var(--fill-color);\n",
              "    border-color: transparent;\n",
              "    border-bottom-color: var(--fill-color);\n",
              "    animation:\n",
              "      spin 1s steps(1) infinite;\n",
              "  }\n",
              "\n",
              "  @keyframes spin {\n",
              "    0% {\n",
              "      border-color: transparent;\n",
              "      border-bottom-color: var(--fill-color);\n",
              "      border-left-color: var(--fill-color);\n",
              "    }\n",
              "    20% {\n",
              "      border-color: transparent;\n",
              "      border-left-color: var(--fill-color);\n",
              "      border-top-color: var(--fill-color);\n",
              "    }\n",
              "    30% {\n",
              "      border-color: transparent;\n",
              "      border-left-color: var(--fill-color);\n",
              "      border-top-color: var(--fill-color);\n",
              "      border-right-color: var(--fill-color);\n",
              "    }\n",
              "    40% {\n",
              "      border-color: transparent;\n",
              "      border-right-color: var(--fill-color);\n",
              "      border-top-color: var(--fill-color);\n",
              "    }\n",
              "    60% {\n",
              "      border-color: transparent;\n",
              "      border-right-color: var(--fill-color);\n",
              "    }\n",
              "    80% {\n",
              "      border-color: transparent;\n",
              "      border-right-color: var(--fill-color);\n",
              "      border-bottom-color: var(--fill-color);\n",
              "    }\n",
              "    90% {\n",
              "      border-color: transparent;\n",
              "      border-bottom-color: var(--fill-color);\n",
              "    }\n",
              "  }\n",
              "</style>\n",
              "\n",
              "      <script>\n",
              "        async function quickchart(key) {\n",
              "          const quickchartButtonEl =\n",
              "            document.querySelector('#' + key + ' button');\n",
              "          quickchartButtonEl.disabled = true;  // To prevent multiple clicks.\n",
              "          quickchartButtonEl.classList.add('colab-df-spinner');\n",
              "          try {\n",
              "            const charts = await google.colab.kernel.invokeFunction(\n",
              "                'suggestCharts', [key], {});\n",
              "          } catch (error) {\n",
              "            console.error('Error during call to suggestCharts:', error);\n",
              "          }\n",
              "          quickchartButtonEl.classList.remove('colab-df-spinner');\n",
              "          quickchartButtonEl.classList.add('colab-df-quickchart-complete');\n",
              "        }\n",
              "        (() => {\n",
              "          let quickchartButtonEl =\n",
              "            document.querySelector('#df-ab72f84d-7dca-4010-b8ad-5d3cc6767812 button');\n",
              "          quickchartButtonEl.style.display =\n",
              "            google.colab.kernel.accessAllowed ? 'block' : 'none';\n",
              "        })();\n",
              "      </script>\n",
              "    </div>\n",
              "\n",
              "    </div>\n",
              "  </div>\n"
            ],
            "application/vnd.google.colaboratory.intrinsic+json": {
              "type": "dataframe",
              "summary": "{\n  \"name\": \"pd\",\n  \"rows\": 21,\n  \"fields\": [\n    {\n      \"column\": \"count\",\n      \"properties\": {\n        \"dtype\": \"number\",\n        \"std\": 0.0,\n        \"min\": 10000.0,\n        \"max\": 10000.0,\n        \"num_unique_values\": 1,\n        \"samples\": [\n          10000.0\n        ],\n        \"semantic_type\": \"\",\n        \"description\": \"\"\n      }\n    },\n    {\n      \"column\": \"mean\",\n      \"properties\": {\n        \"dtype\": \"number\",\n        \"std\": 0.026884444077074333,\n        \"min\": -2.1078250256323374e-15,\n        \"max\": 0.1232,\n        \"num_unique_values\": 21,\n        \"samples\": [\n          -2.923883357652812e-16\n        ],\n        \"semantic_type\": \"\",\n        \"description\": \"\"\n      }\n    },\n    {\n      \"column\": \"std\",\n      \"properties\": {\n        \"dtype\": \"number\",\n        \"std\": 0.14650427494375592,\n        \"min\": 0.3286830741859287,\n        \"max\": 1.0000500037503155,\n        \"num_unique_values\": 18,\n        \"samples\": [\n          1.0000500037503122\n        ],\n        \"semantic_type\": \"\",\n        \"description\": \"\"\n      }\n    },\n    {\n      \"column\": \"min\",\n      \"properties\": {\n        \"dtype\": \"number\",\n        \"std\": 0.9283925601162919,\n        \"min\": -4.695897666617037,\n        \"max\": 0.0,\n        \"num_unique_values\": 21,\n        \"samples\": [\n          -3.319283316305782\n        ],\n        \"semantic_type\": \"\",\n        \"description\": \"\"\n      }\n    },\n    {\n      \"column\": \"25%\",\n      \"properties\": {\n        \"dtype\": \"number\",\n        \"std\": 0.14709932554127114,\n        \"min\": -0.6870716472069258,\n        \"max\": 0.0,\n        \"num_unique_values\": 21,\n        \"samples\": [\n          -0.6848216197703275\n        ],\n        \"semantic_type\": \"\",\n        \"description\": \"\"\n      }\n    },\n    {\n      \"column\": \"50%\",\n      \"properties\": {\n        \"dtype\": \"number\",\n        \"std\": 0.011706825000728022,\n        \"min\": -0.011999426165818146,\n        \"max\": 0.03289696781010096,\n        \"num_unique_values\": 21,\n        \"samples\": [\n          0.004072724580884274\n        ],\n        \"semantic_type\": \"\",\n        \"description\": \"\"\n      }\n    },\n    {\n      \"column\": \"75%\",\n      \"properties\": {\n        \"dtype\": \"number\",\n        \"std\": 0.1471564286366493,\n        \"min\": 0.0,\n        \"max\": 0.6852867980140473,\n        \"num_unique_values\": 21,\n        \"samples\": [\n          0.6772500029515826\n        ],\n        \"semantic_type\": \"\",\n        \"description\": \"\"\n      }\n    },\n    {\n      \"column\": \"max\",\n      \"properties\": {\n        \"dtype\": \"number\",\n        \"std\": 0.7625567698451785,\n        \"min\": 1.0,\n        \"max\": 5.059527376226798,\n        \"num_unique_values\": 21,\n        \"samples\": [\n          3.6870615435930967\n        ],\n        \"semantic_type\": \"\",\n        \"description\": \"\"\n      }\n    }\n  ]\n}"
            }
          },
          "metadata": {},
          "execution_count": 12
        }
      ],
      "source": [
        "pd.DataFrame(df).describe().T"
      ]
    },
    {
      "cell_type": "code",
      "execution_count": 13,
      "metadata": {
        "colab": {
          "base_uri": "https://localhost:8080/"
        },
        "id": "fIhubZHG8a-Y",
        "outputId": "dbf7c647-3b02-4c6b-9aff-e934f6fd6524"
      },
      "outputs": [
        {
          "output_type": "stream",
          "name": "stdout",
          "text": [
            "Tamaño del conjunto de entrenamiento: 8000 muestras\n",
            "Tamaño del conjunto de prueba: 2000 muestras\n"
          ]
        }
      ],
      "source": [
        "# Separamos las variables de entrada y la variable objetivo de salida:\n",
        "X = df.drop('target', axis=1).values\n",
        "y = df['target'].values\n",
        "\n",
        "# Dividimos el conjunto de datos en entrenamiento (80%) y prueba (20%)\n",
        "# Como vamos a utilizar Validación Cruzada, la partición será solamente\n",
        "# con los conjuntos de Entrenamiento y Prueba.\n",
        "# Además usamos \"stratify\" para mantener la proporción de clases en la partición.\n",
        "X_train, X_test, y_train, y_test = train_test_split(X, y, test_size=0.2, random_state=17, stratify=y)\n",
        "\n",
        "print(f\"Tamaño del conjunto de entrenamiento: {X_train.shape[0]} muestras\")\n",
        "print(f\"Tamaño del conjunto de prueba: {X_test.shape[0]} muestras\")"
      ]
    },
    {
      "cell_type": "code",
      "execution_count": 14,
      "metadata": {
        "id": "ItnzozIq8i9b",
        "outputId": "2be0d673-ce9d-4cd5-e421-ba9dc3600158",
        "colab": {
          "base_uri": "https://localhost:8080/"
        }
      },
      "outputs": [
        {
          "output_type": "stream",
          "name": "stdout",
          "text": [
            "Salidas del modelo Dummy con diferentes estrategias\n",
            "para calcular umbrales del modelo base (baseline):\n",
            "--------------------------------------------------\n",
            "\n",
            "\n",
            "Estrategia: most_frequent\n",
            "Accuracy: 0.8769\n",
            "Recall: 0.0000\n",
            "Precision: 0.0000\n",
            "F1 Score: 0.0000\n",
            "Matriz de Confusión:\n",
            "[[1403    0]\n",
            " [ 197    0]]\n",
            "------------------------------\n",
            "\n",
            "\n",
            "Estrategia: prior\n",
            "Accuracy: 0.8769\n",
            "Recall: 0.0000\n",
            "Precision: 0.0000\n",
            "F1 Score: 0.0000\n",
            "Matriz de Confusión:\n",
            "[[1403    0]\n",
            " [ 197    0]]\n",
            "------------------------------\n",
            "\n",
            "\n",
            "Estrategia: stratified\n",
            "Accuracy: 0.8006\n",
            "Recall: 0.1015\n",
            "Precision: 0.1235\n",
            "F1 Score: 0.1114\n",
            "Matriz de Confusión:\n",
            "[[1261  142]\n",
            " [ 177   20]]\n",
            "------------------------------\n",
            "\n",
            "\n",
            "Estrategia: uniform\n",
            "Accuracy: 0.4856\n",
            "Recall: 0.4670\n",
            "Precision: 0.1136\n",
            "F1 Score: 0.1827\n",
            "Matriz de Confusión:\n",
            "[[685 718]\n",
            " [105  92]]\n",
            "------------------------------\n",
            "\n",
            "\n"
          ]
        },
        {
          "output_type": "stream",
          "name": "stderr",
          "text": [
            "/usr/local/lib/python3.12/dist-packages/sklearn/metrics/_classification.py:1565: UndefinedMetricWarning: Precision is ill-defined and being set to 0.0 due to no predicted samples. Use `zero_division` parameter to control this behavior.\n",
            "  _warn_prf(average, modifier, f\"{metric.capitalize()} is\", len(result))\n",
            "/usr/local/lib/python3.12/dist-packages/sklearn/metrics/_classification.py:1565: UndefinedMetricWarning: Precision is ill-defined and being set to 0.0 due to no predicted samples. Use `zero_division` parameter to control this behavior.\n",
            "  _warn_prf(average, modifier, f\"{metric.capitalize()} is\", len(result))\n"
          ]
        }
      ],
      "source": [
        "# Obtengamos los siguientes resultados con la función Dummy,\n",
        "# con una partición provisional para el Dummy:\n",
        "\n",
        "Xt, Xv, yt, yv = train_test_split(X_train, y_train, test_size=0.2, random_state=17, stratify=y_train)\n",
        "\n",
        "estrategias = ['most_frequent','prior','stratified','uniform']\n",
        "\n",
        "print(\"Salidas del modelo Dummy con diferentes estrategias\")\n",
        "print(\"para calcular umbrales del modelo base (baseline):\")\n",
        "print(\"-\"*50)\n",
        "print(\"\\n\")\n",
        "\n",
        "for estrategia in estrategias:\n",
        "  dummy_clf = DummyClassifier(strategy=estrategia, random_state=17)\n",
        "  dummy_clf.fit(Xt, yt)\n",
        "  y_pred = dummy_clf.predict(Xv)\n",
        "\n",
        "  # Tabla para almacenar resultados\n",
        "  results = []\n",
        "\n",
        "  # \"pos_label\" indica la clase con respecto a la cual evaluar cada métrica.\n",
        "  acc = accuracy_score(yv, y_pred)\n",
        "  rec = recall_score(yv, y_pred, pos_label=1)\n",
        "  prec = precision_score(yv, y_pred, pos_label=1)\n",
        "  f1_sc = f1_score(yv, y_pred, pos_label=1)\n",
        "\n",
        "  results.append({'Accuracy': acc,\n",
        "                'Recall': rec,\n",
        "                'Precision': prec,\n",
        "                'F1 Score': f1_sc\n",
        "                })\n",
        "\n",
        "  print(f\"Estrategia: {estrategia}\")\n",
        "  print(f\"Accuracy: {acc:.4f}\")\n",
        "  print(f\"Recall: {rec:.4f}\")\n",
        "  print(f\"Precision: {prec:.4f}\")\n",
        "  print(f\"F1 Score: {f1_sc:.4f}\")\n",
        "\n",
        "  print(\"Matriz de Confusión:\")\n",
        "  cm = confusion_matrix(yv, y_pred)  # , normalize='true'\n",
        "  print(cm)\n",
        "  print(\"-\"*30)\n",
        "  print(\"\\n\")\n"
      ]
    },
    {
      "cell_type": "markdown",
      "metadata": {
        "id": "_mK6SXmx-m71"
      },
      "source": [
        "## **Ejercicio - 1**"
      ]
    },
    {
      "cell_type": "markdown",
      "metadata": {
        "id": "1G99WdcMCbxo"
      },
      "source": [
        "### **Ejercicio 1a**\n",
        "\n",
        "**En la salida anterior se obtuvieron dos advertencias (warnings).**\n",
        "\n",
        "* **a) ¿A cuáles casos de las estrategias Dummy están asociadas esas advertencias?**\n",
        "\n",
        "A las estrategias 'most frequent' y 'prior'.\n",
        "\n",
        "* **b) Explica qué significan esas advertencias y relaciona la explicación con los valores de las matrices de confusión correspondientes.**\n",
        "\n",
        "Esta advertencia se debe a que no se predijeron valores de la clase positiva. Como se puede ver en las matrices de confusión, las columnas de la derecha están en 0 ambas"
      ]
    },
    {
      "cell_type": "markdown",
      "metadata": {
        "id": "sTAOZJ49-dOM"
      },
      "source": [
        "### **Ejercicio 1b**\n",
        "\n",
        "**Sabemos que si consideramos la métrica de la exactitud (accuracy) como nuestra métrica principal, el umbral del modelo base (baseline) sería del 87.7%. Sin embargo, como tenemos un problema de clases desbalanceadas debiéramos utilizar otra métrica que nos ayude a medir mejor el desempeño del modelo. Indica en cada uno de los siguientes incisos cuál sería el valor del modelo base que debiéramos utilizar, de acuerdo a la métrica que se indica:**\n",
        "\n",
        "* **a) Precision: La estrategia 'stratified' obtuvo un máximo de 12.3% de Precision, por lo que esa sería nuestro umbral**\n",
        "\n",
        "* **b) Recall: La estrategia 'uniform' ubtuvo un máximo de 48.2% de Recall, por lo que ese sería nuestro umbral**\n",
        "\n",
        "* **c) F1-Score: La estrategia 'uniform' ubtuvo un máximo de 18.2% de F1-Score, por lo que ese sería nuestro umbral**"
      ]
    },
    {
      "cell_type": "markdown",
      "metadata": {
        "id": "8Sqh3yly-qu4"
      },
      "source": [
        "NOTA: La documentación de la función Dummy la puedes encontrar en la siguiente liga:\n",
        "\n",
        "https://scikit-learn.org/stable/modules/generated/sklearn.dummy.DummyClassifier.html"
      ]
    },
    {
      "cell_type": "markdown",
      "metadata": {
        "id": "CLWCrmnpse89"
      },
      "source": [
        "# **PARTE - 2 - XGBoost - Regressor**"
      ]
    },
    {
      "cell_type": "markdown",
      "metadata": {
        "id": "Nq7Z7l2sTYuv"
      },
      "source": [
        "Para este ejercicio usaremos los datos llamados Bike-Sharing, en particular los del archivo \"day.csv\".\n",
        "\n",
        "La información de los datos y el archivo lo encuentras en la siguiente liga:\n",
        "\n",
        "https://archive.ics.uci.edu/dataset/275/bike+sharing+dataset\n",
        "\n",
        "El archivo contiene información de la cantidad de bicicletas rentadas por día en la ciudad de Washington, D.C. a través de un servicio llamado \"Captial Bike Sharing (CBS)\", que les proporciona el gobierno municipal. Esta será nuestra variable objetivo a predecir. Los factores o variables de entrada a considerar son diversos, por ejemplo, la temperatura, humedad, día de la semana, días feriados, etc. Los datos se registraron durante los años 2011 y 2012.\n",
        "\n",
        "Puedes encontrar más información del problema en  https://github.com/jkelleman/rental-bike-sharing\n",
        "\n"
      ]
    },
    {
      "cell_type": "markdown",
      "metadata": {
        "id": "fiQoHszhY00K"
      },
      "source": [
        "En esta segunda parte no se te incluye el código. Con base a los ejercicios de muestra de esta semana y lo visto en semanas anteriores, deberás incluir el código correspondiente. Podrás incluir todas las celdas y código que consideres necesarias."
      ]
    },
    {
      "cell_type": "code",
      "execution_count": 15,
      "metadata": {
        "id": "hKfUxLwodsZ2"
      },
      "outputs": [],
      "source": [
        "# Incluye en esta celda todas las librerías y paquetes que requieras\n",
        "\n",
        "import numpy as np\n",
        "import pandas as pd\n",
        "import seaborn as sns\n",
        "from pathlib import Path\n",
        "import matplotlib.pyplot as plt\n",
        "\n",
        "from sklearn.pipeline import Pipeline\n",
        "from sklearn.datasets import fetch_openml\n",
        "from sklearn.compose import ColumnTransformer\n",
        "from sklearn.metrics import mean_squared_error\n",
        "from sklearn.preprocessing import OneHotEncoder\n",
        "from sklearn.model_selection import train_test_split, GridSearchCV, KFold\n",
        "\n",
        "import shap\n",
        "from xgboost import XGBRegressor\n",
        "\n"
      ]
    },
    {
      "cell_type": "markdown",
      "metadata": {
        "id": "OLm-v3BQZc6C"
      },
      "source": [
        "## **Ejercicio - 2**"
      ]
    },
    {
      "cell_type": "markdown",
      "metadata": {
        "id": "Y--0_ZcqZrp6"
      },
      "source": [
        "* **Carga los datos del archivo \"day.csv\" en un DataFrame de Pandas y elimina las columnas \"instant\", \"dteday\", \"casual\" y \"registered\". Despliega los primeros renglones del DataFrame e indica la dimensión de los datos.**\n",
        "\n"
      ]
    },
    {
      "cell_type": "code",
      "execution_count": 16,
      "metadata": {
        "id": "dmZZDfp3at7J",
        "outputId": "ddb962d9-d817-4b8a-9de6-febc0c99af2e",
        "colab": {
          "base_uri": "https://localhost:8080/",
          "height": 814
        }
      },
      "outputs": [
        {
          "output_type": "stream",
          "name": "stdout",
          "text": [
            "Descripción estadística:\n",
            "            count         mean          std        min          25%  \\\n",
            "instant     731.0   366.000000   211.165812   1.000000   183.500000   \n",
            "season      731.0     2.496580     1.110807   1.000000     2.000000   \n",
            "yr          731.0     0.500684     0.500342   0.000000     0.000000   \n",
            "mnth        731.0     6.519836     3.451913   1.000000     4.000000   \n",
            "holiday     731.0     0.028728     0.167155   0.000000     0.000000   \n",
            "weekday     731.0     2.997264     2.004787   0.000000     1.000000   \n",
            "workingday  731.0     0.683995     0.465233   0.000000     0.000000   \n",
            "weathersit  731.0     1.395349     0.544894   1.000000     1.000000   \n",
            "temp        731.0     0.495385     0.183051   0.059130     0.337083   \n",
            "atemp       731.0     0.474354     0.162961   0.079070     0.337842   \n",
            "hum         731.0     0.627894     0.142429   0.000000     0.520000   \n",
            "windspeed   731.0     0.190486     0.077498   0.022392     0.134950   \n",
            "casual      731.0   848.176471   686.622488   2.000000   315.500000   \n",
            "registered  731.0  3656.172367  1560.256377  20.000000  2497.000000   \n",
            "cnt         731.0  4504.348837  1937.211452  22.000000  3152.000000   \n",
            "\n",
            "                    50%          75%          max  \n",
            "instant      366.000000   548.500000   731.000000  \n",
            "season         3.000000     3.000000     4.000000  \n",
            "yr             1.000000     1.000000     1.000000  \n",
            "mnth           7.000000    10.000000    12.000000  \n",
            "holiday        0.000000     0.000000     1.000000  \n",
            "weekday        3.000000     5.000000     6.000000  \n",
            "workingday     1.000000     1.000000     1.000000  \n",
            "weathersit     1.000000     2.000000     3.000000  \n",
            "temp           0.498333     0.655417     0.861667  \n",
            "atemp          0.486733     0.608602     0.840896  \n",
            "hum            0.626667     0.730209     0.972500  \n",
            "windspeed      0.180975     0.233214     0.507463  \n",
            "casual       713.000000  1096.000000  3410.000000  \n",
            "registered  3662.000000  4776.500000  6946.000000  \n",
            "cnt         4548.000000  5956.000000  8714.000000  \n",
            "Dimension de los datos: (731, 12)\n"
          ]
        },
        {
          "output_type": "execute_result",
          "data": {
            "text/plain": [
              "   season  yr  mnth  holiday  weekday  workingday  weathersit      temp  \\\n",
              "0       1   0     1        0        6           0           2  0.344167   \n",
              "1       1   0     1        0        0           0           2  0.363478   \n",
              "2       1   0     1        0        1           1           1  0.196364   \n",
              "3       1   0     1        0        2           1           1  0.200000   \n",
              "4       1   0     1        0        3           1           1  0.226957   \n",
              "\n",
              "      atemp       hum  windspeed   cnt  \n",
              "0  0.363625  0.805833   0.160446   985  \n",
              "1  0.353739  0.696087   0.248539   801  \n",
              "2  0.189405  0.437273   0.248309  1349  \n",
              "3  0.212122  0.590435   0.160296  1562  \n",
              "4  0.229270  0.436957   0.186900  1600  "
            ],
            "text/html": [
              "\n",
              "  <div id=\"df-42fbb02a-03eb-4a36-ae4d-740a6cf64923\" class=\"colab-df-container\">\n",
              "    <div>\n",
              "<style scoped>\n",
              "    .dataframe tbody tr th:only-of-type {\n",
              "        vertical-align: middle;\n",
              "    }\n",
              "\n",
              "    .dataframe tbody tr th {\n",
              "        vertical-align: top;\n",
              "    }\n",
              "\n",
              "    .dataframe thead th {\n",
              "        text-align: right;\n",
              "    }\n",
              "</style>\n",
              "<table border=\"1\" class=\"dataframe\">\n",
              "  <thead>\n",
              "    <tr style=\"text-align: right;\">\n",
              "      <th></th>\n",
              "      <th>season</th>\n",
              "      <th>yr</th>\n",
              "      <th>mnth</th>\n",
              "      <th>holiday</th>\n",
              "      <th>weekday</th>\n",
              "      <th>workingday</th>\n",
              "      <th>weathersit</th>\n",
              "      <th>temp</th>\n",
              "      <th>atemp</th>\n",
              "      <th>hum</th>\n",
              "      <th>windspeed</th>\n",
              "      <th>cnt</th>\n",
              "    </tr>\n",
              "  </thead>\n",
              "  <tbody>\n",
              "    <tr>\n",
              "      <th>0</th>\n",
              "      <td>1</td>\n",
              "      <td>0</td>\n",
              "      <td>1</td>\n",
              "      <td>0</td>\n",
              "      <td>6</td>\n",
              "      <td>0</td>\n",
              "      <td>2</td>\n",
              "      <td>0.344167</td>\n",
              "      <td>0.363625</td>\n",
              "      <td>0.805833</td>\n",
              "      <td>0.160446</td>\n",
              "      <td>985</td>\n",
              "    </tr>\n",
              "    <tr>\n",
              "      <th>1</th>\n",
              "      <td>1</td>\n",
              "      <td>0</td>\n",
              "      <td>1</td>\n",
              "      <td>0</td>\n",
              "      <td>0</td>\n",
              "      <td>0</td>\n",
              "      <td>2</td>\n",
              "      <td>0.363478</td>\n",
              "      <td>0.353739</td>\n",
              "      <td>0.696087</td>\n",
              "      <td>0.248539</td>\n",
              "      <td>801</td>\n",
              "    </tr>\n",
              "    <tr>\n",
              "      <th>2</th>\n",
              "      <td>1</td>\n",
              "      <td>0</td>\n",
              "      <td>1</td>\n",
              "      <td>0</td>\n",
              "      <td>1</td>\n",
              "      <td>1</td>\n",
              "      <td>1</td>\n",
              "      <td>0.196364</td>\n",
              "      <td>0.189405</td>\n",
              "      <td>0.437273</td>\n",
              "      <td>0.248309</td>\n",
              "      <td>1349</td>\n",
              "    </tr>\n",
              "    <tr>\n",
              "      <th>3</th>\n",
              "      <td>1</td>\n",
              "      <td>0</td>\n",
              "      <td>1</td>\n",
              "      <td>0</td>\n",
              "      <td>2</td>\n",
              "      <td>1</td>\n",
              "      <td>1</td>\n",
              "      <td>0.200000</td>\n",
              "      <td>0.212122</td>\n",
              "      <td>0.590435</td>\n",
              "      <td>0.160296</td>\n",
              "      <td>1562</td>\n",
              "    </tr>\n",
              "    <tr>\n",
              "      <th>4</th>\n",
              "      <td>1</td>\n",
              "      <td>0</td>\n",
              "      <td>1</td>\n",
              "      <td>0</td>\n",
              "      <td>3</td>\n",
              "      <td>1</td>\n",
              "      <td>1</td>\n",
              "      <td>0.226957</td>\n",
              "      <td>0.229270</td>\n",
              "      <td>0.436957</td>\n",
              "      <td>0.186900</td>\n",
              "      <td>1600</td>\n",
              "    </tr>\n",
              "  </tbody>\n",
              "</table>\n",
              "</div>\n",
              "    <div class=\"colab-df-buttons\">\n",
              "\n",
              "  <div class=\"colab-df-container\">\n",
              "    <button class=\"colab-df-convert\" onclick=\"convertToInteractive('df-42fbb02a-03eb-4a36-ae4d-740a6cf64923')\"\n",
              "            title=\"Convert this dataframe to an interactive table.\"\n",
              "            style=\"display:none;\">\n",
              "\n",
              "  <svg xmlns=\"http://www.w3.org/2000/svg\" height=\"24px\" viewBox=\"0 -960 960 960\">\n",
              "    <path d=\"M120-120v-720h720v720H120Zm60-500h600v-160H180v160Zm220 220h160v-160H400v160Zm0 220h160v-160H400v160ZM180-400h160v-160H180v160Zm440 0h160v-160H620v160ZM180-180h160v-160H180v160Zm440 0h160v-160H620v160Z\"/>\n",
              "  </svg>\n",
              "    </button>\n",
              "\n",
              "  <style>\n",
              "    .colab-df-container {\n",
              "      display:flex;\n",
              "      gap: 12px;\n",
              "    }\n",
              "\n",
              "    .colab-df-convert {\n",
              "      background-color: #E8F0FE;\n",
              "      border: none;\n",
              "      border-radius: 50%;\n",
              "      cursor: pointer;\n",
              "      display: none;\n",
              "      fill: #1967D2;\n",
              "      height: 32px;\n",
              "      padding: 0 0 0 0;\n",
              "      width: 32px;\n",
              "    }\n",
              "\n",
              "    .colab-df-convert:hover {\n",
              "      background-color: #E2EBFA;\n",
              "      box-shadow: 0px 1px 2px rgba(60, 64, 67, 0.3), 0px 1px 3px 1px rgba(60, 64, 67, 0.15);\n",
              "      fill: #174EA6;\n",
              "    }\n",
              "\n",
              "    .colab-df-buttons div {\n",
              "      margin-bottom: 4px;\n",
              "    }\n",
              "\n",
              "    [theme=dark] .colab-df-convert {\n",
              "      background-color: #3B4455;\n",
              "      fill: #D2E3FC;\n",
              "    }\n",
              "\n",
              "    [theme=dark] .colab-df-convert:hover {\n",
              "      background-color: #434B5C;\n",
              "      box-shadow: 0px 1px 3px 1px rgba(0, 0, 0, 0.15);\n",
              "      filter: drop-shadow(0px 1px 2px rgba(0, 0, 0, 0.3));\n",
              "      fill: #FFFFFF;\n",
              "    }\n",
              "  </style>\n",
              "\n",
              "    <script>\n",
              "      const buttonEl =\n",
              "        document.querySelector('#df-42fbb02a-03eb-4a36-ae4d-740a6cf64923 button.colab-df-convert');\n",
              "      buttonEl.style.display =\n",
              "        google.colab.kernel.accessAllowed ? 'block' : 'none';\n",
              "\n",
              "      async function convertToInteractive(key) {\n",
              "        const element = document.querySelector('#df-42fbb02a-03eb-4a36-ae4d-740a6cf64923');\n",
              "        const dataTable =\n",
              "          await google.colab.kernel.invokeFunction('convertToInteractive',\n",
              "                                                    [key], {});\n",
              "        if (!dataTable) return;\n",
              "\n",
              "        const docLinkHtml = 'Like what you see? Visit the ' +\n",
              "          '<a target=\"_blank\" href=https://colab.research.google.com/notebooks/data_table.ipynb>data table notebook</a>'\n",
              "          + ' to learn more about interactive tables.';\n",
              "        element.innerHTML = '';\n",
              "        dataTable['output_type'] = 'display_data';\n",
              "        await google.colab.output.renderOutput(dataTable, element);\n",
              "        const docLink = document.createElement('div');\n",
              "        docLink.innerHTML = docLinkHtml;\n",
              "        element.appendChild(docLink);\n",
              "      }\n",
              "    </script>\n",
              "  </div>\n",
              "\n",
              "\n",
              "    <div id=\"df-601cc75a-9b96-4f5a-b6b4-93fc81a1dc58\">\n",
              "      <button class=\"colab-df-quickchart\" onclick=\"quickchart('df-601cc75a-9b96-4f5a-b6b4-93fc81a1dc58')\"\n",
              "                title=\"Suggest charts\"\n",
              "                style=\"display:none;\">\n",
              "\n",
              "<svg xmlns=\"http://www.w3.org/2000/svg\" height=\"24px\"viewBox=\"0 0 24 24\"\n",
              "     width=\"24px\">\n",
              "    <g>\n",
              "        <path d=\"M19 3H5c-1.1 0-2 .9-2 2v14c0 1.1.9 2 2 2h14c1.1 0 2-.9 2-2V5c0-1.1-.9-2-2-2zM9 17H7v-7h2v7zm4 0h-2V7h2v10zm4 0h-2v-4h2v4z\"/>\n",
              "    </g>\n",
              "</svg>\n",
              "      </button>\n",
              "\n",
              "<style>\n",
              "  .colab-df-quickchart {\n",
              "      --bg-color: #E8F0FE;\n",
              "      --fill-color: #1967D2;\n",
              "      --hover-bg-color: #E2EBFA;\n",
              "      --hover-fill-color: #174EA6;\n",
              "      --disabled-fill-color: #AAA;\n",
              "      --disabled-bg-color: #DDD;\n",
              "  }\n",
              "\n",
              "  [theme=dark] .colab-df-quickchart {\n",
              "      --bg-color: #3B4455;\n",
              "      --fill-color: #D2E3FC;\n",
              "      --hover-bg-color: #434B5C;\n",
              "      --hover-fill-color: #FFFFFF;\n",
              "      --disabled-bg-color: #3B4455;\n",
              "      --disabled-fill-color: #666;\n",
              "  }\n",
              "\n",
              "  .colab-df-quickchart {\n",
              "    background-color: var(--bg-color);\n",
              "    border: none;\n",
              "    border-radius: 50%;\n",
              "    cursor: pointer;\n",
              "    display: none;\n",
              "    fill: var(--fill-color);\n",
              "    height: 32px;\n",
              "    padding: 0;\n",
              "    width: 32px;\n",
              "  }\n",
              "\n",
              "  .colab-df-quickchart:hover {\n",
              "    background-color: var(--hover-bg-color);\n",
              "    box-shadow: 0 1px 2px rgba(60, 64, 67, 0.3), 0 1px 3px 1px rgba(60, 64, 67, 0.15);\n",
              "    fill: var(--button-hover-fill-color);\n",
              "  }\n",
              "\n",
              "  .colab-df-quickchart-complete:disabled,\n",
              "  .colab-df-quickchart-complete:disabled:hover {\n",
              "    background-color: var(--disabled-bg-color);\n",
              "    fill: var(--disabled-fill-color);\n",
              "    box-shadow: none;\n",
              "  }\n",
              "\n",
              "  .colab-df-spinner {\n",
              "    border: 2px solid var(--fill-color);\n",
              "    border-color: transparent;\n",
              "    border-bottom-color: var(--fill-color);\n",
              "    animation:\n",
              "      spin 1s steps(1) infinite;\n",
              "  }\n",
              "\n",
              "  @keyframes spin {\n",
              "    0% {\n",
              "      border-color: transparent;\n",
              "      border-bottom-color: var(--fill-color);\n",
              "      border-left-color: var(--fill-color);\n",
              "    }\n",
              "    20% {\n",
              "      border-color: transparent;\n",
              "      border-left-color: var(--fill-color);\n",
              "      border-top-color: var(--fill-color);\n",
              "    }\n",
              "    30% {\n",
              "      border-color: transparent;\n",
              "      border-left-color: var(--fill-color);\n",
              "      border-top-color: var(--fill-color);\n",
              "      border-right-color: var(--fill-color);\n",
              "    }\n",
              "    40% {\n",
              "      border-color: transparent;\n",
              "      border-right-color: var(--fill-color);\n",
              "      border-top-color: var(--fill-color);\n",
              "    }\n",
              "    60% {\n",
              "      border-color: transparent;\n",
              "      border-right-color: var(--fill-color);\n",
              "    }\n",
              "    80% {\n",
              "      border-color: transparent;\n",
              "      border-right-color: var(--fill-color);\n",
              "      border-bottom-color: var(--fill-color);\n",
              "    }\n",
              "    90% {\n",
              "      border-color: transparent;\n",
              "      border-bottom-color: var(--fill-color);\n",
              "    }\n",
              "  }\n",
              "</style>\n",
              "\n",
              "      <script>\n",
              "        async function quickchart(key) {\n",
              "          const quickchartButtonEl =\n",
              "            document.querySelector('#' + key + ' button');\n",
              "          quickchartButtonEl.disabled = true;  // To prevent multiple clicks.\n",
              "          quickchartButtonEl.classList.add('colab-df-spinner');\n",
              "          try {\n",
              "            const charts = await google.colab.kernel.invokeFunction(\n",
              "                'suggestCharts', [key], {});\n",
              "          } catch (error) {\n",
              "            console.error('Error during call to suggestCharts:', error);\n",
              "          }\n",
              "          quickchartButtonEl.classList.remove('colab-df-spinner');\n",
              "          quickchartButtonEl.classList.add('colab-df-quickchart-complete');\n",
              "        }\n",
              "        (() => {\n",
              "          let quickchartButtonEl =\n",
              "            document.querySelector('#df-601cc75a-9b96-4f5a-b6b4-93fc81a1dc58 button');\n",
              "          quickchartButtonEl.style.display =\n",
              "            google.colab.kernel.accessAllowed ? 'block' : 'none';\n",
              "        })();\n",
              "      </script>\n",
              "    </div>\n",
              "\n",
              "    </div>\n",
              "  </div>\n"
            ],
            "application/vnd.google.colaboratory.intrinsic+json": {
              "type": "dataframe",
              "variable_name": "df",
              "summary": "{\n  \"name\": \"df\",\n  \"rows\": 731,\n  \"fields\": [\n    {\n      \"column\": \"season\",\n      \"properties\": {\n        \"dtype\": \"number\",\n        \"std\": 1,\n        \"min\": 1,\n        \"max\": 4,\n        \"num_unique_values\": 4,\n        \"samples\": [\n          2,\n          4,\n          1\n        ],\n        \"semantic_type\": \"\",\n        \"description\": \"\"\n      }\n    },\n    {\n      \"column\": \"yr\",\n      \"properties\": {\n        \"dtype\": \"number\",\n        \"std\": 0,\n        \"min\": 0,\n        \"max\": 1,\n        \"num_unique_values\": 2,\n        \"samples\": [\n          1,\n          0\n        ],\n        \"semantic_type\": \"\",\n        \"description\": \"\"\n      }\n    },\n    {\n      \"column\": \"mnth\",\n      \"properties\": {\n        \"dtype\": \"number\",\n        \"std\": 3,\n        \"min\": 1,\n        \"max\": 12,\n        \"num_unique_values\": 12,\n        \"samples\": [\n          11,\n          10\n        ],\n        \"semantic_type\": \"\",\n        \"description\": \"\"\n      }\n    },\n    {\n      \"column\": \"holiday\",\n      \"properties\": {\n        \"dtype\": \"number\",\n        \"std\": 0,\n        \"min\": 0,\n        \"max\": 1,\n        \"num_unique_values\": 2,\n        \"samples\": [\n          1,\n          0\n        ],\n        \"semantic_type\": \"\",\n        \"description\": \"\"\n      }\n    },\n    {\n      \"column\": \"weekday\",\n      \"properties\": {\n        \"dtype\": \"number\",\n        \"std\": 2,\n        \"min\": 0,\n        \"max\": 6,\n        \"num_unique_values\": 7,\n        \"samples\": [\n          6,\n          0\n        ],\n        \"semantic_type\": \"\",\n        \"description\": \"\"\n      }\n    },\n    {\n      \"column\": \"workingday\",\n      \"properties\": {\n        \"dtype\": \"number\",\n        \"std\": 0,\n        \"min\": 0,\n        \"max\": 1,\n        \"num_unique_values\": 2,\n        \"samples\": [\n          1,\n          0\n        ],\n        \"semantic_type\": \"\",\n        \"description\": \"\"\n      }\n    },\n    {\n      \"column\": \"weathersit\",\n      \"properties\": {\n        \"dtype\": \"number\",\n        \"std\": 0,\n        \"min\": 1,\n        \"max\": 3,\n        \"num_unique_values\": 3,\n        \"samples\": [\n          2,\n          1\n        ],\n        \"semantic_type\": \"\",\n        \"description\": \"\"\n      }\n    },\n    {\n      \"column\": \"temp\",\n      \"properties\": {\n        \"dtype\": \"number\",\n        \"std\": 0.18305099611148867,\n        \"min\": 0.0591304,\n        \"max\": 0.861667,\n        \"num_unique_values\": 499,\n        \"samples\": [\n          0.544167,\n          0.430435\n        ],\n        \"semantic_type\": \"\",\n        \"description\": \"\"\n      }\n    },\n    {\n      \"column\": \"atemp\",\n      \"properties\": {\n        \"dtype\": \"number\",\n        \"std\": 0.16296117838631127,\n        \"min\": 0.0790696,\n        \"max\": 0.840896,\n        \"num_unique_values\": 690,\n        \"samples\": [\n          0.463375,\n          0.599754\n        ],\n        \"semantic_type\": \"\",\n        \"description\": \"\"\n      }\n    },\n    {\n      \"column\": \"hum\",\n      \"properties\": {\n        \"dtype\": \"number\",\n        \"std\": 0.14242909513835394,\n        \"min\": 0.0,\n        \"max\": 0.9725,\n        \"num_unique_values\": 595,\n        \"samples\": [\n          0.707083,\n          0.718333\n        ],\n        \"semantic_type\": \"\",\n        \"description\": \"\"\n      }\n    },\n    {\n      \"column\": \"windspeed\",\n      \"properties\": {\n        \"dtype\": \"number\",\n        \"std\": 0.07749787068166943,\n        \"min\": 0.0223917,\n        \"max\": 0.507463,\n        \"num_unique_values\": 650,\n        \"samples\": [\n          0.100742,\n          0.139308\n        ],\n        \"semantic_type\": \"\",\n        \"description\": \"\"\n      }\n    },\n    {\n      \"column\": \"cnt\",\n      \"properties\": {\n        \"dtype\": \"number\",\n        \"std\": 1937,\n        \"min\": 22,\n        \"max\": 8714,\n        \"num_unique_values\": 696,\n        \"samples\": [\n          5170,\n          1607\n        ],\n        \"semantic_type\": \"\",\n        \"description\": \"\"\n      }\n    }\n  ]\n}"
            }
          },
          "metadata": {},
          "execution_count": 16
        }
      ],
      "source": [
        "# Ejercicio 2:\n",
        "\n",
        "# ************* Inicia sección para agregar tu código:**************************\n",
        "# Incluye todas las celdas que consideres necesarias.\n",
        "\n",
        "df = pd.read_csv(\"/content/day.csv\")\n",
        "\n",
        "print(f\"Descripción estadística:\\n{df.describe().T}\")\n",
        "\n",
        "df = df.drop(columns=['instant','dteday','casual','registered'])\n",
        "\n",
        "\n",
        "print(f\"Dimension de los datos: {df.shape}\")\n",
        "\n",
        "df.head()\n",
        "\n",
        "\n"
      ]
    },
    {
      "cell_type": "markdown",
      "metadata": {
        "id": "u_90FNhcb57J"
      },
      "source": [
        "## **Ejercicio - 3**"
      ]
    },
    {
      "cell_type": "markdown",
      "metadata": {
        "id": "iO8RVibGcDCh"
      },
      "source": [
        "### **Ejercicio 3a:**\n",
        "\n",
        "* **Justifica por qué se eliminaron las 4 variables indicadas en el ejercicio anterior.**\n",
        "\n",
        "++++++++++++++++++++++++++++++++++++++++++++++++++++++++++\n",
        "\n",
        "Incluye aquí tus comentarios.\n",
        "\n",
        "* Instant se elimina porque es un indice\n",
        "* Dteday se elimina porque es una fecha, no es relevante para el modelo\n",
        "* Casual y registered se eliminan porque son variables que suman la variable objetivo (cnt)\n",
        "\n",
        "++++++++++++++++++++++++++++++++++++++++++++++++++++++++++"
      ]
    },
    {
      "cell_type": "markdown",
      "metadata": {
        "id": "YavL-4CPc8HQ"
      },
      "source": [
        "### **Ejercicio 3b:**\n",
        "\n",
        "* **Indica cuáles son las variables numéricas y cuáles las variables categóricas (nominales, ordinales, binarias). En particular indica cuál es la variable objetivo**\n",
        "\n",
        "++++++++++++++++++++++++++++++++++++++++++++++++++++++++++\n",
        "\n",
        "Las variables numéricas son temp, atemp, hum & windspeed.\n",
        "\n",
        "Las variables categóricas nominales son season, mnth, weekday.\n",
        "\n",
        "Las variables categóricas binarias son holiday, yr y workingday.\n",
        "\n",
        "Las variables categóricas ordinales son weathersit.\n",
        "\n",
        "La variable objetivo es cnt, el número de usuarios a los que se rentan las bicicletas y es lo que queremos optimizar.\n",
        "\n",
        "++++++++++++++++++++++++++++++++++++++++++++++++++++++++++"
      ]
    },
    {
      "cell_type": "markdown",
      "metadata": {
        "id": "HoE8lNuXlzue"
      },
      "source": [
        "## **Ejercicio - 4**"
      ]
    },
    {
      "cell_type": "markdown",
      "metadata": {
        "id": "39Z79GKTl6l1"
      },
      "source": [
        "* **Para simplificar la etapa del preproceasmiento de los datos observa que las variables numéricas ya están escaladas entre 0 y 1, por lo que no haremos transformación alguna. Sin embargo, en relación a las variables categóricas, verifica que todos los niveles de las variables nominales tengan al menos un 5% de información. De no ser así, agrupa los niveles de manera que se cumpla este criterio.**"
      ]
    },
    {
      "cell_type": "code",
      "execution_count": 17,
      "metadata": {
        "id": "S4NXVO_pTIMJ",
        "outputId": "9d0704dc-6444-4772-bea9-1bd87aea4142",
        "colab": {
          "base_uri": "https://localhost:8080/"
        }
      },
      "outputs": [
        {
          "output_type": "stream",
          "name": "stdout",
          "text": [
            "Categoría: season\n",
            "season\n",
            "3    25.7%\n",
            "2    25.2%\n",
            "1    24.8%\n",
            "4    24.4%\n",
            "Name: proportion, dtype: object\n",
            "------------------------------ \n",
            "\n",
            "\n",
            "Categoría: weathersit\n",
            "weathersit\n",
            "1    63.3%\n",
            "2    33.8%\n",
            "3     2.9%\n",
            "Name: proportion, dtype: object\n",
            "------------------------------ \n",
            "\n",
            "\n",
            "Categoría: mnth\n",
            "mnth\n",
            "1     8.5%\n",
            "3     8.5%\n",
            "7     8.5%\n",
            "5     8.5%\n",
            "12    8.5%\n",
            "10    8.5%\n",
            "8     8.5%\n",
            "4     8.2%\n",
            "9     8.2%\n",
            "6     8.2%\n",
            "11    8.2%\n",
            "2     7.8%\n",
            "Name: proportion, dtype: object\n",
            "------------------------------ \n",
            "\n",
            "\n",
            "Categoría: weekday\n",
            "weekday\n",
            "6    14.4%\n",
            "0    14.4%\n",
            "1    14.4%\n",
            "2    14.2%\n",
            "3    14.2%\n",
            "4    14.2%\n",
            "5    14.2%\n",
            "Name: proportion, dtype: object\n",
            "------------------------------ \n",
            "\n",
            "\n",
            "Categoría: holiday\n",
            "holiday\n",
            "0    97.1%\n",
            "1     2.9%\n",
            "Name: proportion, dtype: object\n",
            "------------------------------ \n",
            "\n",
            "\n",
            "Categoría: yr\n",
            "yr\n",
            "1    50.1%\n",
            "0    49.9%\n",
            "Name: proportion, dtype: object\n",
            "------------------------------ \n",
            "\n",
            "\n",
            "Categoría: workingday\n",
            "workingday\n",
            "1    68.4%\n",
            "0    31.6%\n",
            "Name: proportion, dtype: object\n",
            "------------------------------ \n",
            "\n",
            "\n"
          ]
        }
      ],
      "source": [
        "# Ejercicio 4:\n",
        "\n",
        "# ************* Inicia sección para agregar tu código:**************************\n",
        "# Incluye todas las celdas que consideres necesarias.\n",
        "\n",
        "\n",
        "#Checking all categories have at least 5% of the data\n",
        "\n",
        "var_cat = ['season', 'weathersit', 'mnth', 'weekday', 'holiday', 'yr', 'workingday']\n",
        "\n",
        "for var in var_cat:\n",
        "    print(f\"Categoría: {var}\")\n",
        "    print(df[var].value_counts(normalize=True).mul(100).round(1).astype(str) + '%')\n",
        "    print(\"-\"*30, \"\\n\")\n",
        "    print()"
      ]
    },
    {
      "cell_type": "markdown",
      "metadata": {
        "id": "ykwCubZegl1k"
      },
      "source": [
        "* Holiday y weathersit son las únicas variables que tienen categorías con menos del 5% de los datos.\n",
        "\n",
        "* Ya que la variable weathersit es ordinal, podemos cambiar los elementos de la clase 3 a la clase 2, ya que ambas representan condiciones climáticas adversas."
      ]
    },
    {
      "cell_type": "code",
      "execution_count": 18,
      "metadata": {
        "id": "0c9jf-aggl1k",
        "outputId": "ffe48b48-b895-4556-d048-2eb2566b91a5",
        "colab": {
          "base_uri": "https://localhost:8080/"
        }
      },
      "outputs": [
        {
          "output_type": "stream",
          "name": "stdout",
          "text": [
            "Distribución de la variable weathersit después del cambio:\n",
            "weathersit\n",
            "1    63.3%\n",
            "2    36.7%\n",
            "Name: proportion, dtype: object\n"
          ]
        }
      ],
      "source": [
        "# Cambiar los elementos de la variable weathersit de 3 a 2\n",
        "df['weathersit'] = df['weathersit'].replace({3: 2})\n",
        "\n",
        "# Imprimir los porcentajes de la clase weathersit después del cambio\n",
        "print(\"Distribución de la variable weathersit después del cambio:\")\n",
        "print(df['weathersit'].value_counts(normalize=True).mul(100).round(1).astype(str) + '%')"
      ]
    },
    {
      "cell_type": "markdown",
      "metadata": {
        "id": "DH5sJn73pNFS"
      },
      "source": [
        "## **Ejercicio - 5**"
      ]
    },
    {
      "cell_type": "markdown",
      "metadata": {
        "id": "XGKgRo-Go7ej"
      },
      "source": [
        "* **Particiona los datos en los conjuntos de entrenamiento y prueba con los porcentajes que consideres adecuado.**\n",
        "\n",
        "NOTA: Aplicarás más adelante validación cruzada, por ello separamos solo en dos conjuntos."
      ]
    },
    {
      "cell_type": "code",
      "execution_count": 19,
      "metadata": {
        "id": "fRFjn7LJTIFh"
      },
      "outputs": [],
      "source": [
        "# Ejercicio 5:\n",
        "\n",
        "# ************* Inicia sección para agregar tu código:**************************\n",
        "# Incluye todas las celdas que consideres necesarias.\n",
        "\n",
        "\n",
        "# Definimos las variables predictoras y la variable objetivo\n",
        "X = df.drop(columns=['cnt'])\n",
        "y = df['cnt']\n",
        "\n",
        "# Separamos datos en entrenamiento y prueba\n",
        "X_train, X_test, y_train, y_test = train_test_split(X, y, test_size=0.2, random_state=17)"
      ]
    },
    {
      "cell_type": "markdown",
      "metadata": {
        "id": "H5pzkWGfpXSy"
      },
      "source": [
        "## **Ejercicio - 6**"
      ]
    },
    {
      "cell_type": "markdown",
      "metadata": {
        "id": "4djR-TCFpY_S"
      },
      "source": [
        "* **Realiza una partición provisional del conjunto de entrenamiento anterior para obtener el valor del umbral del modelo base (baseline), con respecto a la métrica RMSE y al valor promedio de la variable de salida.**"
      ]
    },
    {
      "cell_type": "code",
      "execution_count": 20,
      "metadata": {
        "id": "nAGsLdycTICJ",
        "outputId": "3a893533-585f-4020-d9dc-e5d09c8eee88",
        "colab": {
          "base_uri": "https://localhost:8080/"
        }
      },
      "outputs": [
        {
          "output_type": "stream",
          "name": "stdout",
          "text": [
            "RMSE baseline (media como predicción): 1925.68\n"
          ]
        }
      ],
      "source": [
        "# Ejercicio 6:\n",
        "\n",
        "# ************* Inicia sección para agregar tu código:**************************\n",
        "# Incluye todas las celdas que consideres necesarias.\n",
        "\n",
        "# Particionamos los datos de entrenamiento\n",
        "X_t, X_v, y_t, y_v = train_test_split(X_train, y_train, test_size=0.2, random_state=17)\n",
        "\n",
        "baseline_value = y_t.mean()\n",
        "y_val_pred_baseline = np.full(shape=y_v.shape, fill_value=baseline_value, dtype=float)\n",
        "baseline_rmse = np.sqrt(((y_v - y_val_pred_baseline) ** 2).mean())\n",
        "\n",
        "print(f\"RMSE baseline (media como predicción): {baseline_rmse:.2f}\")\n"
      ]
    },
    {
      "cell_type": "markdown",
      "metadata": {
        "id": "BDSAQF8iqh8h"
      },
      "source": [
        "## **Ejercicio - 7**"
      ]
    },
    {
      "cell_type": "markdown",
      "metadata": {
        "id": "98jIApugqjs4"
      },
      "source": [
        "* **Usando la técnica de malla, validación cruzada y cuidando el filtrado de información, encuentra los mejores hiperparámetros del modelo XGBoost. Imprime el valor RMSE del mejor modelo encontrado.**  "
      ]
    },
    {
      "cell_type": "code",
      "execution_count": 31,
      "metadata": {
        "id": "GjKiyFKvtwqV",
        "outputId": "6b999e04-1802-4de0-b884-aeec2727bd4c",
        "colab": {
          "base_uri": "https://localhost:8080/"
        }
      },
      "outputs": [
        {
          "output_type": "stream",
          "name": "stdout",
          "text": [
            "Fitting 6 folds for each of 24 candidates, totalling 144 fits\n"
          ]
        },
        {
          "output_type": "stream",
          "name": "stderr",
          "text": [
            "/usr/local/lib/python3.12/dist-packages/sklearn/model_selection/_split.py:805: UserWarning: The least populated class in y has only 1 members, which is less than n_splits=2.\n",
            "  warnings.warn(\n",
            "/usr/local/lib/python3.12/dist-packages/sklearn/model_selection/_split.py:805: UserWarning: The least populated class in y has only 1 members, which is less than n_splits=2.\n",
            "  warnings.warn(\n",
            "/usr/local/lib/python3.12/dist-packages/sklearn/model_selection/_split.py:805: UserWarning: The least populated class in y has only 1 members, which is less than n_splits=2.\n",
            "  warnings.warn(\n"
          ]
        },
        {
          "output_type": "stream",
          "name": "stdout",
          "text": [
            "Mejores hiperparámetros: {'colsample_bytree': 0.65, 'learning_rate': 0.03, 'max_depth': 4, 'n_estimators': 400, 'subsample': 0.6}\n",
            "Mean Squared Error (MSE) del mejor modelo: 423325.66\n",
            "Root Mean Squared Error (RMSE) del mejor modelo: 650.63\n"
          ]
        }
      ],
      "source": [
        "# Ejercicio 7:\n",
        "\n",
        "# ************* Inicia sección para agregar tu código:**************************\n",
        "# Incluye todas las celdas que consideres necesarias.\n",
        "\n",
        "\n",
        "# Definimos los hiperparámetros para GridSearchCV\n",
        "param_grid = {\n",
        "    'n_estimators': [600, 400],\n",
        "    'max_depth': [4],\n",
        "    'learning_rate': [0.02, 0.03],\n",
        "    'subsample': [0.6, 0.7],\n",
        "    'colsample_bytree': [0.5, 0.6, 0.65]\n",
        "}\n",
        "# Definimos el modelo\n",
        "model = XGBRegressor(random_state=17)\n",
        "# Configuramos GridSearchCV\n",
        "cv = RepeatedStratifiedKFold(n_splits=2, n_repeats=3, random_state=7)\n",
        "grid_search = GridSearchCV(estimator=model, param_grid=param_grid, scoring='neg_root_mean_squared_error', cv=cv, n_jobs=-1, verbose=2)\n",
        "# Entrenamos el modelo con GridSearchCV\n",
        "grid_search.fit(X_t, np.ravel(y_t))\n",
        "# Obtenemos el mejor modelo\n",
        "best_model = grid_search.best_estimator_\n",
        "print(f\"Mejores hiperparámetros: {grid_search.best_params_}\")\n",
        "# Realizamos predicciones con el mejor modelo\n",
        "y_pred_best = best_model.predict(X_v)\n",
        "# Evaluamos el mejor modelo\n",
        "mse_best = mean_squared_error(y_v, y_pred_best)\n",
        "rmse_best = np.sqrt(mse_best)\n",
        "print(f\"Mean Squared Error (MSE) del mejor modelo: {mse_best:.2f}\")\n",
        "print(f\"Root Mean Squared Error (RMSE) del mejor modelo: {rmse_best:.2f}\")"
      ]
    },
    {
      "cell_type": "markdown",
      "metadata": {
        "id": "zt8H5PLasumX"
      },
      "source": [
        "## **Ejercicio - 8**"
      ]
    },
    {
      "cell_type": "markdown",
      "metadata": {
        "id": "WT6bfoqls2Am"
      },
      "source": [
        "* **Compara el valor RMSE del mejor modelo encontrado con respecto al valor del modelo base obtenido previamente. En particular, obtener la diferencia porcentual relativa del mejor modelo encontrado con respecto al modelo base. Incluye tu interpretación de dichos resultados.**  "
      ]
    },
    {
      "cell_type": "code",
      "execution_count": 32,
      "metadata": {
        "id": "xTCs4RuRTH-o",
        "outputId": "8f41a2c6-9dd4-4179-8a8f-8819bc420337",
        "colab": {
          "base_uri": "https://localhost:8080/"
        }
      },
      "outputs": [
        {
          "output_type": "stream",
          "name": "stdout",
          "text": [
            "Diferencia porcentual relativa del RMSE entre baseline y mejor modelo: 66.21%\n"
          ]
        }
      ],
      "source": [
        "# Ejercicio 8a:\n",
        "\n",
        "# ************* Inicia sección para agregar tu código:**************************\n",
        "# Incluye todas las celdas que consideres necesarias.\n",
        "\n",
        "\n",
        "relative_rmse_diff = (baseline_rmse - rmse_best) / baseline_rmse * 100\n",
        "\n",
        "print(f\"Diferencia porcentual relativa del RMSE entre baseline y mejor modelo: {relative_rmse_diff:.2f}%\")"
      ]
    },
    {
      "cell_type": "markdown",
      "metadata": {
        "id": "C2t4nZKht7YA"
      },
      "source": [
        "### **Ejercicio 8b:**\n",
        "\n",
        "* **Interpretación de los resultados obtenidos:**\n",
        "\n",
        "++++++++++++++++++++++++++++++++++++++++++++++++++++++++++\n",
        "\n",
        "Incluye aquí tu respuesta.\n",
        "\n",
        "**None**\n",
        "\n",
        "++++++++++++++++++++++++++++++++++++++++++++++++++++++++++"
      ]
    },
    {
      "cell_type": "markdown",
      "metadata": {
        "id": "oZpAB6b6uSp1"
      },
      "source": [
        "## **Ejercicio - 9**"
      ]
    },
    {
      "cell_type": "markdown",
      "metadata": {
        "id": "lavZX1CjuV2F"
      },
      "source": [
        "### **Ejercicio 9a:**\n",
        "\n",
        "* **Usa el atributo \"feature_imortances_\" del mejor modelo encontrado para obtener los factores que influyen más en la predicción de la cantidad de bicicletas rentadas por día.**\n"
      ]
    },
    {
      "cell_type": "code",
      "execution_count": 23,
      "metadata": {
        "id": "ZgbvT2V0TH7h"
      },
      "outputs": [],
      "source": [
        "# Ejercicio 9a:\n",
        "\n",
        "# ************* Inicia sección para agregar tu código:**************************\n",
        "# Incluye todas las celdas que consideres necesarias.\n",
        "\n",
        "\n",
        "None\n"
      ]
    },
    {
      "cell_type": "markdown",
      "metadata": {
        "id": "q7iB3SjPvnWe"
      },
      "source": [
        "### **Ejercicio 9b:**\n",
        "\n",
        "* **Usa la librería SHAP con el mejor modelo encontrado para obtener los factores que influyen más en la predicción de la cantidad de bicicletas rentadas por día.**\n",
        "\n",
        "NOTA: Puedes revisar la documentación correspondiente para el uso e interpretación de los gráficos de SHAP:\n",
        "\n",
        "https://github.com/shap/shap\n",
        "\n",
        "https://shap-readthedocs-io.translate.goog/en/latest/example_notebooks/api_examples/plots/beeswarm.html?_x_tr_sl=en&_x_tr_tl=es&_x_tr_hl=es&_x_tr_pto=tc\n",
        "\n"
      ]
    },
    {
      "cell_type": "code",
      "execution_count": 24,
      "metadata": {
        "id": "Xf78cH4QTH35"
      },
      "outputs": [],
      "source": [
        "# Ejercicio 9b:\n",
        "\n",
        "# ************* Inicia sección para agregar tu código:**************************\n",
        "# Incluye todas las celdas que consideres necesarias.\n",
        "\n",
        "\n",
        "None\n",
        "\n"
      ]
    },
    {
      "cell_type": "markdown",
      "metadata": {
        "id": "O9NMSjyNwdXy"
      },
      "source": [
        "### **Ejercicio 9c:**\n",
        "\n",
        "* **Incluye tu interpretación de los resultados obtenidos. En particular indica las coincidencias y diferencias entre ambos métodos de importancia de factores.**\n",
        "\n",
        "++++++++++++++++++++++++++++++++++++++++++++++++++++++++++\n",
        "\n",
        "Incluye aquí tu respuesta.\n",
        "\n",
        "**None**\n",
        "\n",
        "++++++++++++++++++++++++++++++++++++++++++++++++++++++++++"
      ]
    },
    {
      "cell_type": "markdown",
      "metadata": {
        "id": "I6Q32efGw61s"
      },
      "source": [
        "## **Ejercicio - 10**"
      ]
    },
    {
      "cell_type": "markdown",
      "metadata": {
        "id": "e_qW8asPxMwq"
      },
      "source": [
        "Incluye tus conclusiones finales de la actividad.\n",
        "\n",
        "++++++++++++++++++++++++++++++++++++++++++++++++++++++++++\n",
        "\n",
        "Incluye aquí tu respuesta.\n",
        "\n",
        "**None**\n",
        "\n",
        "++++++++++++++++++++++++++++++++++++++++++++++++++++++++++"
      ]
    },
    {
      "cell_type": "markdown",
      "metadata": {
        "id": "5TpR5Ae2xfkB"
      },
      "source": [
        "# **Fin de la Actividad de modelos basados en árboles**"
      ]
    }
  ],
  "metadata": {
    "colab": {
      "collapsed_sections": [
        "aJvdRW_asVWr",
        "_mK6SXmx-m71",
        "CLWCrmnpse89",
        "OLm-v3BQZc6C",
        "u_90FNhcb57J",
        "HoE8lNuXlzue",
        "DH5sJn73pNFS",
        "H5pzkWGfpXSy",
        "BDSAQF8iqh8h",
        "zt8H5PLasumX",
        "oZpAB6b6uSp1",
        "I6Q32efGw61s"
      ],
      "provenance": [],
      "include_colab_link": true
    },
    "kernelspec": {
      "display_name": ".venv (3.11.9)",
      "language": "python",
      "name": "python3"
    },
    "language_info": {
      "codemirror_mode": {
        "name": "ipython",
        "version": 3
      },
      "file_extension": ".py",
      "mimetype": "text/x-python",
      "name": "python",
      "nbconvert_exporter": "python",
      "pygments_lexer": "ipython3",
      "version": "3.11.9"
    }
  },
  "nbformat": 4,
  "nbformat_minor": 0
}