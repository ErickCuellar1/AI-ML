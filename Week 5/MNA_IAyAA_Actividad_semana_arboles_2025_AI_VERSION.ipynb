{
  "cells": [
    {
      "cell_type": "markdown",
      "metadata": {
        "id": "vDYSbZQXQGjF"
      },
      "source": [
        "# **Maestría en Inteligencia Artificial Aplicada**\n",
        "\n",
        "## **Curso: Inteligencia Artificial y Aprendizaje Automático**\n",
        "\n",
        "Tecnológico de Monterrey\n",
        "\n",
        "Prof Luis Eduardo Falcón Morales\n",
        "\n",
        "### **Actividad de la semana: Modelos basados en Árboles**"
      ]
    },
    {
      "cell_type": "markdown",
      "metadata": {
        "id": "9k7wepYbUvx5"
      },
      "source": [
        "\n",
        "**Nombre y matrícula:**\n"
      ]
    },
    {
      "cell_type": "markdown",
      "metadata": {
        "id": "aJvdRW_asVWr"
      },
      "source": [
        "# **PARTE - 1 - Bosque Aleatorio (Random Forest) - Clasificación**"
      ]
    },
    {
      "cell_type": "code",
      "execution_count": 1,
      "metadata": {
        "id": "oLDgzdzq5szg"
      },
      "outputs": [],
      "source": [
        "# Importamos lo necesario para la actividad\n",
        "\n",
        "import numpy as np\n",
        "import pandas as pd\n",
        "import matplotlib.pyplot as plt\n",
        "import seaborn as sns\n",
        "from sklearn.datasets import make_classification\n",
        "from sklearn.model_selection import train_test_split, RandomizedSearchCV, learning_curve, cross_val_score, StratifiedKFold\n",
        "from sklearn.model_selection import GridSearchCV\n",
        "from sklearn.ensemble import RandomForestClassifier\n",
        "from sklearn.metrics import confusion_matrix, classification_report, roc_curve, auc, precision_recall_curve, average_precision_score\n",
        "from sklearn.metrics import make_scorer, recall_score, accuracy_score, precision_score, f1_score\n",
        "from sklearn.preprocessing import StandardScaler\n",
        "from imblearn.metrics import classification_report_imbalanced\n",
        "from sklearn.dummy import DummyClassifier\n",
        "\n",
        "from imblearn.pipeline import Pipeline\n",
        "from imblearn.over_sampling import SMOTE\n",
        "from imblearn.combine import SMOTEENN\n",
        "\n",
        "np.random.seed(17)"
      ]
    },
    {
      "cell_type": "code",
      "execution_count": 2,
      "metadata": {
        "id": "Gv02e0nI5ylj"
      },
      "outputs": [],
      "source": [
        "# Para esta actividad vamos a generar datos sintéticos para un problema de\n",
        "# clasificación binario utilizando \"make_classification\" de scikitlearn.\n",
        "\n",
        "\n",
        "# Recuerda consultar la documentación para mayor información:\n",
        "# https://scikit-learn.org/stable/modules/generated/sklearn.datasets.make_classification.html\n",
        "\n",
        "\n",
        "# Utilizaremos los siguientes valores de los hiperparámetros de make_classification:\n",
        "# - n_samples: número de muestras o registros a generar.\n",
        "# - n_features: número total de características o variables de entrada X.\n",
        "# - n_informative: número de características informativas o independientes.\n",
        "# - n_redundant: número de características redundantes.\n",
        "# - weights: pesos para las clases [0,1]-->[Clase_Mayoritaria_Negativa(0), clase_minoritaria_positiva(1)].\n",
        "# - class_sep: separación entre clases (mayor valor --> clases más separables y menos complejo).\n",
        "# - flip_y: fracción de ejemplos cuya clase se cambia aleatoriamente (ruido), para hacerlo más complejo.\n",
        "# - random_state: semilla para reproducibilidad.\n",
        "\n",
        "X, y = make_classification(\n",
        "    n_samples=10_000,          # 10,000 registros\n",
        "    n_features=20,             # factores en total\n",
        "    n_informative=15,          # factores informativos o variables de entrada independientes\n",
        "    n_redundant=5,             # factores redundantes (dependientes). Para añadir complejidad usamos valor > 0\n",
        "    weights=[0.88, 0.12],      # Desbalance de clases: Mayoritaria clase 0; minoritaria clase 1\n",
        "    class_sep=1.0,             # Separación entre clases\n",
        "    n_classes=2,               # Dos clases\n",
        "    n_clusters_per_class=1,    # Para agregar complejidad adicional considera valores > 1\n",
        "    flip_y=0.01,              # Añadir algo de ruido. default 0.01\n",
        "    random_state=17,\n",
        ")"
      ]
    },
    {
      "cell_type": "code",
      "execution_count": 3,
      "metadata": {
        "id": "QMhcUInh78C1"
      },
      "outputs": [
        {
          "name": "stdout",
          "output_type": "stream",
          "text": [
            "Total de registros generados: 10000\n",
            "Distribución de clases: target\n",
            "0    87.7%\n",
            "1    12.3%\n",
            "Name: proportion, dtype: object\n",
            "Cantidad de factores: 20\n"
          ]
        }
      ],
      "source": [
        "# A continuación transformamos el conjunto de datos para que ya\n",
        "# están escalados alrededor del cero y donde todas las variables\n",
        "# sean numéricas.\n",
        "\n",
        "# Escalamos las características para que estén en el mismo rango:\n",
        "scaler = StandardScaler()\n",
        "X_scaled = scaler.fit_transform(X)\n",
        "\n",
        "# Creamos un DataFrame para su mejor manejo\n",
        "feature_names = [f'feature_{i+1}' for i in range(20)]\n",
        "df = pd.DataFrame(X_scaled, columns=feature_names)\n",
        "df['target'] = y\n",
        "\n",
        "print(f\"Total de registros generados: {len(df)}\")\n",
        "print(f\"Distribución de clases: {df['target'].value_counts(normalize=True).mul(100).round(1).astype(str) + '%'}\")\n",
        "print(f\"Cantidad de factores: {len(feature_names)}\")"
      ]
    },
    {
      "cell_type": "code",
      "execution_count": 4,
      "metadata": {
        "id": "jkmFcmS-7rnP"
      },
      "outputs": [
        {
          "data": {
            "text/html": [
              "<div>\n",
              "<style scoped>\n",
              "    .dataframe tbody tr th:only-of-type {\n",
              "        vertical-align: middle;\n",
              "    }\n",
              "\n",
              "    .dataframe tbody tr th {\n",
              "        vertical-align: top;\n",
              "    }\n",
              "\n",
              "    .dataframe thead th {\n",
              "        text-align: right;\n",
              "    }\n",
              "</style>\n",
              "<table border=\"1\" class=\"dataframe\">\n",
              "  <thead>\n",
              "    <tr style=\"text-align: right;\">\n",
              "      <th></th>\n",
              "      <th>count</th>\n",
              "      <th>mean</th>\n",
              "      <th>std</th>\n",
              "      <th>min</th>\n",
              "      <th>25%</th>\n",
              "      <th>50%</th>\n",
              "      <th>75%</th>\n",
              "      <th>max</th>\n",
              "    </tr>\n",
              "  </thead>\n",
              "  <tbody>\n",
              "    <tr>\n",
              "      <th>feature_1</th>\n",
              "      <td>10000.0</td>\n",
              "      <td>-2.975398e-16</td>\n",
              "      <td>1.000050</td>\n",
              "      <td>-3.319283</td>\n",
              "      <td>-0.684822</td>\n",
              "      <td>0.004073</td>\n",
              "      <td>0.677250</td>\n",
              "      <td>3.687062</td>\n",
              "    </tr>\n",
              "    <tr>\n",
              "      <th>feature_2</th>\n",
              "      <td>10000.0</td>\n",
              "      <td>7.526424e-16</td>\n",
              "      <td>1.000050</td>\n",
              "      <td>-4.695898</td>\n",
              "      <td>-0.625902</td>\n",
              "      <td>0.032897</td>\n",
              "      <td>0.677990</td>\n",
              "      <td>3.586427</td>\n",
              "    </tr>\n",
              "    <tr>\n",
              "      <th>feature_3</th>\n",
              "      <td>10000.0</td>\n",
              "      <td>-1.200817e-15</td>\n",
              "      <td>1.000050</td>\n",
              "      <td>-4.145038</td>\n",
              "      <td>-0.678332</td>\n",
              "      <td>-0.011665</td>\n",
              "      <td>0.652550</td>\n",
              "      <td>4.905356</td>\n",
              "    </tr>\n",
              "    <tr>\n",
              "      <th>feature_4</th>\n",
              "      <td>10000.0</td>\n",
              "      <td>-2.557954e-17</td>\n",
              "      <td>1.000050</td>\n",
              "      <td>-4.334555</td>\n",
              "      <td>-0.687072</td>\n",
              "      <td>0.003736</td>\n",
              "      <td>0.685287</td>\n",
              "      <td>3.593032</td>\n",
              "    </tr>\n",
              "    <tr>\n",
              "      <th>feature_5</th>\n",
              "      <td>10000.0</td>\n",
              "      <td>-1.136868e-16</td>\n",
              "      <td>1.000050</td>\n",
              "      <td>-3.321957</td>\n",
              "      <td>-0.669080</td>\n",
              "      <td>-0.006064</td>\n",
              "      <td>0.664607</td>\n",
              "      <td>3.892569</td>\n",
              "    </tr>\n",
              "    <tr>\n",
              "      <th>feature_6</th>\n",
              "      <td>10000.0</td>\n",
              "      <td>-7.531753e-16</td>\n",
              "      <td>1.000050</td>\n",
              "      <td>-3.909673</td>\n",
              "      <td>-0.672018</td>\n",
              "      <td>-0.008130</td>\n",
              "      <td>0.664904</td>\n",
              "      <td>4.121387</td>\n",
              "    </tr>\n",
              "    <tr>\n",
              "      <th>feature_7</th>\n",
              "      <td>10000.0</td>\n",
              "      <td>-3.552714e-16</td>\n",
              "      <td>1.000050</td>\n",
              "      <td>-4.343465</td>\n",
              "      <td>-0.670030</td>\n",
              "      <td>0.000240</td>\n",
              "      <td>0.675504</td>\n",
              "      <td>4.006125</td>\n",
              "    </tr>\n",
              "    <tr>\n",
              "      <th>feature_8</th>\n",
              "      <td>10000.0</td>\n",
              "      <td>-2.280842e-16</td>\n",
              "      <td>1.000050</td>\n",
              "      <td>-3.595287</td>\n",
              "      <td>-0.664497</td>\n",
              "      <td>0.001492</td>\n",
              "      <td>0.678691</td>\n",
              "      <td>4.218665</td>\n",
              "    </tr>\n",
              "    <tr>\n",
              "      <th>feature_9</th>\n",
              "      <td>10000.0</td>\n",
              "      <td>1.228528e-15</td>\n",
              "      <td>1.000050</td>\n",
              "      <td>-4.178195</td>\n",
              "      <td>-0.669604</td>\n",
              "      <td>0.011517</td>\n",
              "      <td>0.674292</td>\n",
              "      <td>3.222102</td>\n",
              "    </tr>\n",
              "    <tr>\n",
              "      <th>feature_10</th>\n",
              "      <td>10000.0</td>\n",
              "      <td>-1.023182e-15</td>\n",
              "      <td>1.000050</td>\n",
              "      <td>-3.792678</td>\n",
              "      <td>-0.656117</td>\n",
              "      <td>0.012811</td>\n",
              "      <td>0.683887</td>\n",
              "      <td>3.803196</td>\n",
              "    </tr>\n",
              "    <tr>\n",
              "      <th>feature_11</th>\n",
              "      <td>10000.0</td>\n",
              "      <td>7.105427e-17</td>\n",
              "      <td>1.000050</td>\n",
              "      <td>-3.708944</td>\n",
              "      <td>-0.681193</td>\n",
              "      <td>-0.006515</td>\n",
              "      <td>0.671897</td>\n",
              "      <td>3.900616</td>\n",
              "    </tr>\n",
              "    <tr>\n",
              "      <th>feature_12</th>\n",
              "      <td>10000.0</td>\n",
              "      <td>-1.590195e-15</td>\n",
              "      <td>1.000050</td>\n",
              "      <td>-3.590769</td>\n",
              "      <td>-0.673371</td>\n",
              "      <td>0.018082</td>\n",
              "      <td>0.674805</td>\n",
              "      <td>3.888525</td>\n",
              "    </tr>\n",
              "    <tr>\n",
              "      <th>feature_13</th>\n",
              "      <td>10000.0</td>\n",
              "      <td>-1.265477e-15</td>\n",
              "      <td>1.000050</td>\n",
              "      <td>-3.531079</td>\n",
              "      <td>-0.686781</td>\n",
              "      <td>-0.011999</td>\n",
              "      <td>0.675688</td>\n",
              "      <td>3.820194</td>\n",
              "    </tr>\n",
              "    <tr>\n",
              "      <th>feature_14</th>\n",
              "      <td>10000.0</td>\n",
              "      <td>-2.104628e-15</td>\n",
              "      <td>1.000050</td>\n",
              "      <td>-3.700766</td>\n",
              "      <td>-0.681774</td>\n",
              "      <td>-0.004282</td>\n",
              "      <td>0.676168</td>\n",
              "      <td>3.611966</td>\n",
              "    </tr>\n",
              "    <tr>\n",
              "      <th>feature_15</th>\n",
              "      <td>10000.0</td>\n",
              "      <td>9.531931e-16</td>\n",
              "      <td>1.000050</td>\n",
              "      <td>-3.983869</td>\n",
              "      <td>-0.681577</td>\n",
              "      <td>0.005401</td>\n",
              "      <td>0.676399</td>\n",
              "      <td>3.574353</td>\n",
              "    </tr>\n",
              "    <tr>\n",
              "      <th>feature_16</th>\n",
              "      <td>10000.0</td>\n",
              "      <td>-3.431921e-16</td>\n",
              "      <td>1.000050</td>\n",
              "      <td>-3.750420</td>\n",
              "      <td>-0.680181</td>\n",
              "      <td>0.000287</td>\n",
              "      <td>0.677618</td>\n",
              "      <td>3.537105</td>\n",
              "    </tr>\n",
              "    <tr>\n",
              "      <th>feature_17</th>\n",
              "      <td>10000.0</td>\n",
              "      <td>-6.274092e-16</td>\n",
              "      <td>1.000050</td>\n",
              "      <td>-4.476568</td>\n",
              "      <td>-0.654400</td>\n",
              "      <td>0.005515</td>\n",
              "      <td>0.670779</td>\n",
              "      <td>5.059527</td>\n",
              "    </tr>\n",
              "    <tr>\n",
              "      <th>feature_18</th>\n",
              "      <td>10000.0</td>\n",
              "      <td>2.017941e-16</td>\n",
              "      <td>1.000050</td>\n",
              "      <td>-3.667382</td>\n",
              "      <td>-0.667150</td>\n",
              "      <td>-0.011120</td>\n",
              "      <td>0.673768</td>\n",
              "      <td>3.722115</td>\n",
              "    </tr>\n",
              "    <tr>\n",
              "      <th>feature_19</th>\n",
              "      <td>10000.0</td>\n",
              "      <td>-2.051337e-15</td>\n",
              "      <td>1.000050</td>\n",
              "      <td>-3.952765</td>\n",
              "      <td>-0.672314</td>\n",
              "      <td>0.017275</td>\n",
              "      <td>0.671184</td>\n",
              "      <td>3.580861</td>\n",
              "    </tr>\n",
              "    <tr>\n",
              "      <th>feature_20</th>\n",
              "      <td>10000.0</td>\n",
              "      <td>2.338041e-15</td>\n",
              "      <td>1.000050</td>\n",
              "      <td>-4.122353</td>\n",
              "      <td>-0.666474</td>\n",
              "      <td>0.017883</td>\n",
              "      <td>0.668517</td>\n",
              "      <td>4.006657</td>\n",
              "    </tr>\n",
              "    <tr>\n",
              "      <th>target</th>\n",
              "      <td>10000.0</td>\n",
              "      <td>1.232000e-01</td>\n",
              "      <td>0.328683</td>\n",
              "      <td>0.000000</td>\n",
              "      <td>0.000000</td>\n",
              "      <td>0.000000</td>\n",
              "      <td>0.000000</td>\n",
              "      <td>1.000000</td>\n",
              "    </tr>\n",
              "  </tbody>\n",
              "</table>\n",
              "</div>"
            ],
            "text/plain": [
              "              count          mean       std       min       25%       50%  \\\n",
              "feature_1   10000.0 -2.975398e-16  1.000050 -3.319283 -0.684822  0.004073   \n",
              "feature_2   10000.0  7.526424e-16  1.000050 -4.695898 -0.625902  0.032897   \n",
              "feature_3   10000.0 -1.200817e-15  1.000050 -4.145038 -0.678332 -0.011665   \n",
              "feature_4   10000.0 -2.557954e-17  1.000050 -4.334555 -0.687072  0.003736   \n",
              "feature_5   10000.0 -1.136868e-16  1.000050 -3.321957 -0.669080 -0.006064   \n",
              "feature_6   10000.0 -7.531753e-16  1.000050 -3.909673 -0.672018 -0.008130   \n",
              "feature_7   10000.0 -3.552714e-16  1.000050 -4.343465 -0.670030  0.000240   \n",
              "feature_8   10000.0 -2.280842e-16  1.000050 -3.595287 -0.664497  0.001492   \n",
              "feature_9   10000.0  1.228528e-15  1.000050 -4.178195 -0.669604  0.011517   \n",
              "feature_10  10000.0 -1.023182e-15  1.000050 -3.792678 -0.656117  0.012811   \n",
              "feature_11  10000.0  7.105427e-17  1.000050 -3.708944 -0.681193 -0.006515   \n",
              "feature_12  10000.0 -1.590195e-15  1.000050 -3.590769 -0.673371  0.018082   \n",
              "feature_13  10000.0 -1.265477e-15  1.000050 -3.531079 -0.686781 -0.011999   \n",
              "feature_14  10000.0 -2.104628e-15  1.000050 -3.700766 -0.681774 -0.004282   \n",
              "feature_15  10000.0  9.531931e-16  1.000050 -3.983869 -0.681577  0.005401   \n",
              "feature_16  10000.0 -3.431921e-16  1.000050 -3.750420 -0.680181  0.000287   \n",
              "feature_17  10000.0 -6.274092e-16  1.000050 -4.476568 -0.654400  0.005515   \n",
              "feature_18  10000.0  2.017941e-16  1.000050 -3.667382 -0.667150 -0.011120   \n",
              "feature_19  10000.0 -2.051337e-15  1.000050 -3.952765 -0.672314  0.017275   \n",
              "feature_20  10000.0  2.338041e-15  1.000050 -4.122353 -0.666474  0.017883   \n",
              "target      10000.0  1.232000e-01  0.328683  0.000000  0.000000  0.000000   \n",
              "\n",
              "                 75%       max  \n",
              "feature_1   0.677250  3.687062  \n",
              "feature_2   0.677990  3.586427  \n",
              "feature_3   0.652550  4.905356  \n",
              "feature_4   0.685287  3.593032  \n",
              "feature_5   0.664607  3.892569  \n",
              "feature_6   0.664904  4.121387  \n",
              "feature_7   0.675504  4.006125  \n",
              "feature_8   0.678691  4.218665  \n",
              "feature_9   0.674292  3.222102  \n",
              "feature_10  0.683887  3.803196  \n",
              "feature_11  0.671897  3.900616  \n",
              "feature_12  0.674805  3.888525  \n",
              "feature_13  0.675688  3.820194  \n",
              "feature_14  0.676168  3.611966  \n",
              "feature_15  0.676399  3.574353  \n",
              "feature_16  0.677618  3.537105  \n",
              "feature_17  0.670779  5.059527  \n",
              "feature_18  0.673768  3.722115  \n",
              "feature_19  0.671184  3.580861  \n",
              "feature_20  0.668517  4.006657  \n",
              "target      0.000000  1.000000  "
            ]
          },
          "execution_count": 4,
          "metadata": {},
          "output_type": "execute_result"
        }
      ],
      "source": [
        "pd.DataFrame(df).describe().T"
      ]
    },
    {
      "cell_type": "code",
      "execution_count": 5,
      "metadata": {
        "colab": {
          "base_uri": "https://localhost:8080/"
        },
        "id": "fIhubZHG8a-Y",
        "outputId": "b5596e14-1b80-46c3-89e3-ae99b2a8c484"
      },
      "outputs": [
        {
          "name": "stdout",
          "output_type": "stream",
          "text": [
            "Tamaño del conjunto de entrenamiento: 8000 muestras\n",
            "Tamaño del conjunto de prueba: 2000 muestras\n"
          ]
        }
      ],
      "source": [
        "# Separamos las variables de entrada y la variable objetivo de salida:\n",
        "X = df.drop('target', axis=1).values\n",
        "y = df['target'].values\n",
        "\n",
        "# Dividimos el conjunto de datos en entrenamiento (80%) y prueba (20%)\n",
        "# Como vamos a utilizar Validación Cruzada, la partición será solamente\n",
        "# con los conjuntos de Entrenamiento y Prueba.\n",
        "# Además usamos \"stratify\" para mantener la proporción de clases en la partición.\n",
        "X_train, X_test, y_train, y_test = train_test_split(X, y, test_size=0.2, random_state=17, stratify=y)\n",
        "\n",
        "print(f\"Tamaño del conjunto de entrenamiento: {X_train.shape[0]} muestras\")\n",
        "print(f\"Tamaño del conjunto de prueba: {X_test.shape[0]} muestras\")"
      ]
    },
    {
      "cell_type": "code",
      "execution_count": 6,
      "metadata": {
        "id": "ItnzozIq8i9b"
      },
      "outputs": [
        {
          "name": "stdout",
          "output_type": "stream",
          "text": [
            "Salidas del modelo Dummy con diferentes estrategias\n",
            "para calcular umbrales del modelo base (baseline):\n",
            "--------------------------------------------------\n",
            "\n",
            "\n",
            "Estrategia: most_frequent\n",
            "Accuracy: 0.8769\n",
            "Recall: 0.0000\n",
            "Precision: 0.0000\n",
            "F1 Score: 0.0000\n",
            "Matriz de Confusión:\n",
            "[[1403    0]\n",
            " [ 197    0]]\n",
            "------------------------------\n",
            "\n",
            "\n",
            "Estrategia: prior\n",
            "Accuracy: 0.8769\n",
            "Recall: 0.0000\n",
            "Precision: 0.0000\n",
            "F1 Score: 0.0000\n",
            "Matriz de Confusión:\n",
            "[[1403    0]\n",
            " [ 197    0]]\n",
            "------------------------------\n",
            "\n",
            "\n",
            "Estrategia: stratified\n",
            "Accuracy: 0.8006\n",
            "Recall: 0.1015\n",
            "Precision: 0.1235\n",
            "F1 Score: 0.1114\n",
            "Matriz de Confusión:\n",
            "[[1261  142]\n",
            " [ 177   20]]\n",
            "------------------------------\n",
            "\n",
            "\n",
            "Estrategia: uniform\n",
            "Accuracy: 0.4856\n",
            "Recall: 0.4670\n",
            "Precision: 0.1136\n",
            "F1 Score: 0.1827\n",
            "Matriz de Confusión:\n",
            "[[685 718]\n",
            " [105  92]]\n",
            "------------------------------\n",
            "\n",
            "\n"
          ]
        },
        {
          "name": "stderr",
          "output_type": "stream",
          "text": [
            "c:\\Coding\\Masters\\AI-ML\\.venv\\Lib\\site-packages\\sklearn\\metrics\\_classification.py:1731: UndefinedMetricWarning: Precision is ill-defined and being set to 0.0 due to no predicted samples. Use `zero_division` parameter to control this behavior.\n",
            "  _warn_prf(average, modifier, f\"{metric.capitalize()} is\", result.shape[0])\n",
            "c:\\Coding\\Masters\\AI-ML\\.venv\\Lib\\site-packages\\sklearn\\metrics\\_classification.py:1731: UndefinedMetricWarning: Precision is ill-defined and being set to 0.0 due to no predicted samples. Use `zero_division` parameter to control this behavior.\n",
            "  _warn_prf(average, modifier, f\"{metric.capitalize()} is\", result.shape[0])\n"
          ]
        },
        {
          "data": {
            "text/html": [
              "<div>\n",
              "<style scoped>\n",
              "    .dataframe tbody tr th:only-of-type {\n",
              "        vertical-align: middle;\n",
              "    }\n",
              "\n",
              "    .dataframe tbody tr th {\n",
              "        vertical-align: top;\n",
              "    }\n",
              "\n",
              "    .dataframe thead th {\n",
              "        text-align: right;\n",
              "    }\n",
              "</style>\n",
              "<table border=\"1\" class=\"dataframe\">\n",
              "  <thead>\n",
              "    <tr style=\"text-align: right;\">\n",
              "      <th></th>\n",
              "      <th>Strategy</th>\n",
              "      <th>Accuracy</th>\n",
              "      <th>Recall</th>\n",
              "      <th>Precision</th>\n",
              "      <th>F1 Score</th>\n",
              "    </tr>\n",
              "  </thead>\n",
              "  <tbody>\n",
              "    <tr>\n",
              "      <th>0</th>\n",
              "      <td>most_frequent</td>\n",
              "      <td>0.876875</td>\n",
              "      <td>0.000000</td>\n",
              "      <td>0.000000</td>\n",
              "      <td>0.000000</td>\n",
              "    </tr>\n",
              "    <tr>\n",
              "      <th>1</th>\n",
              "      <td>prior</td>\n",
              "      <td>0.876875</td>\n",
              "      <td>0.000000</td>\n",
              "      <td>0.000000</td>\n",
              "      <td>0.000000</td>\n",
              "    </tr>\n",
              "    <tr>\n",
              "      <th>2</th>\n",
              "      <td>stratified</td>\n",
              "      <td>0.800625</td>\n",
              "      <td>0.101523</td>\n",
              "      <td>0.123457</td>\n",
              "      <td>0.111421</td>\n",
              "    </tr>\n",
              "    <tr>\n",
              "      <th>3</th>\n",
              "      <td>uniform</td>\n",
              "      <td>0.485625</td>\n",
              "      <td>0.467005</td>\n",
              "      <td>0.113580</td>\n",
              "      <td>0.182721</td>\n",
              "    </tr>\n",
              "  </tbody>\n",
              "</table>\n",
              "</div>"
            ],
            "text/plain": [
              "        Strategy  Accuracy    Recall  Precision  F1 Score\n",
              "0  most_frequent  0.876875  0.000000   0.000000  0.000000\n",
              "1          prior  0.876875  0.000000   0.000000  0.000000\n",
              "2     stratified  0.800625  0.101523   0.123457  0.111421\n",
              "3        uniform  0.485625  0.467005   0.113580  0.182721"
            ]
          },
          "metadata": {},
          "output_type": "display_data"
        }
      ],
      "source": [
        "# Obtengamos los siguientes resultados con la función Dummy,\n",
        "# con una partición provisional para el Dummy:\n",
        "\n",
        "Xt, Xv, yt, yv = train_test_split(X_train, y_train, test_size=0.2, random_state=17, stratify=y_train)\n",
        "\n",
        "estrategias = ['most_frequent','prior','stratified','uniform']\n",
        "\n",
        "print(\"Salidas del modelo Dummy con diferentes estrategias\")\n",
        "print(\"para calcular umbrales del modelo base (baseline):\")\n",
        "print(\"-\"*50)\n",
        "print(\"\\n\")\n",
        "\n",
        "all_results = []\n",
        "\n",
        "for estrategia in estrategias:\n",
        "  dummy_clf = DummyClassifier(strategy=estrategia, random_state=17)\n",
        "  dummy_clf.fit(Xt, yt)\n",
        "  y_pred = dummy_clf.predict(Xv)\n",
        "\n",
        "  acc = accuracy_score(yv, y_pred)\n",
        "  rec = recall_score(yv, y_pred, pos_label=1)\n",
        "  prec = precision_score(yv, y_pred, pos_label=1)\n",
        "  f1_sc = f1_score(yv, y_pred, pos_label=1)\n",
        "\n",
        "  all_results.append({\n",
        "      'Strategy': estrategia,\n",
        "      'Accuracy': acc,\n",
        "      'Recall': rec,\n",
        "      'Precision': prec,\n",
        "      'F1 Score': f1_sc\n",
        "  })\n",
        "\n",
        "  print(f\"Estrategia: {estrategia}\")\n",
        "  print(f\"Accuracy: {acc:.4f}\")\n",
        "  print(f\"Recall: {rec:.4f}\")\n",
        "  print(f\"Precision: {prec:.4f}\")\n",
        "  print(f\"F1 Score: {f1_sc:.4f}\")\n",
        "\n",
        "  print(\"Matriz de Confusión:\")\n",
        "  cm = confusion_matrix(yv, y_pred)  # , normalize='true'\n",
        "  print(cm)\n",
        "  print(\"-\"*30)\n",
        "  print(\"\\n\")\n",
        "\n",
        "dummy_results_df = pd.DataFrame(all_results)\n",
        "display(dummy_results_df)"
      ]
    },
    {
      "cell_type": "markdown",
      "metadata": {
        "id": "_mK6SXmx-m71"
      },
      "source": [
        "## **Ejercicio - 1**"
      ]
    },
    {
      "cell_type": "markdown",
      "metadata": {
        "id": "1G99WdcMCbxo"
      },
      "source": [
        "### **Ejercicio 1a**\n",
        "\n",
        "**En la salida anterior se obtuvieron dos advertencias (warnings).**\n",
        "\n",
        "* **a) ¿A cuáles casos de las estrategias Dummy están asociadas esas advertencias?**\n",
        "\n",
        "Las advertencias aparecen con las estrategias `stratified` y `uniform`, que en algunas particiones no generan predicciones para la clase positiva.\n",
        "\n",
        "\n",
        "* **b) Explica qué significan esas advertencias y relaciona la explicación con los valores de las matrices de confusión correspondientes.**\n",
        "\n",
        "El mensaje indica que la métrica (precisión, recall o F1) es indefinida porque el modelo no produjo verdaderos positivos: en la matriz de confusión de esas estrategias las columnas asociadas a la clase positiva son cero. En esos casos, la librería devuelve el valor 0 y advierte que la división por cero impide evaluar correctamente la métrica."
      ]
    },
    {
      "cell_type": "markdown",
      "metadata": {
        "id": "sTAOZJ49-dOM"
      },
      "source": [
        "### **Ejercicio 1b**\n",
        "\n",
        "**Sabemos que si consideramos la métrica de la exactitud (accuracy) como nuestra métrica principal, el umbral del modelo base (baseline) sería del 87.7%. Sin embargo, como tenemos un problema de clases desbalanceadas debiéramos utilizar otra métrica que nos ayude a medir mejor el desempeño del modelo. Indica en cada uno de los siguientes incisos cuál sería el valor del modelo base que debiéramos utilizar, de acuerdo a la métrica que se indica:**\n",
        "\n",
        "* **a) Precision:** 0.123 (Dummy con estrategia `stratified`)\n",
        "\n",
        "* **b) Recall:** 0.467 (Dummy con estrategia `uniform`)\n",
        "\n",
        "* **c) F1-Score:** 0.183 (Dummy con estrategia `uniform`)"
      ]
    },
    {
      "cell_type": "markdown",
      "metadata": {
        "id": "8Sqh3yly-qu4"
      },
      "source": [
        "NOTA: La documentación de la función Dummy la puedes encontrar en la siguiente liga:\n",
        "\n",
        "https://scikit-learn.org/stable/modules/generated/sklearn.dummy.DummyClassifier.html"
      ]
    },
    {
      "cell_type": "markdown",
      "metadata": {
        "id": "CLWCrmnpse89"
      },
      "source": [
        "# **PARTE - 2 - XGBoost - Regressor**"
      ]
    },
    {
      "cell_type": "markdown",
      "metadata": {
        "id": "Nq7Z7l2sTYuv"
      },
      "source": [
        "Para este ejercicio usaremos los datos llamados Bike-Sharing, en particular los del archivo \"day.csv\".\n",
        "\n",
        "La información de los datos y el archivo lo encuentras en la siguiente liga:\n",
        "\n",
        "https://archive.ics.uci.edu/dataset/275/bike+sharing+dataset\n",
        "\n",
        "El archivo contiene información de la cantidad de bicicletas rentadas por día en la ciudad de Washington, D.C. a través de un servicio llamado \"Captial Bike Sharing (CBS)\", que les proporciona el gobierno municipal. Esta será nuestra variable objetivo a predecir. Los factores o variables de entrada a considerar son diversos, por ejemplo, la temperatura, humedad, día de la semana, días feriados, etc. Los datos se registraron durante los años 2011 y 2012.\n",
        "\n",
        "Puedes encontrar más información del problema en  https://github.com/jkelleman/rental-bike-sharing\n",
        "\n"
      ]
    },
    {
      "cell_type": "markdown",
      "metadata": {
        "id": "fiQoHszhY00K"
      },
      "source": [
        "En esta segunda parte no se te incluye el código. Con base a los ejercicios de muestra de esta semana y lo visto en semanas anteriores, deberás incluir el código correspondiente. Podrás incluir todas las celdas y código que consideres necesarias."
      ]
    },
    {
      "cell_type": "code",
      "execution_count": 24,
      "metadata": {
        "id": "hKfUxLwodsZ2"
      },
      "outputs": [],
      "source": [
        "# Incluye en esta celda todas las librerías y paquetes que requieras\n",
        "\n",
        "import numpy as np\n",
        "import pandas as pd\n",
        "import matplotlib.pyplot as plt\n",
        "import seaborn as sns\n",
        "from pathlib import Path\n",
        "\n",
        "from sklearn.compose import ColumnTransformer\n",
        "from sklearn.datasets import fetch_openml\n",
        "from sklearn.metrics import mean_squared_error\n",
        "from sklearn.model_selection import train_test_split, GridSearchCV, KFold\n",
        "from sklearn.pipeline import Pipeline\n",
        "from sklearn.preprocessing import OneHotEncoder\n",
        "\n",
        "from xgboost import XGBRegressor\n",
        "import shap\n",
        "\n",
        "plt.style.use('seaborn-v0_8')"
      ]
    },
    {
      "cell_type": "markdown",
      "metadata": {
        "id": "OLm-v3BQZc6C"
      },
      "source": [
        "## **Ejercicio - 2**"
      ]
    },
    {
      "cell_type": "markdown",
      "metadata": {
        "id": "Y--0_ZcqZrp6"
      },
      "source": [
        "* **Carga los datos del archivo \"day.csv\" en un DataFrame de Pandas y elimina las columnas \"instant\", \"dteday\", \"casual\" y \"registered\". Despliega los primeros renglones del DataFrame e indica la dimensión de los datos.**\n",
        "\n"
      ]
    },
    {
      "cell_type": "code",
      "execution_count": 25,
      "metadata": {
        "id": "dmZZDfp3at7J"
      },
      "outputs": [
        {
          "name": "stdout",
          "output_type": "stream",
          "text": [
            "Dimensión del DataFrame: (731, 12)\n"
          ]
        },
        {
          "data": {
            "text/html": [
              "<div>\n",
              "<style scoped>\n",
              "    .dataframe tbody tr th:only-of-type {\n",
              "        vertical-align: middle;\n",
              "    }\n",
              "\n",
              "    .dataframe tbody tr th {\n",
              "        vertical-align: top;\n",
              "    }\n",
              "\n",
              "    .dataframe thead th {\n",
              "        text-align: right;\n",
              "    }\n",
              "</style>\n",
              "<table border=\"1\" class=\"dataframe\">\n",
              "  <thead>\n",
              "    <tr style=\"text-align: right;\">\n",
              "      <th></th>\n",
              "      <th>season</th>\n",
              "      <th>year</th>\n",
              "      <th>month</th>\n",
              "      <th>holiday</th>\n",
              "      <th>weekday</th>\n",
              "      <th>workingday</th>\n",
              "      <th>weather</th>\n",
              "      <th>temp</th>\n",
              "      <th>feel_temp</th>\n",
              "      <th>humidity</th>\n",
              "      <th>windspeed</th>\n",
              "      <th>count</th>\n",
              "    </tr>\n",
              "  </thead>\n",
              "  <tbody>\n",
              "    <tr>\n",
              "      <th>0</th>\n",
              "      <td>1</td>\n",
              "      <td>0</td>\n",
              "      <td>1</td>\n",
              "      <td>0</td>\n",
              "      <td>6</td>\n",
              "      <td>0</td>\n",
              "      <td>2</td>\n",
              "      <td>0.344167</td>\n",
              "      <td>0.363625</td>\n",
              "      <td>0.805833</td>\n",
              "      <td>0.160446</td>\n",
              "      <td>985</td>\n",
              "    </tr>\n",
              "    <tr>\n",
              "      <th>1</th>\n",
              "      <td>1</td>\n",
              "      <td>0</td>\n",
              "      <td>1</td>\n",
              "      <td>0</td>\n",
              "      <td>0</td>\n",
              "      <td>0</td>\n",
              "      <td>2</td>\n",
              "      <td>0.363478</td>\n",
              "      <td>0.353739</td>\n",
              "      <td>0.696087</td>\n",
              "      <td>0.248539</td>\n",
              "      <td>801</td>\n",
              "    </tr>\n",
              "    <tr>\n",
              "      <th>2</th>\n",
              "      <td>1</td>\n",
              "      <td>0</td>\n",
              "      <td>1</td>\n",
              "      <td>0</td>\n",
              "      <td>1</td>\n",
              "      <td>1</td>\n",
              "      <td>1</td>\n",
              "      <td>0.196364</td>\n",
              "      <td>0.189405</td>\n",
              "      <td>0.437273</td>\n",
              "      <td>0.248309</td>\n",
              "      <td>1349</td>\n",
              "    </tr>\n",
              "    <tr>\n",
              "      <th>3</th>\n",
              "      <td>1</td>\n",
              "      <td>0</td>\n",
              "      <td>1</td>\n",
              "      <td>0</td>\n",
              "      <td>2</td>\n",
              "      <td>1</td>\n",
              "      <td>1</td>\n",
              "      <td>0.200000</td>\n",
              "      <td>0.212122</td>\n",
              "      <td>0.590435</td>\n",
              "      <td>0.160296</td>\n",
              "      <td>1562</td>\n",
              "    </tr>\n",
              "    <tr>\n",
              "      <th>4</th>\n",
              "      <td>1</td>\n",
              "      <td>0</td>\n",
              "      <td>1</td>\n",
              "      <td>0</td>\n",
              "      <td>3</td>\n",
              "      <td>1</td>\n",
              "      <td>1</td>\n",
              "      <td>0.226957</td>\n",
              "      <td>0.229270</td>\n",
              "      <td>0.436957</td>\n",
              "      <td>0.186900</td>\n",
              "      <td>1600</td>\n",
              "    </tr>\n",
              "  </tbody>\n",
              "</table>\n",
              "</div>"
            ],
            "text/plain": [
              "   season  year  month  holiday  weekday  workingday  weather      temp  \\\n",
              "0       1     0      1        0        6           0        2  0.344167   \n",
              "1       1     0      1        0        0           0        2  0.363478   \n",
              "2       1     0      1        0        1           1        1  0.196364   \n",
              "3       1     0      1        0        2           1        1  0.200000   \n",
              "4       1     0      1        0        3           1        1  0.226957   \n",
              "\n",
              "   feel_temp  humidity  windspeed  count  \n",
              "0   0.363625  0.805833   0.160446    985  \n",
              "1   0.353739  0.696087   0.248539    801  \n",
              "2   0.189405  0.437273   0.248309   1349  \n",
              "3   0.212122  0.590435   0.160296   1562  \n",
              "4   0.229270  0.436957   0.186900   1600  "
            ]
          },
          "metadata": {},
          "output_type": "display_data"
        }
      ],
      "source": [
        "# Ejercicio 2:\n",
        "\n",
        "#\n",
        "\n",
        "# ************* Inicia sección para agregar tu código:**************************\n",
        "\n",
        "# Incluye todas las celdas que consideres necesarias.\n",
        "\n",
        "\n",
        "\n",
        "possible_paths = [Path(\"day.csv\"), Path(\"Week 5\") / \"day.csv\"]\n",
        "\n",
        "data_path = next((p for p in possible_paths if p.exists()), None)\n",
        "\n",
        "\n",
        "\n",
        "if data_path is None:\n",
        "\n",
        "    raise FileNotFoundError(\"No se encontró 'day.csv' en la carpeta actual ni en 'Week 5'.\")\n",
        "\n",
        "\n",
        "\n",
        "bike_df = pd.read_csv(data_path)\n",
        "\n",
        "\n",
        "\n",
        "cols_to_drop = ['instant', 'dteday', 'casual', 'registered']\n",
        "\n",
        "existing_drop = [col for col in cols_to_drop if col in bike_df.columns]\n",
        "\n",
        "bike_df = bike_df.drop(columns=existing_drop)\n",
        "\n",
        "\n",
        "\n",
        "rename_columns = {\n",
        "\n",
        "    'yr': 'year',\n",
        "\n",
        "    'mnth': 'month',\n",
        "\n",
        "    'weathersit': 'weather',\n",
        "\n",
        "    'atemp': 'feel_temp',\n",
        "\n",
        "    'hum': 'humidity',\n",
        "\n",
        "    'cnt': 'count'\n",
        "\n",
        "}\n",
        "\n",
        "bike_df = bike_df.rename(columns=rename_columns)\n",
        "\n",
        "\n",
        "\n",
        "print(f\"Dimensión del DataFrame: {bike_df.shape}\")\n",
        "\n",
        "display(bike_df.head())"
      ]
    },
    {
      "cell_type": "markdown",
      "metadata": {
        "id": "u_90FNhcb57J"
      },
      "source": [
        "## **Ejercicio - 3**"
      ]
    },
    {
      "cell_type": "markdown",
      "metadata": {
        "id": "iO8RVibGcDCh"
      },
      "source": [
        "### **Ejercicio 3a:**\n",
        "\n",
        "* **Justifica por qué se eliminaron las 4 variables indicadas en el ejercicio anterior.**\n",
        "\n",
        "++++++++++++++++++++++++++++++++++++++++++++++++++++++++++\n",
        "\n",
        "Las columnas `instant` y `dteday` son identificadores o marcas temporales que no aportan información predictiva adicional una vez que ya contamos con variables calendáricas como `year`, `month`, `weekday` u `hour`; mantenerlas podría provocar que el modelo memorize la secuencia temporal. Las variables `casual` y `registered` descomponen directamente la variable objetivo (`count`). Incluirlas generaría filtrado de información porque el modelo vería una suma que reconstruye la salida, lo que conduciría a un desempeño artificialmente alto en entrenamiento pero sin valor para pronosticar el total de rentas a partir de factores verdaderamente observables.\n",
        "\n",
        "++++++++++++++++++++++++++++++++++++++++++++++++++++++++++"
      ]
    },
    {
      "cell_type": "markdown",
      "metadata": {
        "id": "YavL-4CPc8HQ"
      },
      "source": [
        "### **Ejercicio 3b:**\n",
        "\n",
        "\n",
        "* **Indica cuáles son las variables numéricas y cuáles las variables categóricas (nominales, ordinales, binarias). En particular indica cuál es la variable objetivo**\n",
        "\n",
        "\n",
        "++++++++++++++++++++++++++++++++++++++++++++++++++++++++++\n",
        "\n",
        "\n",
        "- **Variables categóricas nominales:** `season`, `weather` (ambas codifican etiquetas discretas sin orden natural).\n",
        "\n",
        "\n",
        "- **Variables categóricas ordinales:** `month`, `weekday` (siguen una progresión temporal cíclica que puede tratarse como ordenada para modelos basados en árboles).\n",
        "\n",
        "\n",
        "- **Variables binarias:** `holiday`, `workingday`, `year` (esta última distingue los dos años del registro).\n",
        "\n",
        "\n",
        "- **Variables numéricas continuas:** `temp`, `feel_temp`, `humidity`, `windspeed`.\n",
        "\n",
        "\n",
        "- **Variable objetivo:** `count`, que representa la cantidad total de bicicletas rentadas por día.\n",
        "\n",
        "\n",
        "++++++++++++++++++++++++++++++++++++++++++++++++++++++++++"
      ]
    },
    {
      "cell_type": "markdown",
      "metadata": {
        "id": "HoE8lNuXlzue"
      },
      "source": [
        "## **Ejercicio - 4**"
      ]
    },
    {
      "cell_type": "markdown",
      "metadata": {
        "id": "39Z79GKTl6l1"
      },
      "source": [
        "* **Para simplificar la etapa del preproceasmiento de los datos observa que las variables numéricas ya están escaladas entre 0 y 1, por lo que no haremos transformación alguna. Sin embargo, en relación a las variables categóricas, verifica que todos los niveles de las variables nominales tengan al menos un 5% de información. De no ser así, agrupa los niveles de manera que se cumpla este criterio.**"
      ]
    },
    {
      "cell_type": "code",
      "execution_count": 26,
      "metadata": {
        "id": "S4NXVO_pTIMJ"
      },
      "outputs": [
        {
          "data": {
            "text/html": [
              "<div>\n",
              "<style scoped>\n",
              "    .dataframe tbody tr th:only-of-type {\n",
              "        vertical-align: middle;\n",
              "    }\n",
              "\n",
              "    .dataframe tbody tr th {\n",
              "        vertical-align: top;\n",
              "    }\n",
              "\n",
              "    .dataframe thead th {\n",
              "        text-align: right;\n",
              "    }\n",
              "</style>\n",
              "<table border=\"1\" class=\"dataframe\">\n",
              "  <thead>\n",
              "    <tr style=\"text-align: right;\">\n",
              "      <th></th>\n",
              "      <th>Proporcion</th>\n",
              "    </tr>\n",
              "    <tr>\n",
              "      <th>season</th>\n",
              "      <th></th>\n",
              "    </tr>\n",
              "  </thead>\n",
              "  <tbody>\n",
              "    <tr>\n",
              "      <th>3</th>\n",
              "      <td>0.257182</td>\n",
              "    </tr>\n",
              "    <tr>\n",
              "      <th>2</th>\n",
              "      <td>0.251710</td>\n",
              "    </tr>\n",
              "    <tr>\n",
              "      <th>1</th>\n",
              "      <td>0.247606</td>\n",
              "    </tr>\n",
              "    <tr>\n",
              "      <th>4</th>\n",
              "      <td>0.243502</td>\n",
              "    </tr>\n",
              "  </tbody>\n",
              "</table>\n",
              "</div>"
            ],
            "text/plain": [
              "        Proporcion\n",
              "season            \n",
              "3         0.257182\n",
              "2         0.251710\n",
              "1         0.247606\n",
              "4         0.243502"
            ]
          },
          "metadata": {},
          "output_type": "display_data"
        },
        {
          "data": {
            "text/html": [
              "<div>\n",
              "<style scoped>\n",
              "    .dataframe tbody tr th:only-of-type {\n",
              "        vertical-align: middle;\n",
              "    }\n",
              "\n",
              "    .dataframe tbody tr th {\n",
              "        vertical-align: top;\n",
              "    }\n",
              "\n",
              "    .dataframe thead th {\n",
              "        text-align: right;\n",
              "    }\n",
              "</style>\n",
              "<table border=\"1\" class=\"dataframe\">\n",
              "  <thead>\n",
              "    <tr style=\"text-align: right;\">\n",
              "      <th></th>\n",
              "      <th>Proporcion</th>\n",
              "    </tr>\n",
              "    <tr>\n",
              "      <th>weather</th>\n",
              "      <th></th>\n",
              "    </tr>\n",
              "  </thead>\n",
              "  <tbody>\n",
              "    <tr>\n",
              "      <th>1</th>\n",
              "      <td>0.633379</td>\n",
              "    </tr>\n",
              "    <tr>\n",
              "      <th>2</th>\n",
              "      <td>0.337893</td>\n",
              "    </tr>\n",
              "    <tr>\n",
              "      <th>3</th>\n",
              "      <td>0.028728</td>\n",
              "    </tr>\n",
              "  </tbody>\n",
              "</table>\n",
              "</div>"
            ],
            "text/plain": [
              "         Proporcion\n",
              "weather            \n",
              "1          0.633379\n",
              "2          0.337893\n",
              "3          0.028728"
            ]
          },
          "metadata": {},
          "output_type": "display_data"
        },
        {
          "name": "stdout",
          "output_type": "stream",
          "text": [
            "Niveles agrupados en 'weather': ['3'] -> 'rain'\n",
            "Tras la agrupación:\n"
          ]
        },
        {
          "data": {
            "text/html": [
              "<div>\n",
              "<style scoped>\n",
              "    .dataframe tbody tr th:only-of-type {\n",
              "        vertical-align: middle;\n",
              "    }\n",
              "\n",
              "    .dataframe tbody tr th {\n",
              "        vertical-align: top;\n",
              "    }\n",
              "\n",
              "    .dataframe thead th {\n",
              "        text-align: right;\n",
              "    }\n",
              "</style>\n",
              "<table border=\"1\" class=\"dataframe\">\n",
              "  <thead>\n",
              "    <tr style=\"text-align: right;\">\n",
              "      <th></th>\n",
              "      <th>Proporcion</th>\n",
              "    </tr>\n",
              "    <tr>\n",
              "      <th>weather</th>\n",
              "      <th></th>\n",
              "    </tr>\n",
              "  </thead>\n",
              "  <tbody>\n",
              "    <tr>\n",
              "      <th>1</th>\n",
              "      <td>0.633379</td>\n",
              "    </tr>\n",
              "    <tr>\n",
              "      <th>2</th>\n",
              "      <td>0.337893</td>\n",
              "    </tr>\n",
              "    <tr>\n",
              "      <th>rain</th>\n",
              "      <td>0.028728</td>\n",
              "    </tr>\n",
              "  </tbody>\n",
              "</table>\n",
              "</div>"
            ],
            "text/plain": [
              "         Proporcion\n",
              "weather            \n",
              "1          0.633379\n",
              "2          0.337893\n",
              "rain       0.028728"
            ]
          },
          "metadata": {},
          "output_type": "display_data"
        },
        {
          "name": "stdout",
          "output_type": "stream",
          "text": [
            "\n"
          ]
        }
      ],
      "source": [
        "# Ejercicio 4:\n",
        "\n",
        "# ************* Inicia sección para agregar tu código:**************************\n",
        "# Incluye todas las celdas que consideres necesarias.\n",
        "\n",
        "nominal_columns = ['season', 'weather']\n",
        "bike_df_adjusted = bike_df.copy()\n",
        "\n",
        "for col in nominal_columns:\n",
        "  bike_df_adjusted[col] = bike_df_adjusted[col].astype(str)\n",
        "  freq = bike_df_adjusted[col].value_counts(normalize=True)\n",
        "  rare_levels = freq[freq < 0.05].index\n",
        "  if len(rare_levels) > 0:\n",
        "    replacement = 'rain' if col == 'weather' else 'other'\n",
        "    bike_df_adjusted[col] = bike_df_adjusted[col].replace(list(rare_levels), replacement)\n",
        "  display(freq.to_frame(name='Proporcion'))\n",
        "  if len(rare_levels) > 0:\n",
        "    print(f\"Niveles agrupados en '{col}': {list(rare_levels)} -> '{replacement}'\")\n",
        "    print(\"Tras la agrupación:\")\n",
        "    display(bike_df_adjusted[col].value_counts(normalize=True).to_frame(name='Proporcion'))\n",
        "    print()\n",
        "\n",
        "bike_df = bike_df_adjusted"
      ]
    },
    {
      "cell_type": "markdown",
      "metadata": {
        "id": "DH5sJn73pNFS"
      },
      "source": [
        "## **Ejercicio - 5**"
      ]
    },
    {
      "cell_type": "markdown",
      "metadata": {
        "id": "XGKgRo-Go7ej"
      },
      "source": [
        "* **Particiona los datos en los conjuntos de entrenamiento y prueba con los porcentajes que consideres adecuado.**\n",
        "\n",
        "NOTA: Aplicarás más adelante validación cruzada, por ello separamos solo en dos conjuntos."
      ]
    },
    {
      "cell_type": "code",
      "execution_count": 27,
      "metadata": {
        "id": "fRFjn7LJTIFh"
      },
      "outputs": [
        {
          "name": "stdout",
          "output_type": "stream",
          "text": [
            "Tamaño entrenamiento: (584, 11)\n",
            "Tamaño prueba: (147, 11)\n"
          ]
        }
      ],
      "source": [
        "# Ejercicio 5:\n",
        "\n",
        "# ************* Inicia sección para agregar tu código:**************************\n",
        "# Incluye todas las celdas que consideres necesarias.\n",
        "\n",
        "target_col = 'count'\n",
        "X_reg = bike_df.drop(columns=[target_col])\n",
        "y_reg = bike_df[target_col].astype(float)\n",
        "\n",
        "X_train_reg, X_test_reg, y_train_reg, y_test_reg = train_test_split(\n",
        "    X_reg, y_reg, test_size=0.2, random_state=42, shuffle=True)\n",
        "\n",
        "print(f\"Tamaño entrenamiento: {X_train_reg.shape}\")\n",
        "print(f\"Tamaño prueba: {X_test_reg.shape}\")"
      ]
    },
    {
      "cell_type": "markdown",
      "metadata": {
        "id": "H5pzkWGfpXSy"
      },
      "source": [
        "## **Ejercicio - 6**"
      ]
    },
    {
      "cell_type": "markdown",
      "metadata": {
        "id": "4djR-TCFpY_S"
      },
      "source": [
        "* **Realiza una partición provisional del conjunto de entrenamiento anterior para obtener el valor del umbral del modelo base (baseline), con respecto a la métrica RMSE y al valor promedio de la variable de salida.**"
      ]
    },
    {
      "cell_type": "code",
      "execution_count": 28,
      "metadata": {
        "id": "nAGsLdycTICJ"
      },
      "outputs": [
        {
          "name": "stdout",
          "output_type": "stream",
          "text": [
            "Promedio del objetivo en el sub-tren: 4571.13\n",
            "RMSE baseline (media como predicción): 1723.20\n"
          ]
        }
      ],
      "source": [
        "# Ejercicio 6:\n",
        "\n",
        "# ************* Inicia sección para agregar tu código:**************************\n",
        "# Incluye todas las celdas que consideres necesarias.\n",
        "\n",
        "X_subtrain, X_val, y_subtrain, y_val = train_test_split(\n",
        "    X_train_reg, y_train_reg, test_size=0.2, random_state=42)\n",
        "\n",
        "baseline_value = y_subtrain.mean()\n",
        "y_val_pred_baseline = np.full(shape=y_val.shape, fill_value=baseline_value, dtype=float)\n",
        "baseline_rmse = np.sqrt(((y_val - y_val_pred_baseline) ** 2).mean())\n",
        "\n",
        "print(f\"Promedio del objetivo en el sub-tren: {baseline_value:.2f}\")\n",
        "print(f\"RMSE baseline (media como predicción): {baseline_rmse:.2f}\")"
      ]
    },
    {
      "cell_type": "markdown",
      "metadata": {
        "id": "BDSAQF8iqh8h"
      },
      "source": [
        "## **Ejercicio - 7**"
      ]
    },
    {
      "cell_type": "markdown",
      "metadata": {
        "id": "98jIApugqjs4"
      },
      "source": [
        "* **Usando la técnica de malla, validación cruzada y cuidando el filtrado de información, encuentra los mejores hiperparámetros del modelo XGBoost. Imprime el valor RMSE del mejor modelo encontrado.**  "
      ]
    },
    {
      "cell_type": "code",
      "execution_count": null,
      "metadata": {
        "id": "GjKiyFKvtwqV"
      },
      "outputs": [
        {
          "name": "stdout",
          "output_type": "stream",
          "text": [
            "Fitting 5 folds for each of 128 candidates, totalling 640 fits\n",
            "Mejores hiperparámetros:\n",
            "  model__colsample_bytree: 0.8\n",
            "  model__learning_rate: 0.05\n",
            "  model__max_depth: 5\n",
            "  model__min_child_weight: 1\n",
            "  model__n_estimators: 500\n",
            "  model__reg_lambda: 1.0\n",
            "  model__subsample: 0.8\n",
            "Mejor RMSE (validación cruzada): 658.15\n",
            "Mejores hiperparámetros:\n",
            "  model__colsample_bytree: 0.8\n",
            "  model__learning_rate: 0.05\n",
            "  model__max_depth: 5\n",
            "  model__min_child_weight: 1\n",
            "  model__n_estimators: 500\n",
            "  model__reg_lambda: 1.0\n",
            "  model__subsample: 0.8\n",
            "Mejor RMSE (validación cruzada): 658.15\n"
          ]
        }
      ],
      "source": [
        "# Ejercicio 7:\n",
        "\n",
        "\n",
        "#\n",
        "\n",
        "\n",
        "# ************* Inicia sección para agregar tu código:**************************\n",
        "\n",
        "\n",
        "# Incluye todas las celdas que consideres necesarias.\n",
        "\n",
        "\n",
        "categorical_features = ['season', 'year', 'month', 'weekday', 'holiday', 'workingday']\n",
        "\n",
        "ordinal_features = ['weather']\n",
        "\n",
        "numeric_features = [col for col in X_train_reg.columns if col not in categorical_features]\n",
        "\n",
        "\n",
        "from sklearn.preprocessing import OrdinalEncoder\n",
        "\n",
        "preprocessor = ColumnTransformer(\n",
        "    transformers=[('cat', OneHotEncoder(handle_unknown='ignore'), categorical_features),\n",
        "                  ('ord', OrdinalEncoder(), ordinal_features)],\n",
        "    remainder='passthrough'\n",
        ")\n",
        "\n",
        "\n",
        "\n",
        "\n",
        "xgb_model = XGBRegressor(\n",
        "\n",
        "    objective='reg:squarederror',\n",
        "\n",
        "    random_state=42,\n",
        "\n",
        "    n_estimators=300,\n",
        "\n",
        "    n_jobs=4\n",
        "\n",
        ")\n",
        "\n",
        "\n",
        "\n",
        "\n",
        "modeling_pipeline = Pipeline(steps=[('prep', preprocessor), ('model', xgb_model)])\n",
        "\n",
        "\n",
        "\n",
        "\n",
        "param_grid = {\n",
        "\n",
        "    'model__n_estimators': [300, 500],\n",
        "\n",
        "    'model__max_depth': [3, 5],\n",
        "\n",
        "    'model__learning_rate': [0.05, 0.1],\n",
        "\n",
        "    'model__subsample': [0.8, 1.0],\n",
        "\n",
        "    'model__colsample_bytree': [0.8, 1.0],\n",
        "\n",
        "    'model__min_child_weight': [1, 3],\n",
        "\n",
        "    'model__reg_lambda': [1.0, 3.0]\n",
        "\n",
        "}\n",
        "\n",
        "\n",
        "\n",
        "cv = KFold(n_splits=5, shuffle=True, random_state=42)\n",
        "\n",
        "\n",
        "\n",
        "grid_search = GridSearchCV(\n",
        "\n",
        "    estimator=modeling_pipeline,\n",
        "\n",
        "    param_grid=param_grid,\n",
        "\n",
        "    scoring='neg_root_mean_squared_error',\n",
        "\n",
        "    cv=cv,\n",
        "\n",
        "    n_jobs=4,\n",
        "\n",
        "    verbose=1\n",
        "\n",
        ")\n",
        "\n",
        "\n",
        "\n",
        "\n",
        "grid_search.fit(X_train_reg, y_train_reg)\n",
        "\n",
        "\n",
        "\n",
        "best_rmse = -grid_search.best_score_\n",
        "\n",
        "best_params = grid_search.best_params_\n",
        "\n",
        "best_pipeline = grid_search.best_estimator_\n",
        "\n",
        "\n",
        "\n",
        "print(\"Mejores hiperparámetros:\")\n",
        "\n",
        "for param, value in best_params.items():\n",
        "\n",
        "    print(f\"  {param}: {value}\")\n",
        "\n",
        "print(f\"Mejor RMSE (validación cruzada): {best_rmse:.2f}\")"
      ]
    },
    {
      "cell_type": "markdown",
      "metadata": {
        "id": "zt8H5PLasumX"
      },
      "source": [
        "## **Ejercicio - 8**"
      ]
    },
    {
      "cell_type": "markdown",
      "metadata": {
        "id": "WT6bfoqls2Am"
      },
      "source": [
        "* **Compara el valor RMSE del mejor modelo encontrado con respecto al valor del modelo base obtenido previamente. En particular, obtener la diferencia porcentual relativa del mejor modelo encontrado con respecto al modelo base. Incluye tu interpretación de dichos resultados.**  "
      ]
    },
    {
      "cell_type": "code",
      "execution_count": 31,
      "metadata": {
        "id": "xTCs4RuRTH-o"
      },
      "outputs": [
        {
          "name": "stdout",
          "output_type": "stream",
          "text": [
            "RMSE baseline (validación): 1723.20\n",
            "RMSE mejor modelo (validación): 613.69\n",
            "Mejora relativa respecto al baseline: 64.39%\n",
            "RMSE del mejor modelo en prueba: 627.68\n",
            "RMSE del mejor modelo en prueba: 627.68\n"
          ]
        }
      ],
      "source": [
        "# Ejercicio 8a:\n",
        "\n",
        "# ************* Inicia sección para agregar tu código:**************************\n",
        "# Incluye todas las celdas que consideres necesarias.\n",
        "\n",
        "best_model_config = {k.replace('model__', ''): v for k, v in best_params.items()}\n",
        "best_model_config.update({\n",
        "    'objective': 'reg:squarederror',\n",
        "    'random_state': 42,\n",
        "    'n_jobs': -1\n",
        "})\n",
        "\n",
        "best_pipeline_validation = Pipeline(steps=[\n",
        "    ('prep', preprocessor),\n",
        "    ('model', XGBRegressor(**best_model_config))\n",
        "])\n",
        "\n",
        "best_pipeline_validation.fit(X_subtrain, y_subtrain)\n",
        "y_val_pred = best_pipeline_validation.predict(X_val)\n",
        "model_val_rmse = np.sqrt(((y_val - y_val_pred) ** 2).mean())\n",
        "relative_improvement = (baseline_rmse - model_val_rmse) / baseline_rmse * 100\n",
        "\n",
        "print(f\"RMSE baseline (validación): {baseline_rmse:.2f}\")\n",
        "print(f\"RMSE mejor modelo (validación): {model_val_rmse:.2f}\")\n",
        "print(f\"Mejora relativa respecto al baseline: {relative_improvement:.2f}%\")\n",
        "\n",
        "best_pipeline_validation.fit(X_train_reg, y_train_reg)\n",
        "y_test_pred = best_pipeline_validation.predict(X_test_reg)\n",
        "test_rmse = np.sqrt(((y_test_reg - y_test_pred) ** 2).mean())\n",
        "print(f\"RMSE del mejor modelo en prueba: {test_rmse:.2f}\")"
      ]
    },
    {
      "cell_type": "markdown",
      "metadata": {
        "id": "C2t4nZKht7YA"
      },
      "source": [
        "### **Ejercicio 8b:**\n",
        "\n",
        "\n",
        "* **Interpretación de los resultados obtenidos:**\n",
        "\n",
        "\n",
        "++++++++++++++++++++++++++++++++++++++++++++++++++++++++++\n",
        "\n",
        "\n",
        "El promedio histórico produjo un RMSE de aproximadamente 1,723 bicicletas en validación, mientras que el XGBoost ajustado redujo el error a 614 y se mantuvo en 628 sobre el conjunto de prueba. La mejora relativa supera el 64%, lo que evidencia que el modelo captura relaciones no lineales entre clima, calendario y demanda diaria. La brecha moderada entre validación y prueba sugiere un comportamiento estable y que el preprocesamiento evitó filtrado de información.\n",
        "\n",
        "\n",
        "++++++++++++++++++++++++++++++++++++++++++++++++++++++++++"
      ]
    },
    {
      "cell_type": "markdown",
      "metadata": {
        "id": "oZpAB6b6uSp1"
      },
      "source": [
        "## **Ejercicio - 9**"
      ]
    },
    {
      "cell_type": "markdown",
      "metadata": {
        "id": "lavZX1CjuV2F"
      },
      "source": [
        "### **Ejercicio 9a:**\n",
        "\n",
        "* **Usa el atributo \"feature_imortances_\" del mejor modelo encontrado para obtener los factores que influyen más en la predicción de la cantidad de bicicletas rentadas por día.**\n"
      ]
    },
    {
      "cell_type": "code",
      "execution_count": 32,
      "metadata": {
        "id": "ZgbvT2V0TH7h"
      },
      "outputs": [
        {
          "data": {
            "text/html": [
              "<div>\n",
              "<style scoped>\n",
              "    .dataframe tbody tr th:only-of-type {\n",
              "        vertical-align: middle;\n",
              "    }\n",
              "\n",
              "    .dataframe tbody tr th {\n",
              "        vertical-align: top;\n",
              "    }\n",
              "\n",
              "    .dataframe thead th {\n",
              "        text-align: right;\n",
              "    }\n",
              "</style>\n",
              "<table border=\"1\" class=\"dataframe\">\n",
              "  <thead>\n",
              "    <tr style=\"text-align: right;\">\n",
              "      <th></th>\n",
              "      <th>feature</th>\n",
              "      <th>importance</th>\n",
              "    </tr>\n",
              "  </thead>\n",
              "  <tbody>\n",
              "    <tr>\n",
              "      <th>0</th>\n",
              "      <td>remainder__year</td>\n",
              "      <td>0.427255</td>\n",
              "    </tr>\n",
              "    <tr>\n",
              "      <th>1</th>\n",
              "      <td>remainder__temp</td>\n",
              "      <td>0.107466</td>\n",
              "    </tr>\n",
              "    <tr>\n",
              "      <th>2</th>\n",
              "      <td>cat__season_1</td>\n",
              "      <td>0.082482</td>\n",
              "    </tr>\n",
              "    <tr>\n",
              "      <th>3</th>\n",
              "      <td>cat__season_4</td>\n",
              "      <td>0.067353</td>\n",
              "    </tr>\n",
              "    <tr>\n",
              "      <th>4</th>\n",
              "      <td>remainder__feel_temp</td>\n",
              "      <td>0.066814</td>\n",
              "    </tr>\n",
              "    <tr>\n",
              "      <th>5</th>\n",
              "      <td>cat__weather_rain</td>\n",
              "      <td>0.050280</td>\n",
              "    </tr>\n",
              "    <tr>\n",
              "      <th>6</th>\n",
              "      <td>cat__holiday_1</td>\n",
              "      <td>0.039277</td>\n",
              "    </tr>\n",
              "    <tr>\n",
              "      <th>7</th>\n",
              "      <td>remainder__month</td>\n",
              "      <td>0.029001</td>\n",
              "    </tr>\n",
              "    <tr>\n",
              "      <th>8</th>\n",
              "      <td>cat__weather_1</td>\n",
              "      <td>0.027747</td>\n",
              "    </tr>\n",
              "    <tr>\n",
              "      <th>9</th>\n",
              "      <td>remainder__humidity</td>\n",
              "      <td>0.021590</td>\n",
              "    </tr>\n",
              "    <tr>\n",
              "      <th>10</th>\n",
              "      <td>cat__holiday_0</td>\n",
              "      <td>0.017623</td>\n",
              "    </tr>\n",
              "    <tr>\n",
              "      <th>11</th>\n",
              "      <td>cat__workingday_1</td>\n",
              "      <td>0.012014</td>\n",
              "    </tr>\n",
              "    <tr>\n",
              "      <th>12</th>\n",
              "      <td>remainder__weekday</td>\n",
              "      <td>0.011578</td>\n",
              "    </tr>\n",
              "    <tr>\n",
              "      <th>13</th>\n",
              "      <td>cat__weather_2</td>\n",
              "      <td>0.011317</td>\n",
              "    </tr>\n",
              "    <tr>\n",
              "      <th>14</th>\n",
              "      <td>remainder__windspeed</td>\n",
              "      <td>0.010869</td>\n",
              "    </tr>\n",
              "  </tbody>\n",
              "</table>\n",
              "</div>"
            ],
            "text/plain": [
              "                 feature  importance\n",
              "0        remainder__year    0.427255\n",
              "1        remainder__temp    0.107466\n",
              "2          cat__season_1    0.082482\n",
              "3          cat__season_4    0.067353\n",
              "4   remainder__feel_temp    0.066814\n",
              "5      cat__weather_rain    0.050280\n",
              "6         cat__holiday_1    0.039277\n",
              "7       remainder__month    0.029001\n",
              "8         cat__weather_1    0.027747\n",
              "9    remainder__humidity    0.021590\n",
              "10        cat__holiday_0    0.017623\n",
              "11     cat__workingday_1    0.012014\n",
              "12    remainder__weekday    0.011578\n",
              "13        cat__weather_2    0.011317\n",
              "14  remainder__windspeed    0.010869"
            ]
          },
          "metadata": {},
          "output_type": "display_data"
        },
        {
          "name": "stderr",
          "output_type": "stream",
          "text": [
            "C:\\Users\\Erick\\AppData\\Local\\Temp\\ipykernel_27160\\3251933796.py:18: FutureWarning: \n",
            "\n",
            "Passing `palette` without assigning `hue` is deprecated and will be removed in v0.14.0. Assign the `y` variable to `hue` and set `legend=False` for the same effect.\n",
            "\n",
            "  sns.barplot(data=feature_importance_df.head(15), x='importance', y='feature', palette='viridis')\n"
          ]
        },
        {
          "data": {
            "image/png": "[encoded data removed]",
            "text/plain": [
              "<Figure size 1000x600 with 1 Axes>"
            ]
          },
          "metadata": {},
          "output_type": "display_data"
        }
      ],
      "source": [
        "# Ejercicio 9a:\n",
        "\n",
        "# ************* Inicia sección para agregar tu código:**************************\n",
        "# Incluye todas las celdas que consideres necesarias.\n",
        "\n",
        "feature_names = best_pipeline_validation.named_steps['prep'].get_feature_names_out()\n",
        "importances = best_pipeline_validation.named_steps['model'].feature_importances_\n",
        "\n",
        "feature_importance_df = (\n",
        "    pd.DataFrame({'feature': feature_names, 'importance': importances})\n",
        "    .sort_values(by='importance', ascending=False)\n",
        "    .reset_index(drop=True)\n",
        " )\n",
        "\n",
        "display(feature_importance_df.head(15))\n",
        "\n",
        "plt.figure(figsize=(10, 6))\n",
        "sns.barplot(data=feature_importance_df.head(15), x='importance', y='feature', palette='viridis')\n",
        "plt.title('Principales factores según feature_importances_')\n",
        "plt.xlabel('Importancia (ganancia promedio)')\n",
        "plt.ylabel('Factor')\n",
        "plt.tight_layout()\n",
        "plt.show()"
      ]
    },
    {
      "cell_type": "markdown",
      "metadata": {
        "id": "q7iB3SjPvnWe"
      },
      "source": [
        "### **Ejercicio 9b:**\n",
        "\n",
        "* **Usa la librería SHAP con el mejor modelo encontrado para obtener los factores que influyen más en la predicción de la cantidad de bicicletas rentadas por día.**\n",
        "\n",
        "NOTA: Puedes revisar la documentación correspondiente para el uso e interpretación de los gráficos de SHAP:\n",
        "\n",
        "https://github.com/shap/shap\n",
        "\n",
        "https://shap-readthedocs-io.translate.goog/en/latest/example_notebooks/api_examples/plots/beeswarm.html?_x_tr_sl=en&_x_tr_tl=es&_x_tr_hl=es&_x_tr_pto=tc\n",
        "\n"
      ]
    },
    {
      "cell_type": "code",
      "execution_count": 33,
      "metadata": {
        "id": "Xf78cH4QTH35"
      },
      "outputs": [
        {
          "name": "stderr",
          "output_type": "stream",
          "text": [
            "C:\\Users\\Erick\\AppData\\Local\\Temp\\ipykernel_27160\\428954247.py:12: FutureWarning: The NumPy global RNG was seeded by calling `np.random.seed`. In a future version this function will no longer use the global RNG. Pass `rng` explicitly to opt-in to the new behaviour and silence this warning.\n",
            "  shap.summary_plot(shap_values, X_train_transformed, feature_names=feature_names, plot_type='bar', show=False)\n"
          ]
        },
        {
          "data": {
            "image/png": "[encoded data removed]",
            "text/plain": [
              "<Figure size 800x870 with 1 Axes>"
            ]
          },
          "metadata": {},
          "output_type": "display_data"
        },
        {
          "name": "stderr",
          "output_type": "stream",
          "text": [
            "C:\\Users\\Erick\\AppData\\Local\\Temp\\ipykernel_27160\\428954247.py:17: FutureWarning: The NumPy global RNG was seeded by calling `np.random.seed`. In a future version this function will no longer use the global RNG. Pass `rng` explicitly to opt-in to the new behaviour and silence this warning.\n",
            "  shap.summary_plot(shap_values, X_train_transformed, feature_names=feature_names, show=False)\n"
          ]
        },
        {
          "data": {
            "image/png": "[encoded data removed]",
            "text/plain": [
              "<Figure size 800x870 with 2 Axes>"
            ]
          },
          "metadata": {},
          "output_type": "display_data"
        }
      ],
      "source": [
        "# Ejercicio 9b:\n",
        "\n",
        "# ************* Inicia sección para agregar tu código:**************************\n",
        "# Incluye todas las celdas que consideres necesarias.\n",
        "\n",
        "explainer = shap.TreeExplainer(best_pipeline_validation.named_steps['model'])\n",
        "X_train_transformed = best_pipeline_validation.named_steps['prep'].transform(X_train_reg)\n",
        "\n",
        "shap_values = explainer.shap_values(X_train_transformed, check_additivity=False)\n",
        "\n",
        "plt.figure(figsize=(10, 6))\n",
        "shap.summary_plot(shap_values, X_train_transformed, feature_names=feature_names, plot_type='bar', show=False)\n",
        "plt.title('Importancia SHAP (promedio del valor absoluto)')\n",
        "plt.tight_layout()\n",
        "plt.show()\n",
        "\n",
        "shap.summary_plot(shap_values, X_train_transformed, feature_names=feature_names, show=False)\n",
        "plt.title('SHAP summary plot - Distribución de contribuciones')\n",
        "plt.tight_layout()\n",
        "plt.show()"
      ]
    },
    {
      "cell_type": "markdown",
      "metadata": {
        "id": "O9NMSjyNwdXy"
      },
      "source": [
        "### **Ejercicio 9c:**\n",
        "\n",
        "\n",
        "* **Incluye tu interpretación de los resultados obtenidos. En particular indica las coincidencias y diferencias entre ambos métodos de importancia de factores.**\n",
        "\n",
        "\n",
        "++++++++++++++++++++++++++++++++++++++++++++++++++++++++++\n",
        "\n",
        "\n",
        "Ambos enfoques resaltan la importancia del año (`year`), la temperatura real y percibida, junto con los indicadores de estación y condiciones meteorológicas. Las importancias nativas de XGBoost muestran que la transición entre 2011 y 2012 domina la ganancia, seguida por la temperatura y la temporada, mientras que SHAP añade perspectiva sobre cómo valores específicos del clima (por ejemplo, humedad alta o lluvias) reducen la predicción. La principal diferencia es que SHAP ilustra la dirección del efecto para cada observación, evidenciando que días con clima benigno y estaciones cálidas empujan la demanda al alza, algo que la lista global de `feature_importances_` no detalla. En conjunto, ambos métodos coinciden en qué variables lideran, pero SHAP permite explicar en qué sentido impactan en cada día.\n",
        "\n",
        "\n",
        "++++++++++++++++++++++++++++++++++++++++++++++++++++++++++"
      ]
    },
    {
      "cell_type": "markdown",
      "metadata": {
        "id": "I6Q32efGw61s"
      },
      "source": [
        "## **Ejercicio - 10**"
      ]
    },
    {
      "cell_type": "markdown",
      "metadata": {
        "id": "e_qW8asPxMwq"
      },
      "source": [
        "Incluye tus conclusiones finales de la actividad.\n",
        "\n",
        "\n",
        "++++++++++++++++++++++++++++++++++++++++++++++++++++++++++\n",
        "\n",
        "\n",
        "La primera parte evidenció cómo, en presencia de desbalance, métricas como precisión, recall y F1 ofrecen una visión más realista que la exactitud, y que los modelos con regularización y pipelines de preprocesamiento responden mejor al problema. En la segunda parte, leer directamente `day.csv`, preparar las categorías escasas y aplicar validación cruzada con XGBoost permitió reducir el RMSE del promedio histórico (≈1,723) a unos 620 puntos entre validación y prueba. Las gráficas de importancias y SHAP confirmaron que la tendencia anual, la temperatura y las estaciones gobiernan la demanda, mientras que condiciones adversas la deprimen. El flujo completo demuestra la importancia de un pipeline reproducible y de técnicas interpretables para comunicar los hallazgos.\n",
        "\n",
        "\n",
        "++++++++++++++++++++++++++++++++++++++++++++++++++++++++++"
      ]
    },
    {
      "cell_type": "markdown",
      "metadata": {
        "id": "5TpR5Ae2xfkB"
      },
      "source": [
        "# **Fin de la Actividad de modelos basados en árboles**"
      ]
    }
  ],
  "metadata": {
    "colab": {
      "collapsed_sections": [
        "aJvdRW_asVWr",
        "_mK6SXmx-m71",
        "CLWCrmnpse89",
        "OLm-v3BQZc6C",
        "u_90FNhcb57J",
        "HoE8lNuXlzue",
        "DH5sJn73pNFS",
        "H5pzkWGfpXSy",
        "BDSAQF8iqh8h",
        "zt8H5PLasumX",
        "oZpAB6b6uSp1",
        "I6Q32efGw61s"
      ],
      "provenance": []
    },
    "kernelspec": {
      "display_name": ".venv (3.11.9)",
      "language": "python",
      "name": "python3"
    },
    "language_info": {
      "codemirror_mode": {
        "name": "ipython",
        "version": 3
      },
      "file_extension": ".py",
      "mimetype": "text/x-python",
      "name": "python",
      "nbconvert_exporter": "python",
      "pygments_lexer": "ipython3",
      "version": "3.11.9"
    }
  },
  "nbformat": 4,
  "nbformat_minor": 0
}
