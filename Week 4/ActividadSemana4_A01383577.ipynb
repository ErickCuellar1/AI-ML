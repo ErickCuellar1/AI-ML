{
  "cells": [
    {
      "cell_type": "markdown",
      "metadata": {
        "id": "HOZsKkZ6hjng"
      },
      "source": [
        "# **Maestría en Inteligencia Artificial Aplicada**\n",
        "\n",
        "## **Curso: Inteligencia Artificial y Aprendizaje Automático**\n",
        "\n",
        "**Tecnológico de Monterrey**\n",
        "\n",
        "Prof Luis Eduardo Falcón Morales\n",
        "\n",
        "### **Actividad: Problema de Clasificación con Datos Desbalanceados**"
      ]
    },
    {
      "cell_type": "markdown",
      "metadata": {
        "id": "klS3cVBoqs4t"
      },
      "source": [
        "* #### **Nombre: ERICK ALAN CUELLAR QUINTANILLA**\n",
        "* #### **Matrícula: A01383577**"
      ]
    },
    {
      "cell_type": "markdown",
      "metadata": {
        "id": "Xa9RsjSuiI8l"
      },
      "source": [
        "# **Introducción**"
      ]
    },
    {
      "cell_type": "markdown",
      "metadata": {
        "id": "vcn0tp3SiNKu"
      },
      "source": [
        "* La actividad se basa en los datos conocidos como \"oil-spill\" (derrame de petróleo).\n",
        "\n",
        "* En la web puedes encontrar otros archivos del mismo problema pero con diversos cambios, por lo que el archivo con el que trabajarás está en Canvas y así poder asegurar que todos están trabajando con los mismos datos. Aún en una misma página, con el tiempo se actualiza y los datos inclusive pueden ya no estar accesibles.\n",
        "\n",
        "* El archivo de los datos con el que trabajarás está en Canvas con el nombre \"oil-spill.csv\"."
      ]
    },
    {
      "cell_type": "markdown",
      "metadata": {
        "id": "NAssj-ZfaefR"
      },
      "source": [
        "En la siguiente liga se encuentra el artículo original relacionado a dicha base de datos. Los datos incluyen 50 columnas y 937 registros. Las primeras 49 columnas son métricas obtenidas de imágenes satelitales del océano, en algunas de las cuales se tiene petróleo que fue derramado por alguna fuente desconocida. En el artículo se describe a detalle la manera en que se obtuvieron dichas columnas. Para la actividad es suficiente considerarlas como de valor numérico, donde cada valor es una medida de información en la imagen. La última columna llamada \"target\" es de valor 1 (hay derrame en ese pedazo de la imagen) o 0 (no hay derrame en ese pedazo de la imagen).\n",
        "\n",
        "https://webdocs.cs.ualberta.ca/~holte/Publications/oilspill.pdf\n",
        "\n",
        "Por el momento es suficiente con que consideres que cada una de las 49 columnas te da información de la imagen que te ayuda a entenderla mejor. En un curso posterior de visión computacional podrás ahondar sobre cómo extraer información numérica de una imagen."
      ]
    },
    {
      "cell_type": "markdown",
      "metadata": {
        "id": "kyKUDqIQjzUX"
      },
      "source": [
        "En la siguiente liga puedes encontrar información de varias de las métricas de scikit-learn que estaremos utilizando:\n",
        "\n",
        "https://scikit-learn.org/stable/modules/model_evaluation.html#scoring-parameter"
      ]
    },
    {
      "cell_type": "markdown",
      "metadata": {
        "id": "F2MPvM4qFqXt"
      },
      "source": [
        "La librería de scikit-learn no incluye la media geométrica **G_mean**, pero sabemos que se puede obtener con la fórmula $G_{mean}=\\sqrt{\\frac{VP*VN}{(VP+FN) * (VN+FP)}}$, usando los verdaderos y falsos, positivos y negativos.\n",
        "\n",
        "Sin embargo, para fines de esta actividad usaremos la librería llamada \"imbalanced-learn\" que incluye dicha métrica, además de un reporte más extenso de otras métricas útiles para estos casos de datos desbalanceados:\n",
        "\n",
        "https://glemaitre.github.io/imbalanced-learn/generated/imblearn.metrics.geometric_mean_score.html"
      ]
    },
    {
      "cell_type": "markdown",
      "metadata": {
        "id": "yWKpetDxpHHW"
      },
      "source": [
        "# **Ejercicio-1**"
      ]
    },
    {
      "cell_type": "markdown",
      "metadata": {
        "id": "yKJKilj9pHqm"
      },
      "source": [
        "### **En esta actividad usaremos la media geométrica G_mean como métrica principal para buscar el mejor modelo. Explica a continuación cuándo se recomienda utilizar **G_mean** en un problema de aprendizaje supervisado (a) y su diferencia o diferencias con **f1_score** (b):**\n",
        "\n",
        "**+++++++++++ Inicia sección para agregar texto ++++++++++++++++**\n",
        "\n",
        "\n",
        "* a) La métrica G_mean se utiliza para buscar el mejor modelo en datasets desbalanceados. Esto se debe a que considera tanto la especifidad y sensibilidad en su cálculo; en casos de datos desbalanceados, utilizar métodos convencionales de aprendizaje nos dará resultados poco confiables con la clase minoritaria. Este tipo de desbalances no se aprecia tanto con métricas como el accuracy, donde un modelo que simplemente esté \"prediciendo\" una sola clase nos dará como mínimo el porcentaje de la clase mayoritaria, e.g. predecir solamente la clase mayoritaria en un modelo con datos 90/10 nos daría un accuracy del 90%. \n",
        "\n",
        "* b) El f1_score es una métrica de precision y sensibilidad, la cual no toma en cuenta los verdaderos negativos, a diferencia de la G_mean, que si los toma en cuenta con la especifidad. En términos sencillos, el f1_score toma en cuenta 3 de los 4 cuadrantes de la matriz de confusión, mientras que la G_mean toma los 4 cuadrantes.\n",
        "\n",
        "\n",
        "\n",
        "**+++++++++++ Termina sección para agregar texto ++++++++++++++**"
      ]
    },
    {
      "cell_type": "code",
      "execution_count": 150,
      "metadata": {
        "id": "tITKimmr7qVx"
      },
      "outputs": [],
      "source": [
        "# Incluye todas las librerías que consideres adecuadas:\n",
        "\n",
        "\n",
        "import numpy as np\n",
        "import pandas as pd\n",
        "import matplotlib.pyplot as plt\n",
        "\n",
        "from pathlib import Path\n",
        "from statistics import mean\n",
        "from statistics import stdev as std\n",
        "\n",
        "from sklearn.pipeline import Pipeline\n",
        "from sklearn.impute import SimpleImputer\n",
        "from sklearn.dummy import DummyClassifier\n",
        "from sklearn.compose import ColumnTransformer\n",
        "from sklearn.neighbors import KNeighborsClassifier\n",
        "from sklearn.linear_model import LogisticRegression\n",
        "from sklearn.preprocessing import PowerTransformer, StandardScaler\n",
        "\n",
        "from sklearn.metrics import ConfusionMatrixDisplay, confusion_matrix, make_scorer, precision_recall_curve, roc_curve, auc\n",
        "from sklearn.model_selection import GridSearchCV, RepeatedStratifiedKFold, cross_val_score, cross_validate, train_test_split\n",
        "\n",
        "from imblearn.metrics import classification_report_imbalanced, geometric_mean_score"
      ]
    },
    {
      "cell_type": "markdown",
      "metadata": {
        "id": "l4jSSZhk_8kD"
      },
      "source": [
        "Para fines de la actividad pre-procesaremos los datos de manera estándar para concentrarnos en los temas relacionados al curso."
      ]
    },
    {
      "cell_type": "code",
      "execution_count": 151,
      "metadata": {
        "id": "vyDvUH0ZKXj-"
      },
      "outputs": [
        {
          "name": "stdout",
          "output_type": "stream",
          "text": [
            "Dimensión del DataFrame (937, 48)\n"
          ]
        },
        {
          "data": {
            "text/html": [
              "<div>\n",
              "<style scoped>\n",
              "    .dataframe tbody tr th:only-of-type {\n",
              "        vertical-align: middle;\n",
              "    }\n",
              "\n",
              "    .dataframe tbody tr th {\n",
              "        vertical-align: top;\n",
              "    }\n",
              "\n",
              "    .dataframe thead th {\n",
              "        text-align: right;\n",
              "    }\n",
              "</style>\n",
              "<table border=\"1\" class=\"dataframe\">\n",
              "  <thead>\n",
              "    <tr style=\"text-align: right;\">\n",
              "      <th></th>\n",
              "      <th>f_2</th>\n",
              "      <th>f_3</th>\n",
              "      <th>f_4</th>\n",
              "      <th>f_5</th>\n",
              "      <th>f_6</th>\n",
              "      <th>f_7</th>\n",
              "      <th>f_8</th>\n",
              "      <th>f_9</th>\n",
              "      <th>f_10</th>\n",
              "      <th>f_11</th>\n",
              "      <th>...</th>\n",
              "      <th>f_41</th>\n",
              "      <th>f_42</th>\n",
              "      <th>f_43</th>\n",
              "      <th>f_44</th>\n",
              "      <th>f_45</th>\n",
              "      <th>f_46</th>\n",
              "      <th>f_47</th>\n",
              "      <th>f_48</th>\n",
              "      <th>f_49</th>\n",
              "      <th>target</th>\n",
              "    </tr>\n",
              "  </thead>\n",
              "  <tbody>\n",
              "    <tr>\n",
              "      <th>0</th>\n",
              "      <td>2558</td>\n",
              "      <td>1506.09</td>\n",
              "      <td>456.63</td>\n",
              "      <td>90</td>\n",
              "      <td>6395000.0</td>\n",
              "      <td>40.88</td>\n",
              "      <td>7.89</td>\n",
              "      <td>29780.0</td>\n",
              "      <td>0.19</td>\n",
              "      <td>214.7</td>\n",
              "      <td>...</td>\n",
              "      <td>2850.0</td>\n",
              "      <td>1000.0</td>\n",
              "      <td>763.16</td>\n",
              "      <td>135.46</td>\n",
              "      <td>3.73</td>\n",
              "      <td>0</td>\n",
              "      <td>33243.19</td>\n",
              "      <td>65.74</td>\n",
              "      <td>7.95</td>\n",
              "      <td>1</td>\n",
              "    </tr>\n",
              "    <tr>\n",
              "      <th>1</th>\n",
              "      <td>22325</td>\n",
              "      <td>79.11</td>\n",
              "      <td>841.03</td>\n",
              "      <td>180</td>\n",
              "      <td>55812500.0</td>\n",
              "      <td>51.11</td>\n",
              "      <td>1.21</td>\n",
              "      <td>61900.0</td>\n",
              "      <td>0.02</td>\n",
              "      <td>901.7</td>\n",
              "      <td>...</td>\n",
              "      <td>5750.0</td>\n",
              "      <td>11500.0</td>\n",
              "      <td>9593.48</td>\n",
              "      <td>1648.80</td>\n",
              "      <td>0.60</td>\n",
              "      <td>0</td>\n",
              "      <td>51572.04</td>\n",
              "      <td>65.73</td>\n",
              "      <td>6.26</td>\n",
              "      <td>0</td>\n",
              "    </tr>\n",
              "    <tr>\n",
              "      <th>2</th>\n",
              "      <td>115</td>\n",
              "      <td>1449.85</td>\n",
              "      <td>608.43</td>\n",
              "      <td>88</td>\n",
              "      <td>287500.0</td>\n",
              "      <td>40.42</td>\n",
              "      <td>7.34</td>\n",
              "      <td>3340.0</td>\n",
              "      <td>0.18</td>\n",
              "      <td>86.1</td>\n",
              "      <td>...</td>\n",
              "      <td>1400.0</td>\n",
              "      <td>250.0</td>\n",
              "      <td>150.00</td>\n",
              "      <td>45.13</td>\n",
              "      <td>9.33</td>\n",
              "      <td>1</td>\n",
              "      <td>31692.84</td>\n",
              "      <td>65.81</td>\n",
              "      <td>7.84</td>\n",
              "      <td>1</td>\n",
              "    </tr>\n",
              "  </tbody>\n",
              "</table>\n",
              "<p>3 rows × 48 columns</p>\n",
              "</div>"
            ],
            "text/plain": [
              "     f_2      f_3     f_4  f_5         f_6    f_7   f_8      f_9  f_10   f_11  \\\n",
              "0   2558  1506.09  456.63   90   6395000.0  40.88  7.89  29780.0  0.19  214.7   \n",
              "1  22325    79.11  841.03  180  55812500.0  51.11  1.21  61900.0  0.02  901.7   \n",
              "2    115  1449.85  608.43   88    287500.0  40.42  7.34   3340.0  0.18   86.1   \n",
              "\n",
              "   ...    f_41     f_42     f_43     f_44  f_45  f_46      f_47   f_48  f_49  \\\n",
              "0  ...  2850.0   1000.0   763.16   135.46  3.73     0  33243.19  65.74  7.95   \n",
              "1  ...  5750.0  11500.0  9593.48  1648.80  0.60     0  51572.04  65.73  6.26   \n",
              "2  ...  1400.0    250.0   150.00    45.13  9.33     1  31692.84  65.81  7.84   \n",
              "\n",
              "   target  \n",
              "0       1  \n",
              "1       0  \n",
              "2       1  \n",
              "\n",
              "[3 rows x 48 columns]"
            ]
          },
          "execution_count": 151,
          "metadata": {},
          "output_type": "execute_result"
        }
      ],
      "source": [
        "# Cargamos los datos del arcivo:\n",
        "path ='oil_spill.csv'\n",
        "df = pd.read_csv(path)\n",
        "\n",
        "# Eliminamos las siguientes columnas:\n",
        "df.drop(\"f_1\", axis=1, inplace=True)    # Esta columna contiene información de secciones (batches) de las imágenes que no requerimos para esta actividad.\n",
        "df.drop(\"f_23\", axis=1, inplace=True)   # Esta columna tiene un solo valor constante.\n",
        "\n",
        "print('Dimensión del DataFrame',df.shape)\n",
        "df.head(3)\n"
      ]
    },
    {
      "cell_type": "code",
      "execution_count": 152,
      "metadata": {
        "id": "Ygm6SpQePvWb"
      },
      "outputs": [
        {
          "name": "stdout",
          "output_type": "stream",
          "text": [
            "\n",
            "Partición:\n",
            "Train: Conteo_clase_positiva=28, Porcentaje_clase_positiva=4.25%, Porcentaje_clase_negativa=95.75%\n",
            "Val: Conteo_clase_positiva=8, Porcentaje_clase_positiva=4.85%, Porcentaje_clase_negativa=95.15%\n",
            "Test: Conteo_clase_positiva=5, Porcentaje_clase_positiva=4.42, Porcentaje_clase_negativa=95.58%%\n"
          ]
        }
      ],
      "source": [
        "# Particionamos en los datos de entrada (X) y de salida (y):\n",
        "X,y = df.iloc[:,:-1], df.iloc[:,-1]\n",
        "\n",
        "# Utilizamos las semillas indicadas para la reproducibilidad de los resultados:\n",
        "Xtv, Xtest, ytv, ytest = train_test_split(X, y, test_size=0.12, stratify=y, shuffle=True, random_state=1)\n",
        "Xtrain, Xval, ytrain, yval = train_test_split(Xtv, ytv, test_size=0.2, shuffle=True, random_state=7)\n",
        "\n",
        "\n",
        "# Veamos la partición de los tres conjuntos para que observes la poca cantidad de datos que se tienen en la clase minoritaria:\n",
        "print('\\nPartición:')\n",
        "tmp = 100 * (ytrain.sum() / len(ytrain))\n",
        "print('Train: Conteo_clase_positiva=%d, Porcentaje_clase_positiva=%.2f%%, Porcentaje_clase_negativa=%.2f%%' % (ytrain.sum(), tmp, 100-tmp))\n",
        "tmp = 100 * (yval.sum() / len(yval))\n",
        "print('Val: Conteo_clase_positiva=%d, Porcentaje_clase_positiva=%.2f%%, Porcentaje_clase_negativa=%.2f%%' % (yval.sum(), tmp, 100-tmp))\n",
        "tmp = 100 * (ytest.sum() / len(ytest))\n",
        "print('Test: Conteo_clase_positiva=%d, Porcentaje_clase_positiva=%.2f, Porcentaje_clase_negativa=%.2f%%%%' % (ytest.sum(), tmp, 100-tmp))"
      ]
    },
    {
      "cell_type": "markdown",
      "metadata": {
        "id": "-jLdlxjXBoK_"
      },
      "source": [
        "#### **Breve descripción numérica y gráfica del conjunto de entrenamiento:**"
      ]
    },
    {
      "cell_type": "code",
      "execution_count": 153,
      "metadata": {
        "collapsed": true,
        "id": "jVLkQMkygVb_"
      },
      "outputs": [
        {
          "data": {
            "text/html": [
              "<div>\n",
              "<style scoped>\n",
              "    .dataframe tbody tr th:only-of-type {\n",
              "        vertical-align: middle;\n",
              "    }\n",
              "\n",
              "    .dataframe tbody tr th {\n",
              "        vertical-align: top;\n",
              "    }\n",
              "\n",
              "    .dataframe thead th {\n",
              "        text-align: right;\n",
              "    }\n",
              "</style>\n",
              "<table border=\"1\" class=\"dataframe\">\n",
              "  <thead>\n",
              "    <tr style=\"text-align: right;\">\n",
              "      <th></th>\n",
              "      <th>count</th>\n",
              "      <th>mean</th>\n",
              "      <th>std</th>\n",
              "      <th>min</th>\n",
              "      <th>25%</th>\n",
              "      <th>50%</th>\n",
              "      <th>75%</th>\n",
              "      <th>max</th>\n",
              "    </tr>\n",
              "  </thead>\n",
              "  <tbody>\n",
              "    <tr>\n",
              "      <th>f_2</th>\n",
              "      <td>659.0</td>\n",
              "      <td>350.377845</td>\n",
              "      <td>1.911459e+03</td>\n",
              "      <td>10.00</td>\n",
              "      <td>19.000</td>\n",
              "      <td>63.00</td>\n",
              "      <td>134.000</td>\n",
              "      <td>28526.00</td>\n",
              "    </tr>\n",
              "    <tr>\n",
              "      <th>f_3</th>\n",
              "      <td>659.0</td>\n",
              "      <td>692.040516</td>\n",
              "      <td>6.013521e+02</td>\n",
              "      <td>1.92</td>\n",
              "      <td>83.905</td>\n",
              "      <td>646.26</td>\n",
              "      <td>1229.325</td>\n",
              "      <td>1789.13</td>\n",
              "    </tr>\n",
              "    <tr>\n",
              "      <th>f_4</th>\n",
              "      <td>659.0</td>\n",
              "      <td>853.822398</td>\n",
              "      <td>5.259526e+02</td>\n",
              "      <td>1.00</td>\n",
              "      <td>435.500</td>\n",
              "      <td>719.81</td>\n",
              "      <td>1238.040</td>\n",
              "      <td>2724.57</td>\n",
              "    </tr>\n",
              "    <tr>\n",
              "      <th>f_5</th>\n",
              "      <td>659.0</td>\n",
              "      <td>85.613050</td>\n",
              "      <td>4.564260e+01</td>\n",
              "      <td>0.00</td>\n",
              "      <td>54.000</td>\n",
              "      <td>74.00</td>\n",
              "      <td>120.500</td>\n",
              "      <td>180.00</td>\n",
              "    </tr>\n",
              "    <tr>\n",
              "      <th>f_6</th>\n",
              "      <td>659.0</td>\n",
              "      <td>831366.966616</td>\n",
              "      <td>4.158159e+06</td>\n",
              "      <td>71718.00</td>\n",
              "      <td>125000.000</td>\n",
              "      <td>185000.00</td>\n",
              "      <td>337500.000</td>\n",
              "      <td>71315000.00</td>\n",
              "    </tr>\n",
              "    <tr>\n",
              "      <th>f_7</th>\n",
              "      <td>659.0</td>\n",
              "      <td>43.517132</td>\n",
              "      <td>1.287405e+01</td>\n",
              "      <td>21.24</td>\n",
              "      <td>33.760</td>\n",
              "      <td>40.35</td>\n",
              "      <td>53.090</td>\n",
              "      <td>82.64</td>\n",
              "    </tr>\n",
              "    <tr>\n",
              "      <th>f_8</th>\n",
              "      <td>659.0</td>\n",
              "      <td>9.244294</td>\n",
              "      <td>3.590490e+00</td>\n",
              "      <td>1.21</td>\n",
              "      <td>6.935</td>\n",
              "      <td>8.33</td>\n",
              "      <td>11.045</td>\n",
              "      <td>23.47</td>\n",
              "    </tr>\n",
              "    <tr>\n",
              "      <th>f_9</th>\n",
              "      <td>659.0</td>\n",
              "      <td>4094.624431</td>\n",
              "      <td>8.960913e+03</td>\n",
              "      <td>704.00</td>\n",
              "      <td>1332.000</td>\n",
              "      <td>2100.00</td>\n",
              "      <td>3445.000</td>\n",
              "      <td>160740.00</td>\n",
              "    </tr>\n",
              "    <tr>\n",
              "      <th>f_10</th>\n",
              "      <td>659.0</td>\n",
              "      <td>0.221730</td>\n",
              "      <td>8.687786e-02</td>\n",
              "      <td>0.02</td>\n",
              "      <td>0.170</td>\n",
              "      <td>0.21</td>\n",
              "      <td>0.260</td>\n",
              "      <td>0.67</td>\n",
              "    </tr>\n",
              "    <tr>\n",
              "      <th>f_11</th>\n",
              "      <td>659.0</td>\n",
              "      <td>110.794537</td>\n",
              "      <td>6.187135e+01</td>\n",
              "      <td>41.00</td>\n",
              "      <td>84.400</td>\n",
              "      <td>100.10</td>\n",
              "      <td>116.300</td>\n",
              "      <td>901.70</td>\n",
              "    </tr>\n",
              "    <tr>\n",
              "      <th>f_12</th>\n",
              "      <td>659.0</td>\n",
              "      <td>0.253020</td>\n",
              "      <td>8.808578e-02</td>\n",
              "      <td>0.02</td>\n",
              "      <td>0.200</td>\n",
              "      <td>0.24</td>\n",
              "      <td>0.290</td>\n",
              "      <td>0.66</td>\n",
              "    </tr>\n",
              "    <tr>\n",
              "      <th>f_13</th>\n",
              "      <td>659.0</td>\n",
              "      <td>0.312914</td>\n",
              "      <td>1.201507e-01</td>\n",
              "      <td>0.03</td>\n",
              "      <td>0.240</td>\n",
              "      <td>0.29</td>\n",
              "      <td>0.350</td>\n",
              "      <td>0.83</td>\n",
              "    </tr>\n",
              "    <tr>\n",
              "      <th>f_14</th>\n",
              "      <td>659.0</td>\n",
              "      <td>0.492504</td>\n",
              "      <td>2.208362e-01</td>\n",
              "      <td>0.05</td>\n",
              "      <td>0.330</td>\n",
              "      <td>0.44</td>\n",
              "      <td>0.620</td>\n",
              "      <td>1.23</td>\n",
              "    </tr>\n",
              "    <tr>\n",
              "      <th>f_15</th>\n",
              "      <td>659.0</td>\n",
              "      <td>0.183596</td>\n",
              "      <td>8.448464e-02</td>\n",
              "      <td>0.01</td>\n",
              "      <td>0.130</td>\n",
              "      <td>0.18</td>\n",
              "      <td>0.220</td>\n",
              "      <td>0.65</td>\n",
              "    </tr>\n",
              "    <tr>\n",
              "      <th>f_16</th>\n",
              "      <td>659.0</td>\n",
              "      <td>0.308923</td>\n",
              "      <td>2.118486e-01</td>\n",
              "      <td>0.01</td>\n",
              "      <td>0.130</td>\n",
              "      <td>0.27</td>\n",
              "      <td>0.420</td>\n",
              "      <td>1.12</td>\n",
              "    </tr>\n",
              "    <tr>\n",
              "      <th>f_17</th>\n",
              "      <td>659.0</td>\n",
              "      <td>74.584264</td>\n",
              "      <td>2.783014e+02</td>\n",
              "      <td>4.82</td>\n",
              "      <td>21.060</td>\n",
              "      <td>33.66</td>\n",
              "      <td>61.960</td>\n",
              "      <td>6058.23</td>\n",
              "    </tr>\n",
              "    <tr>\n",
              "      <th>f_18</th>\n",
              "      <td>659.0</td>\n",
              "      <td>31.952929</td>\n",
              "      <td>1.689711e+02</td>\n",
              "      <td>1.96</td>\n",
              "      <td>11.605</td>\n",
              "      <td>16.00</td>\n",
              "      <td>24.220</td>\n",
              "      <td>4061.15</td>\n",
              "    </tr>\n",
              "    <tr>\n",
              "      <th>f_19</th>\n",
              "      <td>659.0</td>\n",
              "      <td>0.898998</td>\n",
              "      <td>6.747411e-01</td>\n",
              "      <td>0.13</td>\n",
              "      <td>0.370</td>\n",
              "      <td>0.68</td>\n",
              "      <td>1.055</td>\n",
              "      <td>2.60</td>\n",
              "    </tr>\n",
              "    <tr>\n",
              "      <th>f_20</th>\n",
              "      <td>659.0</td>\n",
              "      <td>0.230835</td>\n",
              "      <td>7.595632e-02</td>\n",
              "      <td>0.02</td>\n",
              "      <td>0.180</td>\n",
              "      <td>0.22</td>\n",
              "      <td>0.265</td>\n",
              "      <td>0.65</td>\n",
              "    </tr>\n",
              "    <tr>\n",
              "      <th>f_21</th>\n",
              "      <td>659.0</td>\n",
              "      <td>0.291866</td>\n",
              "      <td>1.060997e-01</td>\n",
              "      <td>0.02</td>\n",
              "      <td>0.230</td>\n",
              "      <td>0.28</td>\n",
              "      <td>0.330</td>\n",
              "      <td>0.77</td>\n",
              "    </tr>\n",
              "    <tr>\n",
              "      <th>f_22</th>\n",
              "      <td>659.0</td>\n",
              "      <td>75.669135</td>\n",
              "      <td>2.302167e+01</td>\n",
              "      <td>47.66</td>\n",
              "      <td>55.850</td>\n",
              "      <td>69.09</td>\n",
              "      <td>85.220</td>\n",
              "      <td>126.08</td>\n",
              "    </tr>\n",
              "    <tr>\n",
              "      <th>f_24</th>\n",
              "      <td>659.0</td>\n",
              "      <td>0.650470</td>\n",
              "      <td>3.025940e-01</td>\n",
              "      <td>0.17</td>\n",
              "      <td>0.450</td>\n",
              "      <td>0.51</td>\n",
              "      <td>0.970</td>\n",
              "      <td>1.33</td>\n",
              "    </tr>\n",
              "    <tr>\n",
              "      <th>f_25</th>\n",
              "      <td>659.0</td>\n",
              "      <td>556.225721</td>\n",
              "      <td>6.116655e+02</td>\n",
              "      <td>132.78</td>\n",
              "      <td>221.970</td>\n",
              "      <td>351.67</td>\n",
              "      <td>422.120</td>\n",
              "      <td>2036.80</td>\n",
              "    </tr>\n",
              "    <tr>\n",
              "      <th>f_26</th>\n",
              "      <td>659.0</td>\n",
              "      <td>0.578892</td>\n",
              "      <td>6.986410e-01</td>\n",
              "      <td>-0.71</td>\n",
              "      <td>0.180</td>\n",
              "      <td>0.87</td>\n",
              "      <td>0.970</td>\n",
              "      <td>1.83</td>\n",
              "    </tr>\n",
              "    <tr>\n",
              "      <th>f_27</th>\n",
              "      <td>659.0</td>\n",
              "      <td>7.416480</td>\n",
              "      <td>3.947090e+00</td>\n",
              "      <td>2.96</td>\n",
              "      <td>4.660</td>\n",
              "      <td>5.07</td>\n",
              "      <td>9.240</td>\n",
              "      <td>14.78</td>\n",
              "    </tr>\n",
              "    <tr>\n",
              "      <th>f_28</th>\n",
              "      <td>659.0</td>\n",
              "      <td>0.604355</td>\n",
              "      <td>8.554309e-01</td>\n",
              "      <td>-1.79</td>\n",
              "      <td>0.100</td>\n",
              "      <td>0.48</td>\n",
              "      <td>0.980</td>\n",
              "      <td>5.72</td>\n",
              "    </tr>\n",
              "    <tr>\n",
              "      <th>f_29</th>\n",
              "      <td>659.0</td>\n",
              "      <td>4.274370</td>\n",
              "      <td>3.754092e+00</td>\n",
              "      <td>1.44</td>\n",
              "      <td>2.650</td>\n",
              "      <td>3.34</td>\n",
              "      <td>4.420</td>\n",
              "      <td>39.42</td>\n",
              "    </tr>\n",
              "    <tr>\n",
              "      <th>f_30</th>\n",
              "      <td>659.0</td>\n",
              "      <td>-2.804598</td>\n",
              "      <td>1.613061e+00</td>\n",
              "      <td>-7.26</td>\n",
              "      <td>-3.245</td>\n",
              "      <td>-2.78</td>\n",
              "      <td>-1.610</td>\n",
              "      <td>1.28</td>\n",
              "    </tr>\n",
              "    <tr>\n",
              "      <th>f_31</th>\n",
              "      <td>659.0</td>\n",
              "      <td>-0.426222</td>\n",
              "      <td>2.129161e-01</td>\n",
              "      <td>-1.32</td>\n",
              "      <td>-0.530</td>\n",
              "      <td>-0.38</td>\n",
              "      <td>-0.280</td>\n",
              "      <td>0.00</td>\n",
              "    </tr>\n",
              "    <tr>\n",
              "      <th>f_32</th>\n",
              "      <td>659.0</td>\n",
              "      <td>1.807208</td>\n",
              "      <td>6.434560e-01</td>\n",
              "      <td>0.00</td>\n",
              "      <td>1.220</td>\n",
              "      <td>1.94</td>\n",
              "      <td>2.170</td>\n",
              "      <td>2.98</td>\n",
              "    </tr>\n",
              "    <tr>\n",
              "      <th>f_33</th>\n",
              "      <td>659.0</td>\n",
              "      <td>0.002656</td>\n",
              "      <td>4.789256e-02</td>\n",
              "      <td>0.00</td>\n",
              "      <td>0.000</td>\n",
              "      <td>0.00</td>\n",
              "      <td>0.000</td>\n",
              "      <td>0.87</td>\n",
              "    </tr>\n",
              "    <tr>\n",
              "      <th>f_34</th>\n",
              "      <td>659.0</td>\n",
              "      <td>1.804537</td>\n",
              "      <td>6.478960e-01</td>\n",
              "      <td>0.00</td>\n",
              "      <td>1.220</td>\n",
              "      <td>1.94</td>\n",
              "      <td>2.170</td>\n",
              "      <td>2.98</td>\n",
              "    </tr>\n",
              "    <tr>\n",
              "      <th>f_35</th>\n",
              "      <td>659.0</td>\n",
              "      <td>44.641882</td>\n",
              "      <td>1.030699e+02</td>\n",
              "      <td>3.00</td>\n",
              "      <td>11.000</td>\n",
              "      <td>22.00</td>\n",
              "      <td>38.500</td>\n",
              "      <td>1695.00</td>\n",
              "    </tr>\n",
              "    <tr>\n",
              "      <th>f_36</th>\n",
              "      <td>659.0</td>\n",
              "      <td>2523.004552</td>\n",
              "      <td>5.656116e+03</td>\n",
              "      <td>360.00</td>\n",
              "      <td>720.000</td>\n",
              "      <td>1350.00</td>\n",
              "      <td>2160.000</td>\n",
              "      <td>95310.00</td>\n",
              "    </tr>\n",
              "    <tr>\n",
              "      <th>f_37</th>\n",
              "      <td>659.0</td>\n",
              "      <td>0.006646</td>\n",
              "      <td>5.300774e-03</td>\n",
              "      <td>0.00</td>\n",
              "      <td>0.000</td>\n",
              "      <td>0.01</td>\n",
              "      <td>0.010</td>\n",
              "      <td>0.02</td>\n",
              "    </tr>\n",
              "    <tr>\n",
              "      <th>f_38</th>\n",
              "      <td>659.0</td>\n",
              "      <td>31.436525</td>\n",
              "      <td>3.224650e+01</td>\n",
              "      <td>5.05</td>\n",
              "      <td>13.045</td>\n",
              "      <td>23.52</td>\n",
              "      <td>38.460</td>\n",
              "      <td>441.23</td>\n",
              "    </tr>\n",
              "    <tr>\n",
              "      <th>f_39</th>\n",
              "      <td>659.0</td>\n",
              "      <td>91.368741</td>\n",
              "      <td>2.192074e+01</td>\n",
              "      <td>64.00</td>\n",
              "      <td>78.000</td>\n",
              "      <td>82.00</td>\n",
              "      <td>99.000</td>\n",
              "      <td>143.00</td>\n",
              "    </tr>\n",
              "    <tr>\n",
              "      <th>f_40</th>\n",
              "      <td>659.0</td>\n",
              "      <td>60.617602</td>\n",
              "      <td>1.382443e+01</td>\n",
              "      <td>39.00</td>\n",
              "      <td>50.000</td>\n",
              "      <td>55.00</td>\n",
              "      <td>67.000</td>\n",
              "      <td>86.00</td>\n",
              "    </tr>\n",
              "    <tr>\n",
              "      <th>f_41</th>\n",
              "      <td>659.0</td>\n",
              "      <td>933.986980</td>\n",
              "      <td>1.006869e+03</td>\n",
              "      <td>0.00</td>\n",
              "      <td>450.000</td>\n",
              "      <td>670.82</td>\n",
              "      <td>1058.880</td>\n",
              "      <td>11949.33</td>\n",
              "    </tr>\n",
              "    <tr>\n",
              "      <th>f_42</th>\n",
              "      <td>659.0</td>\n",
              "      <td>435.976995</td>\n",
              "      <td>7.350065e+02</td>\n",
              "      <td>0.00</td>\n",
              "      <td>180.000</td>\n",
              "      <td>270.00</td>\n",
              "      <td>474.340</td>\n",
              "      <td>11500.00</td>\n",
              "    </tr>\n",
              "    <tr>\n",
              "      <th>f_43</th>\n",
              "      <td>659.0</td>\n",
              "      <td>260.688255</td>\n",
              "      <td>5.560402e+02</td>\n",
              "      <td>0.00</td>\n",
              "      <td>94.855</td>\n",
              "      <td>161.15</td>\n",
              "      <td>267.270</td>\n",
              "      <td>9593.48</td>\n",
              "    </tr>\n",
              "    <tr>\n",
              "      <th>f_44</th>\n",
              "      <td>659.0</td>\n",
              "      <td>108.143429</td>\n",
              "      <td>1.360154e+02</td>\n",
              "      <td>0.00</td>\n",
              "      <td>51.960</td>\n",
              "      <td>75.97</td>\n",
              "      <td>128.415</td>\n",
              "      <td>1648.80</td>\n",
              "    </tr>\n",
              "    <tr>\n",
              "      <th>f_45</th>\n",
              "      <td>659.0</td>\n",
              "      <td>5.054613</td>\n",
              "      <td>5.198215e+00</td>\n",
              "      <td>0.00</td>\n",
              "      <td>2.315</td>\n",
              "      <td>3.90</td>\n",
              "      <td>6.320</td>\n",
              "      <td>76.63</td>\n",
              "    </tr>\n",
              "    <tr>\n",
              "      <th>f_46</th>\n",
              "      <td>659.0</td>\n",
              "      <td>0.125948</td>\n",
              "      <td>3.320432e-01</td>\n",
              "      <td>0.00</td>\n",
              "      <td>0.000</td>\n",
              "      <td>0.00</td>\n",
              "      <td>0.000</td>\n",
              "      <td>1.00</td>\n",
              "    </tr>\n",
              "    <tr>\n",
              "      <th>f_47</th>\n",
              "      <td>659.0</td>\n",
              "      <td>8160.541851</td>\n",
              "      <td>6.869664e+03</td>\n",
              "      <td>2087.31</td>\n",
              "      <td>3811.080</td>\n",
              "      <td>5592.20</td>\n",
              "      <td>9962.705</td>\n",
              "      <td>55128.46</td>\n",
              "    </tr>\n",
              "    <tr>\n",
              "      <th>f_48</th>\n",
              "      <td>659.0</td>\n",
              "      <td>61.721700</td>\n",
              "      <td>1.037758e+01</td>\n",
              "      <td>35.96</td>\n",
              "      <td>65.700</td>\n",
              "      <td>65.93</td>\n",
              "      <td>66.130</td>\n",
              "      <td>66.45</td>\n",
              "    </tr>\n",
              "    <tr>\n",
              "      <th>f_49</th>\n",
              "      <td>659.0</td>\n",
              "      <td>8.111730</td>\n",
              "      <td>2.901510e+00</td>\n",
              "      <td>5.81</td>\n",
              "      <td>6.340</td>\n",
              "      <td>7.22</td>\n",
              "      <td>7.840</td>\n",
              "      <td>15.44</td>\n",
              "    </tr>\n",
              "  </tbody>\n",
              "</table>\n",
              "</div>"
            ],
            "text/plain": [
              "      count           mean           std       min         25%        50%  \\\n",
              "f_2   659.0     350.377845  1.911459e+03     10.00      19.000      63.00   \n",
              "f_3   659.0     692.040516  6.013521e+02      1.92      83.905     646.26   \n",
              "f_4   659.0     853.822398  5.259526e+02      1.00     435.500     719.81   \n",
              "f_5   659.0      85.613050  4.564260e+01      0.00      54.000      74.00   \n",
              "f_6   659.0  831366.966616  4.158159e+06  71718.00  125000.000  185000.00   \n",
              "f_7   659.0      43.517132  1.287405e+01     21.24      33.760      40.35   \n",
              "f_8   659.0       9.244294  3.590490e+00      1.21       6.935       8.33   \n",
              "f_9   659.0    4094.624431  8.960913e+03    704.00    1332.000    2100.00   \n",
              "f_10  659.0       0.221730  8.687786e-02      0.02       0.170       0.21   \n",
              "f_11  659.0     110.794537  6.187135e+01     41.00      84.400     100.10   \n",
              "f_12  659.0       0.253020  8.808578e-02      0.02       0.200       0.24   \n",
              "f_13  659.0       0.312914  1.201507e-01      0.03       0.240       0.29   \n",
              "f_14  659.0       0.492504  2.208362e-01      0.05       0.330       0.44   \n",
              "f_15  659.0       0.183596  8.448464e-02      0.01       0.130       0.18   \n",
              "f_16  659.0       0.308923  2.118486e-01      0.01       0.130       0.27   \n",
              "f_17  659.0      74.584264  2.783014e+02      4.82      21.060      33.66   \n",
              "f_18  659.0      31.952929  1.689711e+02      1.96      11.605      16.00   \n",
              "f_19  659.0       0.898998  6.747411e-01      0.13       0.370       0.68   \n",
              "f_20  659.0       0.230835  7.595632e-02      0.02       0.180       0.22   \n",
              "f_21  659.0       0.291866  1.060997e-01      0.02       0.230       0.28   \n",
              "f_22  659.0      75.669135  2.302167e+01     47.66      55.850      69.09   \n",
              "f_24  659.0       0.650470  3.025940e-01      0.17       0.450       0.51   \n",
              "f_25  659.0     556.225721  6.116655e+02    132.78     221.970     351.67   \n",
              "f_26  659.0       0.578892  6.986410e-01     -0.71       0.180       0.87   \n",
              "f_27  659.0       7.416480  3.947090e+00      2.96       4.660       5.07   \n",
              "f_28  659.0       0.604355  8.554309e-01     -1.79       0.100       0.48   \n",
              "f_29  659.0       4.274370  3.754092e+00      1.44       2.650       3.34   \n",
              "f_30  659.0      -2.804598  1.613061e+00     -7.26      -3.245      -2.78   \n",
              "f_31  659.0      -0.426222  2.129161e-01     -1.32      -0.530      -0.38   \n",
              "f_32  659.0       1.807208  6.434560e-01      0.00       1.220       1.94   \n",
              "f_33  659.0       0.002656  4.789256e-02      0.00       0.000       0.00   \n",
              "f_34  659.0       1.804537  6.478960e-01      0.00       1.220       1.94   \n",
              "f_35  659.0      44.641882  1.030699e+02      3.00      11.000      22.00   \n",
              "f_36  659.0    2523.004552  5.656116e+03    360.00     720.000    1350.00   \n",
              "f_37  659.0       0.006646  5.300774e-03      0.00       0.000       0.01   \n",
              "f_38  659.0      31.436525  3.224650e+01      5.05      13.045      23.52   \n",
              "f_39  659.0      91.368741  2.192074e+01     64.00      78.000      82.00   \n",
              "f_40  659.0      60.617602  1.382443e+01     39.00      50.000      55.00   \n",
              "f_41  659.0     933.986980  1.006869e+03      0.00     450.000     670.82   \n",
              "f_42  659.0     435.976995  7.350065e+02      0.00     180.000     270.00   \n",
              "f_43  659.0     260.688255  5.560402e+02      0.00      94.855     161.15   \n",
              "f_44  659.0     108.143429  1.360154e+02      0.00      51.960      75.97   \n",
              "f_45  659.0       5.054613  5.198215e+00      0.00       2.315       3.90   \n",
              "f_46  659.0       0.125948  3.320432e-01      0.00       0.000       0.00   \n",
              "f_47  659.0    8160.541851  6.869664e+03   2087.31    3811.080    5592.20   \n",
              "f_48  659.0      61.721700  1.037758e+01     35.96      65.700      65.93   \n",
              "f_49  659.0       8.111730  2.901510e+00      5.81       6.340       7.22   \n",
              "\n",
              "             75%          max  \n",
              "f_2      134.000     28526.00  \n",
              "f_3     1229.325      1789.13  \n",
              "f_4     1238.040      2724.57  \n",
              "f_5      120.500       180.00  \n",
              "f_6   337500.000  71315000.00  \n",
              "f_7       53.090        82.64  \n",
              "f_8       11.045        23.47  \n",
              "f_9     3445.000    160740.00  \n",
              "f_10       0.260         0.67  \n",
              "f_11     116.300       901.70  \n",
              "f_12       0.290         0.66  \n",
              "f_13       0.350         0.83  \n",
              "f_14       0.620         1.23  \n",
              "f_15       0.220         0.65  \n",
              "f_16       0.420         1.12  \n",
              "f_17      61.960      6058.23  \n",
              "f_18      24.220      4061.15  \n",
              "f_19       1.055         2.60  \n",
              "f_20       0.265         0.65  \n",
              "f_21       0.330         0.77  \n",
              "f_22      85.220       126.08  \n",
              "f_24       0.970         1.33  \n",
              "f_25     422.120      2036.80  \n",
              "f_26       0.970         1.83  \n",
              "f_27       9.240        14.78  \n",
              "f_28       0.980         5.72  \n",
              "f_29       4.420        39.42  \n",
              "f_30      -1.610         1.28  \n",
              "f_31      -0.280         0.00  \n",
              "f_32       2.170         2.98  \n",
              "f_33       0.000         0.87  \n",
              "f_34       2.170         2.98  \n",
              "f_35      38.500      1695.00  \n",
              "f_36    2160.000     95310.00  \n",
              "f_37       0.010         0.02  \n",
              "f_38      38.460       441.23  \n",
              "f_39      99.000       143.00  \n",
              "f_40      67.000        86.00  \n",
              "f_41    1058.880     11949.33  \n",
              "f_42     474.340     11500.00  \n",
              "f_43     267.270      9593.48  \n",
              "f_44     128.415      1648.80  \n",
              "f_45       6.320        76.63  \n",
              "f_46       0.000         1.00  \n",
              "f_47    9962.705     55128.46  \n",
              "f_48      66.130        66.45  \n",
              "f_49       7.840        15.44  "
            ]
          },
          "execution_count": 153,
          "metadata": {},
          "output_type": "execute_result"
        }
      ],
      "source": [
        "Xtrain.describe().T"
      ]
    },
    {
      "cell_type": "code",
      "execution_count": 154,
      "metadata": {
        "collapsed": true,
        "id": "LQ9SWsZS1PzB"
      },
      "outputs": [
        {
          "data": {
            "image/png": "[encoded data removed]",
            "text/plain": [
              "<Figure size 640x480 with 49 Axes>"
            ]
          },
          "metadata": {},
          "output_type": "display_data"
        }
      ],
      "source": [
        "ax = Xtrain.hist()  # Histogramas:\n",
        "# Quitemos toda la información del gráfico para visualizarlo de manera sencilla:\n",
        "for axis in ax.flatten():\n",
        "  axis.set_title('')\n",
        "  axis.set_xticklabels([])\n",
        "  axis.set_yticklabels([])\n",
        "plt.show()\n"
      ]
    },
    {
      "cell_type": "code",
      "execution_count": 155,
      "metadata": {
        "collapsed": true,
        "id": "MlCqWN-Tl_CG"
      },
      "outputs": [
        {
          "name": "stdout",
          "output_type": "stream",
          "text": [
            "<class 'pandas.core.frame.DataFrame'>\n",
            "Index: 659 entries, 433 to 625\n",
            "Data columns (total 47 columns):\n",
            " #   Column  Non-Null Count  Dtype  \n",
            "---  ------  --------------  -----  \n",
            " 0   f_2     659 non-null    int64  \n",
            " 1   f_3     659 non-null    float64\n",
            " 2   f_4     659 non-null    float64\n",
            " 3   f_5     659 non-null    int64  \n",
            " 4   f_6     659 non-null    float64\n",
            " 5   f_7     659 non-null    float64\n",
            " 6   f_8     659 non-null    float64\n",
            " 7   f_9     659 non-null    float64\n",
            " 8   f_10    659 non-null    float64\n",
            " 9   f_11    659 non-null    float64\n",
            " 10  f_12    659 non-null    float64\n",
            " 11  f_13    659 non-null    float64\n",
            " 12  f_14    659 non-null    float64\n",
            " 13  f_15    659 non-null    float64\n",
            " 14  f_16    659 non-null    float64\n",
            " 15  f_17    659 non-null    float64\n",
            " 16  f_18    659 non-null    float64\n",
            " 17  f_19    659 non-null    float64\n",
            " 18  f_20    659 non-null    float64\n",
            " 19  f_21    659 non-null    float64\n",
            " 20  f_22    659 non-null    float64\n",
            " 21  f_24    659 non-null    float64\n",
            " 22  f_25    659 non-null    float64\n",
            " 23  f_26    659 non-null    float64\n",
            " 24  f_27    659 non-null    float64\n",
            " 25  f_28    659 non-null    float64\n",
            " 26  f_29    659 non-null    float64\n",
            " 27  f_30    659 non-null    float64\n",
            " 28  f_31    659 non-null    float64\n",
            " 29  f_32    659 non-null    float64\n",
            " 30  f_33    659 non-null    float64\n",
            " 31  f_34    659 non-null    float64\n",
            " 32  f_35    659 non-null    int64  \n",
            " 33  f_36    659 non-null    int64  \n",
            " 34  f_37    659 non-null    float64\n",
            " 35  f_38    659 non-null    float64\n",
            " 36  f_39    659 non-null    int64  \n",
            " 37  f_40    659 non-null    int64  \n",
            " 38  f_41    659 non-null    float64\n",
            " 39  f_42    659 non-null    float64\n",
            " 40  f_43    659 non-null    float64\n",
            " 41  f_44    659 non-null    float64\n",
            " 42  f_45    659 non-null    float64\n",
            " 43  f_46    659 non-null    int64  \n",
            " 44  f_47    659 non-null    float64\n",
            " 45  f_48    659 non-null    float64\n",
            " 46  f_49    659 non-null    float64\n",
            "dtypes: float64(40), int64(7)\n",
            "memory usage: 247.1 KB\n"
          ]
        }
      ],
      "source": [
        "Xtrain.info()"
      ]
    },
    {
      "cell_type": "markdown",
      "metadata": {
        "id": "scGKZofHV2eo"
      },
      "source": [
        "En resumen:\n",
        "* De lo anterior observamos que todos los valores ya son numéricos positivos y negativos, no hay datos perdidios, la diferencia de escala entre todos los factores es muy diversa y la distribución de las variables también es muy variada.\n",
        "\n",
        "* Como una primera aproximación transformaremos todos los factores con la Yeo-Johnson para corregir un poco el sesgo de las distribuciones que suele afectar en general a los modelos como la regresión logística y luego los escalaremos ."
      ]
    },
    {
      "cell_type": "markdown",
      "metadata": {
        "id": "W3uP4iIkd4nz"
      },
      "source": [
        "# **Ejercicio-2**"
      ]
    },
    {
      "cell_type": "markdown",
      "metadata": {
        "id": "YG0d_r5Td6St"
      },
      "source": [
        "### **Investiga: (a) En qué consiste la transformación Yeo-Johnson y (b) cuál es su diferencia con la Box-Cox.**\n",
        "\n",
        "**+++++++++++ Inicia sección para agregar texto ++++++++++++++++**\n",
        "\n",
        "\n",
        "* a) La transformación de Yeo Johnson es una transformación que busca normalizar la distribución de los datos, reduciendo la asimetría de estos.\n",
        "\n",
        "* b) La diferencia con Box-Cox es principalmente que esta última solamente puede transformar datos positivos, mientras que el método de Yeo Johnson permite normalizar datos negativos y ceros.\n",
        "\n",
        "\n",
        "\n",
        "**+++++++++++ Termina sección para agregar texto ++++++++++++++**"
      ]
    },
    {
      "cell_type": "code",
      "execution_count": 156,
      "metadata": {
        "id": "rRnWD-yoXnk8"
      },
      "outputs": [
        {
          "name": "stdout",
          "output_type": "stream",
          "text": [
            "Métrica G-mean[Media Geométrica] y (std): 0.461 (0.241)\n"
          ]
        }
      ],
      "source": [
        "# Código-1:\n",
        "\n",
        "# Aplicamos la función Dummy con la métrica G-mean:\n",
        "\n",
        "def evaluate_model(X, y, model):\n",
        "  cv = RepeatedStratifiedKFold(n_splits=10, n_repeats=3, random_state=1)\n",
        "  metric = make_scorer(geometric_mean_score)\n",
        "  scores = cross_val_score(model, X, y, scoring=metric, cv=cv, n_jobs=-1)\n",
        "  return scores\n",
        "\n",
        "\n",
        "modeloD = DummyClassifier(strategy='uniform', random_state=7)\n",
        "scores = evaluate_model(Xtrain, ytrain, modeloD)\n",
        "\n",
        "print('Métrica G-mean[Media Geométrica] y (std): %.3f (%.3f)' % (mean(scores), std(scores)))\n"
      ]
    },
    {
      "cell_type": "markdown",
      "metadata": {
        "id": "iq142ztPDj9F"
      },
      "source": [
        "# **Ejercicio-3**"
      ]
    },
    {
      "cell_type": "markdown",
      "metadata": {
        "id": "r4t1H1lADk1c"
      },
      "source": [
        "### **Explica lo que hace cada línea de código de la celda anterior llamada \"Código-1\", así como el significado de los valores que se obtienen en la salida:**\n",
        "\n",
        "**+++++++++++ Inicia sección para agregar texto ++++++++++++++++**\n",
        "\n",
        "**NOTA AL PROFESOR: la descripción puede ser algo diferente a lo que comento aquí:**\n",
        "\n",
        "\n",
        "1.   Elemento de lista\n",
        "2.   Elemento de lista\n",
        "3.   Elemento de lista\n",
        "4.   Elemento de lista\n",
        "5.   Elemento de lista\n",
        "6.   Elemento de lista\n",
        "7.   Elemento de lista\n",
        "8.   Elemento de lista\n",
        "9.   Significado del valor de salida:\n",
        "\n",
        "La función evaluate_model es definida con 3 parametros de entrada, los cuales son los datos de entrada del modelo (X), los datos de salida (y), y nuestro modelo (model)\n",
        "\n",
        "Posteriormente se define como cv al método de validación cruzada con k-Folds. En nuestra validación, nuestros datos se separarán en 10 partes iguales y se realizaran 3 iteraciónes de validación con diferente reparticion de datos. Random state = 1 establece la semilla 1 para el reordenamiento de nuestros datos.\n",
        "\n",
        "La siguiente línea crea un scorer a partir de la métrica de g_mean. Esto lo convierte en un wrapper referenciable, y se usará para poder mandarlo como argumento posteriormente.\n",
        "\n",
        "Después, utilizamos el cross_val_score para evaluar nuestro modelo por validación cruzada, y lo mandamos a llamar tanto con el modelo, como con los datos de entrada y de salida, así como con nuestro método de k-folds y el método de evaluación de g-mean. N-jobs = -1 determina el numero de hilos como el máximo posible (para hacer el proceso rápidamente). \n",
        "\n",
        "La función después regresará el resultado de cross_val_score, el cual es una lista de g_mean por cada iteración de la validación, que en este caso son 10 splits x 3 iterations = array de 30 resultados.\n",
        "\n",
        "Despues de la definción de la función, se usa crea un modelo dummy con la estrategia \"uniform\" el cual otorga salidas totalmenta aleatorias sin depender de las entradas. Random state = 7 establece la semilla 7 para la aleatoriedad de los resultados.\n",
        "\n",
        "Mandamos a llamar la funcion de evaluate_model con el modelo dummy,y nuestros datos de entrada y salida, registrando las validaciones con g_mean en la variable scores.\n",
        "\n",
        "Finalmente, imprimimos la media y desviación estándar de nuestros resultados.\n",
        "\n",
        "\n",
        "**+++++++++++ Termina sección para agregar texto ++++++++++++++**"
      ]
    },
    {
      "cell_type": "markdown",
      "metadata": {
        "id": "fYPq7gNDE0Bb"
      },
      "source": [
        "#### **Para fines de esta actividad definimos las siguientes transformaciones del preprocesamiento de los datos. Recuerda que aunque estos datos no tengan datos perdidos, simpre debes incluir una opción para el caso con datos futuros:**"
      ]
    },
    {
      "cell_type": "code",
      "execution_count": 157,
      "metadata": {
        "id": "vngPHRx4SbJl"
      },
      "outputs": [],
      "source": [
        "# Transforamaciones numéricas que evitará el filtrado de información:\n",
        "\n",
        "\n",
        "numericas_pipeline = Pipeline(steps = [('impMediana', SimpleImputer(strategy='mean')),\n",
        "                                       ('yeo-johnson', PowerTransformer()),\n",
        "                                       ('std_transformer', StandardScaler()),\n",
        "                                       ])\n",
        "\n",
        "numericas_pipeline_nombres = Xtrain.columns\n",
        "\n",
        "columnasTransformer = ColumnTransformer(transformers = [('num', numericas_pipeline, numericas_pipeline_nombres)],\n",
        "                                        remainder='passthrough')"
      ]
    },
    {
      "cell_type": "code",
      "execution_count": 158,
      "metadata": {
        "id": "On9HsGmUeytp"
      },
      "outputs": [],
      "source": [
        "mi_metrica = make_scorer(geometric_mean_score)  # definimos la métrica G-mean"
      ]
    },
    {
      "cell_type": "code",
      "execution_count": 159,
      "metadata": {
        "id": "OikwDqHbSbF4"
      },
      "outputs": [
        {
          "name": "stdout",
          "output_type": "stream",
          "text": [
            "Resultados de Validación:\n",
            "LR\n",
            "Exactitud: >> 0.947 (0.014)\n",
            "G-mean: >> 0.653 (0.118)\n",
            "\n",
            "LASSO\n",
            "Exactitud: >> 0.960 (0.009)\n",
            "G-mean: >> 0.501 (0.158)\n",
            "\n",
            "RIDGE\n",
            "Exactitud: >> 0.959 (0.008)\n",
            "G-mean: >> 0.541 (0.113)\n",
            "\n",
            "EN\n",
            "Exactitud: >> 0.960 (0.007)\n",
            "G-mean: >> 0.540 (0.109)\n",
            "\n",
            "kNN\n",
            "Exactitud: >> 0.956 (0.006)\n",
            "G-mean: >> 0.174 (0.187)\n",
            "\n"
          ]
        },
        {
          "data": {
            "image/png": "[encoded data removed]",
            "text/plain": [
              "<Figure size 640x480 with 1 Axes>"
            ]
          },
          "metadata": {},
          "output_type": "display_data"
        },
        {
          "data": {
            "image/png": "[encoded data removed]",
            "text/plain": [
              "<Figure size 640x480 with 1 Axes>"
            ]
          },
          "metadata": {},
          "output_type": "display_data"
        }
      ],
      "source": [
        "# Código-2:\n",
        "\n",
        "\n",
        "def mis_modelos1():\n",
        "  modelos, nombres = list(), list()\n",
        "\n",
        "  modelos.append(LogisticRegression(penalty=None,\n",
        "                                    max_iter=2000,\n",
        "                                    random_state=1))\n",
        "  nombres.append('LR')\n",
        "\n",
        "\n",
        "  modelos.append(LogisticRegression(penalty='l1',\n",
        "                                    solver='liblinear',\n",
        "                                    max_iter=2000,\n",
        "                                    random_state=1))\n",
        "  nombres.append('LASSO')\n",
        "\n",
        "\n",
        "  modelos.append(LogisticRegression(penalty='l2',\n",
        "                                    max_iter=2000,\n",
        "                                    random_state=1))\n",
        "  nombres.append('RIDGE')\n",
        "\n",
        "  modelos.append(LogisticRegression(penalty='elasticnet',\n",
        "                                    l1_ratio=0.5,\n",
        "                                    solver='saga',\n",
        "                                    max_iter=5000,\n",
        "                                    random_state=1))\n",
        "  nombres.append('EN')\n",
        "\n",
        "  modelos.append(KNeighborsClassifier(n_neighbors=5))\n",
        "  nombres.append('kNN')\n",
        "\n",
        "  return modelos, nombres\n",
        "\n",
        "# +++++++++++++++++++++++++++++++\n",
        "\n",
        "\n",
        "modelos, nombres = mis_modelos1()\n",
        "resultados1, resultados2 = list(), list()\n",
        "print('Resultados de Validación:')\n",
        "\n",
        "for i in range(len(modelos)):\n",
        "\n",
        "  pipeline = Pipeline(steps=[('ct',columnasTransformer),('m',modelos[i])])\n",
        "  cv1 = RepeatedStratifiedKFold(n_splits=5, n_repeats=3, random_state=7)\n",
        "  scores = cross_validate(pipeline,\n",
        "                          Xtv,\n",
        "                          np.ravel(ytv),\n",
        "                          scoring={'exactitud':'accuracy', 'm_geo':mi_metrica},\n",
        "                          cv=cv1)\n",
        "\n",
        "  resultados1.append(scores['test_exactitud'])\n",
        "  resultados2.append(scores['test_m_geo'])\n",
        "\n",
        "  print(nombres[i])\n",
        "  print('Exactitud: >> %.3f (%.3f)' % (np.nanmean(scores['test_exactitud']), np.nanstd(scores['test_exactitud'])))\n",
        "  print('G-mean: >> %.3f (%.3f)' % (np.nanmean(scores['test_m_geo']), np.nanstd(scores['test_m_geo'])))\n",
        "  print()\n",
        "\n",
        "plt.boxplot(resultados1, tick_labels=nombres,  showmeans=True)\n",
        "plt.title(\"Exactitud - Accuracy\")\n",
        "plt.show()\n",
        "\n",
        "plt.boxplot(resultados2, tick_labels=nombres,  showmeans=True)\n",
        "plt.title(\"G-Mean\")\n",
        "plt.show()\n"
      ]
    },
    {
      "cell_type": "markdown",
      "metadata": {
        "id": "oniRBS-jHjrR"
      },
      "source": [
        "# **Ejercicio-4**"
      ]
    },
    {
      "cell_type": "markdown",
      "metadata": {
        "id": "3iY_XZjcHjoJ"
      },
      "source": [
        "### **a) Explica por qué la salida y gráficos anteriores nos ayudan a respaldar la decisión de usar la métrica G-mean, en lugar de la exactitud (accuracy) en este problema.**\n",
        "\n",
        "### **b) En particular, indica cuáles de los modelos que obtuviste están subentrenados con respecto a la métrica de la exactitud (accuracy), en caso de que haya.**\n",
        "\n",
        "### **c) Indica cuáles de los modelos que obtuviste están subentrenados con respecto a la métrica de la media geométrica, en caso de haya.**\n",
        "\n",
        "**+++++++++++ Inicia sección para agregar texto ++++++++++++++++**\n",
        "\n",
        "* a) Todos nuestros modelos tienen un porcentaje superior al 94% de accuracy, lo cual puede aparentar como un buen modelo, pero el Gmean indica que, en realidad, los modelos no parecen estar bien entrenados en nuestra clase minoritaria, pues el mejor de los casos indica un 65% de media geometrica, la cual incluye la tasa de verdaderos positivos sobre la clase real positiva y la tasa de verdaderos negativos sobre la clase real negativa.\n",
        "\n",
        "* b) Nuestro procentaje de datos mayoritarios en el dataset de entrenamiento es de 95.75%. Con base en eso, los metodos de Regresion Logistica (metodo clasico, sin penalizaciones) y kNN, al estar debajo de ese porcentaje, estan subentrenados.\n",
        "\n",
        "* c) Particularmente, el G-mean de kNN esta significativamente subentrenado respecto al resto de modelos. Sin embargo, todos los modelos se podrían considerar subentrenados, ya que ninguno supera el 70%, dependiendo de la rigurosidad que manejemos.\n",
        "\n",
        "\n",
        "**+++++++++++ Termina sección para agregar texto ++++++++++++++**"
      ]
    },
    {
      "cell_type": "markdown",
      "metadata": {
        "id": "b3Mnv-MgIrQ8"
      },
      "source": [
        "# **Ejercicio-5**"
      ]
    },
    {
      "cell_type": "markdown",
      "metadata": {
        "id": "irQWKhDvIwV1"
      },
      "source": [
        "* ### **Utilizando en adelante solamente la métrica G-mean y de manera análoga al código de la celda llamada \"Código-2\" anterior, define una nueva función llamada \"mis_modelos_balanceados()\" y utilízala para definir los mismos modelos anteriores, pero incluyendo el argumento class_weight='balanced'.**\n",
        "\n",
        "* ### **Los demás hiperparámetros solo debes variarlos si es necesario, es decir, solo deberás ajustarlos para evitar errores o avisos (warnings) no deseados.**\n",
        "\n",
        "* ### **Incluye también el modelo kNN, aunque no tenga el argumento para balanceo de las clases.**"
      ]
    },
    {
      "cell_type": "code",
      "execution_count": 160,
      "metadata": {},
      "outputs": [
        {
          "name": "stdout",
          "output_type": "stream",
          "text": [
            "Resultados de Validación:\n",
            "LR\n",
            "Exactitud: >> 0.913 (0.018)\n",
            "G-mean: >> 0.754 (0.120)\n",
            "\n",
            "LASSO\n",
            "Exactitud: >> 0.877 (0.027)\n",
            "G-mean: >> 0.804 (0.081)\n",
            "\n",
            "RIDGE\n",
            "Exactitud: >> 0.882 (0.023)\n",
            "G-mean: >> 0.802 (0.083)\n",
            "\n",
            "EN\n",
            "Exactitud: >> 0.878 (0.025)\n",
            "G-mean: >> 0.799 (0.083)\n",
            "\n",
            "kNN\n",
            "Exactitud: >> 0.956 (0.006)\n",
            "G-mean: >> 0.174 (0.187)\n",
            "\n"
          ]
        },
        {
          "data": {
            "image/png": "[encoded data removed]",
            "text/plain": [
              "<Figure size 640x480 with 1 Axes>"
            ]
          },
          "metadata": {},
          "output_type": "display_data"
        },
        {
          "data": {
            "image/png": "[encoded data removed]",
            "text/plain": [
              "<Figure size 640x480 with 1 Axes>"
            ]
          },
          "metadata": {},
          "output_type": "display_data"
        }
      ],
      "source": [
        "\n",
        "def mis_modelos_balanceados():\n",
        "  modelos, nombres = list(), list()\n",
        "\n",
        "  modelos.append(LogisticRegression(penalty=None,\n",
        "                                    max_iter=2000,\n",
        "                                    class_weight='balanced',\n",
        "                                    random_state=1))\n",
        "  nombres.append('LR')\n",
        "\n",
        "\n",
        "  modelos.append(LogisticRegression(penalty='l1',\n",
        "                                    solver='liblinear',\n",
        "                                    max_iter=2000,\n",
        "                                    class_weight='balanced',\n",
        "                                    random_state=1))\n",
        "  nombres.append('LASSO')\n",
        "\n",
        "\n",
        "  modelos.append(LogisticRegression(penalty='l2',\n",
        "                                    max_iter=2000,\n",
        "                                    class_weight='balanced',\n",
        "                                    random_state=1))\n",
        "  nombres.append('RIDGE')\n",
        "\n",
        "  modelos.append(LogisticRegression(penalty='elasticnet',\n",
        "                                    l1_ratio=0.5,\n",
        "                                    solver='saga',\n",
        "                                    max_iter=5000,\n",
        "                                    class_weight='balanced',\n",
        "                                    random_state=1))\n",
        "  nombres.append('EN')\n",
        "\n",
        "  modelos.append(KNeighborsClassifier(n_neighbors=5))\n",
        "  nombres.append('kNN')\n",
        "\n",
        "  return modelos, nombres\n",
        "\n",
        "# +++++++++++++++++++++++++++++++\n",
        "\n",
        "\n",
        "modelos_bal, nombres_bal = mis_modelos_balanceados()\n",
        "resultados1_bal, resultados2_bal = list(), list()\n",
        "print('Resultados de Validación:')\n",
        "\n",
        "for i in range(len(modelos_bal)):\n",
        "\n",
        "  pipeline = Pipeline(steps=[('ct',columnasTransformer),('m',modelos_bal[i])])\n",
        "  cv1 = RepeatedStratifiedKFold(n_splits=5, n_repeats=3, random_state=7)\n",
        "  scores = cross_validate(pipeline,\n",
        "                          Xtv,\n",
        "                          np.ravel(ytv),\n",
        "                          scoring={'exactitud':'accuracy', 'm_geo':mi_metrica},\n",
        "                          cv=cv1)\n",
        "\n",
        "  resultados1_bal.append(scores['test_exactitud'])\n",
        "  resultados2_bal.append(scores['test_m_geo'])\n",
        "\n",
        "  print(nombres_bal[i])\n",
        "  print('Exactitud: >> %.3f (%.3f)' % (np.nanmean(scores['test_exactitud']), np.nanstd(scores['test_exactitud'])))\n",
        "  print('G-mean: >> %.3f (%.3f)' % (np.nanmean(scores['test_m_geo']), np.nanstd(scores['test_m_geo'])))\n",
        "  print()\n",
        "\n",
        "plt.boxplot(resultados1_bal, tick_labels=nombres_bal,  showmeans=True)\n",
        "plt.title(\"Exactitud - Accuracy\")\n",
        "plt.show()\n",
        "\n",
        "plt.boxplot(resultados2_bal, tick_labels=nombres_bal,  showmeans=True)\n",
        "plt.title(\"G-Mean\")\n",
        "plt.show()\n"
      ]
    },
    {
      "cell_type": "markdown",
      "metadata": {
        "id": "iPlq5JpJLapH"
      },
      "source": [
        "# **Ejercicio-6**"
      ]
    },
    {
      "cell_type": "markdown",
      "metadata": {
        "id": "murO16hvMYiQ"
      },
      "source": [
        "**a) Selecciona el que consideres sea el mejor modelo encontrado, busca la mejor configuración de hiperparámetros y utilízalo para encontrar su matriz de confusión. Sigue utilizando los mismos conjuntos de entrenamiento y validación. Llamar \"yval_hat\" a las predicciones del conjunto de validación obtenidas con el mejor modelo.**\n",
        "\n",
        "  **b) Con el mejor modelo obtener el gráfico de la curva-ROC, donde se incluya el valor del área bajo la curva AUC del mejor modelo y también el AUC del modelo base (chance level).**\n",
        "\n",
        "  **c) Con el mejor modelo obtener el gráfico de la curva-PR, donde se incluya el valor del área bajo la curva AUC del mejor modelo y también el AUC del modelo base (chance level).**\n",
        "\n",
        "\n",
        "\n",
        "**NOTA: En general cuando comparas modelos con Validación-Cruzada sin un ajuste mayor de hiperparámetros, el mejor modelo podría estar entre los de mayor desempeño y no necesariamente el que resultó con mayor valor. Por ello, en general deberías mantener la búsqueda entre los mejores encontrados.**"
      ]
    },
    {
      "cell_type": "code",
      "execution_count": null,
      "metadata": {},
      "outputs": [
        {
          "name": "stdout",
          "output_type": "stream",
          "text": [
            "Mejor modelo: 0.833693 usando {'C': 0.0125, 'solver': 'liblinear'}\n",
            "G-mean del mejor modelo: 0.9065\n",
            "\n",
            "Matriz de Confusión:\n",
            " [[129  28]\n",
            " [  0   8]]\n"
          ]
        },
        {
          "data": {
            "text/plain": [
              "<sklearn.metrics._plot.confusion_matrix.ConfusionMatrixDisplay at 0x15210487010>"
            ]
          },
          "execution_count": 161,
          "metadata": {},
          "output_type": "execute_result"
        },
        {
          "data": {
            "image/png": "[encoded data removed]",
            "text/plain": [
              "<Figure size 640x480 with 2 Axes>"
            ]
          },
          "metadata": {},
          "output_type": "display_data"
        }
      ],
      "source": [
        "# 6a) Matriz de confusión\n",
        "\n",
        "# **+++++++++++ Inicia sección para agregar código ++++++++++++++++**\n",
        "# NOTA: puedes agregar todas las celdas que consideres adecuado.\n",
        "\n",
        "# +++++++++ Inicia sección para incluir tu código ++++++++++++++++++++++++\n",
        "\n",
        "# Definimos el modelo de regresión logística sin los hiperparámetros optimizados:\n",
        "ridge_model = LogisticRegression(penalty='l2',\n",
        "                                    max_iter=5000,    # Incluye aquí todos los hiperparámetros y valores que consideres adecuados.\n",
        "                                    class_weight='balanced',\n",
        "                                    random_state=1)\n",
        "\n",
        "# Definimos el diccionario de hiperparámetros a optimizar:\n",
        "dicc_grid = {\n",
        "    \"C\" : [0.01, 0.0125, 0.015, 0.0175, 0.02],\n",
        "    \"solver\": ['lbfgs', 'liblinear', 'newton-cg', 'newton-cholesky', 'sag', 'saga']\n",
        "}   # Incluye aquí todas las líneas de código que consideres adecuadas.\n",
        "\n",
        "\n",
        "# Definimos la validación cruzada y el GridSearchCV:\n",
        "cv = RepeatedStratifiedKFold(n_splits=5, n_repeats=3, random_state=7)\n",
        "\n",
        "grid = GridSearchCV(estimator=ridge_model,         # Aquí se usa el pipeline con el modelo\n",
        "                    param_grid=dicc_grid,       # Aquí se usa el diccionario de hiperparámetros\n",
        "                    cv = cv,                    # Aquí se usa la validación cruzada definida\n",
        "                    scoring=mi_metrica,         # Aquí se usa la métrica G-mean\n",
        "                    n_jobs=-1,\n",
        "                    return_train_score=True)\n",
        "\n",
        "# Transformamos los datos de entrenamiento:\n",
        "columnasTransformer.fit(Xtrain)\n",
        "Xx = columnasTransformer.transform(Xtv)\n",
        "\n",
        "# Ajustamos el modelo con los datos de entrenamiento y validación (por validación cruzada con k-folds):\n",
        "grid_result = grid.fit(Xx, np.ravel(ytv))\n",
        "\n",
        "mejor_modelo_ridge = grid_result.best_estimator_\n",
        "\n",
        "yval_hat = mejor_modelo_ridge.predict(columnasTransformer.transform(Xval))\n",
        "\n",
        "print(\"Mejor modelo: %f usando %s\" % (grid_result.best_score_, grid_result.best_params_))\n",
        "print('G-mean del mejor modelo: %.4f' % geometric_mean_score(np.ravel(yval), yval_hat))\n",
        "print(\"\\nMatriz de Confusión:\\n\", confusion_matrix(np.ravel(yval), yval_hat))\n",
        "ConfusionMatrixDisplay(confusion_matrix=confusion_matrix(np.ravel(yval), yval_hat)).plot()"
      ]
    },
    {
      "cell_type": "code",
      "execution_count": null,
      "metadata": {},
      "outputs": [
        {
          "name": "stdout",
          "output_type": "stream",
          "text": [
            "Mejor modelo LR: 0.737564 usando {'C': 1, 'solver': 'lbfgs'}\n",
            "G-mean del mejor modelo: 0.9676\n",
            "\n",
            "Matriz de Confusión:\n",
            " [[147  10]\n",
            " [  0   8]]\n"
          ]
        },
        {
          "data": {
            "text/plain": [
              "<sklearn.metrics._plot.confusion_matrix.ConfusionMatrixDisplay at 0x1520eb062d0>"
            ]
          },
          "execution_count": 162,
          "metadata": {},
          "output_type": "execute_result"
        },
        {
          "data": {
            "image/png": "[encoded data removed]",
            "text/plain": [
              "<Figure size 640x480 with 2 Axes>"
            ]
          },
          "metadata": {},
          "output_type": "display_data"
        }
      ],
      "source": [
        "# Definimos el modelo de regresión logística sin los hiperparámetros optimizados:\n",
        "lr_model = LogisticRegression(penalty=None,\n",
        "                                    max_iter=5000,   \n",
        "                                    class_weight='balanced',\n",
        "                                    random_state=1)\n",
        "\n",
        "# Definimos el diccionario de hiperparámetros a optimizar (En LR no es relevante, solamente lo coloco como placeholder para mantener la misma estructura)\n",
        "dicc_grid = {\n",
        "    \"C\" : [1],\n",
        "    \"solver\": ['lbfgs'] \n",
        "}   \n",
        "\n",
        "grid = GridSearchCV(estimator=lr_model,         # Aquí se usa el pipeline con el modelo y el preprocesamiento\n",
        "                    param_grid=dicc_grid,       # Aquí se usa el diccionario de hiperparámetros\n",
        "                    cv = cv,                    # Aquí se usa la validación cruzada definida\n",
        "                    scoring=mi_metrica,         # Aquí se usa la métrica G-mean\n",
        "                    n_jobs=-1,\n",
        "                    return_train_score=True)\n",
        "\n",
        "\n",
        "# Ajustamos el modelo con los datos de entrenamiento y validación (por validación cruzada con k-folds):\n",
        "grid_result = grid.fit(Xx, np.ravel(ytv))\n",
        "\n",
        "mejor_modelo_lr = grid_result.best_estimator_\n",
        "\n",
        "yval_hat = mejor_modelo_lr.predict(columnasTransformer.transform(Xval))\n",
        "\n",
        "print(\"Mejor modelo LR: %f usando %s\" % (grid_result.best_score_, grid_result.best_params_))\n",
        "print('G-mean del mejor modelo: %.4f' % geometric_mean_score(np.ravel(yval), yval_hat))\n",
        "print(\"\\nMatriz de Confusión:\\n\", confusion_matrix(np.ravel(yval), yval_hat))\n",
        "ConfusionMatrixDisplay(confusion_matrix=confusion_matrix(np.ravel(yval), yval_hat)).plot()"
      ]
    },
    {
      "cell_type": "code",
      "execution_count": null,
      "metadata": {},
      "outputs": [
        {
          "name": "stdout",
          "output_type": "stream",
          "text": [
            "Mejor modelo: 0.848312 usando {'C': 0.0565, 'solver': 'saga'}\n",
            "G-mean del mejor modelo: 0.9409\n",
            "\n",
            "Matriz de Confusión:\n",
            " [[139  18]\n",
            " [  0   8]]\n"
          ]
        },
        {
          "data": {
            "text/plain": [
              "<sklearn.metrics._plot.confusion_matrix.ConfusionMatrixDisplay at 0x1520eb07390>"
            ]
          },
          "execution_count": 163,
          "metadata": {},
          "output_type": "execute_result"
        },
        {
          "data": {
            "image/png": "[encoded data removed]",
            "text/plain": [
              "<Figure size 640x480 with 2 Axes>"
            ]
          },
          "metadata": {},
          "output_type": "display_data"
        }
      ],
      "source": [
        "# Definimos el modelo de regresión logística sin los hiperparámetros optimizados:\n",
        "lasso_model = LogisticRegression(penalty='l1',\n",
        "                                    max_iter=5000,    \n",
        "                                    class_weight='balanced',\n",
        "                                    random_state=1)\n",
        "\n",
        "# Definimos el diccionario de hiperparámetros a optimizar:\n",
        "dicc_grid = {\n",
        "    \"C\" : [0.056, 0.0565, 0.057, 0.0575],\n",
        "    \"solver\": ['liblinear', 'saga']\n",
        "}   \n",
        "\n",
        "\n",
        "grid = GridSearchCV(estimator=lasso_model,         # Aquí se usa el pipeline con el modelo y el preprocesamiento\n",
        "                    param_grid=dicc_grid,       # Aquí se usa el diccionario de hiperparámetros\n",
        "                    cv = cv,                    # Aquí se usa la validación cruzada definida\n",
        "                    scoring=mi_metrica,         # Aquí se usa la métrica G-mean\n",
        "                    n_jobs=-1,\n",
        "                    return_train_score=True)\n",
        "\n",
        "# Ajustamos el modelo con los datos de entrenamiento y validación (por validación cruzada con k-folds):\n",
        "grid_result = grid.fit(Xx, np.ravel(ytv))\n",
        "\n",
        "mejor_modelo_lasso = grid_result.best_estimator_\n",
        "\n",
        "yval_hat = mejor_modelo_lasso.predict(columnasTransformer.transform(Xval))\n",
        "\n",
        "print(\"Mejor modelo: %f usando %s\" % (grid_result.best_score_, grid_result.best_params_))\n",
        "print('G-mean del mejor modelo: %.4f' % geometric_mean_score(np.ravel(yval), yval_hat))\n",
        "print(\"\\nMatriz de Confusión:\\n\", confusion_matrix(np.ravel(yval), yval_hat))\n",
        "ConfusionMatrixDisplay(confusion_matrix=confusion_matrix(np.ravel(yval), yval_hat)).plot()"
      ]
    },
    {
      "cell_type": "code",
      "execution_count": null,
      "metadata": {},
      "outputs": [
        {
          "name": "stdout",
          "output_type": "stream",
          "text": [
            "Mejor modelo elasticnet: 0.849275 usando {'C': 0.03, 'l1_ratio': 0.7625}\n",
            "G-mean del mejor modelo: 0.9375\n",
            "\n",
            "Matriz de Confusión:\n",
            " [[138  19]\n",
            " [  0   8]]\n"
          ]
        },
        {
          "data": {
            "text/plain": [
              "<sklearn.metrics._plot.confusion_matrix.ConfusionMatrixDisplay at 0x1521067a890>"
            ]
          },
          "execution_count": 164,
          "metadata": {},
          "output_type": "execute_result"
        },
        {
          "data": {
            "image/png": "[encoded data removed]",
            "text/plain": [
              "<Figure size 640x480 with 2 Axes>"
            ]
          },
          "metadata": {},
          "output_type": "display_data"
        }
      ],
      "source": [
        "\n",
        "# Definimos el modelo de regresión logística sin los hiperparámetros optimizados:\n",
        "en_model = LogisticRegression(penalty='elasticnet',\n",
        "                                    max_iter=5000,    # Incluye aquí todos los hiperparámetros y valores que consideres adecuados.\n",
        "                                    class_weight='balanced',\n",
        "                                    solver='saga',\n",
        "                                    random_state=1)\n",
        "\n",
        "# Definimos el diccionario de hiperparámetros a optimizar:\n",
        "dicc_grid = {\n",
        "    \"C\" : [0.015, 0.02, 0.025, 0.03, 0.035],\n",
        "    \"l1_ratio\": [0.7625, 0.775, 0.7875, 0.8, 0.8125],\n",
        "}   # Incluye aquí todas las líneas de código que consideres adecuadas.\n",
        "\n",
        "grid = GridSearchCV(estimator=en_model,         # Aquí se usa el pipeline con el modelo y el preprocesamiento\n",
        "                    param_grid=dicc_grid,       # Aquí se usa el diccionario de hiperparámetros\n",
        "                    cv = cv,                    # Aquí se usa la validación cruzada definida\n",
        "                    scoring=mi_metrica,         # Aquí se usa la métrica G-mean\n",
        "                    n_jobs=-1,\n",
        "                    return_train_score=True)\n",
        "\n",
        "# Ajustamos el modelo con los datos de entrenamiento y validación (por validación cruzada con k-folds):\n",
        "grid_result = grid.fit(Xx, np.ravel(ytv))\n",
        "\n",
        "mejor_modelo_en = grid_result.best_estimator_\n",
        "\n",
        "yval_hat = mejor_modelo_en.predict(columnasTransformer.transform(Xval))\n",
        "\n",
        "print(\"Mejor modelo elasticnet: %f usando %s\" % (grid_result.best_score_, grid_result.best_params_))\n",
        "\n",
        "\n",
        "print('G-mean del mejor modelo: %.4f' % geometric_mean_score(np.ravel(yval), yval_hat))\n",
        "print(\"\\nMatriz de Confusión:\\n\", confusion_matrix(np.ravel(yval), yval_hat))\n",
        "ConfusionMatrixDisplay(confusion_matrix=confusion_matrix(np.ravel(yval), yval_hat)).plot()"
      ]
    },
    {
      "cell_type": "code",
      "execution_count": 165,
      "metadata": {},
      "outputs": [
        {
          "name": "stdout",
          "output_type": "stream",
          "text": [
            "Mejor modelo: 0.849275 usando {'C': 0.03, 'l1_ratio': 0.7625}\n",
            "G-mean del mejor modelo: 0.9409\n",
            "\n",
            "Matriz de Confusión:\n",
            " [[139  18]\n",
            " [  0   8]]\n"
          ]
        }
      ],
      "source": [
        "\n",
        "mejor_modelo = mejor_modelo_lasso\n",
        "yval_hat = mejor_modelo.predict(columnasTransformer.transform(Xval))\n",
        "print(\"Mejor modelo: %f usando %s\" % (grid_result.best_score_, grid_result.best_params_))\n",
        "\n",
        "# **+++++++++++ Termina sección para agregar código ++++++++++++++**\n",
        "\n",
        "\n",
        "print('G-mean del mejor modelo: %.4f' % geometric_mean_score(np.ravel(yval), yval_hat))\n",
        "print(\"\\nMatriz de Confusión:\\n\", confusion_matrix(np.ravel(yval), yval_hat))\n"
      ]
    },
    {
      "cell_type": "code",
      "execution_count": 166,
      "metadata": {
        "id": "MJnAFiuG6PxD"
      },
      "outputs": [
        {
          "data": {
            "image/png": "[encoded data removed]",
            "text/plain": [
              "<Figure size 800x700 with 1 Axes>"
            ]
          },
          "metadata": {},
          "output_type": "display_data"
        }
      ],
      "source": [
        "# 6b) Curva ROC:\n",
        "\n",
        "# **+++++++++++ Inicia sección para agregar código ++++++++++++++**\n",
        "yval_proba = mejor_modelo.predict_proba(columnasTransformer.transform(Xval))[:, 1]\n",
        "fp, vp, _ = roc_curve(np.ravel(yval), yval_proba)\n",
        "roc_auc = auc(fp, vp)\n",
        "\n",
        "plt.figure(figsize=(8, 7))\n",
        "plt.plot(fp, vp, label=f'ROC mejor modelo (AUC = {roc_auc:.3f})')\n",
        "plt.plot([0, 1], [0, 1], linestyle='--', color='gray', label='Modelo base (AUC = 0.500)')\n",
        "plt.xlabel('False Positive Rate')\n",
        "plt.ylabel('True Positive Rate')\n",
        "plt.title('Curva ROC - Validación')\n",
        "plt.legend()\n",
        "plt.grid(True, linestyle=':', linewidth=0.7)\n",
        "plt.show()\n",
        "\n",
        "# **+++++++++++ Termina sección para agregar código ++++++++++++++**"
      ]
    },
    {
      "cell_type": "code",
      "execution_count": 167,
      "metadata": {
        "id": "5h0pUMrF6Ybu"
      },
      "outputs": [
        {
          "data": {
            "image/png": "[encoded data removed]",
            "text/plain": [
              "<Figure size 700x500 with 1 Axes>"
            ]
          },
          "metadata": {},
          "output_type": "display_data"
        }
      ],
      "source": [
        "# 6c) Curva PR:\n",
        "\n",
        "# **+++++++++++ Inicia sección para agregar código ++++++++++++++**\n",
        "\n",
        "\n",
        "precision, recall, _ = precision_recall_curve(np.ravel(yval), yval_proba)\n",
        "pr_auc = auc(recall, precision)\n",
        "baseline_pr = np.mean(yval)\n",
        "\n",
        "plt.figure(figsize=(7, 5))\n",
        "plt.plot(recall, precision, label=f'Mejor modelo (AUC = {pr_auc:.3f})')\n",
        "plt.hlines(baseline_pr, 0, 1, colors='gray', linestyles='--', label=f'Modelo base (AUC = {baseline_pr:.3f})')\n",
        "plt.xlabel('Recall')\n",
        "plt.ylabel('Precision')\n",
        "plt.title('Curva Precision-Recall - Validación')\n",
        "plt.xlim([-0.05, 1.05])\n",
        "plt.ylim([-0.05, 1.05])\n",
        "plt.legend()\n",
        "plt.grid(True, linestyle=':', linewidth=0.7)\n",
        "plt.show()\n",
        "\n",
        "\n",
        "# **+++++++++++ Termina sección para agregar código ++++++++++++++**"
      ]
    },
    {
      "cell_type": "markdown",
      "metadata": {
        "id": "gM7YCsaSN04w"
      },
      "source": [
        "# **Ejercicio-7**"
      ]
    },
    {
      "cell_type": "markdown",
      "metadata": {
        "id": "7XAyYmBXN4TS"
      },
      "source": [
        "### **Utiliza el conjunto de prueba (test) para evaluar el mejor modelo obtenido previamente y obtener:**\n",
        "\n",
        "**a) El valor de la media geométrica G_mean.**\n",
        "\n",
        "**b) La matriz de confusión.**\n",
        "\n",
        "**c) El reporte de métricas classification_report_imbalanced:**\n",
        "\n"
      ]
    },
    {
      "cell_type": "code",
      "execution_count": 168,
      "metadata": {
        "id": "XGBLeDqXMK6v"
      },
      "outputs": [
        {
          "name": "stdout",
          "output_type": "stream",
          "text": [
            "G-mean del mejor modelo con el conjunto de prueba (test):\n",
            "0.9428090415820634\n"
          ]
        }
      ],
      "source": [
        "# 7a)\n",
        "\n",
        "print('G-mean del mejor modelo con el conjunto de prueba (test):')\n",
        "\n",
        "# **+++++++++++ Inicia sección para agregar código ++++++++++++++++**\n",
        "# NOTA: puedes agregar todas las celdas que consideres adecuado.\n",
        "\n",
        "\n",
        "ytest_hat = mejor_modelo.predict(columnasTransformer.transform(Xtest))\n",
        "print(geometric_mean_score(np.ravel(ytest), ytest_hat))\n",
        "\n",
        "\n",
        "\n",
        "# **+++++++++++ Termina sección para agregar código ++++++++++++++**"
      ]
    },
    {
      "cell_type": "code",
      "execution_count": 169,
      "metadata": {
        "id": "2cnab5Jk-XAu"
      },
      "outputs": [
        {
          "name": "stdout",
          "output_type": "stream",
          "text": [
            "Matriz de confusión del mejor modelo con el conjunto de prueba (test):\n",
            "\n",
            " [[96 12]\n",
            " [ 0  5]]\n"
          ]
        },
        {
          "data": {
            "text/plain": [
              "<sklearn.metrics._plot.confusion_matrix.ConfusionMatrixDisplay at 0x15210a32b50>"
            ]
          },
          "execution_count": 169,
          "metadata": {},
          "output_type": "execute_result"
        },
        {
          "data": {
            "image/png": "[encoded data removed]",
            "text/plain": [
              "<Figure size 640x480 with 2 Axes>"
            ]
          },
          "metadata": {},
          "output_type": "display_data"
        }
      ],
      "source": [
        "# 7b)\n",
        "\n",
        "print('Matriz de confusión del mejor modelo con el conjunto de prueba (test):')\n",
        "\n",
        "# **+++++++++++ Inicia sección para agregar código ++++++++++++++++**\n",
        "# NOTA: puedes agregar todas las celdas que consideres adecuado.\n",
        "\n",
        "\n",
        "print(\"\\n\", confusion_matrix(np.ravel(ytest), ytest_hat))\n",
        "ConfusionMatrixDisplay(confusion_matrix=confusion_matrix(np.ravel(yval), yval_hat)).plot()\n",
        "\n",
        "# **+++++++++++ Termina sección para agregar código ++++++++++++++**\n",
        "\n"
      ]
    },
    {
      "cell_type": "code",
      "execution_count": 170,
      "metadata": {
        "id": "Ef8AIltn4Vz7"
      },
      "outputs": [
        {
          "name": "stdout",
          "output_type": "stream",
          "text": [
            "Reporte de métricas con el conjunto de prueba (test):\n",
            "\n",
            "                   pre       rec       spe        f1       geo       iba       sup\n",
            "\n",
            "          0       1.00      0.89      1.00      0.94      0.94      0.88       108\n",
            "          1       0.29      1.00      0.89      0.45      0.94      0.90         5\n",
            "\n",
            "avg / total       0.97      0.89      1.00      0.92      0.94      0.88       113\n",
            "\n"
          ]
        }
      ],
      "source": [
        "# 7c)\n",
        "\n",
        "print(\"Reporte de métricas con el conjunto de prueba (test):\\n\")\n",
        "\n",
        "# **+++++++++++ Inicia sección para agregar código ++++++++++++++++**\n",
        "# NOTA: puedes agregar todas las celdas que consideres adecuado.\n",
        "\n",
        "\n",
        "print(classification_report_imbalanced(np.ravel(ytest), ytest_hat))\n",
        "\n",
        "# **+++++++++++ Termina sección para agregar código ++++++++++++++**\n",
        "\n"
      ]
    },
    {
      "cell_type": "markdown",
      "metadata": {
        "id": "8dDsNoQHOXDY"
      },
      "source": [
        "# **Ejercicio-8**"
      ]
    },
    {
      "cell_type": "markdown",
      "metadata": {
        "id": "nPxU2S7LOWxI"
      },
      "source": [
        "### **Incluye tus conclusiones finales de los resultados obtenidos y de la actividad en general.**\n",
        "\n",
        "**+++++++++++ Inicia sección para agregar texto ++++++++++++++++**\n",
        "\n",
        "\n",
        "\n",
        "* Datos desbalanceados no solo requieren modelos con configuraciones diferentes, como el balanceo de clases, también requieren métricas que nos puedan ayudar a controlar correctamente su aprendizaje, tal y como lo hace la G_mean.\n",
        "\n",
        "* Las matríces de confusión nos ayudaron a observar el comportamiento de nuestro modelo, pero la función classification_report_imbalanced nos ayuda con diferentes métricas que nos ayudan a corroborar las distintas métricas para nuestras dos clases, en las que también vimos un buen comportamiento de nuestro modelo final.\n",
        "\n",
        "* Finalmente, la curva ROC nos mostró un comportamiento casi ideal de nuestro modelo con nuestros datos de validación, pero al tener clases desbalanceadas, necesitamos la curva PR para validar correctamente el modelo.\n",
        "\n",
        "\n",
        "**+++++++++++ Termina sección para agregar texto ++++++++++++++**"
      ]
    },
    {
      "cell_type": "markdown",
      "metadata": {
        "id": "Z-A1PvcZOuRt"
      },
      "source": [
        "# **<<< Fin de la Actividad de la Semana - Oil Spill - Clases no balanceadas >>>**"
      ]
    }
  ],
  "metadata": {
    "colab": {
      "collapsed_sections": [
        "Xa9RsjSuiI8l",
        "yWKpetDxpHHW",
        "W3uP4iIkd4nz",
        "iq142ztPDj9F",
        "oniRBS-jHjrR",
        "b3Mnv-MgIrQ8",
        "iPlq5JpJLapH",
        "gM7YCsaSN04w",
        "8dDsNoQHOXDY"
      ],
      "provenance": []
    },
    "kernelspec": {
      "display_name": ".venv (3.11.9)",
      "language": "python",
      "name": "python3"
    },
    "language_info": {
      "codemirror_mode": {
        "name": "ipython",
        "version": 3
      },
      "file_extension": ".py",
      "mimetype": "text/x-python",
      "name": "python",
      "nbconvert_exporter": "python",
      "pygments_lexer": "ipython3",
      "version": "3.11.9"
    }
  },
  "nbformat": 4,
  "nbformat_minor": 0
}
