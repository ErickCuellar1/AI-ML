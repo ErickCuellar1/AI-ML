{
  "cells": [
    {
      "cell_type": "markdown",
      "metadata": {
        "id": "HOZsKkZ6hjng"
      },
      "source": [
        "# **Maestría en Inteligencia Artificial Aplicada**\n",
        "\n",
        "## **Curso: Inteligencia Artificial y Aprendizaje Automático**\n",
        "\n",
        "**Tecnológico de Monterrey**\n",
        "\n",
        "Prof Luis Eduardo Falcón Morales\n",
        "\n",
        "### **Actividad: Problema de Clasificación con Datos Desbalanceados**"
      ]
    },
    {
      "cell_type": "markdown",
      "metadata": {
        "id": "klS3cVBoqs4t"
      },
      "source": [
        "* #### **Nombre:** _[Añade tu nombre aquí]_\n",
        "* #### **Matrícula:** _[Añade tu matrícula aquí]_"
      ]
    },
    {
      "cell_type": "markdown",
      "metadata": {
        "id": "Xa9RsjSuiI8l"
      },
      "source": [
        "# **Introducción**"
      ]
    },
    {
      "cell_type": "markdown",
      "metadata": {
        "id": "vcn0tp3SiNKu"
      },
      "source": [
        "* La actividad se basa en los datos conocidos como \"oil-spill\" (derrame de petróleo).\n",
        "\n",
        "* En la web puedes encontrar otros archivos del mismo problema pero con diversos cambios, por lo que el archivo con el que trabajarás está en Canvas y así poder asegurar que todos están trabajando con los mismos datos. Aún en una misma página, con el tiempo se actualiza y los datos inclusive pueden ya no estar accesibles.\n",
        "\n",
        "* El archivo de los datos con el que trabajarás está en Canvas con el nombre \"oil-spill.csv\"."
      ]
    },
    {
      "cell_type": "markdown",
      "metadata": {
        "id": "NAssj-ZfaefR"
      },
      "source": [
        "En la siguiente liga se encuentra el artículo original relacionado a dicha base de datos. Los datos incluyen 50 columnas y 937 registros. Las primeras 49 columnas son métricas obtenidas de imágenes satelitales del océano, en algunas de las cuales se tiene petróleo que fue derramado por alguna fuente desconocida. En el artículo se describe a detalle la manera en que se obtuvieron dichas columnas. Para la actividad es suficiente considerarlas como de valor numérico, donde cada valor es una medida de información en la imagen. La última columna llamada \"target\" es de valor 1 (hay derrame en ese pedazo de la imagen) o 0 (no hay derrame en ese pedazo de la imagen).\n",
        "\n",
        "https://webdocs.cs.ualberta.ca/~holte/Publications/oilspill.pdf\n",
        "\n",
        "Por el momento es suficiente con que consideres que cada una de las 49 columnas te da información de la imagen que te ayuda a entenderla mejor. En un curso posterior de visión computacional podrás ahondar sobre cómo extraer información numérica de una imagen."
      ]
    },
    {
      "cell_type": "markdown",
      "metadata": {
        "id": "kyKUDqIQjzUX"
      },
      "source": [
        "En la siguiente liga puedes encontrar información de varias de las métricas de scikit-learn que estaremos utilizando:\n",
        "\n",
        "https://scikit-learn.org/stable/modules/model_evaluation.html#scoring-parameter"
      ]
    },
    {
      "cell_type": "markdown",
      "metadata": {
        "id": "F2MPvM4qFqXt"
      },
      "source": [
        "La librería de scikit-learn no incluye la media geométrica **G_mean**, pero sabemos que se puede obtener con la fórmula $G_{mean}=\\sqrt{\\frac{VP*VN}{(VP+FN) * (VN+FP)}}$, usando los verdaderos y falsos, positivos y negativos.\n",
        "\n",
        "Sin embargo, para fines de esta actividad usaremos la librería llamada \"imbalanced-learn\" que incluye dicha métrica, además de un reporte más extenso de otras métricas útiles para estos casos de datos desbalanceados:\n",
        "\n",
        "https://glemaitre.github.io/imbalanced-learn/generated/imblearn.metrics.geometric_mean_score.html"
      ]
    },
    {
      "cell_type": "markdown",
      "metadata": {
        "id": "yWKpetDxpHHW"
      },
      "source": [
        "# **Ejercicio-1**"
      ]
    },
    {
      "cell_type": "markdown",
      "metadata": {
        "id": "yKJKilj9pHqm"
      },
      "source": [
        "### **En esta actividad usaremos la media geométrica G_mean como métrica principal para buscar el mejor modelo. Explica a continuación cuándo se recomienda utilizar **G_mean** en un problema de aprendizaje supervisado (a) y su diferencia o diferencias con **f1_score** (b):**\n",
        "\n",
        "* **a)** La métrica $G_{mean}$ se recomienda cuando el conjunto de datos está fuertemente desbalanceado y nos interesa que el modelo mantenga, al mismo tiempo, una sensibilidad alta sobre la clase minoritaria y una especificidad alta sobre la clase mayoritaria. Al promediar geométricamente la tasa de verdaderos positivos y la tasa de verdaderos negativos, penaliza cualquier caída pronunciada en alguno de los extremos, por lo que evita modelos que sólo predicen la clase mayoritaria para obtener una aparente buena exactitud.\n",
        "\n",
        "* **b)** El $f1\\_score$ es la media armónica entre precisión y recall de la clase positiva. Domina los errores cometidos dentro de la clase minoritaria y no considera explícitamente qué sucede con la clase negativa. Por ello, un modelo puede tener un $f1\\_score$ elevado aun cuando la especificidad sea baja. En cambio, el $G_{mean}$ combina recall y especificidad, de modo que refleja de forma simétrica el desempeño en ambas clases."
      ]
    },
    {
      "cell_type": "code",
      "execution_count": 1,
      "metadata": {
        "id": "tITKimmr7qVx"
      },
      "outputs": [],
      "source": [
        "# Incluye todas las librerías que consideres adecuadas:\n",
        "\n",
        "import numpy as np\n",
        "import pandas as pd\n",
        "import matplotlib.pyplot as plt\n",
        "\n",
        "from pathlib import Path\n",
        "from statistics import mean, stdev\n",
        "\n",
        "from sklearn.compose import ColumnTransformer\n",
        "from sklearn.dummy import DummyClassifier\n",
        "from sklearn.impute import SimpleImputer\n",
        "from sklearn.linear_model import LogisticRegression\n",
        "from sklearn.metrics import (confusion_matrix, make_scorer, precision_recall_curve,\n",
        "                                 roc_curve, auc)\n",
        "from sklearn.model_selection import (GridSearchCV, RepeatedStratifiedKFold,\n",
        "                                     cross_val_score, cross_validate, train_test_split)\n",
        "from sklearn.neighbors import KNeighborsClassifier\n",
        "from sklearn.pipeline import Pipeline\n",
        "from sklearn.preprocessing import PowerTransformer, StandardScaler\n",
        "\n",
        "from imblearn.metrics import (classification_report_imbalanced, geometric_mean_score)\n",
        "\n",
        "np.random.seed(42)\n",
        "\n",
        "plt.style.use('seaborn-v0_8')"
      ]
    },
    {
      "cell_type": "markdown",
      "metadata": {
        "id": "l4jSSZhk_8kD"
      },
      "source": [
        "Para fines de la actividad pre-procesaremos los datos de manera estándar para concentrarnos en los temas relacionados al curso."
      ]
    },
    {
      "cell_type": "code",
      "execution_count": 2,
      "metadata": {
        "id": "vyDvUH0ZKXj-"
      },
      "outputs": [
        {
          "name": "stdout",
          "output_type": "stream",
          "text": [
            "Dimensión del DataFrame (937, 48)\n"
          ]
        },
        {
          "data": {
            "text/html": [
              "<div>\n",
              "<style scoped>\n",
              "    .dataframe tbody tr th:only-of-type {\n",
              "        vertical-align: middle;\n",
              "    }\n",
              "\n",
              "    .dataframe tbody tr th {\n",
              "        vertical-align: top;\n",
              "    }\n",
              "\n",
              "    .dataframe thead th {\n",
              "        text-align: right;\n",
              "    }\n",
              "</style>\n",
              "<table border=\"1\" class=\"dataframe\">\n",
              "  <thead>\n",
              "    <tr style=\"text-align: right;\">\n",
              "      <th></th>\n",
              "      <th>f_2</th>\n",
              "      <th>f_3</th>\n",
              "      <th>f_4</th>\n",
              "      <th>f_5</th>\n",
              "      <th>f_6</th>\n",
              "      <th>f_7</th>\n",
              "      <th>f_8</th>\n",
              "      <th>f_9</th>\n",
              "      <th>f_10</th>\n",
              "      <th>f_11</th>\n",
              "      <th>...</th>\n",
              "      <th>f_41</th>\n",
              "      <th>f_42</th>\n",
              "      <th>f_43</th>\n",
              "      <th>f_44</th>\n",
              "      <th>f_45</th>\n",
              "      <th>f_46</th>\n",
              "      <th>f_47</th>\n",
              "      <th>f_48</th>\n",
              "      <th>f_49</th>\n",
              "      <th>target</th>\n",
              "    </tr>\n",
              "  </thead>\n",
              "  <tbody>\n",
              "    <tr>\n",
              "      <th>0</th>\n",
              "      <td>2558</td>\n",
              "      <td>1506.09</td>\n",
              "      <td>456.63</td>\n",
              "      <td>90</td>\n",
              "      <td>6395000.0</td>\n",
              "      <td>40.88</td>\n",
              "      <td>7.89</td>\n",
              "      <td>29780.0</td>\n",
              "      <td>0.19</td>\n",
              "      <td>214.7</td>\n",
              "      <td>...</td>\n",
              "      <td>2850.0</td>\n",
              "      <td>1000.0</td>\n",
              "      <td>763.16</td>\n",
              "      <td>135.46</td>\n",
              "      <td>3.73</td>\n",
              "      <td>0</td>\n",
              "      <td>33243.19</td>\n",
              "      <td>65.74</td>\n",
              "      <td>7.95</td>\n",
              "      <td>1</td>\n",
              "    </tr>\n",
              "    <tr>\n",
              "      <th>1</th>\n",
              "      <td>22325</td>\n",
              "      <td>79.11</td>\n",
              "      <td>841.03</td>\n",
              "      <td>180</td>\n",
              "      <td>55812500.0</td>\n",
              "      <td>51.11</td>\n",
              "      <td>1.21</td>\n",
              "      <td>61900.0</td>\n",
              "      <td>0.02</td>\n",
              "      <td>901.7</td>\n",
              "      <td>...</td>\n",
              "      <td>5750.0</td>\n",
              "      <td>11500.0</td>\n",
              "      <td>9593.48</td>\n",
              "      <td>1648.80</td>\n",
              "      <td>0.60</td>\n",
              "      <td>0</td>\n",
              "      <td>51572.04</td>\n",
              "      <td>65.73</td>\n",
              "      <td>6.26</td>\n",
              "      <td>0</td>\n",
              "    </tr>\n",
              "    <tr>\n",
              "      <th>2</th>\n",
              "      <td>115</td>\n",
              "      <td>1449.85</td>\n",
              "      <td>608.43</td>\n",
              "      <td>88</td>\n",
              "      <td>287500.0</td>\n",
              "      <td>40.42</td>\n",
              "      <td>7.34</td>\n",
              "      <td>3340.0</td>\n",
              "      <td>0.18</td>\n",
              "      <td>86.1</td>\n",
              "      <td>...</td>\n",
              "      <td>1400.0</td>\n",
              "      <td>250.0</td>\n",
              "      <td>150.00</td>\n",
              "      <td>45.13</td>\n",
              "      <td>9.33</td>\n",
              "      <td>1</td>\n",
              "      <td>31692.84</td>\n",
              "      <td>65.81</td>\n",
              "      <td>7.84</td>\n",
              "      <td>1</td>\n",
              "    </tr>\n",
              "  </tbody>\n",
              "</table>\n",
              "<p>3 rows × 48 columns</p>\n",
              "</div>"
            ],
            "text/plain": [
              "     f_2      f_3     f_4  f_5         f_6    f_7   f_8      f_9  f_10   f_11  \\\n",
              "0   2558  1506.09  456.63   90   6395000.0  40.88  7.89  29780.0  0.19  214.7   \n",
              "1  22325    79.11  841.03  180  55812500.0  51.11  1.21  61900.0  0.02  901.7   \n",
              "2    115  1449.85  608.43   88    287500.0  40.42  7.34   3340.0  0.18   86.1   \n",
              "\n",
              "   ...    f_41     f_42     f_43     f_44  f_45  f_46      f_47   f_48  f_49  \\\n",
              "0  ...  2850.0   1000.0   763.16   135.46  3.73     0  33243.19  65.74  7.95   \n",
              "1  ...  5750.0  11500.0  9593.48  1648.80  0.60     0  51572.04  65.73  6.26   \n",
              "2  ...  1400.0    250.0   150.00    45.13  9.33     1  31692.84  65.81  7.84   \n",
              "\n",
              "   target  \n",
              "0       1  \n",
              "1       0  \n",
              "2       1  \n",
              "\n",
              "[3 rows x 48 columns]"
            ]
          },
          "execution_count": 2,
          "metadata": {},
          "output_type": "execute_result"
        }
      ],
      "source": [
        "# Cargamos los datos del arcivo:\n",
        "path ='oil_spill.csv'\n",
        "df = pd.read_csv(path)\n",
        "\n",
        "# Eliminamos las siguientes columnas:\n",
        "df.drop(\"f_1\", axis=1, inplace=True)    # Esta columna contiene información de secciones (batches) de las imágenes que no requerimos para esta actividad.\n",
        "df.drop(\"f_23\", axis=1, inplace=True)   # Esta columna tiene un solo valor constante.\n",
        "\n",
        "print('Dimensión del DataFrame',df.shape)\n",
        "df.head(3)\n"
      ]
    },
    {
      "cell_type": "code",
      "execution_count": 3,
      "metadata": {
        "id": "Ygm6SpQePvWb"
      },
      "outputs": [
        {
          "name": "stdout",
          "output_type": "stream",
          "text": [
            "\n",
            "Partición:\n",
            "Train: Conteo_clase_positiva=28, Porcentaje_clase_positiva=4.25%, Porcentaje_clase_negativa=95.75%\n",
            "Val: Conteo_clase_positiva=8, Porcentaje_clase_positiva=4.85%, Porcentaje_clase_negativa=95.15%\n",
            "Test: Conteo_clase_positiva=5, Porcentaje_clase_positiva=4.42, Porcentaje_clase_negativa=95.58%%\n"
          ]
        }
      ],
      "source": [
        "# Particionamos en los datos de entrada (X) y de salida (y):\n",
        "X,y = df.iloc[:,:-1], df.iloc[:,-1]\n",
        "\n",
        "# Utilizamos las semillas indicadas para la reproducibilidad de los resultados:\n",
        "Xtv, Xtest, ytv, ytest = train_test_split(X, y, test_size=0.12, stratify=y, shuffle=True, random_state=1)\n",
        "Xtrain, Xval, ytrain, yval = train_test_split(Xtv, ytv, test_size=0.2, shuffle=True, random_state=7)\n",
        "\n",
        "\n",
        "# Veamos la partición de los tres conjuntos para que observes la poca cantidad de datos que se tienen en la clase minoritaria:\n",
        "print('\\nPartición:')\n",
        "tmp = 100 * (ytrain.sum() / len(ytrain))\n",
        "print('Train: Conteo_clase_positiva=%d, Porcentaje_clase_positiva=%.2f%%, Porcentaje_clase_negativa=%.2f%%' % (ytrain.sum(), tmp, 100-tmp))\n",
        "tmp = 100 * (yval.sum() / len(yval))\n",
        "print('Val: Conteo_clase_positiva=%d, Porcentaje_clase_positiva=%.2f%%, Porcentaje_clase_negativa=%.2f%%' % (yval.sum(), tmp, 100-tmp))\n",
        "tmp = 100 * (ytest.sum() / len(ytest))\n",
        "print('Test: Conteo_clase_positiva=%d, Porcentaje_clase_positiva=%.2f, Porcentaje_clase_negativa=%.2f%%%%' % (ytest.sum(), tmp, 100-tmp))"
      ]
    },
    {
      "cell_type": "markdown",
      "metadata": {
        "id": "-jLdlxjXBoK_"
      },
      "source": [
        "#### **Breve descripción numérica y gráfica del conjunto de entrenamiento:**"
      ]
    },
    {
      "cell_type": "code",
      "execution_count": 4,
      "metadata": {
        "collapsed": true,
        "id": "jVLkQMkygVb_"
      },
      "outputs": [
        {
          "data": {
            "text/html": [
              "<div>\n",
              "<style scoped>\n",
              "    .dataframe tbody tr th:only-of-type {\n",
              "        vertical-align: middle;\n",
              "    }\n",
              "\n",
              "    .dataframe tbody tr th {\n",
              "        vertical-align: top;\n",
              "    }\n",
              "\n",
              "    .dataframe thead th {\n",
              "        text-align: right;\n",
              "    }\n",
              "</style>\n",
              "<table border=\"1\" class=\"dataframe\">\n",
              "  <thead>\n",
              "    <tr style=\"text-align: right;\">\n",
              "      <th></th>\n",
              "      <th>count</th>\n",
              "      <th>mean</th>\n",
              "      <th>std</th>\n",
              "      <th>min</th>\n",
              "      <th>25%</th>\n",
              "      <th>50%</th>\n",
              "      <th>75%</th>\n",
              "      <th>max</th>\n",
              "    </tr>\n",
              "  </thead>\n",
              "  <tbody>\n",
              "    <tr>\n",
              "      <th>f_2</th>\n",
              "      <td>659.0</td>\n",
              "      <td>350.377845</td>\n",
              "      <td>1.911459e+03</td>\n",
              "      <td>10.00</td>\n",
              "      <td>19.000</td>\n",
              "      <td>63.00</td>\n",
              "      <td>134.000</td>\n",
              "      <td>28526.00</td>\n",
              "    </tr>\n",
              "    <tr>\n",
              "      <th>f_3</th>\n",
              "      <td>659.0</td>\n",
              "      <td>692.040516</td>\n",
              "      <td>6.013521e+02</td>\n",
              "      <td>1.92</td>\n",
              "      <td>83.905</td>\n",
              "      <td>646.26</td>\n",
              "      <td>1229.325</td>\n",
              "      <td>1789.13</td>\n",
              "    </tr>\n",
              "    <tr>\n",
              "      <th>f_4</th>\n",
              "      <td>659.0</td>\n",
              "      <td>853.822398</td>\n",
              "      <td>5.259526e+02</td>\n",
              "      <td>1.00</td>\n",
              "      <td>435.500</td>\n",
              "      <td>719.81</td>\n",
              "      <td>1238.040</td>\n",
              "      <td>2724.57</td>\n",
              "    </tr>\n",
              "    <tr>\n",
              "      <th>f_5</th>\n",
              "      <td>659.0</td>\n",
              "      <td>85.613050</td>\n",
              "      <td>4.564260e+01</td>\n",
              "      <td>0.00</td>\n",
              "      <td>54.000</td>\n",
              "      <td>74.00</td>\n",
              "      <td>120.500</td>\n",
              "      <td>180.00</td>\n",
              "    </tr>\n",
              "    <tr>\n",
              "      <th>f_6</th>\n",
              "      <td>659.0</td>\n",
              "      <td>831366.966616</td>\n",
              "      <td>4.158159e+06</td>\n",
              "      <td>71718.00</td>\n",
              "      <td>125000.000</td>\n",
              "      <td>185000.00</td>\n",
              "      <td>337500.000</td>\n",
              "      <td>71315000.00</td>\n",
              "    </tr>\n",
              "    <tr>\n",
              "      <th>f_7</th>\n",
              "      <td>659.0</td>\n",
              "      <td>43.517132</td>\n",
              "      <td>1.287405e+01</td>\n",
              "      <td>21.24</td>\n",
              "      <td>33.760</td>\n",
              "      <td>40.35</td>\n",
              "      <td>53.090</td>\n",
              "      <td>82.64</td>\n",
              "    </tr>\n",
              "    <tr>\n",
              "      <th>f_8</th>\n",
              "      <td>659.0</td>\n",
              "      <td>9.244294</td>\n",
              "      <td>3.590490e+00</td>\n",
              "      <td>1.21</td>\n",
              "      <td>6.935</td>\n",
              "      <td>8.33</td>\n",
              "      <td>11.045</td>\n",
              "      <td>23.47</td>\n",
              "    </tr>\n",
              "    <tr>\n",
              "      <th>f_9</th>\n",
              "      <td>659.0</td>\n",
              "      <td>4094.624431</td>\n",
              "      <td>8.960913e+03</td>\n",
              "      <td>704.00</td>\n",
              "      <td>1332.000</td>\n",
              "      <td>2100.00</td>\n",
              "      <td>3445.000</td>\n",
              "      <td>160740.00</td>\n",
              "    </tr>\n",
              "    <tr>\n",
              "      <th>f_10</th>\n",
              "      <td>659.0</td>\n",
              "      <td>0.221730</td>\n",
              "      <td>8.687786e-02</td>\n",
              "      <td>0.02</td>\n",
              "      <td>0.170</td>\n",
              "      <td>0.21</td>\n",
              "      <td>0.260</td>\n",
              "      <td>0.67</td>\n",
              "    </tr>\n",
              "    <tr>\n",
              "      <th>f_11</th>\n",
              "      <td>659.0</td>\n",
              "      <td>110.794537</td>\n",
              "      <td>6.187135e+01</td>\n",
              "      <td>41.00</td>\n",
              "      <td>84.400</td>\n",
              "      <td>100.10</td>\n",
              "      <td>116.300</td>\n",
              "      <td>901.70</td>\n",
              "    </tr>\n",
              "    <tr>\n",
              "      <th>f_12</th>\n",
              "      <td>659.0</td>\n",
              "      <td>0.253020</td>\n",
              "      <td>8.808578e-02</td>\n",
              "      <td>0.02</td>\n",
              "      <td>0.200</td>\n",
              "      <td>0.24</td>\n",
              "      <td>0.290</td>\n",
              "      <td>0.66</td>\n",
              "    </tr>\n",
              "    <tr>\n",
              "      <th>f_13</th>\n",
              "      <td>659.0</td>\n",
              "      <td>0.312914</td>\n",
              "      <td>1.201507e-01</td>\n",
              "      <td>0.03</td>\n",
              "      <td>0.240</td>\n",
              "      <td>0.29</td>\n",
              "      <td>0.350</td>\n",
              "      <td>0.83</td>\n",
              "    </tr>\n",
              "    <tr>\n",
              "      <th>f_14</th>\n",
              "      <td>659.0</td>\n",
              "      <td>0.492504</td>\n",
              "      <td>2.208362e-01</td>\n",
              "      <td>0.05</td>\n",
              "      <td>0.330</td>\n",
              "      <td>0.44</td>\n",
              "      <td>0.620</td>\n",
              "      <td>1.23</td>\n",
              "    </tr>\n",
              "    <tr>\n",
              "      <th>f_15</th>\n",
              "      <td>659.0</td>\n",
              "      <td>0.183596</td>\n",
              "      <td>8.448464e-02</td>\n",
              "      <td>0.01</td>\n",
              "      <td>0.130</td>\n",
              "      <td>0.18</td>\n",
              "      <td>0.220</td>\n",
              "      <td>0.65</td>\n",
              "    </tr>\n",
              "    <tr>\n",
              "      <th>f_16</th>\n",
              "      <td>659.0</td>\n",
              "      <td>0.308923</td>\n",
              "      <td>2.118486e-01</td>\n",
              "      <td>0.01</td>\n",
              "      <td>0.130</td>\n",
              "      <td>0.27</td>\n",
              "      <td>0.420</td>\n",
              "      <td>1.12</td>\n",
              "    </tr>\n",
              "    <tr>\n",
              "      <th>f_17</th>\n",
              "      <td>659.0</td>\n",
              "      <td>74.584264</td>\n",
              "      <td>2.783014e+02</td>\n",
              "      <td>4.82</td>\n",
              "      <td>21.060</td>\n",
              "      <td>33.66</td>\n",
              "      <td>61.960</td>\n",
              "      <td>6058.23</td>\n",
              "    </tr>\n",
              "    <tr>\n",
              "      <th>f_18</th>\n",
              "      <td>659.0</td>\n",
              "      <td>31.952929</td>\n",
              "      <td>1.689711e+02</td>\n",
              "      <td>1.96</td>\n",
              "      <td>11.605</td>\n",
              "      <td>16.00</td>\n",
              "      <td>24.220</td>\n",
              "      <td>4061.15</td>\n",
              "    </tr>\n",
              "    <tr>\n",
              "      <th>f_19</th>\n",
              "      <td>659.0</td>\n",
              "      <td>0.898998</td>\n",
              "      <td>6.747411e-01</td>\n",
              "      <td>0.13</td>\n",
              "      <td>0.370</td>\n",
              "      <td>0.68</td>\n",
              "      <td>1.055</td>\n",
              "      <td>2.60</td>\n",
              "    </tr>\n",
              "    <tr>\n",
              "      <th>f_20</th>\n",
              "      <td>659.0</td>\n",
              "      <td>0.230835</td>\n",
              "      <td>7.595632e-02</td>\n",
              "      <td>0.02</td>\n",
              "      <td>0.180</td>\n",
              "      <td>0.22</td>\n",
              "      <td>0.265</td>\n",
              "      <td>0.65</td>\n",
              "    </tr>\n",
              "    <tr>\n",
              "      <th>f_21</th>\n",
              "      <td>659.0</td>\n",
              "      <td>0.291866</td>\n",
              "      <td>1.060997e-01</td>\n",
              "      <td>0.02</td>\n",
              "      <td>0.230</td>\n",
              "      <td>0.28</td>\n",
              "      <td>0.330</td>\n",
              "      <td>0.77</td>\n",
              "    </tr>\n",
              "    <tr>\n",
              "      <th>f_22</th>\n",
              "      <td>659.0</td>\n",
              "      <td>75.669135</td>\n",
              "      <td>2.302167e+01</td>\n",
              "      <td>47.66</td>\n",
              "      <td>55.850</td>\n",
              "      <td>69.09</td>\n",
              "      <td>85.220</td>\n",
              "      <td>126.08</td>\n",
              "    </tr>\n",
              "    <tr>\n",
              "      <th>f_24</th>\n",
              "      <td>659.0</td>\n",
              "      <td>0.650470</td>\n",
              "      <td>3.025940e-01</td>\n",
              "      <td>0.17</td>\n",
              "      <td>0.450</td>\n",
              "      <td>0.51</td>\n",
              "      <td>0.970</td>\n",
              "      <td>1.33</td>\n",
              "    </tr>\n",
              "    <tr>\n",
              "      <th>f_25</th>\n",
              "      <td>659.0</td>\n",
              "      <td>556.225721</td>\n",
              "      <td>6.116655e+02</td>\n",
              "      <td>132.78</td>\n",
              "      <td>221.970</td>\n",
              "      <td>351.67</td>\n",
              "      <td>422.120</td>\n",
              "      <td>2036.80</td>\n",
              "    </tr>\n",
              "    <tr>\n",
              "      <th>f_26</th>\n",
              "      <td>659.0</td>\n",
              "      <td>0.578892</td>\n",
              "      <td>6.986410e-01</td>\n",
              "      <td>-0.71</td>\n",
              "      <td>0.180</td>\n",
              "      <td>0.87</td>\n",
              "      <td>0.970</td>\n",
              "      <td>1.83</td>\n",
              "    </tr>\n",
              "    <tr>\n",
              "      <th>f_27</th>\n",
              "      <td>659.0</td>\n",
              "      <td>7.416480</td>\n",
              "      <td>3.947090e+00</td>\n",
              "      <td>2.96</td>\n",
              "      <td>4.660</td>\n",
              "      <td>5.07</td>\n",
              "      <td>9.240</td>\n",
              "      <td>14.78</td>\n",
              "    </tr>\n",
              "    <tr>\n",
              "      <th>f_28</th>\n",
              "      <td>659.0</td>\n",
              "      <td>0.604355</td>\n",
              "      <td>8.554309e-01</td>\n",
              "      <td>-1.79</td>\n",
              "      <td>0.100</td>\n",
              "      <td>0.48</td>\n",
              "      <td>0.980</td>\n",
              "      <td>5.72</td>\n",
              "    </tr>\n",
              "    <tr>\n",
              "      <th>f_29</th>\n",
              "      <td>659.0</td>\n",
              "      <td>4.274370</td>\n",
              "      <td>3.754092e+00</td>\n",
              "      <td>1.44</td>\n",
              "      <td>2.650</td>\n",
              "      <td>3.34</td>\n",
              "      <td>4.420</td>\n",
              "      <td>39.42</td>\n",
              "    </tr>\n",
              "    <tr>\n",
              "      <th>f_30</th>\n",
              "      <td>659.0</td>\n",
              "      <td>-2.804598</td>\n",
              "      <td>1.613061e+00</td>\n",
              "      <td>-7.26</td>\n",
              "      <td>-3.245</td>\n",
              "      <td>-2.78</td>\n",
              "      <td>-1.610</td>\n",
              "      <td>1.28</td>\n",
              "    </tr>\n",
              "    <tr>\n",
              "      <th>f_31</th>\n",
              "      <td>659.0</td>\n",
              "      <td>-0.426222</td>\n",
              "      <td>2.129161e-01</td>\n",
              "      <td>-1.32</td>\n",
              "      <td>-0.530</td>\n",
              "      <td>-0.38</td>\n",
              "      <td>-0.280</td>\n",
              "      <td>0.00</td>\n",
              "    </tr>\n",
              "    <tr>\n",
              "      <th>f_32</th>\n",
              "      <td>659.0</td>\n",
              "      <td>1.807208</td>\n",
              "      <td>6.434560e-01</td>\n",
              "      <td>0.00</td>\n",
              "      <td>1.220</td>\n",
              "      <td>1.94</td>\n",
              "      <td>2.170</td>\n",
              "      <td>2.98</td>\n",
              "    </tr>\n",
              "    <tr>\n",
              "      <th>f_33</th>\n",
              "      <td>659.0</td>\n",
              "      <td>0.002656</td>\n",
              "      <td>4.789256e-02</td>\n",
              "      <td>0.00</td>\n",
              "      <td>0.000</td>\n",
              "      <td>0.00</td>\n",
              "      <td>0.000</td>\n",
              "      <td>0.87</td>\n",
              "    </tr>\n",
              "    <tr>\n",
              "      <th>f_34</th>\n",
              "      <td>659.0</td>\n",
              "      <td>1.804537</td>\n",
              "      <td>6.478960e-01</td>\n",
              "      <td>0.00</td>\n",
              "      <td>1.220</td>\n",
              "      <td>1.94</td>\n",
              "      <td>2.170</td>\n",
              "      <td>2.98</td>\n",
              "    </tr>\n",
              "    <tr>\n",
              "      <th>f_35</th>\n",
              "      <td>659.0</td>\n",
              "      <td>44.641882</td>\n",
              "      <td>1.030699e+02</td>\n",
              "      <td>3.00</td>\n",
              "      <td>11.000</td>\n",
              "      <td>22.00</td>\n",
              "      <td>38.500</td>\n",
              "      <td>1695.00</td>\n",
              "    </tr>\n",
              "    <tr>\n",
              "      <th>f_36</th>\n",
              "      <td>659.0</td>\n",
              "      <td>2523.004552</td>\n",
              "      <td>5.656116e+03</td>\n",
              "      <td>360.00</td>\n",
              "      <td>720.000</td>\n",
              "      <td>1350.00</td>\n",
              "      <td>2160.000</td>\n",
              "      <td>95310.00</td>\n",
              "    </tr>\n",
              "    <tr>\n",
              "      <th>f_37</th>\n",
              "      <td>659.0</td>\n",
              "      <td>0.006646</td>\n",
              "      <td>5.300774e-03</td>\n",
              "      <td>0.00</td>\n",
              "      <td>0.000</td>\n",
              "      <td>0.01</td>\n",
              "      <td>0.010</td>\n",
              "      <td>0.02</td>\n",
              "    </tr>\n",
              "    <tr>\n",
              "      <th>f_38</th>\n",
              "      <td>659.0</td>\n",
              "      <td>31.436525</td>\n",
              "      <td>3.224650e+01</td>\n",
              "      <td>5.05</td>\n",
              "      <td>13.045</td>\n",
              "      <td>23.52</td>\n",
              "      <td>38.460</td>\n",
              "      <td>441.23</td>\n",
              "    </tr>\n",
              "    <tr>\n",
              "      <th>f_39</th>\n",
              "      <td>659.0</td>\n",
              "      <td>91.368741</td>\n",
              "      <td>2.192074e+01</td>\n",
              "      <td>64.00</td>\n",
              "      <td>78.000</td>\n",
              "      <td>82.00</td>\n",
              "      <td>99.000</td>\n",
              "      <td>143.00</td>\n",
              "    </tr>\n",
              "    <tr>\n",
              "      <th>f_40</th>\n",
              "      <td>659.0</td>\n",
              "      <td>60.617602</td>\n",
              "      <td>1.382443e+01</td>\n",
              "      <td>39.00</td>\n",
              "      <td>50.000</td>\n",
              "      <td>55.00</td>\n",
              "      <td>67.000</td>\n",
              "      <td>86.00</td>\n",
              "    </tr>\n",
              "    <tr>\n",
              "      <th>f_41</th>\n",
              "      <td>659.0</td>\n",
              "      <td>933.986980</td>\n",
              "      <td>1.006869e+03</td>\n",
              "      <td>0.00</td>\n",
              "      <td>450.000</td>\n",
              "      <td>670.82</td>\n",
              "      <td>1058.880</td>\n",
              "      <td>11949.33</td>\n",
              "    </tr>\n",
              "    <tr>\n",
              "      <th>f_42</th>\n",
              "      <td>659.0</td>\n",
              "      <td>435.976995</td>\n",
              "      <td>7.350065e+02</td>\n",
              "      <td>0.00</td>\n",
              "      <td>180.000</td>\n",
              "      <td>270.00</td>\n",
              "      <td>474.340</td>\n",
              "      <td>11500.00</td>\n",
              "    </tr>\n",
              "    <tr>\n",
              "      <th>f_43</th>\n",
              "      <td>659.0</td>\n",
              "      <td>260.688255</td>\n",
              "      <td>5.560402e+02</td>\n",
              "      <td>0.00</td>\n",
              "      <td>94.855</td>\n",
              "      <td>161.15</td>\n",
              "      <td>267.270</td>\n",
              "      <td>9593.48</td>\n",
              "    </tr>\n",
              "    <tr>\n",
              "      <th>f_44</th>\n",
              "      <td>659.0</td>\n",
              "      <td>108.143429</td>\n",
              "      <td>1.360154e+02</td>\n",
              "      <td>0.00</td>\n",
              "      <td>51.960</td>\n",
              "      <td>75.97</td>\n",
              "      <td>128.415</td>\n",
              "      <td>1648.80</td>\n",
              "    </tr>\n",
              "    <tr>\n",
              "      <th>f_45</th>\n",
              "      <td>659.0</td>\n",
              "      <td>5.054613</td>\n",
              "      <td>5.198215e+00</td>\n",
              "      <td>0.00</td>\n",
              "      <td>2.315</td>\n",
              "      <td>3.90</td>\n",
              "      <td>6.320</td>\n",
              "      <td>76.63</td>\n",
              "    </tr>\n",
              "    <tr>\n",
              "      <th>f_46</th>\n",
              "      <td>659.0</td>\n",
              "      <td>0.125948</td>\n",
              "      <td>3.320432e-01</td>\n",
              "      <td>0.00</td>\n",
              "      <td>0.000</td>\n",
              "      <td>0.00</td>\n",
              "      <td>0.000</td>\n",
              "      <td>1.00</td>\n",
              "    </tr>\n",
              "    <tr>\n",
              "      <th>f_47</th>\n",
              "      <td>659.0</td>\n",
              "      <td>8160.541851</td>\n",
              "      <td>6.869664e+03</td>\n",
              "      <td>2087.31</td>\n",
              "      <td>3811.080</td>\n",
              "      <td>5592.20</td>\n",
              "      <td>9962.705</td>\n",
              "      <td>55128.46</td>\n",
              "    </tr>\n",
              "    <tr>\n",
              "      <th>f_48</th>\n",
              "      <td>659.0</td>\n",
              "      <td>61.721700</td>\n",
              "      <td>1.037758e+01</td>\n",
              "      <td>35.96</td>\n",
              "      <td>65.700</td>\n",
              "      <td>65.93</td>\n",
              "      <td>66.130</td>\n",
              "      <td>66.45</td>\n",
              "    </tr>\n",
              "    <tr>\n",
              "      <th>f_49</th>\n",
              "      <td>659.0</td>\n",
              "      <td>8.111730</td>\n",
              "      <td>2.901510e+00</td>\n",
              "      <td>5.81</td>\n",
              "      <td>6.340</td>\n",
              "      <td>7.22</td>\n",
              "      <td>7.840</td>\n",
              "      <td>15.44</td>\n",
              "    </tr>\n",
              "  </tbody>\n",
              "</table>\n",
              "</div>"
            ],
            "text/plain": [
              "      count           mean           std       min         25%        50%  \\\n",
              "f_2   659.0     350.377845  1.911459e+03     10.00      19.000      63.00   \n",
              "f_3   659.0     692.040516  6.013521e+02      1.92      83.905     646.26   \n",
              "f_4   659.0     853.822398  5.259526e+02      1.00     435.500     719.81   \n",
              "f_5   659.0      85.613050  4.564260e+01      0.00      54.000      74.00   \n",
              "f_6   659.0  831366.966616  4.158159e+06  71718.00  125000.000  185000.00   \n",
              "f_7   659.0      43.517132  1.287405e+01     21.24      33.760      40.35   \n",
              "f_8   659.0       9.244294  3.590490e+00      1.21       6.935       8.33   \n",
              "f_9   659.0    4094.624431  8.960913e+03    704.00    1332.000    2100.00   \n",
              "f_10  659.0       0.221730  8.687786e-02      0.02       0.170       0.21   \n",
              "f_11  659.0     110.794537  6.187135e+01     41.00      84.400     100.10   \n",
              "f_12  659.0       0.253020  8.808578e-02      0.02       0.200       0.24   \n",
              "f_13  659.0       0.312914  1.201507e-01      0.03       0.240       0.29   \n",
              "f_14  659.0       0.492504  2.208362e-01      0.05       0.330       0.44   \n",
              "f_15  659.0       0.183596  8.448464e-02      0.01       0.130       0.18   \n",
              "f_16  659.0       0.308923  2.118486e-01      0.01       0.130       0.27   \n",
              "f_17  659.0      74.584264  2.783014e+02      4.82      21.060      33.66   \n",
              "f_18  659.0      31.952929  1.689711e+02      1.96      11.605      16.00   \n",
              "f_19  659.0       0.898998  6.747411e-01      0.13       0.370       0.68   \n",
              "f_20  659.0       0.230835  7.595632e-02      0.02       0.180       0.22   \n",
              "f_21  659.0       0.291866  1.060997e-01      0.02       0.230       0.28   \n",
              "f_22  659.0      75.669135  2.302167e+01     47.66      55.850      69.09   \n",
              "f_24  659.0       0.650470  3.025940e-01      0.17       0.450       0.51   \n",
              "f_25  659.0     556.225721  6.116655e+02    132.78     221.970     351.67   \n",
              "f_26  659.0       0.578892  6.986410e-01     -0.71       0.180       0.87   \n",
              "f_27  659.0       7.416480  3.947090e+00      2.96       4.660       5.07   \n",
              "f_28  659.0       0.604355  8.554309e-01     -1.79       0.100       0.48   \n",
              "f_29  659.0       4.274370  3.754092e+00      1.44       2.650       3.34   \n",
              "f_30  659.0      -2.804598  1.613061e+00     -7.26      -3.245      -2.78   \n",
              "f_31  659.0      -0.426222  2.129161e-01     -1.32      -0.530      -0.38   \n",
              "f_32  659.0       1.807208  6.434560e-01      0.00       1.220       1.94   \n",
              "f_33  659.0       0.002656  4.789256e-02      0.00       0.000       0.00   \n",
              "f_34  659.0       1.804537  6.478960e-01      0.00       1.220       1.94   \n",
              "f_35  659.0      44.641882  1.030699e+02      3.00      11.000      22.00   \n",
              "f_36  659.0    2523.004552  5.656116e+03    360.00     720.000    1350.00   \n",
              "f_37  659.0       0.006646  5.300774e-03      0.00       0.000       0.01   \n",
              "f_38  659.0      31.436525  3.224650e+01      5.05      13.045      23.52   \n",
              "f_39  659.0      91.368741  2.192074e+01     64.00      78.000      82.00   \n",
              "f_40  659.0      60.617602  1.382443e+01     39.00      50.000      55.00   \n",
              "f_41  659.0     933.986980  1.006869e+03      0.00     450.000     670.82   \n",
              "f_42  659.0     435.976995  7.350065e+02      0.00     180.000     270.00   \n",
              "f_43  659.0     260.688255  5.560402e+02      0.00      94.855     161.15   \n",
              "f_44  659.0     108.143429  1.360154e+02      0.00      51.960      75.97   \n",
              "f_45  659.0       5.054613  5.198215e+00      0.00       2.315       3.90   \n",
              "f_46  659.0       0.125948  3.320432e-01      0.00       0.000       0.00   \n",
              "f_47  659.0    8160.541851  6.869664e+03   2087.31    3811.080    5592.20   \n",
              "f_48  659.0      61.721700  1.037758e+01     35.96      65.700      65.93   \n",
              "f_49  659.0       8.111730  2.901510e+00      5.81       6.340       7.22   \n",
              "\n",
              "             75%          max  \n",
              "f_2      134.000     28526.00  \n",
              "f_3     1229.325      1789.13  \n",
              "f_4     1238.040      2724.57  \n",
              "f_5      120.500       180.00  \n",
              "f_6   337500.000  71315000.00  \n",
              "f_7       53.090        82.64  \n",
              "f_8       11.045        23.47  \n",
              "f_9     3445.000    160740.00  \n",
              "f_10       0.260         0.67  \n",
              "f_11     116.300       901.70  \n",
              "f_12       0.290         0.66  \n",
              "f_13       0.350         0.83  \n",
              "f_14       0.620         1.23  \n",
              "f_15       0.220         0.65  \n",
              "f_16       0.420         1.12  \n",
              "f_17      61.960      6058.23  \n",
              "f_18      24.220      4061.15  \n",
              "f_19       1.055         2.60  \n",
              "f_20       0.265         0.65  \n",
              "f_21       0.330         0.77  \n",
              "f_22      85.220       126.08  \n",
              "f_24       0.970         1.33  \n",
              "f_25     422.120      2036.80  \n",
              "f_26       0.970         1.83  \n",
              "f_27       9.240        14.78  \n",
              "f_28       0.980         5.72  \n",
              "f_29       4.420        39.42  \n",
              "f_30      -1.610         1.28  \n",
              "f_31      -0.280         0.00  \n",
              "f_32       2.170         2.98  \n",
              "f_33       0.000         0.87  \n",
              "f_34       2.170         2.98  \n",
              "f_35      38.500      1695.00  \n",
              "f_36    2160.000     95310.00  \n",
              "f_37       0.010         0.02  \n",
              "f_38      38.460       441.23  \n",
              "f_39      99.000       143.00  \n",
              "f_40      67.000        86.00  \n",
              "f_41    1058.880     11949.33  \n",
              "f_42     474.340     11500.00  \n",
              "f_43     267.270      9593.48  \n",
              "f_44     128.415      1648.80  \n",
              "f_45       6.320        76.63  \n",
              "f_46       0.000         1.00  \n",
              "f_47    9962.705     55128.46  \n",
              "f_48      66.130        66.45  \n",
              "f_49       7.840        15.44  "
            ]
          },
          "execution_count": 4,
          "metadata": {},
          "output_type": "execute_result"
        }
      ],
      "source": [
        "Xtrain.describe().T"
      ]
    },
    {
      "cell_type": "code",
      "execution_count": 5,
      "metadata": {
        "collapsed": true,
        "id": "LQ9SWsZS1PzB"
      },
      "outputs": [
        {
          "data": {
            "image/png": "[encoded data removed]",
            "text/plain": [
              "<Figure size 800x550 with 49 Axes>"
            ]
          },
          "metadata": {},
          "output_type": "display_data"
        }
      ],
      "source": [
        "ax = Xtrain.hist()  # Histogramas:\n",
        "# Quitemos toda la información del gráfico para visualizarlo de manera sencilla:\n",
        "for axis in ax.flatten():\n",
        "  axis.set_title('')\n",
        "  axis.set_xticklabels([])\n",
        "  axis.set_yticklabels([])\n",
        "plt.show()\n"
      ]
    },
    {
      "cell_type": "code",
      "execution_count": 6,
      "metadata": {
        "collapsed": true,
        "id": "MlCqWN-Tl_CG"
      },
      "outputs": [
        {
          "name": "stdout",
          "output_type": "stream",
          "text": [
            "<class 'pandas.core.frame.DataFrame'>\n",
            "Index: 659 entries, 433 to 625\n",
            "Data columns (total 47 columns):\n",
            " #   Column  Non-Null Count  Dtype  \n",
            "---  ------  --------------  -----  \n",
            " 0   f_2     659 non-null    int64  \n",
            " 1   f_3     659 non-null    float64\n",
            " 2   f_4     659 non-null    float64\n",
            " 3   f_5     659 non-null    int64  \n",
            " 4   f_6     659 non-null    float64\n",
            " 5   f_7     659 non-null    float64\n",
            " 6   f_8     659 non-null    float64\n",
            " 7   f_9     659 non-null    float64\n",
            " 8   f_10    659 non-null    float64\n",
            " 9   f_11    659 non-null    float64\n",
            " 10  f_12    659 non-null    float64\n",
            " 11  f_13    659 non-null    float64\n",
            " 12  f_14    659 non-null    float64\n",
            " 13  f_15    659 non-null    float64\n",
            " 14  f_16    659 non-null    float64\n",
            " 15  f_17    659 non-null    float64\n",
            " 16  f_18    659 non-null    float64\n",
            " 17  f_19    659 non-null    float64\n",
            " 18  f_20    659 non-null    float64\n",
            " 19  f_21    659 non-null    float64\n",
            " 20  f_22    659 non-null    float64\n",
            " 21  f_24    659 non-null    float64\n",
            " 22  f_25    659 non-null    float64\n",
            " 23  f_26    659 non-null    float64\n",
            " 24  f_27    659 non-null    float64\n",
            " 25  f_28    659 non-null    float64\n",
            " 26  f_29    659 non-null    float64\n",
            " 27  f_30    659 non-null    float64\n",
            " 28  f_31    659 non-null    float64\n",
            " 29  f_32    659 non-null    float64\n",
            " 30  f_33    659 non-null    float64\n",
            " 31  f_34    659 non-null    float64\n",
            " 32  f_35    659 non-null    int64  \n",
            " 33  f_36    659 non-null    int64  \n",
            " 34  f_37    659 non-null    float64\n",
            " 35  f_38    659 non-null    float64\n",
            " 36  f_39    659 non-null    int64  \n",
            " 37  f_40    659 non-null    int64  \n",
            " 38  f_41    659 non-null    float64\n",
            " 39  f_42    659 non-null    float64\n",
            " 40  f_43    659 non-null    float64\n",
            " 41  f_44    659 non-null    float64\n",
            " 42  f_45    659 non-null    float64\n",
            " 43  f_46    659 non-null    int64  \n",
            " 44  f_47    659 non-null    float64\n",
            " 45  f_48    659 non-null    float64\n",
            " 46  f_49    659 non-null    float64\n",
            "dtypes: float64(40), int64(7)\n",
            "memory usage: 247.1 KB\n"
          ]
        }
      ],
      "source": [
        "Xtrain.info()"
      ]
    },
    {
      "cell_type": "markdown",
      "metadata": {
        "id": "scGKZofHV2eo"
      },
      "source": [
        "En resumen:\n",
        "* De lo anterior observamos que todos los valores ya son numéricos positivos y negativos, no hay datos perdidios, la diferencia de escala entre todos los factores es muy diversa y la distribución de las variables también es muy variada.\n",
        "\n",
        "* Como una primera aproximación transformaremos todos los factores con la Yeo-Johnson para corregir un poco el sesgo de las distribuciones que suele afectar en general a los modelos como la regresión logística y luego los escalaremos ."
      ]
    },
    {
      "cell_type": "markdown",
      "metadata": {
        "id": "W3uP4iIkd4nz"
      },
      "source": [
        "# **Ejercicio-2**"
      ]
    },
    {
      "cell_type": "markdown",
      "metadata": {
        "id": "YG0d_r5Td6St"
      },
      "source": [
        "### **Investiga: (a) En qué consiste la transformación Yeo-Johnson y (b) cuál es su diferencia con la Box-Cox.**\n",
        "\n",
        "* a) La transformación de Yeo-Johnson es una familia de transformaciones potenciadas que busca acercar la distribución de una variable a la normalidad, reducir la asimetría y estabilizar la varianza. Extiende la idea de Box-Cox al permitir valores nulos y negativos aplicando dos fórmulas: una para $x \\ge 0$ y otra para $x < 0$, ambas controladas por un parámetro $\\lambda$ que se estima maximizando la verosimilitud.\n",
        "\n",
        "* b) Box-Cox solo puede aplicarse a datos estrictamente positivos, por lo que suele requerir desplazar las variables. Yeo-Johnson conserva el mismo objetivo —normalizar y estabilizar la varianza— pero admite todo el dominio real sin desplazar los datos. Además, cuando los datos son positivos y se elige el mismo $\\lambda$, Yeo-Johnson y Box-Cox producen transformaciones equivalentes."
      ]
    },
    {
      "cell_type": "code",
      "execution_count": 7,
      "metadata": {
        "id": "rRnWD-yoXnk8"
      },
      "outputs": [
        {
          "name": "stdout",
          "output_type": "stream",
          "text": [
            "Métrica G-mean[Media Geométrica] y (std): 0.461 (0.241)\n"
          ]
        }
      ],
      "source": [
        "# Código-1:\n",
        "\n",
        "# Aplicamos la función Dummy con la métrica G-mean:\n",
        "\n",
        "def evaluate_model(X, y, model):\n",
        "  cv = RepeatedStratifiedKFold(n_splits=10, n_repeats=3, random_state=1)\n",
        "  metric = make_scorer(geometric_mean_score)\n",
        "  scores = cross_val_score(model, X, y, scoring=metric, cv=cv, n_jobs=-1)\n",
        "  return scores\n",
        "\n",
        "\n",
        "modeloD = DummyClassifier(strategy='uniform', random_state=7)\n",
        "scores = evaluate_model(Xtrain, ytrain, modeloD)\n",
        "\n",
        "\n",
        "print('Métrica G-mean[Media Geométrica] y (std): %.3f (%.3f)' % (mean(scores), stdev(scores)))"
      ]
    },
    {
      "cell_type": "markdown",
      "metadata": {
        "id": "iq142ztPDj9F"
      },
      "source": [
        "# **Ejercicio-3**"
      ]
    },
    {
      "cell_type": "markdown",
      "metadata": {
        "id": "r4t1H1lADk1c"
      },
      "source": [
        "### **Explica lo que hace cada línea de código de la celda anterior llamada \"Código-1\", así como el significado de los valores que se obtienen en la salida:**\n",
        "\n",
        "1. Se define la función `evaluate_model` que recibirá los datos y un modelo para devolver una colección de puntajes de validación cruzada.\n",
        "2. Dentro de la función se crea un esquema de validación cruzada estratificada repetida (`RepeatedStratifiedKFold`) con 10 particiones y 3 repeticiones para respetar el desbalance de clases y reducir la varianza de las estimaciones.\n",
        "3. Se construye la métrica personalizada `metric` utilizando `make_scorer` y `geometric_mean_score`, de forma que cada partición evaluará el modelo con $G_{mean}$.\n",
        "4. `cross_val_score` ejecuta la validación cruzada con el modelo indicado, devuelve un arreglo con los valores de $G_{mean}$ para cada partición y usa procesamiento en paralelo (`n_jobs=-1`).\n",
        "5. La función `evaluate_model` regresa los puntajes calculados para que puedan reutilizarse.\n",
        "6. Se instancia un `DummyClassifier` con estrategia `uniform`, lo que produce predicciones aleatorias independientes del contenido de los atributos (sirve como línea base).\n",
        "7. Se llama a `evaluate_model` con los datos de entrenamiento y el clasificador dummy para obtener sus puntajes de $G_{mean}$.\n",
        "8. Se almacena el resultado en la variable `scores`, que contiene los valores de la métrica para cada partición de la validación cruzada.\n",
        "9. Se imprime la media y la desviación estándar de los puntajes (`mean(scores)` y `std(scores)`), describiendo el desempeño típico del modelo base; estos números permiten comparar cualquier modelo posterior contra un desempeño aleatorio."
      ]
    },
    {
      "cell_type": "markdown",
      "metadata": {
        "id": "fYPq7gNDE0Bb"
      },
      "source": [
        "#### **Para fines de esta actividad definimos las siguientes transformaciones del preprocesamiento de los datos. Recuerda que aunque estos datos no tengan datos perdidos, simpre debes incluir una opción para el caso con datos futuros:**"
      ]
    },
    {
      "cell_type": "code",
      "execution_count": 8,
      "metadata": {
        "id": "vngPHRx4SbJl"
      },
      "outputs": [],
      "source": [
        "# Transforamaciones numéricas que evitará el filtrado de información:\n",
        "\n",
        "\n",
        "numericas_pipeline = Pipeline(steps = [('impMediana', SimpleImputer(strategy='mean')),\n",
        "                                       ('yeo-johnson', PowerTransformer()),\n",
        "                                       ('std_transformer', StandardScaler()),\n",
        "                                       ])\n",
        "\n",
        "numericas_pipeline_nombres = Xtrain.columns\n",
        "\n",
        "columnasTransformer = ColumnTransformer(transformers = [('num', numericas_pipeline, numericas_pipeline_nombres)],\n",
        "                                        remainder='passthrough')"
      ]
    },
    {
      "cell_type": "code",
      "execution_count": 9,
      "metadata": {
        "id": "On9HsGmUeytp"
      },
      "outputs": [],
      "source": [
        "mi_metrica = make_scorer(geometric_mean_score)  # definimos la métrica G-mean"
      ]
    },
    {
      "cell_type": "code",
      "execution_count": 10,
      "metadata": {
        "id": "OikwDqHbSbF4"
      },
      "outputs": [
        {
          "name": "stdout",
          "output_type": "stream",
          "text": [
            "Resultados de Validación:\n",
            "LR\n",
            "Exactitud: >> 0.947 (0.014)\n",
            "G-mean: >> 0.653 (0.118)\n",
            "\n",
            "LASSO\n",
            "Exactitud: >> 0.960 (0.009)\n",
            "G-mean: >> 0.501 (0.158)\n",
            "\n",
            "RIDGE\n",
            "Exactitud: >> 0.959 (0.008)\n",
            "G-mean: >> 0.541 (0.113)\n",
            "\n",
            "EN\n",
            "Exactitud: >> 0.960 (0.007)\n",
            "G-mean: >> 0.540 (0.109)\n",
            "\n",
            "kNN\n",
            "Exactitud: >> 0.956 (0.006)\n",
            "G-mean: >> 0.174 (0.187)\n",
            "\n"
          ]
        },
        {
          "data": {
            "image/png": "[encoded data removed]",
            "text/plain": [
              "<Figure size 800x550 with 1 Axes>"
            ]
          },
          "metadata": {},
          "output_type": "display_data"
        },
        {
          "data": {
            "image/png": "[encoded data removed]",
            "text/plain": [
              "<Figure size 800x550 with 1 Axes>"
            ]
          },
          "metadata": {},
          "output_type": "display_data"
        }
      ],
      "source": [
        "# Código-2:\n",
        "\n",
        "\n",
        "def mis_modelos1():\n",
        "  modelos, nombres = list(), list()\n",
        "\n",
        "  modelos.append(LogisticRegression(penalty=None,\n",
        "                                    solver='lbfgs',\n",
        "                                    max_iter=2000,\n",
        "                                    random_state=1))\n",
        "  nombres.append('LR')\n",
        "\n",
        "\n",
        "  modelos.append(LogisticRegression(penalty='l1',\n",
        "                                    solver='liblinear',\n",
        "                                    max_iter=2000,\n",
        "                                    random_state=1))\n",
        "  nombres.append('LASSO')\n",
        "\n",
        "\n",
        "  modelos.append(LogisticRegression(penalty='l2',\n",
        "                                    solver='lbfgs',\n",
        "                                    max_iter=2000,\n",
        "                                    random_state=1))\n",
        "  nombres.append('RIDGE')\n",
        "\n",
        "  modelos.append(LogisticRegression(penalty='elasticnet',\n",
        "                                    l1_ratio=0.5,\n",
        "                                    solver='saga',\n",
        "                                    max_iter=5000,\n",
        "                                    random_state=1))\n",
        "  nombres.append('EN')\n",
        "\n",
        "  modelos.append(KNeighborsClassifier(n_neighbors=5))\n",
        "  nombres.append('kNN')\n",
        "\n",
        "  return modelos, nombres\n",
        "\n",
        "# +++++++++++++++++++++++++++++++\n",
        "\n",
        "\n",
        "modelos, nombres = mis_modelos1()\n",
        "resultados1, resultados2 = list(), list()\n",
        "print('Resultados de Validación:')\n",
        "\n",
        "for i in range(len(modelos)):\n",
        "\n",
        "  pipeline = Pipeline(steps=[('ct',columnasTransformer),('m',modelos[i])])\n",
        "  cv1 = RepeatedStratifiedKFold(n_splits=5, n_repeats=3, random_state=7)\n",
        "  scores = cross_validate(pipeline,\n",
        "                          Xtv,\n",
        "                          np.ravel(ytv),\n",
        "                          scoring={'exactitud':'accuracy', 'm_geo':mi_metrica},\n",
        "                          cv=cv1)\n",
        "\n",
        "  resultados1.append(scores['test_exactitud'])\n",
        "  resultados2.append(scores['test_m_geo'])\n",
        "\n",
        "  print(nombres[i])\n",
        "  print('Exactitud: >> %.3f (%.3f)' % (np.nanmean(scores['test_exactitud']), np.nanstd(scores['test_exactitud'])))\n",
        "  print('G-mean: >> %.3f (%.3f)' % (np.nanmean(scores['test_m_geo']), np.nanstd(scores['test_m_geo'])))\n",
        "  print()\n",
        "\n",
        "plt.boxplot(resultados1, tick_labels=nombres,  showmeans=True)\n",
        "plt.title(\"Exactitud - Accuracy\")\n",
        "plt.show()\n",
        "\n",
        "plt.boxplot(resultados2, tick_labels=nombres,  showmeans=True)\n",
        "plt.title(\"G-Mean\")\n",
        "plt.show()\n"
      ]
    },
    {
      "cell_type": "markdown",
      "metadata": {
        "id": "oniRBS-jHjrR"
      },
      "source": [
        "# **Ejercicio-4**"
      ]
    },
    {
      "cell_type": "markdown",
      "metadata": {
        "id": "3iY_XZjcHjoJ"
      },
      "source": [
        "### **a) Explica por qué la salida y gráficos anteriores nos ayudan a respaldar la decisión de usar la métrica G-mean, en lugar de la exactitud (accuracy) en este problema.**\n",
        "\n",
        "### **b) En particular, indica cuáles de los modelos que obtuviste están subentrenados con respecto a la métrica de la exactitud (accuracy), en caso de que haya.**\n",
        "\n",
        "### **c) Indica cuáles de los modelos que obtuviste están subentrenados con respecto a la métrica de la media geométrica, en caso de haya.**\n",
        "\n",
        "* a) En los resultados previos la exactitud se mantiene alta para casi todos los modelos porque la clase negativa domina el conjunto. Sin embargo, el diagrama de cajas de $G_{mean}$ exhibe fuertes diferencias: algunos modelos logran balancear la sensibilidad y la especificidad, mientras que otros fracasan en detectar la clase positiva. Esta divergencia evidencia que la exactitud oculta la incapacidad del modelo para reconocer derrames y respalda el uso de $G_{mean}$ como métrica prioritaria.\n",
        "\n",
        "* b) Se consideran subentrenados respecto a la exactitud aquellos modelos cuyo rendimiento cae claramente por debajo del resto y se acerca al clasificador dummy; en este caso, los modelos `LR` sin regularización y `kNN` presentan medianas de exactitud más bajas y alta dispersión, lo cual sugiere que no capturan aún los patrones en la clase mayoritaria.\n",
        "\n",
        "* c) Bajo $G_{mean}$ observamos que `LR` sin regularización y `kNN` quedan muy cerca de la línea base: sus medianas se aproximan al desempeño del dummy y muestran cajas con valores cercanos a cero, lo que indica subajuste al no equilibrar correctamente las tasas de aciertos en ambas clases."
      ]
    },
    {
      "cell_type": "markdown",
      "metadata": {
        "id": "b3Mnv-MgIrQ8"
      },
      "source": [
        "# **Ejercicio-5**"
      ]
    },
    {
      "cell_type": "markdown",
      "metadata": {
        "id": "irQWKhDvIwV1"
      },
      "source": [
        "* ### **Utilizando en adelante solamente la métrica G-mean y de manera análoga al código de la celda llamada \"Código-2\" anterior, define una nueva función llamada \"mis_modelos_balanceados()\" y utilízala para definir los mismos modelos anteriores, pero incluyendo el argumento class_weight='balanced'.**\n",
        "\n",
        "* ### **Los demás hiperparámetros solo debes variarlos si es necesario, es decir, solo deberás ajustarlos para evitar errores o avisos (warnings) no deseados.**\n",
        "\n",
        "* ### **Incluye también el modelo kNN, aunque no tenga el argumento para balanceo de las clases.**"
      ]
    },
    {
      "cell_type": "code",
      "execution_count": 11,
      "metadata": {
        "id": "cxEX3eYGvY1g"
      },
      "outputs": [
        {
          "name": "stdout",
          "output_type": "stream",
          "text": [
            "Resultados de Validación con G-mean (clases balanceadas):\n",
            "LR_bal: G-mean >> 0.672 (0.247)\n",
            "LASSO_bal: G-mean >> 0.751 (0.099)\n",
            "RIDGE_bal: G-mean >> 0.758 (0.099)\n",
            "EN_bal: G-mean >> 0.757 (0.099)\n",
            "kNN: G-mean >> 0.111 (0.188)\n"
          ]
        },
        {
          "data": {
            "text/html": [
              "<div>\n",
              "<style scoped>\n",
              "    .dataframe tbody tr th:only-of-type {\n",
              "        vertical-align: middle;\n",
              "    }\n",
              "\n",
              "    .dataframe tbody tr th {\n",
              "        vertical-align: top;\n",
              "    }\n",
              "\n",
              "    .dataframe thead th {\n",
              "        text-align: right;\n",
              "    }\n",
              "</style>\n",
              "<table border=\"1\" class=\"dataframe\">\n",
              "  <thead>\n",
              "    <tr style=\"text-align: right;\">\n",
              "      <th></th>\n",
              "      <th>modelo</th>\n",
              "      <th>g_mean_media</th>\n",
              "      <th>g_mean_std</th>\n",
              "    </tr>\n",
              "  </thead>\n",
              "  <tbody>\n",
              "    <tr>\n",
              "      <th>0</th>\n",
              "      <td>RIDGE_bal</td>\n",
              "      <td>0.758369</td>\n",
              "      <td>0.098659</td>\n",
              "    </tr>\n",
              "    <tr>\n",
              "      <th>1</th>\n",
              "      <td>EN_bal</td>\n",
              "      <td>0.757102</td>\n",
              "      <td>0.098670</td>\n",
              "    </tr>\n",
              "    <tr>\n",
              "      <th>2</th>\n",
              "      <td>LASSO_bal</td>\n",
              "      <td>0.751386</td>\n",
              "      <td>0.099125</td>\n",
              "    </tr>\n",
              "    <tr>\n",
              "      <th>3</th>\n",
              "      <td>LR_bal</td>\n",
              "      <td>0.671691</td>\n",
              "      <td>0.247397</td>\n",
              "    </tr>\n",
              "    <tr>\n",
              "      <th>4</th>\n",
              "      <td>kNN</td>\n",
              "      <td>0.111068</td>\n",
              "      <td>0.187516</td>\n",
              "    </tr>\n",
              "  </tbody>\n",
              "</table>\n",
              "</div>"
            ],
            "text/plain": [
              "      modelo  g_mean_media  g_mean_std\n",
              "0  RIDGE_bal      0.758369    0.098659\n",
              "1     EN_bal      0.757102    0.098670\n",
              "2  LASSO_bal      0.751386    0.099125\n",
              "3     LR_bal      0.671691    0.247397\n",
              "4        kNN      0.111068    0.187516"
            ]
          },
          "metadata": {},
          "output_type": "display_data"
        },
        {
          "data": {
            "image/png": "[encoded data removed]",
            "text/plain": [
              "<Figure size 800x550 with 1 Axes>"
            ]
          },
          "metadata": {},
          "output_type": "display_data"
        }
      ],
      "source": [
        "# ++++++++++ Inicia sección para agregar tu código ++++++++++++++++++++++++\n",
        "\n",
        "def mis_modelos_balanceados():\n",
        "  modelos, nombres = list(), list()\n",
        "\n",
        "  modelos.append(LogisticRegression(penalty=None,\n",
        "                                    solver='lbfgs',\n",
        "                                    class_weight='balanced',\n",
        "                                    max_iter=2000,\n",
        "                                    random_state=1))\n",
        "  nombres.append('LR_bal')\n",
        "\n",
        "  modelos.append(LogisticRegression(penalty='l1',\n",
        "                                    solver='saga',\n",
        "                                    class_weight='balanced',\n",
        "                                    max_iter=5000,\n",
        "                                    random_state=1))\n",
        "  nombres.append('LASSO_bal')\n",
        "\n",
        "  modelos.append(LogisticRegression(penalty='l2',\n",
        "                                    solver='lbfgs',\n",
        "                                    class_weight='balanced',\n",
        "                                    max_iter=2000,\n",
        "                                    random_state=1))\n",
        "  nombres.append('RIDGE_bal')\n",
        "\n",
        "  modelos.append(LogisticRegression(penalty='elasticnet',\n",
        "                                    solver='saga',\n",
        "                                    l1_ratio=0.5,\n",
        "                                    class_weight='balanced',\n",
        "                                    max_iter=5000,\n",
        "                                    random_state=1))\n",
        "  nombres.append('EN_bal')\n",
        "\n",
        "  modelos.append(KNeighborsClassifier(n_neighbors=5))\n",
        "  nombres.append('kNN')\n",
        "\n",
        "  return modelos, nombres\n",
        "\n",
        "modelos2, nombres2 = mis_modelos_balanceados()\n",
        "resultados_balanceados = list()\n",
        "resumen_balanceados = list()\n",
        "cv2 = RepeatedStratifiedKFold(n_splits=5, n_repeats=3, random_state=11)\n",
        "\n",
        "print('Resultados de Validación con G-mean (clases balanceadas):')\n",
        "for modelo, nombre in zip(modelos2, nombres2):\n",
        "  pipeline = Pipeline(steps=[('ct', columnasTransformer), ('m', modelo)])\n",
        "  puntajes = cross_val_score(pipeline,\n",
        "                              Xtv,\n",
        "                              np.ravel(ytv),\n",
        "                              scoring=mi_metrica,\n",
        "                              cv=cv2,\n",
        "                              n_jobs=-1)\n",
        "  resultados_balanceados.append(puntajes)\n",
        "  resumen_balanceados.append({'modelo': nombre,\n",
        "                                'g_mean_media': np.nanmean(puntajes),\n",
        "                                'g_mean_std': np.nanstd(puntajes)})\n",
        "  print(f\"{nombre}: G-mean >> {np.nanmean(puntajes):.3f} ({np.nanstd(puntajes):.3f})\")\n",
        "\n",
        "resumen_balanceados_df = pd.DataFrame(resumen_balanceados).sort_values('g_mean_media', ascending=False)\n",
        "display(resumen_balanceados_df.reset_index(drop=True))\n",
        "\n",
        "# ++++++++++ Termina sección para agregar tu código ++++++++++++++++++++++++\n",
        "\n",
        "plt.boxplot(resultados_balanceados, tick_labels=nombres2,  showmeans=True)   # gráficos de caja para una comparación visual de los resultados.\n",
        "plt.title(\"G-mean : Modelos Balanceados\")\n",
        "plt.show()"
      ]
    },
    {
      "cell_type": "markdown",
      "metadata": {
        "id": "iPlq5JpJLapH"
      },
      "source": [
        "# **Ejercicio-6**"
      ]
    },
    {
      "cell_type": "markdown",
      "metadata": {
        "id": "murO16hvMYiQ"
      },
      "source": [
        "**a) Selecciona el que consideres sea el mejor modelo encontrado, busca la mejor configuración de hiperparámetros y utilízalo para encontrar su matriz de confusión. Sigue utilizando los mismos conjuntos de entrenamiento y validación. Llamar \"yval_hat\" a las predicciones del conjunto de validación obtenidas con el mejor modelo.**\n",
        "\n",
        "  **b) Con el mejor modelo obtener el gráfico de la curva-ROC, donde se incluya el valor del área bajo la curva AUC del mejor modelo y también el AUC del modelo base (chance level).**\n",
        "\n",
        "  **c) Con el mejor modelo obtener el gráfico de la curva-PR, donde se incluya el valor del área bajo la curva AUC del mejor modelo y también el AUC del modelo base (chance level).**\n",
        "\n",
        "\n",
        "\n",
        "**NOTA: En general cuando comparas modelos con Validación-Cruzada sin un ajuste mayor de hiperparámetros, el mejor modelo podría estar entre los de mayor desempeño y no necesariamente el que resultó con mayor valor. Por ello, en general deberías mantener la búsqueda entre los mejores encontrados.**"
      ]
    },
    {
      "cell_type": "code",
      "execution_count": 12,
      "metadata": {
        "id": "kKtqYkkRMLA_"
      },
      "outputs": [
        {
          "name": "stdout",
          "output_type": "stream",
          "text": [
            "Mejores hiperparámetros: {'m__C': np.float64(0.046415888336127795)}\n",
            "Mejor G-mean CV: 0.7528\n",
            "G-mean del mejor modelo: 0.9409\n",
            "\n",
            "Matriz de Confusión:\n",
            " [[139  18]\n",
            " [  0   8]]\n"
          ]
        }
      ],
      "source": [
        "# 6a) Matriz de confusión\n",
        "\n",
        "# **+++++++++++ Inicia sección para agregar código ++++++++++++++++**\n",
        "# NOTA: puedes agregar todas las celdas que consideres adecuado.\n",
        "\n",
        "param_grid = {'m__C': np.logspace(-3, 2, 10)}\n",
        "modelo_base = Pipeline(steps=[('ct', columnasTransformer),\n",
        "                               ('m', LogisticRegression(solver='lbfgs',\n",
        "                                                       penalty='l2',\n",
        "                                                       class_weight='balanced',\n",
        "                                                       max_iter=5000,\n",
        "                                                       random_state=21))])\n",
        "\n",
        "buscador = GridSearchCV(estimator=modelo_base,\n",
        "                          param_grid=param_grid,\n",
        "                          scoring=mi_metrica,\n",
        "                          cv=RepeatedStratifiedKFold(n_splits=5, n_repeats=3, random_state=21),\n",
        "                          n_jobs=-1,\n",
        "                          refit=True)\n",
        "\n",
        "buscador.fit(Xtrain, np.ravel(ytrain))\n",
        "\n",
        "mejor_modelo = buscador.best_estimator_\n",
        "print('Mejores hiperparámetros:', buscador.best_params_)\n",
        "print('Mejor G-mean CV: %.4f' % buscador.best_score_)\n",
        "\n",
        "yval_hat = mejor_modelo.predict(Xval)\n",
        "\n",
        "# **+++++++++++ Termina sección para agregar código ++++++++++++++**\n",
        "\n",
        "\n",
        "print('G-mean del mejor modelo: %.4f' % geometric_mean_score(np.ravel(yval), yval_hat))\n",
        "print(\"\\nMatriz de Confusión:\\n\", confusion_matrix(np.ravel(yval), yval_hat))"
      ]
    },
    {
      "cell_type": "code",
      "execution_count": 13,
      "metadata": {
        "id": "MJnAFiuG6PxD"
      },
      "outputs": [
        {
          "data": {
            "image/png": "[encoded data removed]",
            "text/plain": [
              "<Figure size 700x500 with 1 Axes>"
            ]
          },
          "metadata": {},
          "output_type": "display_data"
        }
      ],
      "source": [
        "# 6b) Curva ROC:\n",
        "\n",
        "# **+++++++++++ Inicia sección para agregar código ++++++++++++++**\n",
        "\n",
        "yval_proba = mejor_modelo.predict_proba(Xval)[:, 1]\n",
        "fp, vp, _ = roc_curve(np.ravel(yval), yval_proba)\n",
        "roc_auc = auc(fp, vp)\n",
        "\n",
        "plt.figure(figsize=(7, 5))\n",
        "plt.plot(fp, vp, label=f'ROC mejor modelo (AUC = {roc_auc:.3f})')\n",
        "plt.plot([0, 1], [0, 1], linestyle='--', color='gray', label='Modelo base (AUC = 0.500)')\n",
        "plt.xlabel('False Positive Rate')\n",
        "plt.ylabel('True Positive Rate')\n",
        "plt.title('Curva ROC - Validación')\n",
        "plt.legend()\n",
        "plt.grid(True, linestyle=':', linewidth=0.7)\n",
        "plt.show()\n",
        "\n",
        "# **+++++++++++ Termina sección para agregar código ++++++++++++++**"
      ]
    },
    {
      "cell_type": "code",
      "execution_count": 18,
      "metadata": {},
      "outputs": [
        {
          "name": "stdout",
          "output_type": "stream",
          "text": [
            "Pipeline(steps=[('ct',\n",
            "                 ColumnTransformer(remainder='passthrough',\n",
            "                                   transformers=[('num',\n",
            "                                                  Pipeline(steps=[('impMediana',\n",
            "                                                                   SimpleImputer()),\n",
            "                                                                  ('yeo-johnson',\n",
            "                                                                   PowerTransformer()),\n",
            "                                                                  ('std_transformer',\n",
            "                                                                   StandardScaler())]),\n",
            "                                                  Index(['f_2', 'f_3', 'f_4', 'f_5', 'f_6', 'f_7', 'f_8', 'f_9', 'f_10', 'f_11',\n",
            "       'f_12', 'f_13', 'f_14', 'f_15', 'f_16', 'f_17', 'f_18', 'f_19', 'f_20',\n",
            "       'f_21', 'f_22', 'f_24', 'f_25', 'f_26', 'f_27', 'f_28', 'f_29', 'f_30',\n",
            "       'f_31', 'f_32', 'f_33', 'f_34', 'f_35', 'f_36', 'f_37', 'f_38', 'f_39',\n",
            "       'f_40', 'f_41', 'f_42', 'f_43', 'f_44', 'f_45', 'f_46', 'f_47', 'f_48',\n",
            "       'f_49'],\n",
            "      dtype='object'))])),\n",
            "                ('m',\n",
            "                 LogisticRegression(C=np.float64(0.046415888336127795),\n",
            "                                    class_weight='balanced', max_iter=5000,\n",
            "                                    random_state=21))])\n"
          ]
        }
      ],
      "source": [
        "print(mejor_modelo)"
      ]
    },
    {
      "cell_type": "code",
      "execution_count": 14,
      "metadata": {
        "id": "5h0pUMrF6Ybu"
      },
      "outputs": [
        {
          "data": {
            "image/png": "[encoded data removed]",
            "text/plain": [
              "<Figure size 700x500 with 1 Axes>"
            ]
          },
          "metadata": {},
          "output_type": "display_data"
        }
      ],
      "source": [
        "# 6c) Curva PR:\n",
        "\n",
        "# **+++++++++++ Inicia sección para agregar código ++++++++++++++**\n",
        "\n",
        "precision, recall, _ = precision_recall_curve(np.ravel(yval), yval_proba)\n",
        "pr_auc = auc(recall, precision)\n",
        "baseline_pr = np.mean(yval)\n",
        "\n",
        "plt.figure(figsize=(7, 5))\n",
        "plt.plot(recall, precision, label=f'Mejor modelo (AUC = {pr_auc:.3f})')\n",
        "plt.hlines(baseline_pr, 0, 1, colors='gray', linestyles='--', label=f'Modelo base (AUC = {baseline_pr:.3f})')\n",
        "plt.xlabel('Recall')\n",
        "plt.ylabel('Precision')\n",
        "plt.title('Curva Precision-Recall - Validación')\n",
        "plt.xlim([0.0, 1.0])\n",
        "plt.ylim([0.0, 1.05])\n",
        "plt.legend()\n",
        "plt.grid(True, linestyle=':', linewidth=0.7)\n",
        "plt.show()\n",
        "\n",
        "# **+++++++++++ Termina sección para agregar código ++++++++++++++**"
      ]
    },
    {
      "cell_type": "markdown",
      "metadata": {
        "id": "gM7YCsaSN04w"
      },
      "source": [
        "# **Ejercicio-7**"
      ]
    },
    {
      "cell_type": "markdown",
      "metadata": {
        "id": "7XAyYmBXN4TS"
      },
      "source": [
        "### **Utiliza el conjunto de prueba (test) para evaluar el mejor modelo obtenido previamente y obtener:**\n",
        "\n",
        "**a) El valor de la media geométrica G_mean.**\n",
        "\n",
        "**b) La matriz de confusión.**\n",
        "\n",
        "**c) El reporte de métricas classification_report_imbalanced:**\n",
        "\n"
      ]
    },
    {
      "cell_type": "code",
      "execution_count": 15,
      "metadata": {
        "id": "XGBLeDqXMK6v"
      },
      "outputs": [
        {
          "name": "stdout",
          "output_type": "stream",
          "text": [
            "G-mean del mejor modelo con el conjunto de prueba (test):\n",
            "0.9670\n"
          ]
        }
      ],
      "source": [
        "# 7a)\n",
        "\n",
        "print('G-mean del mejor modelo con el conjunto de prueba (test):')\n",
        "\n",
        "# **+++++++++++ Inicia sección para agregar código ++++++++++++++++**\n",
        "# NOTA: puedes agregar todas las celdas que consideres adecuado.\n",
        "\n",
        "mejor_modelo_final = buscador.best_estimator_\n",
        "mejor_modelo_final.fit(Xtv, np.ravel(ytv))\n",
        "ytest_hat = mejor_modelo_final.predict(Xtest)\n",
        "ytest_proba = mejor_modelo_final.predict_proba(Xtest)[:, 1]\n",
        "print('%.4f' % geometric_mean_score(np.ravel(ytest), ytest_hat))\n",
        "\n",
        "# **+++++++++++ Termina sección para agregar código ++++++++++++++**"
      ]
    },
    {
      "cell_type": "code",
      "execution_count": 16,
      "metadata": {
        "id": "2cnab5Jk-XAu"
      },
      "outputs": [
        {
          "name": "stdout",
          "output_type": "stream",
          "text": [
            "Matriz de confusión del mejor modelo con el conjunto de prueba (test):\n",
            "[[101   7]\n",
            " [  0   5]]\n"
          ]
        }
      ],
      "source": [
        "# 7b)\n",
        "\n",
        "print('Matriz de confusión del mejor modelo con el conjunto de prueba (test):')\n",
        "\n",
        "# **+++++++++++ Inicia sección para agregar código ++++++++++++++++**\n",
        "# NOTA: puedes agregar todas las celdas que consideres adecuado.\n",
        "\n",
        "print(confusion_matrix(np.ravel(ytest), ytest_hat))\n",
        "\n",
        "# **+++++++++++ Termina sección para agregar código ++++++++++++++**\n"
      ]
    },
    {
      "cell_type": "code",
      "execution_count": 17,
      "metadata": {
        "id": "Ef8AIltn4Vz7"
      },
      "outputs": [
        {
          "name": "stdout",
          "output_type": "stream",
          "text": [
            "Reporte de métricas con el conjunto de prueba (test):\n",
            "\n",
            "                   pre       rec       spe        f1       geo       iba       sup\n",
            "\n",
            "          0       1.00      0.94      1.00      0.97      0.97      0.93       108\n",
            "          1       0.42      1.00      0.94      0.59      0.97      0.94         5\n",
            "\n",
            "avg / total       0.97      0.94      1.00      0.95      0.97      0.93       113\n",
            "\n"
          ]
        }
      ],
      "source": [
        "# 7c)\n",
        "\n",
        "print(\"Reporte de métricas con el conjunto de prueba (test):\\n\")\n",
        "\n",
        "# **+++++++++++ Inicia sección para agregar código ++++++++++++++++**\n",
        "# NOTA: puedes agregar todas las celdas que consideres adecuado.\n",
        "\n",
        "print(classification_report_imbalanced(np.ravel(ytest), ytest_hat))\n",
        "\n",
        "# **+++++++++++ Termina sección para agregar código ++++++++++++++**\n"
      ]
    },
    {
      "cell_type": "markdown",
      "metadata": {
        "id": "8dDsNoQHOXDY"
      },
      "source": [
        "# **Ejercicio-8**"
      ]
    },
    {
      "cell_type": "markdown",
      "metadata": {
        "id": "nPxU2S7LOWxI"
      },
      "source": [
        "### **Incluye tus conclusiones finales de los resultados obtenidos y de la actividad en general.**\n",
        "\n",
        "* La métrica $G_{mean}$ permitió identificar claramente qué modelos conservan la sensibilidad frente a derrames sin sacrificar la especificidad; la exactitud no ofrecía esta discriminación porque el desbalance es considerable.\n",
        "* Entre los modelos evaluados, la regresión logística con regularización $L2$ y `class_weight='balanced'` resultó el mejor compromiso; tras el ajuste del hiperparámetro $C$ se obtuvo una mejora notable en la validación y en el conjunto de prueba.\n",
        "* Las curvas ROC y PR mostraron que el modelo supera con amplitud a la línea base en toda la gama de umbrales, con una ventaja particular en la región de alta precisión requerida para detectar derrames.\n",
        "* El desempeño sobre el conjunto de prueba confirma la capacidad de generalización del modelo balanceado, y el `classification_report_imbalanced` evidenció tasas equilibradas de sensibilidad y especificidad, lo que respalda el flujo de preprocesamiento y selección de modelos empleado."
      ]
    },
    {
      "cell_type": "markdown",
      "metadata": {
        "id": "Z-A1PvcZOuRt"
      },
      "source": [
        "# **<<< Fin de la Actividad de la Semana - Oil Spill - Clases no balanceadas >>>**"
      ]
    }
  ],
  "metadata": {
    "colab": {
      "collapsed_sections": [
        "Xa9RsjSuiI8l",
        "yWKpetDxpHHW",
        "W3uP4iIkd4nz",
        "iq142ztPDj9F",
        "oniRBS-jHjrR",
        "b3Mnv-MgIrQ8",
        "iPlq5JpJLapH",
        "gM7YCsaSN04w",
        "8dDsNoQHOXDY"
      ],
      "provenance": []
    },
    "kernelspec": {
      "display_name": ".venv (3.11.9)",
      "language": "python",
      "name": "python3"
    },
    "language_info": {
      "codemirror_mode": {
        "name": "ipython",
        "version": 3
      },
      "file_extension": ".py",
      "mimetype": "text/x-python",
      "name": "python",
      "nbconvert_exporter": "python",
      "pygments_lexer": "ipython3",
      "version": "3.11.9"
    }
  },
  "nbformat": 4,
  "nbformat_minor": 0
}
