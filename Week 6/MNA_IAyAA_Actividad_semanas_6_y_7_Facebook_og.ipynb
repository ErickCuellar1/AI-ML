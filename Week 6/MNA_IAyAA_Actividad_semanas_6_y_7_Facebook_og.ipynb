{
  "cells": [
    {
      "cell_type": "markdown",
      "metadata": {
        "id": "cCgXoRxlVFi0"
      },
      "source": [
        "# **Maestría en Inteligencia Artificial Aplicada**\n",
        "\n",
        "## **Curso: Inteligencia Artificial y Aprendizaje Automático**\n",
        "\n",
        "#### Tecnológico de Monterrey\n",
        "\n",
        "#### Prof Luis Eduardo Falcón Morales\n",
        "\n",
        "### Adtividad de Semanas 6 y 7\n",
        "\n",
        "### **Campañas publicitarias en redes sociales - Modelos de Regresión**\n"
      ]
    },
    {
      "cell_type": "markdown",
      "metadata": {
        "id": "P2p9VQXDtFnZ"
      },
      "source": [
        "\n",
        "### **Nombre y Matrícula de integrantes del Equipo:**\n",
        "\n",
        "\n",
        "*   Elemento de lista\n",
        "*   Elemento de lista\n",
        "*   Elemento de lista\n"
      ]
    },
    {
      "cell_type": "markdown",
      "metadata": {
        "id": "RVbrtPAVqvM6"
      },
      "source": [
        "# **Introducción**"
      ]
    },
    {
      "cell_type": "markdown",
      "metadata": {
        "id": "EZ_5sfaamvHY"
      },
      "source": [
        "### **Trabajaremos con el archivo \"dataset_Facebook.csv\" que encuentras en la siguiente liga:**\n",
        "\n",
        "https://archive.ics.uci.edu/dataset/368/facebook+metrics\n",
        "\n",
        "### **Estos datos están asociados al siguiente artículo que apareció en la revista *Journal of Business Research*, Moro et.al., de la editorial ELSEVIER. Descarga el archivo en formato PDF, el cual te ayudará a responder algunas de las preguntas de esta actividad (el artículo tiene acceso sin costo):**\n",
        "\n",
        "https://www.semanticscholar.org/paper/Predicting-social-media-performance-metrics-and-of-Moro-Rita/dec55692590820754b53c916e29bb2b42c0e5104\n"
      ]
    },
    {
      "cell_type": "markdown",
      "metadata": {
        "id": "po6zVaMLwzlT"
      },
      "source": [
        "### **En el resto de la actividad pueden agregar más celdas y líneas de código cuando así lo consideren adecuado.**"
      ]
    },
    {
      "cell_type": "code",
      "execution_count": 21,
      "metadata": {
        "id": "9MZs9gKJ1fWZ"
      },
      "outputs": [],
      "source": [
        "# Incluir las librerías que consideren necesarias ...\n",
        "\n",
        "\n",
        "import numpy as np\n",
        "import pandas as pd\n",
        "import matplotlib.pyplot as plt\n",
        "np.random.seed(0)\n",
        "\n",
        "from sklearn.model_selection import train_test_split\n",
        "from sklearn.ensemble import RandomForestRegressor\n",
        "\n",
        "\n",
        "\n",
        "None\n"
      ]
    },
    {
      "cell_type": "code",
      "execution_count": null,
      "metadata": {
        "id": "G8fYoeHruPu5"
      },
      "outputs": [],
      "source": [
        "# Cargamos los datos del archivo:\n",
        "\n",
        "data = pd.read_csv('dataset_Facebook.csv', sep=';', header='infer')\n",
        "print('Total de registros y variables:',data.shape)\n",
        "data.head(3).T"
      ]
    },
    {
      "cell_type": "markdown",
      "metadata": {
        "id": "wLK5tyC0afDk"
      },
      "source": [
        "# **Ejercicio 1**\n"
      ]
    },
    {
      "cell_type": "markdown",
      "metadata": {
        "id": "8pcpweI8aie8"
      },
      "source": [
        "### **Contesta las siguientes preguntas basándote en la información del artículo de Moro et.al.**\n",
        "\n"
      ]
    },
    {
      "cell_type": "markdown",
      "metadata": {
        "id": "Q4u9W5-PCQ-3"
      },
      "source": [
        "## **Ejercicio 1-a:**\n",
        "\n",
        "*   **¿Cuál es el problema y el objetivo a resolver que se describe en el artículo?**  "
      ]
    },
    {
      "cell_type": "markdown",
      "metadata": {
        "id": "WIqvDWS4tFF2"
      },
      "source": [
        "### ++++++++ Inicia la sección de agregar texto: +++++++++++\n",
        "\n",
        "None\n",
        "\n",
        "\n",
        "### ++++++++ Termina la sección de agregar texto. +++++++++++"
      ]
    },
    {
      "cell_type": "markdown",
      "metadata": {
        "id": "DbSEBatds8Vu"
      },
      "source": [
        "## **Ejercicio 1-b:**\n",
        "\n",
        "*   **Describe a continuación el significado de las 19 variables de acuerdo a la información de las Tablas 1, 2 y 3 del artículo.**"
      ]
    },
    {
      "cell_type": "markdown",
      "metadata": {
        "id": "tHWhAUezdc-E"
      },
      "source": [
        "### ++++++++ Inicia la sección de agregar texto: +++++++++++\n",
        "\n",
        "\n",
        "\n",
        "\n",
        "1.   **Page total likes:**\n",
        "2.   **Type:**\n",
        "3.   **Category:**\n",
        "\n",
        "\n",
        "etc ...\n",
        "\n",
        "\n",
        "### ++++++++ Termina la sección de agregar texto. +++++++++++"
      ]
    },
    {
      "cell_type": "markdown",
      "metadata": {
        "id": "qmprVkJ_u56j"
      },
      "source": [
        "# **Ejercicio 2**"
      ]
    },
    {
      "cell_type": "markdown",
      "metadata": {
        "id": "flldXIo3uX6A"
      },
      "source": [
        "### **Variables relacionadas con el tiempo**\n",
        "\n",
        "### **Recordemos que algunas variables relacionadas con información del tiempo (como estación, mes, día, hora) pueden considerarse como variables categóricas o numéricas cíclicas, dependiendo del contexto y decisión del analista. En particular, para el caso de este problema las variables mes, día de la semana y hora en que se puso el post, podrían considerarse como variables categóricas ordinales o nominales. Sin embargo, para fines de este Actividad las van a transformar a numéricas cíclicas, como se les indica a continuación.**\n",
        "\n",
        "### **En la Tabla 3 del artículo de ELSEVIER nos comentan que la variable *Post_hour* está etiquetada de 0 a 23, por lo que las 24 horas sería equivalente a las 0 horas. Es decir, se tiene un comportamiento cíclico de 24 horas, que en términos matemáticos se dice que es una variable cíclica módulo 24. De manera análoga se aplica este razonamiento a las variables mes y día de la semana para poder ser consideradas como cíclicas.**\n",
        "\n",
        "### **En la misma Tabla 3 del artículo se menciona que las variables *Post_month* y *Post_hour* están registradas con los nombres de los meses y de cada día de la semana. Sin embargo, en el archivo en realidad se observa que están capturadas como numéricas del 1 al 12 y del 1 al 7, respectivamente.**\n"
      ]
    },
    {
      "cell_type": "markdown",
      "metadata": {
        "id": "ADYWrJM43l37"
      },
      "source": [
        "## **Ejercicio 2-a:**\n",
        "\n",
        "* **Investiga y escribe a continuación las fórmulas de cómo se transforma una variable temporal cíclica T, de periodicidad M, en dos nuevas variables usando funciones trigonométricas.**  "
      ]
    },
    {
      "cell_type": "markdown",
      "metadata": {
        "id": "sU6k4tJN7A56"
      },
      "source": [
        "### ++++++++ Inicia la sección de agregar texto: +++++++++++\n",
        "\n",
        "None\n",
        "\n",
        "\n",
        "### ++++++++ Termina la sección de agregar texto. +++++++++++"
      ]
    },
    {
      "cell_type": "markdown",
      "metadata": {
        "id": "K6WxLcAU7HX4"
      },
      "source": [
        "## **Ejercicio 2-b:**\n",
        "\n",
        "* **Explica por qué deben utilizarse dos funciones trigonométricas en la transformación de variables cíclicas, en lugar de solo una. Incluye un ejemplo numérico cualquiera que ayude a clarificar tu respuesta.**"
      ]
    },
    {
      "cell_type": "markdown",
      "metadata": {
        "id": "f7AE2xkl9ExI"
      },
      "source": [
        "### ++++++++ Inicia la sección de agregar texto: +++++++++++\n",
        "\n",
        "None\n",
        "\n",
        "\n",
        "### ++++++++ Termina la sección de agregar texto. +++++++++++"
      ]
    },
    {
      "cell_type": "markdown",
      "metadata": {
        "id": "5vEfU3Li_HYc"
      },
      "source": [
        "## **Ejercicio 2-c:**\n",
        "\n",
        "* **Una vez transformada una variable temporal con las dos funciones trigonométricas, cuál sería la recomendación para esta variable original, ¿seguirla manteniendo en el DataFrame o eliminarla? Justifica tu respuesta.**"
      ]
    },
    {
      "cell_type": "markdown",
      "metadata": {
        "id": "Aikw_1Ai__e0"
      },
      "source": [
        "### ++++++++ Inicia la sección de agregar texto: +++++++++++\n",
        "\n",
        "None\n",
        "\n",
        "\n",
        "### ++++++++ Termina la sección de agregar texto. +++++++++++"
      ]
    },
    {
      "cell_type": "markdown",
      "metadata": {
        "id": "WU-xkFWN8Hxg"
      },
      "source": [
        "## **Ejercicio 2-d:**\n",
        "\n",
        "* **Enumera al menos tres ventajas y tres desventajas de usar una representación de las variables temporales en términos de dos funciones trigonométricas.**"
      ]
    },
    {
      "cell_type": "markdown",
      "metadata": {
        "id": "WBTmmzty9F-O"
      },
      "source": [
        "### ++++++++ Inicia la sección de agregar texto: +++++++++++\n",
        "\n",
        "None\n",
        "\n",
        "\n",
        "### ++++++++ Termina la sección de agregar texto. +++++++++++"
      ]
    },
    {
      "cell_type": "markdown",
      "metadata": {
        "id": "kG5C2oj_9BVX"
      },
      "source": [
        "## **Ejercicio 2-e:**\n",
        "\n",
        "* **¿Qué riesgos éticos podrían estar surgiendo en un problema si no se representa correctamente una variable temporal? Responde con base al contexto de este problema e incluye otro ejemplo donde también pudiera existir un problema ético al no transformar adecuadamente una variable cíclica.**"
      ]
    },
    {
      "cell_type": "markdown",
      "metadata": {
        "id": "5Ve4ywjOQMG2"
      },
      "source": [
        "### ++++++++ Inicia la sección de agregar texto: +++++++++++\n",
        "\n",
        "None\n",
        "\n",
        "\n",
        "### ++++++++ Termina la sección de agregar texto. +++++++++++"
      ]
    },
    {
      "cell_type": "markdown",
      "metadata": {
        "id": "SsbbFyBbAHuY"
      },
      "source": [
        "# **Ejercicio 3**"
      ]
    },
    {
      "cell_type": "code",
      "execution_count": 3,
      "metadata": {
        "id": "z7ciei9BAbZD"
      },
      "outputs": [],
      "source": [
        "# Ejercicio 3a.\n",
        "\n",
        "# Transforma la variable \"Post Hour\" incluyendo las variables\n",
        "# hour_sin, hour_cos y eliminando la original.\n",
        "\n",
        "\n",
        "# ++++++++++++++ Incluye aquí tu código ++++++++++++++++++++++++++++++\n",
        "\n",
        "hour_sin = None\n",
        "hour_cos = None\n",
        "\n",
        "\n",
        "# +++++++++++++ Tesrmina sección de agregar código +++++++++++++++++++++\n"
      ]
    },
    {
      "cell_type": "code",
      "execution_count": 4,
      "metadata": {
        "id": "c1KwUBTWBd5T"
      },
      "outputs": [],
      "source": [
        "# Ejercicio 3b.\n",
        "\n",
        "# Transforma la variable \"Post Weekday\" incluyendo las variables\n",
        "# day_sin, day_cos y eliminando la original.\n",
        "\n",
        "\n",
        "# ++++++++++++++ Incluye aquí tu código ++++++++++++++++++++++++++++++\n",
        "\n",
        "day_sin = None\n",
        "day_cos = None\n",
        "\n",
        "\n",
        "# +++++++++++++ Tesrmina sección de agregar código +++++++++++++++++++++"
      ]
    },
    {
      "cell_type": "code",
      "execution_count": 5,
      "metadata": {
        "id": "Pfcmr9M9A3PT"
      },
      "outputs": [],
      "source": [
        "# Ejercicio 3c.\n",
        "\n",
        "# Transforma la variable \"Post Month\" incluyendo las variables\n",
        "# month_sin, month_cos y eliminando la original.\n",
        "\n",
        "\n",
        "# ++++++++++++++ Incluye aquí tu código ++++++++++++++++++++++++++++++\n",
        "\n",
        "month_sin = None\n",
        "month_cos = None\n",
        "\n",
        "\n",
        "\n",
        "# +++++++++++++ Tesrmina sección de agregar código +++++++++++++++++++++"
      ]
    },
    {
      "cell_type": "code",
      "execution_count": null,
      "metadata": {
        "id": "xagfZfU-_PAz"
      },
      "outputs": [],
      "source": [
        "# Veamos lo que tenemos hasta el momento:\n",
        "print(\"Dimensión del conjunto de datos:\",data.shape)\n",
        "data.head(3).T"
      ]
    },
    {
      "cell_type": "code",
      "execution_count": null,
      "metadata": {
        "id": "fdsuaJ87Swry"
      },
      "outputs": [],
      "source": [
        "# De las Tablas 2 y 3 del artículo de Moro et.al. seleccionamos las variables que\n",
        "# trabajaremos en esta Actividad y con las transformaciones que se acaban de hacer.\n",
        "\n",
        "# Para esta Actividad se trabajará con la variable de salida \"Lifetime Post Consumers\",\n",
        "# que es una de las variables de salida con las que los autores del artículo\n",
        "# reportaron que obtuvieron uno de los mejores resultados.\n",
        "\n",
        "X = data[['Page total likes', 'Type', 'Category', 'Paid',\n",
        "          'mes_sin', 'mes_cos', 'dia_sin', 'dia_cos', 'hora_sin', 'hora_cos']]\n",
        "y = data[['Lifetime Post Consumers']]\n",
        "\n",
        "# Particionemos como se indica a continuación en Train, Val y Test:\n",
        "Xtrain, Xtv, ytrain, ytv = train_test_split(X, y, train_size=0.75, shuffle=True, random_state=5)\n",
        "Xval, Xtest, yval, ytest = train_test_split(Xtv, ytv, train_size=0.5, shuffle=True, random_state=5)\n",
        "\n",
        "print('Train:', Xtrain.shape, ytrain.shape)\n",
        "print('Train:', Xval.shape, yval.shape)\n",
        "print('Test:', Xtest.shape, ytest.shape)"
      ]
    },
    {
      "cell_type": "markdown",
      "metadata": {
        "id": "LBvNNpuBcbtG"
      },
      "source": [
        "# **Ejercicio 4**"
      ]
    },
    {
      "cell_type": "markdown",
      "metadata": {
        "id": "Go6cyJxIkO6F"
      },
      "source": [
        "* **Realiza un análisis de la variable de salida y aplicarle la transformación que consideres más adecuada a los conjuntos Train, Val y Test. A las nuevas variables llamarlas ytrain2, yval2 y ytest2.**"
      ]
    },
    {
      "cell_type": "code",
      "execution_count": 8,
      "metadata": {
        "id": "CG6BwFFJmXMj"
      },
      "outputs": [],
      "source": [
        "# Ejercicio 4.\n",
        "\n",
        "# ++++++++++++++ Inicia sección de agregar código +++++++++++++++++++\n",
        "\n",
        "None\n",
        "\n",
        "ytrain2=None\n",
        "yval2=None\n",
        "ytest2=None\n",
        "\n",
        "\n",
        "# ++++++++++++++ Termina sección de agregar código ++++++++++++++++++\n"
      ]
    },
    {
      "cell_type": "markdown",
      "metadata": {
        "id": "Tf2lnLYMqkeI"
      },
      "source": [
        "# **Ejercicio 5**"
      ]
    },
    {
      "cell_type": "markdown",
      "metadata": {
        "id": "VrK6xcSUyriz"
      },
      "source": [
        "* **En la Figura 5 del artículo de Moro et.al. se indica que no se cuenta con un valor de partida para el modelo base (Baseline) de acuerdo a la experiencia que se tiene del problema y en particular con respecto a la métrica MAPE.**\n",
        "\n",
        "* **Sin embargo, para fines de esta actividad y ya que utilizaremos las curvas de aprendizaje, nos basaremos en el error cuadrático medio MSE, para supervisar que nuestros modelos no queden sub-entrenados o sobre-entrenados durante el entrenamiento.**\n"
      ]
    },
    {
      "cell_type": "code",
      "execution_count": null,
      "metadata": {
        "id": "882xKf_EyeI9"
      },
      "outputs": [],
      "source": [
        "# Ejercicio 5\n",
        "\n",
        "# Obtener el umbral del problema a resolver con base a la métrica MSE\n",
        "# y a la variable de salida con la transformación aplicada.\n",
        "# Llamar \"mse_baseline\" al valor de dicho umbral.\n",
        "\n",
        "\n",
        "# ++++++++++++++ Inicia sección de agregar código +++++++++++++++++++\n",
        "\n",
        "None\n",
        "\n",
        "mse_baseline = None\n",
        "\n",
        "\n",
        "# ++++++++++++++ Termina sección de agregar código +++++++++++++++++++\n",
        "\n",
        "\n",
        "# Imprimimos el valor de la métrica MSE del modelo base:\n",
        "\n",
        "print(f\"MSE Baseline (promedio) con Y transformada: {mse_baseline:.2f}\")\n"
      ]
    },
    {
      "cell_type": "markdown",
      "metadata": {
        "id": "A9KNcPJ0m2Qi"
      },
      "source": [
        "# **Ejercicio 6**"
      ]
    },
    {
      "cell_type": "markdown",
      "metadata": {
        "id": "Cq1oG55Kf2XS"
      },
      "source": [
        "* **Realiza un análisis de las variables de entrada y determina qué transformaciones sería adecuado aplicar a cada una. En particular, para las variables categóricas verifica si cada nivel cumple el criterio de tener al menos un 5% de información.**\n",
        "\n",
        "NOTA: Se aplicará posteriormente un Pipeline para conjuntar las transformaciones de las variables de entrada, por lo que por el momento no es necesario transformar los datos de los conjuntos Val y Test."
      ]
    },
    {
      "cell_type": "code",
      "execution_count": null,
      "metadata": {
        "id": "Fl-DcNcfLP_z"
      },
      "outputs": [],
      "source": [
        "# Ejercicio 6\n",
        "\n",
        "# Análisis de variables\n",
        "\n",
        "# ++++++++++++++ Inicia sección de agregar código +++++++++++++++++++\n",
        "\n",
        "None\n",
        "\n",
        "\n",
        "# ++++++++++++++ Termina sección de agregar código +++++++++++++++++++\n"
      ]
    },
    {
      "cell_type": "markdown",
      "metadata": {
        "id": "gQfSXtm5D9g3"
      },
      "source": [
        "# **Ejercicio 7**"
      ]
    },
    {
      "cell_type": "markdown",
      "metadata": {
        "id": "EOytV50MCpu7"
      },
      "source": [
        "* **Define a continuación las transformaciones de las variables de entrada que determinaste son las más adecuadas y usando la clase Pipeline para evitar el filtrado de información.**"
      ]
    },
    {
      "cell_type": "code",
      "execution_count": null,
      "metadata": {
        "id": "XGjwO1zq1JBS"
      },
      "outputs": [],
      "source": [
        "# Ejercicio 7\n",
        "\n",
        "# Incluye a continuación las transformaciones a las variables numéricas\n",
        "# y categóricas usando la clase Pipeline y conjuntando todas en la\n",
        "# variable que llamaremos \"columnasTransformer\".\n",
        "\n",
        "# ++++++++++++++ Inicia sección de agregar código +++++++++++++++++++\n",
        "\n",
        "None\n",
        "\n",
        "\n",
        "\n",
        "columnasTransformer = None\n",
        "\n",
        "# ++++++++++++++ Termina sección de agregar código +++++++++++++++++++\n",
        "\n",
        "\n",
        "# Visualicemos las transformaciones incluídas:\n",
        "columnasTransformer\n"
      ]
    },
    {
      "cell_type": "code",
      "execution_count": null,
      "metadata": {
        "id": "sKbcQOHY3msP"
      },
      "outputs": [],
      "source": [
        "# A manera de información veamos la dimensión de las variables transformadas:\n",
        "\n",
        "tmp = columnasTransformer.fit_transform(Xtrain)\n",
        "print('Dimensión de las variables de entrada original:', tmp.shape)\n",
        "print('Dimensión de las variables de entrada transformadas:', tmp.shape)"
      ]
    },
    {
      "cell_type": "code",
      "execution_count": 17,
      "metadata": {
        "id": "cvBkXTtpxr95"
      },
      "outputs": [],
      "source": [
        "# Como vamos a utilizar Validación Cruzada conjuntemos los conjuntos\n",
        "# Train y Val en las nuevas variables llamadas Xtrainval y  ytrainval:\n",
        "\n",
        "Xtrainval = pd.concat([Xtrain, Xval])\n",
        "ytrainval2 = pd.concat([ytrain2, yval2])\n"
      ]
    },
    {
      "cell_type": "markdown",
      "metadata": {
        "id": "Jo549pemulkL"
      },
      "source": [
        "# **Ejercicio 8**"
      ]
    },
    {
      "cell_type": "code",
      "execution_count": null,
      "metadata": {
        "id": "Bh43b2AniTnv"
      },
      "outputs": [],
      "source": [
        "# Ejercicio 8\n",
        "\n",
        "# Busca los mejores valores de hiperparámetros del modelo Bosque Aleatorio.\n",
        "# Utiliza el mismo valor de la semilla que se indica.\n",
        "\n",
        "# ++++++++++++++ Incluye aquí tu código ++++++++++++++++++++++++++++++\n",
        "\n",
        "\n",
        "elmodelo_RF = RandomForestRegressor(random_state=1,\n",
        "\n",
        "                                    # None - Incluye aquí los ajustes deseados\n",
        "\n",
        "                                    )\n",
        "\n",
        "\n",
        "\n",
        "# +++++++++++++ Tesrmina sección de agregar código +++++++++++++++++++++\n",
        "\n",
        "\n",
        "\n",
        "mipipe = Pipeline(steps=[('ct',columnasTransformer),('m', modelo_RF)])\n",
        "\n",
        "train_sizes, train_scores, val_scores = learning_curve(estimator=mipipe,\n",
        "                                                        X=Xtrainval,\n",
        "                                                        y=np.ravel(ytrainval2),\n",
        "                                                        cv=5,\n",
        "                                                        train_sizes= np.linspace(0.1, 1.0, 10),\n",
        "                                                        scoring= 'neg_mean_squared_error',  # error MSE\n",
        "                                                        n_jobs=-1)\n",
        "\n",
        "\n",
        "\n",
        "# La siguiente información es para desplegar las curvas de aprendizaje.\n",
        "# Calculamos los promedios y desviación estándar de entrenamiento para MSE.\n",
        "# El negativo es porque sklearn nos devuelve en realidad el negativo de MSE.\n",
        "\n",
        "mse_train_scores = -train_scores\n",
        "mse_val_scores = -val_scores\n",
        "\n",
        "train_mean = np.mean(mse_train_scores, axis=1)\n",
        "train_mse = np.std(mse_train_scores, axis=1, ddof=1)\n",
        "val_mean = np.mean(mse_val_scores, axis=1)\n",
        "val_mse = np.std(mse_val_scores, axis=1, ddof=1)\n",
        "\n",
        "\n",
        "plt.plot(train_sizes, train_mean, color='blue', marker='o', markersize=5, label='Training MSE')\n",
        "plt.fill_between(train_sizes, train_mean + train_mse, train_mean - train_mse, alpha=0.15, color='blue')\n",
        "\n",
        "plt.plot(train_sizes, val_mean, color='green', marker='+', markersize=5, linestyle='--', label='Validation MSE')\n",
        "plt.fill_between(train_sizes, val_mean + val_mse, val_mean - val_mse, alpha=0.15, color='green')\n",
        "\n",
        "plt.title('Curvas de Aprendizaje - Modelo Bosque Aleatorio')\n",
        "plt.xlabel('Tamaño de la muestra de entrenamiento')\n",
        "plt.ylabel('Error MSE')\n",
        "plt.grid()\n",
        "plt.legend(loc='lower right')\n",
        "plt.show()\n"
      ]
    },
    {
      "cell_type": "markdown",
      "metadata": {
        "id": "HKwEq8z-zS7G"
      },
      "source": [
        "# **Ejercicio 9**"
      ]
    },
    {
      "cell_type": "markdown",
      "metadata": {
        "id": "hLd2iTBMzZ93"
      },
      "source": [
        "### **Repite el mismo proceso hecho en el ejercicio del Bosque Aleatorio para encontrar la mejor versión de cada uno de los siguientes modelos:**\n",
        "\n",
        "*   **9a) Extreme Gradient Boost XGBoost**\n",
        "*   **9b) Máquina de Vector Soporte SVM**\n",
        "*   **9c) Red Neuronal Perceptrón Multicapa MLP**"
      ]
    },
    {
      "cell_type": "code",
      "execution_count": null,
      "metadata": {
        "id": "uIuE5qYYvhkJ"
      },
      "outputs": [],
      "source": [
        "# Ejercicio 9a - XGBoost\n",
        "\n",
        "# ++++++++++ Incluye las líneas y celdas de código deseadas ++++++++++++\n",
        "\n",
        "None\n",
        "\n",
        "\n"
      ]
    },
    {
      "cell_type": "code",
      "execution_count": null,
      "metadata": {
        "id": "TditJkLr_PpB"
      },
      "outputs": [],
      "source": [
        "# Ejercicio 9b - SVM\n",
        "\n",
        "# ++++++++++ Incluye las líneas y celdas de código deseadas ++++++++++++\n",
        "\n",
        "None\n",
        "\n",
        "\n"
      ]
    },
    {
      "cell_type": "code",
      "execution_count": null,
      "metadata": {
        "id": "1H1eCqdC_WVw"
      },
      "outputs": [],
      "source": [
        "# Ejercicio 9c - MLP\n",
        "\n",
        "# ++++++++++ Incluye las líneas y celdas de código deseadas ++++++++++++\n",
        "\n",
        "None\n",
        "\n",
        "\n"
      ]
    },
    {
      "cell_type": "markdown",
      "metadata": {
        "id": "CQ0SMgOc_67p"
      },
      "source": [
        "# **Ejercicio 10**"
      ]
    },
    {
      "cell_type": "markdown",
      "metadata": {
        "id": "cpEQXq9u_9nx"
      },
      "source": [
        "## **Ejercicio 10-a:**\n",
        "\n",
        "* **Con la configuración del mejor modelo encontrado, realiza un análisis de características/factores para determinar qué factores ayudan a predecir mejor los valores de la variable de salida.**"
      ]
    },
    {
      "cell_type": "code",
      "execution_count": null,
      "metadata": {
        "id": "nFvpGqtTAYW_"
      },
      "outputs": [],
      "source": [
        "# Ejercicio 10a\n",
        "\n",
        "# ++++++++++++++ Inicia sección de agregar código +++++++++++++++++++\n",
        "\n",
        "None\n",
        "\n",
        "\n",
        "# ++++++++++++++ Termina sección de agregar código ++++++++++++++++++\n"
      ]
    },
    {
      "cell_type": "markdown",
      "metadata": {
        "id": "7tr2BwRbDE6W"
      },
      "source": [
        "## **Ejercicio 10-b:**\n",
        "\n",
        "* **Interpreta los resultados obtenidos con base al contexto del problema y compara tus resultados con los obtenidos en el artículo. En particular, ¿existen algunas coincidencias en cuanto a las variables que resultaron más importantes?**"
      ]
    },
    {
      "cell_type": "markdown",
      "metadata": {
        "id": "F3A0DmfjBJzv"
      },
      "source": [
        "### ++++++++ Inicia la sección de agregar texto: +++++++++++\n",
        "\n",
        "None\n",
        "\n",
        "\n",
        "### ++++++++ Termina la sección de agregar texto. +++++++++++"
      ]
    },
    {
      "cell_type": "markdown",
      "metadata": {
        "id": "_MSXjy6i8qRD"
      },
      "source": [
        "# **Ejercicio 11**"
      ]
    },
    {
      "cell_type": "markdown",
      "metadata": {
        "id": "A01wHjjM0eNf"
      },
      "source": [
        "### **Incluye tus conclusiones finales de los resultados obtenidos y de la Actividad en general.**"
      ]
    },
    {
      "cell_type": "markdown",
      "metadata": {
        "id": "aeZrOQkU0x9X"
      },
      "source": [
        "### ++++++++ Inicia la sección de agregar texto: +++++++++++\n",
        "\n",
        "\n",
        "None\n",
        "\n",
        "\n",
        "### ++++++++ Termina la sección de agregar texto. +++++++++++"
      ]
    },
    {
      "cell_type": "markdown",
      "metadata": {
        "id": "6r0YHMtI0ypO"
      },
      "source": [
        "# **Fin de la Actividad de mercadotecnia en redes sociales**"
      ]
    }
  ],
  "metadata": {
    "colab": {
      "collapsed_sections": [
        "RVbrtPAVqvM6",
        "wLK5tyC0afDk",
        "qmprVkJ_u56j",
        "SsbbFyBbAHuY",
        "LBvNNpuBcbtG",
        "Tf2lnLYMqkeI",
        "A9KNcPJ0m2Qi",
        "gQfSXtm5D9g3",
        "Jo549pemulkL",
        "HKwEq8z-zS7G",
        "CQ0SMgOc_67p",
        "_MSXjy6i8qRD"
      ],
      "provenance": []
    },
    "kernelspec": {
      "display_name": "Python 3",
      "name": "python3"
    },
    "language_info": {
      "name": "python"
    }
  },
  "nbformat": 4,
  "nbformat_minor": 0
}
